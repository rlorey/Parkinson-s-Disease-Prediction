{
  "nbformat": 4,
  "nbformat_minor": 0,
  "metadata": {
    "colab": {
      "name": "Parkinson's Predictions - Models on Averaged Data.ipynb",
      "provenance": [],
      "collapsed_sections": []
    },
    "kernelspec": {
      "name": "python3",
      "display_name": "Python 3"
    },
    "language_info": {
      "name": "python"
    }
  },
  "cells": [
    {
      "cell_type": "code",
      "metadata": {
        "colab": {
          "base_uri": "https://localhost:8080/"
        },
        "id": "0WXFAq3gdFPm",
        "outputId": "cab53d81-b720-47a4-9d6a-df5816b4f2ee"
      },
      "source": [
        "from google.colab import drive\n",
        "drive.mount ('/content/drive')"
      ],
      "execution_count": 1,
      "outputs": [
        {
          "output_type": "stream",
          "name": "stdout",
          "text": [
            "Mounted at /content/drive\n"
          ]
        }
      ]
    },
    {
      "cell_type": "code",
      "metadata": {
        "id": "Qw3befFsdWl0"
      },
      "source": [
        "import pandas as pd\n",
        "import seaborn as sns\n",
        "import matplotlib.pyplot as plt\n",
        "from sklearn.model_selection import train_test_split, GridSearchCV\n",
        "from sklearn.metrics import plot_confusion_matrix, classification_report, accuracy_score\n",
        "from sklearn.neighbors import KNeighborsClassifier\n",
        "from sklearn.preprocessing import StandardScaler\n",
        "from sklearn.pipeline import make_pipeline, Pipeline\n",
        "from sklearn.compose import make_column_selector, make_column_transformer\n",
        "from lightgbm import LGBMClassifier\n",
        "from xgboost import XGBClassifier"
      ],
      "execution_count": 4,
      "outputs": []
    },
    {
      "cell_type": "code",
      "metadata": {
        "colab": {
          "base_uri": "https://localhost:8080/",
          "height": 268
        },
        "id": "8QX99ItY3YDQ",
        "outputId": "d66dc361-21b3-4e05-de84-00f47737ea0a"
      },
      "source": [
        "df = pd.read_csv('/content/parkinsons.csv')\n",
        "df.head()"
      ],
      "execution_count": 5,
      "outputs": [
        {
          "output_type": "execute_result",
          "data": {
            "text/html": [
              "\n",
              "  <div id=\"df-97572c0e-f14f-4e60-8038-20b37b694dd9\">\n",
              "    <div class=\"colab-df-container\">\n",
              "      <div>\n",
              "<style scoped>\n",
              "    .dataframe tbody tr th:only-of-type {\n",
              "        vertical-align: middle;\n",
              "    }\n",
              "\n",
              "    .dataframe tbody tr th {\n",
              "        vertical-align: top;\n",
              "    }\n",
              "\n",
              "    .dataframe thead th {\n",
              "        text-align: right;\n",
              "    }\n",
              "</style>\n",
              "<table border=\"1\" class=\"dataframe\">\n",
              "  <thead>\n",
              "    <tr style=\"text-align: right;\">\n",
              "      <th></th>\n",
              "      <th>name</th>\n",
              "      <th>MDVP:Fo(Hz)</th>\n",
              "      <th>MDVP:Fhi(Hz)</th>\n",
              "      <th>MDVP:Flo(Hz)</th>\n",
              "      <th>MDVP:Jitter(%)</th>\n",
              "      <th>MDVP:Jitter(Abs)</th>\n",
              "      <th>MDVP:RAP</th>\n",
              "      <th>MDVP:PPQ</th>\n",
              "      <th>Jitter:DDP</th>\n",
              "      <th>MDVP:Shimmer</th>\n",
              "      <th>MDVP:Shimmer(dB)</th>\n",
              "      <th>Shimmer:APQ3</th>\n",
              "      <th>Shimmer:APQ5</th>\n",
              "      <th>MDVP:APQ</th>\n",
              "      <th>Shimmer:DDA</th>\n",
              "      <th>NHR</th>\n",
              "      <th>HNR</th>\n",
              "      <th>status</th>\n",
              "      <th>RPDE</th>\n",
              "      <th>DFA</th>\n",
              "      <th>spread1</th>\n",
              "      <th>spread2</th>\n",
              "      <th>D2</th>\n",
              "      <th>PPE</th>\n",
              "    </tr>\n",
              "  </thead>\n",
              "  <tbody>\n",
              "    <tr>\n",
              "      <th>0</th>\n",
              "      <td>phon_R01_S01_1</td>\n",
              "      <td>119.992</td>\n",
              "      <td>157.302</td>\n",
              "      <td>74.997</td>\n",
              "      <td>0.00784</td>\n",
              "      <td>0.00007</td>\n",
              "      <td>0.00370</td>\n",
              "      <td>0.00554</td>\n",
              "      <td>0.01109</td>\n",
              "      <td>0.04374</td>\n",
              "      <td>0.426</td>\n",
              "      <td>0.02182</td>\n",
              "      <td>0.03130</td>\n",
              "      <td>0.02971</td>\n",
              "      <td>0.06545</td>\n",
              "      <td>0.02211</td>\n",
              "      <td>21.033</td>\n",
              "      <td>1</td>\n",
              "      <td>0.414783</td>\n",
              "      <td>0.815285</td>\n",
              "      <td>-4.813031</td>\n",
              "      <td>0.266482</td>\n",
              "      <td>2.301442</td>\n",
              "      <td>0.284654</td>\n",
              "    </tr>\n",
              "    <tr>\n",
              "      <th>1</th>\n",
              "      <td>phon_R01_S01_2</td>\n",
              "      <td>122.400</td>\n",
              "      <td>148.650</td>\n",
              "      <td>113.819</td>\n",
              "      <td>0.00968</td>\n",
              "      <td>0.00008</td>\n",
              "      <td>0.00465</td>\n",
              "      <td>0.00696</td>\n",
              "      <td>0.01394</td>\n",
              "      <td>0.06134</td>\n",
              "      <td>0.626</td>\n",
              "      <td>0.03134</td>\n",
              "      <td>0.04518</td>\n",
              "      <td>0.04368</td>\n",
              "      <td>0.09403</td>\n",
              "      <td>0.01929</td>\n",
              "      <td>19.085</td>\n",
              "      <td>1</td>\n",
              "      <td>0.458359</td>\n",
              "      <td>0.819521</td>\n",
              "      <td>-4.075192</td>\n",
              "      <td>0.335590</td>\n",
              "      <td>2.486855</td>\n",
              "      <td>0.368674</td>\n",
              "    </tr>\n",
              "    <tr>\n",
              "      <th>2</th>\n",
              "      <td>phon_R01_S01_3</td>\n",
              "      <td>116.682</td>\n",
              "      <td>131.111</td>\n",
              "      <td>111.555</td>\n",
              "      <td>0.01050</td>\n",
              "      <td>0.00009</td>\n",
              "      <td>0.00544</td>\n",
              "      <td>0.00781</td>\n",
              "      <td>0.01633</td>\n",
              "      <td>0.05233</td>\n",
              "      <td>0.482</td>\n",
              "      <td>0.02757</td>\n",
              "      <td>0.03858</td>\n",
              "      <td>0.03590</td>\n",
              "      <td>0.08270</td>\n",
              "      <td>0.01309</td>\n",
              "      <td>20.651</td>\n",
              "      <td>1</td>\n",
              "      <td>0.429895</td>\n",
              "      <td>0.825288</td>\n",
              "      <td>-4.443179</td>\n",
              "      <td>0.311173</td>\n",
              "      <td>2.342259</td>\n",
              "      <td>0.332634</td>\n",
              "    </tr>\n",
              "    <tr>\n",
              "      <th>3</th>\n",
              "      <td>phon_R01_S01_4</td>\n",
              "      <td>116.676</td>\n",
              "      <td>137.871</td>\n",
              "      <td>111.366</td>\n",
              "      <td>0.00997</td>\n",
              "      <td>0.00009</td>\n",
              "      <td>0.00502</td>\n",
              "      <td>0.00698</td>\n",
              "      <td>0.01505</td>\n",
              "      <td>0.05492</td>\n",
              "      <td>0.517</td>\n",
              "      <td>0.02924</td>\n",
              "      <td>0.04005</td>\n",
              "      <td>0.03772</td>\n",
              "      <td>0.08771</td>\n",
              "      <td>0.01353</td>\n",
              "      <td>20.644</td>\n",
              "      <td>1</td>\n",
              "      <td>0.434969</td>\n",
              "      <td>0.819235</td>\n",
              "      <td>-4.117501</td>\n",
              "      <td>0.334147</td>\n",
              "      <td>2.405554</td>\n",
              "      <td>0.368975</td>\n",
              "    </tr>\n",
              "    <tr>\n",
              "      <th>4</th>\n",
              "      <td>phon_R01_S01_5</td>\n",
              "      <td>116.014</td>\n",
              "      <td>141.781</td>\n",
              "      <td>110.655</td>\n",
              "      <td>0.01284</td>\n",
              "      <td>0.00011</td>\n",
              "      <td>0.00655</td>\n",
              "      <td>0.00908</td>\n",
              "      <td>0.01966</td>\n",
              "      <td>0.06425</td>\n",
              "      <td>0.584</td>\n",
              "      <td>0.03490</td>\n",
              "      <td>0.04825</td>\n",
              "      <td>0.04465</td>\n",
              "      <td>0.10470</td>\n",
              "      <td>0.01767</td>\n",
              "      <td>19.649</td>\n",
              "      <td>1</td>\n",
              "      <td>0.417356</td>\n",
              "      <td>0.823484</td>\n",
              "      <td>-3.747787</td>\n",
              "      <td>0.234513</td>\n",
              "      <td>2.332180</td>\n",
              "      <td>0.410335</td>\n",
              "    </tr>\n",
              "  </tbody>\n",
              "</table>\n",
              "</div>\n",
              "      <button class=\"colab-df-convert\" onclick=\"convertToInteractive('df-97572c0e-f14f-4e60-8038-20b37b694dd9')\"\n",
              "              title=\"Convert this dataframe to an interactive table.\"\n",
              "              style=\"display:none;\">\n",
              "        \n",
              "  <svg xmlns=\"http://www.w3.org/2000/svg\" height=\"24px\"viewBox=\"0 0 24 24\"\n",
              "       width=\"24px\">\n",
              "    <path d=\"M0 0h24v24H0V0z\" fill=\"none\"/>\n",
              "    <path d=\"M18.56 5.44l.94 2.06.94-2.06 2.06-.94-2.06-.94-.94-2.06-.94 2.06-2.06.94zm-11 1L8.5 8.5l.94-2.06 2.06-.94-2.06-.94L8.5 2.5l-.94 2.06-2.06.94zm10 10l.94 2.06.94-2.06 2.06-.94-2.06-.94-.94-2.06-.94 2.06-2.06.94z\"/><path d=\"M17.41 7.96l-1.37-1.37c-.4-.4-.92-.59-1.43-.59-.52 0-1.04.2-1.43.59L10.3 9.45l-7.72 7.72c-.78.78-.78 2.05 0 2.83L4 21.41c.39.39.9.59 1.41.59.51 0 1.02-.2 1.41-.59l7.78-7.78 2.81-2.81c.8-.78.8-2.07 0-2.86zM5.41 20L4 18.59l7.72-7.72 1.47 1.35L5.41 20z\"/>\n",
              "  </svg>\n",
              "      </button>\n",
              "      \n",
              "  <style>\n",
              "    .colab-df-container {\n",
              "      display:flex;\n",
              "      flex-wrap:wrap;\n",
              "      gap: 12px;\n",
              "    }\n",
              "\n",
              "    .colab-df-convert {\n",
              "      background-color: #E8F0FE;\n",
              "      border: none;\n",
              "      border-radius: 50%;\n",
              "      cursor: pointer;\n",
              "      display: none;\n",
              "      fill: #1967D2;\n",
              "      height: 32px;\n",
              "      padding: 0 0 0 0;\n",
              "      width: 32px;\n",
              "    }\n",
              "\n",
              "    .colab-df-convert:hover {\n",
              "      background-color: #E2EBFA;\n",
              "      box-shadow: 0px 1px 2px rgba(60, 64, 67, 0.3), 0px 1px 3px 1px rgba(60, 64, 67, 0.15);\n",
              "      fill: #174EA6;\n",
              "    }\n",
              "\n",
              "    [theme=dark] .colab-df-convert {\n",
              "      background-color: #3B4455;\n",
              "      fill: #D2E3FC;\n",
              "    }\n",
              "\n",
              "    [theme=dark] .colab-df-convert:hover {\n",
              "      background-color: #434B5C;\n",
              "      box-shadow: 0px 1px 3px 1px rgba(0, 0, 0, 0.15);\n",
              "      filter: drop-shadow(0px 1px 2px rgba(0, 0, 0, 0.3));\n",
              "      fill: #FFFFFF;\n",
              "    }\n",
              "  </style>\n",
              "\n",
              "      <script>\n",
              "        const buttonEl =\n",
              "          document.querySelector('#df-97572c0e-f14f-4e60-8038-20b37b694dd9 button.colab-df-convert');\n",
              "        buttonEl.style.display =\n",
              "          google.colab.kernel.accessAllowed ? 'block' : 'none';\n",
              "\n",
              "        async function convertToInteractive(key) {\n",
              "          const element = document.querySelector('#df-97572c0e-f14f-4e60-8038-20b37b694dd9');\n",
              "          const dataTable =\n",
              "            await google.colab.kernel.invokeFunction('convertToInteractive',\n",
              "                                                     [key], {});\n",
              "          if (!dataTable) return;\n",
              "\n",
              "          const docLinkHtml = 'Like what you see? Visit the ' +\n",
              "            '<a target=\"_blank\" href=https://colab.research.google.com/notebooks/data_table.ipynb>data table notebook</a>'\n",
              "            + ' to learn more about interactive tables.';\n",
              "          element.innerHTML = '';\n",
              "          dataTable['output_type'] = 'display_data';\n",
              "          await google.colab.output.renderOutput(dataTable, element);\n",
              "          const docLink = document.createElement('div');\n",
              "          docLink.innerHTML = docLinkHtml;\n",
              "          element.appendChild(docLink);\n",
              "        }\n",
              "      </script>\n",
              "    </div>\n",
              "  </div>\n",
              "  "
            ],
            "text/plain": [
              "             name  MDVP:Fo(Hz)  MDVP:Fhi(Hz)  ...   spread2        D2       PPE\n",
              "0  phon_R01_S01_1      119.992       157.302  ...  0.266482  2.301442  0.284654\n",
              "1  phon_R01_S01_2      122.400       148.650  ...  0.335590  2.486855  0.368674\n",
              "2  phon_R01_S01_3      116.682       131.111  ...  0.311173  2.342259  0.332634\n",
              "3  phon_R01_S01_4      116.676       137.871  ...  0.334147  2.405554  0.368975\n",
              "4  phon_R01_S01_5      116.014       141.781  ...  0.234513  2.332180  0.410335\n",
              "\n",
              "[5 rows x 24 columns]"
            ]
          },
          "metadata": {},
          "execution_count": 5
        }
      ]
    },
    {
      "cell_type": "code",
      "metadata": {
        "colab": {
          "base_uri": "https://localhost:8080/"
        },
        "id": "aRP5zAl237gm",
        "outputId": "64b1dd09-c1af-4b7d-f28a-04b229afc1ef"
      },
      "source": [
        "df.shape"
      ],
      "execution_count": 6,
      "outputs": [
        {
          "output_type": "execute_result",
          "data": {
            "text/plain": [
              "(195, 24)"
            ]
          },
          "metadata": {},
          "execution_count": 6
        }
      ]
    },
    {
      "cell_type": "code",
      "source": [
        "df.tail(30)"
      ],
      "metadata": {
        "colab": {
          "base_uri": "https://localhost:8080/",
          "height": 1000
        },
        "id": "zb33beUxegBE",
        "outputId": "c56542e3-9db0-40ce-fb1d-86734e77db6b"
      },
      "execution_count": 7,
      "outputs": [
        {
          "output_type": "execute_result",
          "data": {
            "text/html": [
              "\n",
              "  <div id=\"df-25277938-966a-4996-925a-035769ab912e\">\n",
              "    <div class=\"colab-df-container\">\n",
              "      <div>\n",
              "<style scoped>\n",
              "    .dataframe tbody tr th:only-of-type {\n",
              "        vertical-align: middle;\n",
              "    }\n",
              "\n",
              "    .dataframe tbody tr th {\n",
              "        vertical-align: top;\n",
              "    }\n",
              "\n",
              "    .dataframe thead th {\n",
              "        text-align: right;\n",
              "    }\n",
              "</style>\n",
              "<table border=\"1\" class=\"dataframe\">\n",
              "  <thead>\n",
              "    <tr style=\"text-align: right;\">\n",
              "      <th></th>\n",
              "      <th>name</th>\n",
              "      <th>MDVP:Fo(Hz)</th>\n",
              "      <th>MDVP:Fhi(Hz)</th>\n",
              "      <th>MDVP:Flo(Hz)</th>\n",
              "      <th>MDVP:Jitter(%)</th>\n",
              "      <th>MDVP:Jitter(Abs)</th>\n",
              "      <th>MDVP:RAP</th>\n",
              "      <th>MDVP:PPQ</th>\n",
              "      <th>Jitter:DDP</th>\n",
              "      <th>MDVP:Shimmer</th>\n",
              "      <th>MDVP:Shimmer(dB)</th>\n",
              "      <th>Shimmer:APQ3</th>\n",
              "      <th>Shimmer:APQ5</th>\n",
              "      <th>MDVP:APQ</th>\n",
              "      <th>Shimmer:DDA</th>\n",
              "      <th>NHR</th>\n",
              "      <th>HNR</th>\n",
              "      <th>status</th>\n",
              "      <th>RPDE</th>\n",
              "      <th>DFA</th>\n",
              "      <th>spread1</th>\n",
              "      <th>spread2</th>\n",
              "      <th>D2</th>\n",
              "      <th>PPE</th>\n",
              "    </tr>\n",
              "  </thead>\n",
              "  <tbody>\n",
              "    <tr>\n",
              "      <th>165</th>\n",
              "      <td>phon_R01_S42_1</td>\n",
              "      <td>236.200</td>\n",
              "      <td>244.663</td>\n",
              "      <td>102.137</td>\n",
              "      <td>0.00277</td>\n",
              "      <td>0.00001</td>\n",
              "      <td>0.00154</td>\n",
              "      <td>0.00153</td>\n",
              "      <td>0.00462</td>\n",
              "      <td>0.02448</td>\n",
              "      <td>0.217</td>\n",
              "      <td>0.01410</td>\n",
              "      <td>0.01426</td>\n",
              "      <td>0.01621</td>\n",
              "      <td>0.04231</td>\n",
              "      <td>0.00620</td>\n",
              "      <td>24.078</td>\n",
              "      <td>0</td>\n",
              "      <td>0.469928</td>\n",
              "      <td>0.628232</td>\n",
              "      <td>-6.816086</td>\n",
              "      <td>0.172270</td>\n",
              "      <td>2.235197</td>\n",
              "      <td>0.119652</td>\n",
              "    </tr>\n",
              "    <tr>\n",
              "      <th>166</th>\n",
              "      <td>phon_R01_S42_2</td>\n",
              "      <td>237.323</td>\n",
              "      <td>243.709</td>\n",
              "      <td>229.256</td>\n",
              "      <td>0.00303</td>\n",
              "      <td>0.00001</td>\n",
              "      <td>0.00173</td>\n",
              "      <td>0.00159</td>\n",
              "      <td>0.00519</td>\n",
              "      <td>0.01242</td>\n",
              "      <td>0.116</td>\n",
              "      <td>0.00696</td>\n",
              "      <td>0.00747</td>\n",
              "      <td>0.00882</td>\n",
              "      <td>0.02089</td>\n",
              "      <td>0.00533</td>\n",
              "      <td>24.679</td>\n",
              "      <td>0</td>\n",
              "      <td>0.384868</td>\n",
              "      <td>0.626710</td>\n",
              "      <td>-7.018057</td>\n",
              "      <td>0.176316</td>\n",
              "      <td>1.852402</td>\n",
              "      <td>0.091604</td>\n",
              "    </tr>\n",
              "    <tr>\n",
              "      <th>167</th>\n",
              "      <td>phon_R01_S42_3</td>\n",
              "      <td>260.105</td>\n",
              "      <td>264.919</td>\n",
              "      <td>237.303</td>\n",
              "      <td>0.00339</td>\n",
              "      <td>0.00001</td>\n",
              "      <td>0.00205</td>\n",
              "      <td>0.00186</td>\n",
              "      <td>0.00616</td>\n",
              "      <td>0.02030</td>\n",
              "      <td>0.197</td>\n",
              "      <td>0.01186</td>\n",
              "      <td>0.01230</td>\n",
              "      <td>0.01367</td>\n",
              "      <td>0.03557</td>\n",
              "      <td>0.00910</td>\n",
              "      <td>21.083</td>\n",
              "      <td>0</td>\n",
              "      <td>0.440988</td>\n",
              "      <td>0.628058</td>\n",
              "      <td>-7.517934</td>\n",
              "      <td>0.160414</td>\n",
              "      <td>1.881767</td>\n",
              "      <td>0.075587</td>\n",
              "    </tr>\n",
              "    <tr>\n",
              "      <th>168</th>\n",
              "      <td>phon_R01_S42_4</td>\n",
              "      <td>197.569</td>\n",
              "      <td>217.627</td>\n",
              "      <td>90.794</td>\n",
              "      <td>0.00803</td>\n",
              "      <td>0.00004</td>\n",
              "      <td>0.00490</td>\n",
              "      <td>0.00448</td>\n",
              "      <td>0.01470</td>\n",
              "      <td>0.02177</td>\n",
              "      <td>0.189</td>\n",
              "      <td>0.01279</td>\n",
              "      <td>0.01272</td>\n",
              "      <td>0.01439</td>\n",
              "      <td>0.03836</td>\n",
              "      <td>0.01337</td>\n",
              "      <td>19.269</td>\n",
              "      <td>0</td>\n",
              "      <td>0.372222</td>\n",
              "      <td>0.725216</td>\n",
              "      <td>-5.736781</td>\n",
              "      <td>0.164529</td>\n",
              "      <td>2.882450</td>\n",
              "      <td>0.202879</td>\n",
              "    </tr>\n",
              "    <tr>\n",
              "      <th>169</th>\n",
              "      <td>phon_R01_S42_5</td>\n",
              "      <td>240.301</td>\n",
              "      <td>245.135</td>\n",
              "      <td>219.783</td>\n",
              "      <td>0.00517</td>\n",
              "      <td>0.00002</td>\n",
              "      <td>0.00316</td>\n",
              "      <td>0.00283</td>\n",
              "      <td>0.00949</td>\n",
              "      <td>0.02018</td>\n",
              "      <td>0.212</td>\n",
              "      <td>0.01176</td>\n",
              "      <td>0.01191</td>\n",
              "      <td>0.01344</td>\n",
              "      <td>0.03529</td>\n",
              "      <td>0.00965</td>\n",
              "      <td>21.020</td>\n",
              "      <td>0</td>\n",
              "      <td>0.371837</td>\n",
              "      <td>0.646167</td>\n",
              "      <td>-7.169701</td>\n",
              "      <td>0.073298</td>\n",
              "      <td>2.266432</td>\n",
              "      <td>0.100881</td>\n",
              "    </tr>\n",
              "    <tr>\n",
              "      <th>170</th>\n",
              "      <td>phon_R01_S42_6</td>\n",
              "      <td>244.990</td>\n",
              "      <td>272.210</td>\n",
              "      <td>239.170</td>\n",
              "      <td>0.00451</td>\n",
              "      <td>0.00002</td>\n",
              "      <td>0.00279</td>\n",
              "      <td>0.00237</td>\n",
              "      <td>0.00837</td>\n",
              "      <td>0.01897</td>\n",
              "      <td>0.181</td>\n",
              "      <td>0.01084</td>\n",
              "      <td>0.01121</td>\n",
              "      <td>0.01255</td>\n",
              "      <td>0.03253</td>\n",
              "      <td>0.01049</td>\n",
              "      <td>21.528</td>\n",
              "      <td>0</td>\n",
              "      <td>0.522812</td>\n",
              "      <td>0.646818</td>\n",
              "      <td>-7.304500</td>\n",
              "      <td>0.171088</td>\n",
              "      <td>2.095237</td>\n",
              "      <td>0.096220</td>\n",
              "    </tr>\n",
              "    <tr>\n",
              "      <th>171</th>\n",
              "      <td>phon_R01_S43_1</td>\n",
              "      <td>112.547</td>\n",
              "      <td>133.374</td>\n",
              "      <td>105.715</td>\n",
              "      <td>0.00355</td>\n",
              "      <td>0.00003</td>\n",
              "      <td>0.00166</td>\n",
              "      <td>0.00190</td>\n",
              "      <td>0.00499</td>\n",
              "      <td>0.01358</td>\n",
              "      <td>0.129</td>\n",
              "      <td>0.00664</td>\n",
              "      <td>0.00786</td>\n",
              "      <td>0.01140</td>\n",
              "      <td>0.01992</td>\n",
              "      <td>0.00435</td>\n",
              "      <td>26.436</td>\n",
              "      <td>0</td>\n",
              "      <td>0.413295</td>\n",
              "      <td>0.756700</td>\n",
              "      <td>-6.323531</td>\n",
              "      <td>0.218885</td>\n",
              "      <td>2.193412</td>\n",
              "      <td>0.160376</td>\n",
              "    </tr>\n",
              "    <tr>\n",
              "      <th>172</th>\n",
              "      <td>phon_R01_S43_2</td>\n",
              "      <td>110.739</td>\n",
              "      <td>113.597</td>\n",
              "      <td>100.139</td>\n",
              "      <td>0.00356</td>\n",
              "      <td>0.00003</td>\n",
              "      <td>0.00170</td>\n",
              "      <td>0.00200</td>\n",
              "      <td>0.00510</td>\n",
              "      <td>0.01484</td>\n",
              "      <td>0.133</td>\n",
              "      <td>0.00754</td>\n",
              "      <td>0.00950</td>\n",
              "      <td>0.01285</td>\n",
              "      <td>0.02261</td>\n",
              "      <td>0.00430</td>\n",
              "      <td>26.550</td>\n",
              "      <td>0</td>\n",
              "      <td>0.369090</td>\n",
              "      <td>0.776158</td>\n",
              "      <td>-6.085567</td>\n",
              "      <td>0.192375</td>\n",
              "      <td>1.889002</td>\n",
              "      <td>0.174152</td>\n",
              "    </tr>\n",
              "    <tr>\n",
              "      <th>173</th>\n",
              "      <td>phon_R01_S43_3</td>\n",
              "      <td>113.715</td>\n",
              "      <td>116.443</td>\n",
              "      <td>96.913</td>\n",
              "      <td>0.00349</td>\n",
              "      <td>0.00003</td>\n",
              "      <td>0.00171</td>\n",
              "      <td>0.00203</td>\n",
              "      <td>0.00514</td>\n",
              "      <td>0.01472</td>\n",
              "      <td>0.133</td>\n",
              "      <td>0.00748</td>\n",
              "      <td>0.00905</td>\n",
              "      <td>0.01148</td>\n",
              "      <td>0.02245</td>\n",
              "      <td>0.00478</td>\n",
              "      <td>26.547</td>\n",
              "      <td>0</td>\n",
              "      <td>0.380253</td>\n",
              "      <td>0.766700</td>\n",
              "      <td>-5.943501</td>\n",
              "      <td>0.192150</td>\n",
              "      <td>1.852542</td>\n",
              "      <td>0.179677</td>\n",
              "    </tr>\n",
              "    <tr>\n",
              "      <th>174</th>\n",
              "      <td>phon_R01_S43_4</td>\n",
              "      <td>117.004</td>\n",
              "      <td>144.466</td>\n",
              "      <td>99.923</td>\n",
              "      <td>0.00353</td>\n",
              "      <td>0.00003</td>\n",
              "      <td>0.00176</td>\n",
              "      <td>0.00218</td>\n",
              "      <td>0.00528</td>\n",
              "      <td>0.01657</td>\n",
              "      <td>0.145</td>\n",
              "      <td>0.00881</td>\n",
              "      <td>0.01062</td>\n",
              "      <td>0.01318</td>\n",
              "      <td>0.02643</td>\n",
              "      <td>0.00590</td>\n",
              "      <td>25.445</td>\n",
              "      <td>0</td>\n",
              "      <td>0.387482</td>\n",
              "      <td>0.756482</td>\n",
              "      <td>-6.012559</td>\n",
              "      <td>0.229298</td>\n",
              "      <td>1.872946</td>\n",
              "      <td>0.163118</td>\n",
              "    </tr>\n",
              "    <tr>\n",
              "      <th>175</th>\n",
              "      <td>phon_R01_S43_5</td>\n",
              "      <td>115.380</td>\n",
              "      <td>123.109</td>\n",
              "      <td>108.634</td>\n",
              "      <td>0.00332</td>\n",
              "      <td>0.00003</td>\n",
              "      <td>0.00160</td>\n",
              "      <td>0.00199</td>\n",
              "      <td>0.00480</td>\n",
              "      <td>0.01503</td>\n",
              "      <td>0.137</td>\n",
              "      <td>0.00812</td>\n",
              "      <td>0.00933</td>\n",
              "      <td>0.01133</td>\n",
              "      <td>0.02436</td>\n",
              "      <td>0.00401</td>\n",
              "      <td>26.005</td>\n",
              "      <td>0</td>\n",
              "      <td>0.405991</td>\n",
              "      <td>0.761255</td>\n",
              "      <td>-5.966779</td>\n",
              "      <td>0.197938</td>\n",
              "      <td>1.974857</td>\n",
              "      <td>0.184067</td>\n",
              "    </tr>\n",
              "    <tr>\n",
              "      <th>176</th>\n",
              "      <td>phon_R01_S43_6</td>\n",
              "      <td>116.388</td>\n",
              "      <td>129.038</td>\n",
              "      <td>108.970</td>\n",
              "      <td>0.00346</td>\n",
              "      <td>0.00003</td>\n",
              "      <td>0.00169</td>\n",
              "      <td>0.00213</td>\n",
              "      <td>0.00507</td>\n",
              "      <td>0.01725</td>\n",
              "      <td>0.155</td>\n",
              "      <td>0.00874</td>\n",
              "      <td>0.01021</td>\n",
              "      <td>0.01331</td>\n",
              "      <td>0.02623</td>\n",
              "      <td>0.00415</td>\n",
              "      <td>26.143</td>\n",
              "      <td>0</td>\n",
              "      <td>0.361232</td>\n",
              "      <td>0.763242</td>\n",
              "      <td>-6.016891</td>\n",
              "      <td>0.109256</td>\n",
              "      <td>2.004719</td>\n",
              "      <td>0.174429</td>\n",
              "    </tr>\n",
              "    <tr>\n",
              "      <th>177</th>\n",
              "      <td>phon_R01_S44_1</td>\n",
              "      <td>151.737</td>\n",
              "      <td>190.204</td>\n",
              "      <td>129.859</td>\n",
              "      <td>0.00314</td>\n",
              "      <td>0.00002</td>\n",
              "      <td>0.00135</td>\n",
              "      <td>0.00162</td>\n",
              "      <td>0.00406</td>\n",
              "      <td>0.01469</td>\n",
              "      <td>0.132</td>\n",
              "      <td>0.00728</td>\n",
              "      <td>0.00886</td>\n",
              "      <td>0.01230</td>\n",
              "      <td>0.02184</td>\n",
              "      <td>0.00570</td>\n",
              "      <td>24.151</td>\n",
              "      <td>1</td>\n",
              "      <td>0.396610</td>\n",
              "      <td>0.745957</td>\n",
              "      <td>-6.486822</td>\n",
              "      <td>0.197919</td>\n",
              "      <td>2.449763</td>\n",
              "      <td>0.132703</td>\n",
              "    </tr>\n",
              "    <tr>\n",
              "      <th>178</th>\n",
              "      <td>phon_R01_S44_2</td>\n",
              "      <td>148.790</td>\n",
              "      <td>158.359</td>\n",
              "      <td>138.990</td>\n",
              "      <td>0.00309</td>\n",
              "      <td>0.00002</td>\n",
              "      <td>0.00152</td>\n",
              "      <td>0.00186</td>\n",
              "      <td>0.00456</td>\n",
              "      <td>0.01574</td>\n",
              "      <td>0.142</td>\n",
              "      <td>0.00839</td>\n",
              "      <td>0.00956</td>\n",
              "      <td>0.01309</td>\n",
              "      <td>0.02518</td>\n",
              "      <td>0.00488</td>\n",
              "      <td>24.412</td>\n",
              "      <td>1</td>\n",
              "      <td>0.402591</td>\n",
              "      <td>0.762508</td>\n",
              "      <td>-6.311987</td>\n",
              "      <td>0.182459</td>\n",
              "      <td>2.251553</td>\n",
              "      <td>0.160306</td>\n",
              "    </tr>\n",
              "    <tr>\n",
              "      <th>179</th>\n",
              "      <td>phon_R01_S44_3</td>\n",
              "      <td>148.143</td>\n",
              "      <td>155.982</td>\n",
              "      <td>135.041</td>\n",
              "      <td>0.00392</td>\n",
              "      <td>0.00003</td>\n",
              "      <td>0.00204</td>\n",
              "      <td>0.00231</td>\n",
              "      <td>0.00612</td>\n",
              "      <td>0.01450</td>\n",
              "      <td>0.131</td>\n",
              "      <td>0.00725</td>\n",
              "      <td>0.00876</td>\n",
              "      <td>0.01263</td>\n",
              "      <td>0.02175</td>\n",
              "      <td>0.00540</td>\n",
              "      <td>23.683</td>\n",
              "      <td>1</td>\n",
              "      <td>0.398499</td>\n",
              "      <td>0.778349</td>\n",
              "      <td>-5.711205</td>\n",
              "      <td>0.240875</td>\n",
              "      <td>2.845109</td>\n",
              "      <td>0.192730</td>\n",
              "    </tr>\n",
              "    <tr>\n",
              "      <th>180</th>\n",
              "      <td>phon_R01_S44_4</td>\n",
              "      <td>150.440</td>\n",
              "      <td>163.441</td>\n",
              "      <td>144.736</td>\n",
              "      <td>0.00396</td>\n",
              "      <td>0.00003</td>\n",
              "      <td>0.00206</td>\n",
              "      <td>0.00233</td>\n",
              "      <td>0.00619</td>\n",
              "      <td>0.02551</td>\n",
              "      <td>0.237</td>\n",
              "      <td>0.01321</td>\n",
              "      <td>0.01574</td>\n",
              "      <td>0.02148</td>\n",
              "      <td>0.03964</td>\n",
              "      <td>0.00611</td>\n",
              "      <td>23.133</td>\n",
              "      <td>1</td>\n",
              "      <td>0.352396</td>\n",
              "      <td>0.759320</td>\n",
              "      <td>-6.261446</td>\n",
              "      <td>0.183218</td>\n",
              "      <td>2.264226</td>\n",
              "      <td>0.144105</td>\n",
              "    </tr>\n",
              "    <tr>\n",
              "      <th>181</th>\n",
              "      <td>phon_R01_S44_5</td>\n",
              "      <td>148.462</td>\n",
              "      <td>161.078</td>\n",
              "      <td>141.998</td>\n",
              "      <td>0.00397</td>\n",
              "      <td>0.00003</td>\n",
              "      <td>0.00202</td>\n",
              "      <td>0.00235</td>\n",
              "      <td>0.00605</td>\n",
              "      <td>0.01831</td>\n",
              "      <td>0.163</td>\n",
              "      <td>0.00950</td>\n",
              "      <td>0.01103</td>\n",
              "      <td>0.01559</td>\n",
              "      <td>0.02849</td>\n",
              "      <td>0.00639</td>\n",
              "      <td>22.866</td>\n",
              "      <td>1</td>\n",
              "      <td>0.408598</td>\n",
              "      <td>0.768845</td>\n",
              "      <td>-5.704053</td>\n",
              "      <td>0.216204</td>\n",
              "      <td>2.679185</td>\n",
              "      <td>0.197710</td>\n",
              "    </tr>\n",
              "    <tr>\n",
              "      <th>182</th>\n",
              "      <td>phon_R01_S44_6</td>\n",
              "      <td>149.818</td>\n",
              "      <td>163.417</td>\n",
              "      <td>144.786</td>\n",
              "      <td>0.00336</td>\n",
              "      <td>0.00002</td>\n",
              "      <td>0.00174</td>\n",
              "      <td>0.00198</td>\n",
              "      <td>0.00521</td>\n",
              "      <td>0.02145</td>\n",
              "      <td>0.198</td>\n",
              "      <td>0.01155</td>\n",
              "      <td>0.01341</td>\n",
              "      <td>0.01666</td>\n",
              "      <td>0.03464</td>\n",
              "      <td>0.00595</td>\n",
              "      <td>23.008</td>\n",
              "      <td>1</td>\n",
              "      <td>0.329577</td>\n",
              "      <td>0.757180</td>\n",
              "      <td>-6.277170</td>\n",
              "      <td>0.109397</td>\n",
              "      <td>2.209021</td>\n",
              "      <td>0.156368</td>\n",
              "    </tr>\n",
              "    <tr>\n",
              "      <th>183</th>\n",
              "      <td>phon_R01_S49_1</td>\n",
              "      <td>117.226</td>\n",
              "      <td>123.925</td>\n",
              "      <td>106.656</td>\n",
              "      <td>0.00417</td>\n",
              "      <td>0.00004</td>\n",
              "      <td>0.00186</td>\n",
              "      <td>0.00270</td>\n",
              "      <td>0.00558</td>\n",
              "      <td>0.01909</td>\n",
              "      <td>0.171</td>\n",
              "      <td>0.00864</td>\n",
              "      <td>0.01223</td>\n",
              "      <td>0.01949</td>\n",
              "      <td>0.02592</td>\n",
              "      <td>0.00955</td>\n",
              "      <td>23.079</td>\n",
              "      <td>0</td>\n",
              "      <td>0.603515</td>\n",
              "      <td>0.669565</td>\n",
              "      <td>-5.619070</td>\n",
              "      <td>0.191576</td>\n",
              "      <td>2.027228</td>\n",
              "      <td>0.215724</td>\n",
              "    </tr>\n",
              "    <tr>\n",
              "      <th>184</th>\n",
              "      <td>phon_R01_S49_2</td>\n",
              "      <td>116.848</td>\n",
              "      <td>217.552</td>\n",
              "      <td>99.503</td>\n",
              "      <td>0.00531</td>\n",
              "      <td>0.00005</td>\n",
              "      <td>0.00260</td>\n",
              "      <td>0.00346</td>\n",
              "      <td>0.00780</td>\n",
              "      <td>0.01795</td>\n",
              "      <td>0.163</td>\n",
              "      <td>0.00810</td>\n",
              "      <td>0.01144</td>\n",
              "      <td>0.01756</td>\n",
              "      <td>0.02429</td>\n",
              "      <td>0.01179</td>\n",
              "      <td>22.085</td>\n",
              "      <td>0</td>\n",
              "      <td>0.663842</td>\n",
              "      <td>0.656516</td>\n",
              "      <td>-5.198864</td>\n",
              "      <td>0.206768</td>\n",
              "      <td>2.120412</td>\n",
              "      <td>0.252404</td>\n",
              "    </tr>\n",
              "    <tr>\n",
              "      <th>185</th>\n",
              "      <td>phon_R01_S49_3</td>\n",
              "      <td>116.286</td>\n",
              "      <td>177.291</td>\n",
              "      <td>96.983</td>\n",
              "      <td>0.00314</td>\n",
              "      <td>0.00003</td>\n",
              "      <td>0.00134</td>\n",
              "      <td>0.00192</td>\n",
              "      <td>0.00403</td>\n",
              "      <td>0.01564</td>\n",
              "      <td>0.136</td>\n",
              "      <td>0.00667</td>\n",
              "      <td>0.00990</td>\n",
              "      <td>0.01691</td>\n",
              "      <td>0.02001</td>\n",
              "      <td>0.00737</td>\n",
              "      <td>24.199</td>\n",
              "      <td>0</td>\n",
              "      <td>0.598515</td>\n",
              "      <td>0.654331</td>\n",
              "      <td>-5.592584</td>\n",
              "      <td>0.133917</td>\n",
              "      <td>2.058658</td>\n",
              "      <td>0.214346</td>\n",
              "    </tr>\n",
              "    <tr>\n",
              "      <th>186</th>\n",
              "      <td>phon_R01_S49_4</td>\n",
              "      <td>116.556</td>\n",
              "      <td>592.030</td>\n",
              "      <td>86.228</td>\n",
              "      <td>0.00496</td>\n",
              "      <td>0.00004</td>\n",
              "      <td>0.00254</td>\n",
              "      <td>0.00263</td>\n",
              "      <td>0.00762</td>\n",
              "      <td>0.01660</td>\n",
              "      <td>0.154</td>\n",
              "      <td>0.00820</td>\n",
              "      <td>0.00972</td>\n",
              "      <td>0.01491</td>\n",
              "      <td>0.02460</td>\n",
              "      <td>0.01397</td>\n",
              "      <td>23.958</td>\n",
              "      <td>0</td>\n",
              "      <td>0.566424</td>\n",
              "      <td>0.667654</td>\n",
              "      <td>-6.431119</td>\n",
              "      <td>0.153310</td>\n",
              "      <td>2.161936</td>\n",
              "      <td>0.120605</td>\n",
              "    </tr>\n",
              "    <tr>\n",
              "      <th>187</th>\n",
              "      <td>phon_R01_S49_5</td>\n",
              "      <td>116.342</td>\n",
              "      <td>581.289</td>\n",
              "      <td>94.246</td>\n",
              "      <td>0.00267</td>\n",
              "      <td>0.00002</td>\n",
              "      <td>0.00115</td>\n",
              "      <td>0.00148</td>\n",
              "      <td>0.00345</td>\n",
              "      <td>0.01300</td>\n",
              "      <td>0.117</td>\n",
              "      <td>0.00631</td>\n",
              "      <td>0.00789</td>\n",
              "      <td>0.01144</td>\n",
              "      <td>0.01892</td>\n",
              "      <td>0.00680</td>\n",
              "      <td>25.023</td>\n",
              "      <td>0</td>\n",
              "      <td>0.528485</td>\n",
              "      <td>0.663884</td>\n",
              "      <td>-6.359018</td>\n",
              "      <td>0.116636</td>\n",
              "      <td>2.152083</td>\n",
              "      <td>0.138868</td>\n",
              "    </tr>\n",
              "    <tr>\n",
              "      <th>188</th>\n",
              "      <td>phon_R01_S49_6</td>\n",
              "      <td>114.563</td>\n",
              "      <td>119.167</td>\n",
              "      <td>86.647</td>\n",
              "      <td>0.00327</td>\n",
              "      <td>0.00003</td>\n",
              "      <td>0.00146</td>\n",
              "      <td>0.00184</td>\n",
              "      <td>0.00439</td>\n",
              "      <td>0.01185</td>\n",
              "      <td>0.106</td>\n",
              "      <td>0.00557</td>\n",
              "      <td>0.00721</td>\n",
              "      <td>0.01095</td>\n",
              "      <td>0.01672</td>\n",
              "      <td>0.00703</td>\n",
              "      <td>24.775</td>\n",
              "      <td>0</td>\n",
              "      <td>0.555303</td>\n",
              "      <td>0.659132</td>\n",
              "      <td>-6.710219</td>\n",
              "      <td>0.149694</td>\n",
              "      <td>1.913990</td>\n",
              "      <td>0.121777</td>\n",
              "    </tr>\n",
              "    <tr>\n",
              "      <th>189</th>\n",
              "      <td>phon_R01_S50_1</td>\n",
              "      <td>201.774</td>\n",
              "      <td>262.707</td>\n",
              "      <td>78.228</td>\n",
              "      <td>0.00694</td>\n",
              "      <td>0.00003</td>\n",
              "      <td>0.00412</td>\n",
              "      <td>0.00396</td>\n",
              "      <td>0.01235</td>\n",
              "      <td>0.02574</td>\n",
              "      <td>0.255</td>\n",
              "      <td>0.01454</td>\n",
              "      <td>0.01582</td>\n",
              "      <td>0.01758</td>\n",
              "      <td>0.04363</td>\n",
              "      <td>0.04441</td>\n",
              "      <td>19.368</td>\n",
              "      <td>0</td>\n",
              "      <td>0.508479</td>\n",
              "      <td>0.683761</td>\n",
              "      <td>-6.934474</td>\n",
              "      <td>0.159890</td>\n",
              "      <td>2.316346</td>\n",
              "      <td>0.112838</td>\n",
              "    </tr>\n",
              "    <tr>\n",
              "      <th>190</th>\n",
              "      <td>phon_R01_S50_2</td>\n",
              "      <td>174.188</td>\n",
              "      <td>230.978</td>\n",
              "      <td>94.261</td>\n",
              "      <td>0.00459</td>\n",
              "      <td>0.00003</td>\n",
              "      <td>0.00263</td>\n",
              "      <td>0.00259</td>\n",
              "      <td>0.00790</td>\n",
              "      <td>0.04087</td>\n",
              "      <td>0.405</td>\n",
              "      <td>0.02336</td>\n",
              "      <td>0.02498</td>\n",
              "      <td>0.02745</td>\n",
              "      <td>0.07008</td>\n",
              "      <td>0.02764</td>\n",
              "      <td>19.517</td>\n",
              "      <td>0</td>\n",
              "      <td>0.448439</td>\n",
              "      <td>0.657899</td>\n",
              "      <td>-6.538586</td>\n",
              "      <td>0.121952</td>\n",
              "      <td>2.657476</td>\n",
              "      <td>0.133050</td>\n",
              "    </tr>\n",
              "    <tr>\n",
              "      <th>191</th>\n",
              "      <td>phon_R01_S50_3</td>\n",
              "      <td>209.516</td>\n",
              "      <td>253.017</td>\n",
              "      <td>89.488</td>\n",
              "      <td>0.00564</td>\n",
              "      <td>0.00003</td>\n",
              "      <td>0.00331</td>\n",
              "      <td>0.00292</td>\n",
              "      <td>0.00994</td>\n",
              "      <td>0.02751</td>\n",
              "      <td>0.263</td>\n",
              "      <td>0.01604</td>\n",
              "      <td>0.01657</td>\n",
              "      <td>0.01879</td>\n",
              "      <td>0.04812</td>\n",
              "      <td>0.01810</td>\n",
              "      <td>19.147</td>\n",
              "      <td>0</td>\n",
              "      <td>0.431674</td>\n",
              "      <td>0.683244</td>\n",
              "      <td>-6.195325</td>\n",
              "      <td>0.129303</td>\n",
              "      <td>2.784312</td>\n",
              "      <td>0.168895</td>\n",
              "    </tr>\n",
              "    <tr>\n",
              "      <th>192</th>\n",
              "      <td>phon_R01_S50_4</td>\n",
              "      <td>174.688</td>\n",
              "      <td>240.005</td>\n",
              "      <td>74.287</td>\n",
              "      <td>0.01360</td>\n",
              "      <td>0.00008</td>\n",
              "      <td>0.00624</td>\n",
              "      <td>0.00564</td>\n",
              "      <td>0.01873</td>\n",
              "      <td>0.02308</td>\n",
              "      <td>0.256</td>\n",
              "      <td>0.01268</td>\n",
              "      <td>0.01365</td>\n",
              "      <td>0.01667</td>\n",
              "      <td>0.03804</td>\n",
              "      <td>0.10715</td>\n",
              "      <td>17.883</td>\n",
              "      <td>0</td>\n",
              "      <td>0.407567</td>\n",
              "      <td>0.655683</td>\n",
              "      <td>-6.787197</td>\n",
              "      <td>0.158453</td>\n",
              "      <td>2.679772</td>\n",
              "      <td>0.131728</td>\n",
              "    </tr>\n",
              "    <tr>\n",
              "      <th>193</th>\n",
              "      <td>phon_R01_S50_5</td>\n",
              "      <td>198.764</td>\n",
              "      <td>396.961</td>\n",
              "      <td>74.904</td>\n",
              "      <td>0.00740</td>\n",
              "      <td>0.00004</td>\n",
              "      <td>0.00370</td>\n",
              "      <td>0.00390</td>\n",
              "      <td>0.01109</td>\n",
              "      <td>0.02296</td>\n",
              "      <td>0.241</td>\n",
              "      <td>0.01265</td>\n",
              "      <td>0.01321</td>\n",
              "      <td>0.01588</td>\n",
              "      <td>0.03794</td>\n",
              "      <td>0.07223</td>\n",
              "      <td>19.020</td>\n",
              "      <td>0</td>\n",
              "      <td>0.451221</td>\n",
              "      <td>0.643956</td>\n",
              "      <td>-6.744577</td>\n",
              "      <td>0.207454</td>\n",
              "      <td>2.138608</td>\n",
              "      <td>0.123306</td>\n",
              "    </tr>\n",
              "    <tr>\n",
              "      <th>194</th>\n",
              "      <td>phon_R01_S50_6</td>\n",
              "      <td>214.289</td>\n",
              "      <td>260.277</td>\n",
              "      <td>77.973</td>\n",
              "      <td>0.00567</td>\n",
              "      <td>0.00003</td>\n",
              "      <td>0.00295</td>\n",
              "      <td>0.00317</td>\n",
              "      <td>0.00885</td>\n",
              "      <td>0.01884</td>\n",
              "      <td>0.190</td>\n",
              "      <td>0.01026</td>\n",
              "      <td>0.01161</td>\n",
              "      <td>0.01373</td>\n",
              "      <td>0.03078</td>\n",
              "      <td>0.04398</td>\n",
              "      <td>21.209</td>\n",
              "      <td>0</td>\n",
              "      <td>0.462803</td>\n",
              "      <td>0.664357</td>\n",
              "      <td>-5.724056</td>\n",
              "      <td>0.190667</td>\n",
              "      <td>2.555477</td>\n",
              "      <td>0.148569</td>\n",
              "    </tr>\n",
              "  </tbody>\n",
              "</table>\n",
              "</div>\n",
              "      <button class=\"colab-df-convert\" onclick=\"convertToInteractive('df-25277938-966a-4996-925a-035769ab912e')\"\n",
              "              title=\"Convert this dataframe to an interactive table.\"\n",
              "              style=\"display:none;\">\n",
              "        \n",
              "  <svg xmlns=\"http://www.w3.org/2000/svg\" height=\"24px\"viewBox=\"0 0 24 24\"\n",
              "       width=\"24px\">\n",
              "    <path d=\"M0 0h24v24H0V0z\" fill=\"none\"/>\n",
              "    <path d=\"M18.56 5.44l.94 2.06.94-2.06 2.06-.94-2.06-.94-.94-2.06-.94 2.06-2.06.94zm-11 1L8.5 8.5l.94-2.06 2.06-.94-2.06-.94L8.5 2.5l-.94 2.06-2.06.94zm10 10l.94 2.06.94-2.06 2.06-.94-2.06-.94-.94-2.06-.94 2.06-2.06.94z\"/><path d=\"M17.41 7.96l-1.37-1.37c-.4-.4-.92-.59-1.43-.59-.52 0-1.04.2-1.43.59L10.3 9.45l-7.72 7.72c-.78.78-.78 2.05 0 2.83L4 21.41c.39.39.9.59 1.41.59.51 0 1.02-.2 1.41-.59l7.78-7.78 2.81-2.81c.8-.78.8-2.07 0-2.86zM5.41 20L4 18.59l7.72-7.72 1.47 1.35L5.41 20z\"/>\n",
              "  </svg>\n",
              "      </button>\n",
              "      \n",
              "  <style>\n",
              "    .colab-df-container {\n",
              "      display:flex;\n",
              "      flex-wrap:wrap;\n",
              "      gap: 12px;\n",
              "    }\n",
              "\n",
              "    .colab-df-convert {\n",
              "      background-color: #E8F0FE;\n",
              "      border: none;\n",
              "      border-radius: 50%;\n",
              "      cursor: pointer;\n",
              "      display: none;\n",
              "      fill: #1967D2;\n",
              "      height: 32px;\n",
              "      padding: 0 0 0 0;\n",
              "      width: 32px;\n",
              "    }\n",
              "\n",
              "    .colab-df-convert:hover {\n",
              "      background-color: #E2EBFA;\n",
              "      box-shadow: 0px 1px 2px rgba(60, 64, 67, 0.3), 0px 1px 3px 1px rgba(60, 64, 67, 0.15);\n",
              "      fill: #174EA6;\n",
              "    }\n",
              "\n",
              "    [theme=dark] .colab-df-convert {\n",
              "      background-color: #3B4455;\n",
              "      fill: #D2E3FC;\n",
              "    }\n",
              "\n",
              "    [theme=dark] .colab-df-convert:hover {\n",
              "      background-color: #434B5C;\n",
              "      box-shadow: 0px 1px 3px 1px rgba(0, 0, 0, 0.15);\n",
              "      filter: drop-shadow(0px 1px 2px rgba(0, 0, 0, 0.3));\n",
              "      fill: #FFFFFF;\n",
              "    }\n",
              "  </style>\n",
              "\n",
              "      <script>\n",
              "        const buttonEl =\n",
              "          document.querySelector('#df-25277938-966a-4996-925a-035769ab912e button.colab-df-convert');\n",
              "        buttonEl.style.display =\n",
              "          google.colab.kernel.accessAllowed ? 'block' : 'none';\n",
              "\n",
              "        async function convertToInteractive(key) {\n",
              "          const element = document.querySelector('#df-25277938-966a-4996-925a-035769ab912e');\n",
              "          const dataTable =\n",
              "            await google.colab.kernel.invokeFunction('convertToInteractive',\n",
              "                                                     [key], {});\n",
              "          if (!dataTable) return;\n",
              "\n",
              "          const docLinkHtml = 'Like what you see? Visit the ' +\n",
              "            '<a target=\"_blank\" href=https://colab.research.google.com/notebooks/data_table.ipynb>data table notebook</a>'\n",
              "            + ' to learn more about interactive tables.';\n",
              "          element.innerHTML = '';\n",
              "          dataTable['output_type'] = 'display_data';\n",
              "          await google.colab.output.renderOutput(dataTable, element);\n",
              "          const docLink = document.createElement('div');\n",
              "          docLink.innerHTML = docLinkHtml;\n",
              "          element.appendChild(docLink);\n",
              "        }\n",
              "      </script>\n",
              "    </div>\n",
              "  </div>\n",
              "  "
            ],
            "text/plain": [
              "               name  MDVP:Fo(Hz)  MDVP:Fhi(Hz)  ...   spread2        D2       PPE\n",
              "165  phon_R01_S42_1      236.200       244.663  ...  0.172270  2.235197  0.119652\n",
              "166  phon_R01_S42_2      237.323       243.709  ...  0.176316  1.852402  0.091604\n",
              "167  phon_R01_S42_3      260.105       264.919  ...  0.160414  1.881767  0.075587\n",
              "168  phon_R01_S42_4      197.569       217.627  ...  0.164529  2.882450  0.202879\n",
              "169  phon_R01_S42_5      240.301       245.135  ...  0.073298  2.266432  0.100881\n",
              "170  phon_R01_S42_6      244.990       272.210  ...  0.171088  2.095237  0.096220\n",
              "171  phon_R01_S43_1      112.547       133.374  ...  0.218885  2.193412  0.160376\n",
              "172  phon_R01_S43_2      110.739       113.597  ...  0.192375  1.889002  0.174152\n",
              "173  phon_R01_S43_3      113.715       116.443  ...  0.192150  1.852542  0.179677\n",
              "174  phon_R01_S43_4      117.004       144.466  ...  0.229298  1.872946  0.163118\n",
              "175  phon_R01_S43_5      115.380       123.109  ...  0.197938  1.974857  0.184067\n",
              "176  phon_R01_S43_6      116.388       129.038  ...  0.109256  2.004719  0.174429\n",
              "177  phon_R01_S44_1      151.737       190.204  ...  0.197919  2.449763  0.132703\n",
              "178  phon_R01_S44_2      148.790       158.359  ...  0.182459  2.251553  0.160306\n",
              "179  phon_R01_S44_3      148.143       155.982  ...  0.240875  2.845109  0.192730\n",
              "180  phon_R01_S44_4      150.440       163.441  ...  0.183218  2.264226  0.144105\n",
              "181  phon_R01_S44_5      148.462       161.078  ...  0.216204  2.679185  0.197710\n",
              "182  phon_R01_S44_6      149.818       163.417  ...  0.109397  2.209021  0.156368\n",
              "183  phon_R01_S49_1      117.226       123.925  ...  0.191576  2.027228  0.215724\n",
              "184  phon_R01_S49_2      116.848       217.552  ...  0.206768  2.120412  0.252404\n",
              "185  phon_R01_S49_3      116.286       177.291  ...  0.133917  2.058658  0.214346\n",
              "186  phon_R01_S49_4      116.556       592.030  ...  0.153310  2.161936  0.120605\n",
              "187  phon_R01_S49_5      116.342       581.289  ...  0.116636  2.152083  0.138868\n",
              "188  phon_R01_S49_6      114.563       119.167  ...  0.149694  1.913990  0.121777\n",
              "189  phon_R01_S50_1      201.774       262.707  ...  0.159890  2.316346  0.112838\n",
              "190  phon_R01_S50_2      174.188       230.978  ...  0.121952  2.657476  0.133050\n",
              "191  phon_R01_S50_3      209.516       253.017  ...  0.129303  2.784312  0.168895\n",
              "192  phon_R01_S50_4      174.688       240.005  ...  0.158453  2.679772  0.131728\n",
              "193  phon_R01_S50_5      198.764       396.961  ...  0.207454  2.138608  0.123306\n",
              "194  phon_R01_S50_6      214.289       260.277  ...  0.190667  2.555477  0.148569\n",
              "\n",
              "[30 rows x 24 columns]"
            ]
          },
          "metadata": {},
          "execution_count": 7
        }
      ]
    },
    {
      "cell_type": "markdown",
      "source": [
        "# Locating 7th sample for three individuals"
      ],
      "metadata": {
        "id": "ENv1qnVYTCts"
      }
    },
    {
      "cell_type": "markdown",
      "source": [
        "In most cases in this data set, there are six samples per individual.  In three cases, there are 7 samples per individual.  The seventh sample is being removed to make the number of samples per individual the same. \n"
      ],
      "metadata": {
        "id": "8WZXSrDha8FM"
      }
    },
    {
      "cell_type": "code",
      "source": [
        "strings = df['name']   #Source: https://www.kite.com/python/answers/how-to-check-if-a-list-contains-a-substring-in-python\n",
        "substring = \"_7\"       #Identifying if there are any sample names with _7\n",
        "\n",
        "substring_in_list = any(substring in string for string in strings)\n",
        "\n",
        "print(substring_in_list)"
      ],
      "metadata": {
        "colab": {
          "base_uri": "https://localhost:8080/"
        },
        "id": "ULR6abbpgHbS",
        "outputId": "25baed79-9d86-45d9-9622-7faaa2f2c580"
      },
      "execution_count": 8,
      "outputs": [
        {
          "output_type": "stream",
          "name": "stdout",
          "text": [
            "True\n"
          ]
        }
      ]
    },
    {
      "cell_type": "code",
      "source": [
        "matching = [s for s in df['name'] if \"_7\" in s] #Source: https://stackoverflow.com/questions/4843158/how-to-check-if-a-string-is-a-substring-of-items-in-a-list-of-strings\n",
        "matching                                        #Identify names of the 7th samples"
      ],
      "metadata": {
        "colab": {
          "base_uri": "https://localhost:8080/"
        },
        "id": "yzvqLF3mhRmT",
        "outputId": "d22c9760-f2a8-4154-9555-7e18d42aefa0"
      },
      "execution_count": 9,
      "outputs": [
        {
          "output_type": "execute_result",
          "data": {
            "text/plain": [
              "['phon_R01_S21_7', 'phon_R01_S27_7', 'phon_R01_S35_7']"
            ]
          },
          "metadata": {},
          "execution_count": 9
        }
      ]
    },
    {
      "cell_type": "code",
      "source": [
        "df.loc[df['name']=='phon_R01_S21_7']    #Locate rows with 7th sample"
      ],
      "metadata": {
        "colab": {
          "base_uri": "https://localhost:8080/",
          "height": 144
        },
        "id": "DoWyanoaheOl",
        "outputId": "046198d6-284e-40bc-ca10-1d13b45d6a3b"
      },
      "execution_count": 10,
      "outputs": [
        {
          "output_type": "execute_result",
          "data": {
            "text/html": [
              "\n",
              "  <div id=\"df-f78793dd-a9f8-4641-a203-226593eb7910\">\n",
              "    <div class=\"colab-df-container\">\n",
              "      <div>\n",
              "<style scoped>\n",
              "    .dataframe tbody tr th:only-of-type {\n",
              "        vertical-align: middle;\n",
              "    }\n",
              "\n",
              "    .dataframe tbody tr th {\n",
              "        vertical-align: top;\n",
              "    }\n",
              "\n",
              "    .dataframe thead th {\n",
              "        text-align: right;\n",
              "    }\n",
              "</style>\n",
              "<table border=\"1\" class=\"dataframe\">\n",
              "  <thead>\n",
              "    <tr style=\"text-align: right;\">\n",
              "      <th></th>\n",
              "      <th>name</th>\n",
              "      <th>MDVP:Fo(Hz)</th>\n",
              "      <th>MDVP:Fhi(Hz)</th>\n",
              "      <th>MDVP:Flo(Hz)</th>\n",
              "      <th>MDVP:Jitter(%)</th>\n",
              "      <th>MDVP:Jitter(Abs)</th>\n",
              "      <th>MDVP:RAP</th>\n",
              "      <th>MDVP:PPQ</th>\n",
              "      <th>Jitter:DDP</th>\n",
              "      <th>MDVP:Shimmer</th>\n",
              "      <th>MDVP:Shimmer(dB)</th>\n",
              "      <th>Shimmer:APQ3</th>\n",
              "      <th>Shimmer:APQ5</th>\n",
              "      <th>MDVP:APQ</th>\n",
              "      <th>Shimmer:DDA</th>\n",
              "      <th>NHR</th>\n",
              "      <th>HNR</th>\n",
              "      <th>status</th>\n",
              "      <th>RPDE</th>\n",
              "      <th>DFA</th>\n",
              "      <th>spread1</th>\n",
              "      <th>spread2</th>\n",
              "      <th>D2</th>\n",
              "      <th>PPE</th>\n",
              "    </tr>\n",
              "  </thead>\n",
              "  <tbody>\n",
              "    <tr>\n",
              "      <th>90</th>\n",
              "      <td>phon_R01_S21_7</td>\n",
              "      <td>166.605</td>\n",
              "      <td>206.008</td>\n",
              "      <td>78.032</td>\n",
              "      <td>0.00742</td>\n",
              "      <td>0.00004</td>\n",
              "      <td>0.00387</td>\n",
              "      <td>0.00453</td>\n",
              "      <td>0.01161</td>\n",
              "      <td>0.0664</td>\n",
              "      <td>0.634</td>\n",
              "      <td>0.0365</td>\n",
              "      <td>0.04282</td>\n",
              "      <td>0.05114</td>\n",
              "      <td>0.10949</td>\n",
              "      <td>0.08725</td>\n",
              "      <td>11.744</td>\n",
              "      <td>1</td>\n",
              "      <td>0.65341</td>\n",
              "      <td>0.733165</td>\n",
              "      <td>-4.508984</td>\n",
              "      <td>0.389232</td>\n",
              "      <td>3.317586</td>\n",
              "      <td>0.301952</td>\n",
              "    </tr>\n",
              "  </tbody>\n",
              "</table>\n",
              "</div>\n",
              "      <button class=\"colab-df-convert\" onclick=\"convertToInteractive('df-f78793dd-a9f8-4641-a203-226593eb7910')\"\n",
              "              title=\"Convert this dataframe to an interactive table.\"\n",
              "              style=\"display:none;\">\n",
              "        \n",
              "  <svg xmlns=\"http://www.w3.org/2000/svg\" height=\"24px\"viewBox=\"0 0 24 24\"\n",
              "       width=\"24px\">\n",
              "    <path d=\"M0 0h24v24H0V0z\" fill=\"none\"/>\n",
              "    <path d=\"M18.56 5.44l.94 2.06.94-2.06 2.06-.94-2.06-.94-.94-2.06-.94 2.06-2.06.94zm-11 1L8.5 8.5l.94-2.06 2.06-.94-2.06-.94L8.5 2.5l-.94 2.06-2.06.94zm10 10l.94 2.06.94-2.06 2.06-.94-2.06-.94-.94-2.06-.94 2.06-2.06.94z\"/><path d=\"M17.41 7.96l-1.37-1.37c-.4-.4-.92-.59-1.43-.59-.52 0-1.04.2-1.43.59L10.3 9.45l-7.72 7.72c-.78.78-.78 2.05 0 2.83L4 21.41c.39.39.9.59 1.41.59.51 0 1.02-.2 1.41-.59l7.78-7.78 2.81-2.81c.8-.78.8-2.07 0-2.86zM5.41 20L4 18.59l7.72-7.72 1.47 1.35L5.41 20z\"/>\n",
              "  </svg>\n",
              "      </button>\n",
              "      \n",
              "  <style>\n",
              "    .colab-df-container {\n",
              "      display:flex;\n",
              "      flex-wrap:wrap;\n",
              "      gap: 12px;\n",
              "    }\n",
              "\n",
              "    .colab-df-convert {\n",
              "      background-color: #E8F0FE;\n",
              "      border: none;\n",
              "      border-radius: 50%;\n",
              "      cursor: pointer;\n",
              "      display: none;\n",
              "      fill: #1967D2;\n",
              "      height: 32px;\n",
              "      padding: 0 0 0 0;\n",
              "      width: 32px;\n",
              "    }\n",
              "\n",
              "    .colab-df-convert:hover {\n",
              "      background-color: #E2EBFA;\n",
              "      box-shadow: 0px 1px 2px rgba(60, 64, 67, 0.3), 0px 1px 3px 1px rgba(60, 64, 67, 0.15);\n",
              "      fill: #174EA6;\n",
              "    }\n",
              "\n",
              "    [theme=dark] .colab-df-convert {\n",
              "      background-color: #3B4455;\n",
              "      fill: #D2E3FC;\n",
              "    }\n",
              "\n",
              "    [theme=dark] .colab-df-convert:hover {\n",
              "      background-color: #434B5C;\n",
              "      box-shadow: 0px 1px 3px 1px rgba(0, 0, 0, 0.15);\n",
              "      filter: drop-shadow(0px 1px 2px rgba(0, 0, 0, 0.3));\n",
              "      fill: #FFFFFF;\n",
              "    }\n",
              "  </style>\n",
              "\n",
              "      <script>\n",
              "        const buttonEl =\n",
              "          document.querySelector('#df-f78793dd-a9f8-4641-a203-226593eb7910 button.colab-df-convert');\n",
              "        buttonEl.style.display =\n",
              "          google.colab.kernel.accessAllowed ? 'block' : 'none';\n",
              "\n",
              "        async function convertToInteractive(key) {\n",
              "          const element = document.querySelector('#df-f78793dd-a9f8-4641-a203-226593eb7910');\n",
              "          const dataTable =\n",
              "            await google.colab.kernel.invokeFunction('convertToInteractive',\n",
              "                                                     [key], {});\n",
              "          if (!dataTable) return;\n",
              "\n",
              "          const docLinkHtml = 'Like what you see? Visit the ' +\n",
              "            '<a target=\"_blank\" href=https://colab.research.google.com/notebooks/data_table.ipynb>data table notebook</a>'\n",
              "            + ' to learn more about interactive tables.';\n",
              "          element.innerHTML = '';\n",
              "          dataTable['output_type'] = 'display_data';\n",
              "          await google.colab.output.renderOutput(dataTable, element);\n",
              "          const docLink = document.createElement('div');\n",
              "          docLink.innerHTML = docLinkHtml;\n",
              "          element.appendChild(docLink);\n",
              "        }\n",
              "      </script>\n",
              "    </div>\n",
              "  </div>\n",
              "  "
            ],
            "text/plain": [
              "              name  MDVP:Fo(Hz)  MDVP:Fhi(Hz)  ...   spread2        D2       PPE\n",
              "90  phon_R01_S21_7      166.605       206.008  ...  0.389232  3.317586  0.301952\n",
              "\n",
              "[1 rows x 24 columns]"
            ]
          },
          "metadata": {},
          "execution_count": 10
        }
      ]
    },
    {
      "cell_type": "code",
      "source": [
        "df.loc[df['name']=='phon_R01_S27_7']"
      ],
      "metadata": {
        "colab": {
          "base_uri": "https://localhost:8080/",
          "height": 144
        },
        "id": "lyVDFinshoAg",
        "outputId": "bdba8cd6-fd4c-4beb-b673-9c804bb578c2"
      },
      "execution_count": 11,
      "outputs": [
        {
          "output_type": "execute_result",
          "data": {
            "text/html": [
              "\n",
              "  <div id=\"df-a204848f-01b5-4f65-97cf-19505070872e\">\n",
              "    <div class=\"colab-df-container\">\n",
              "      <div>\n",
              "<style scoped>\n",
              "    .dataframe tbody tr th:only-of-type {\n",
              "        vertical-align: middle;\n",
              "    }\n",
              "\n",
              "    .dataframe tbody tr th {\n",
              "        vertical-align: top;\n",
              "    }\n",
              "\n",
              "    .dataframe thead th {\n",
              "        text-align: right;\n",
              "    }\n",
              "</style>\n",
              "<table border=\"1\" class=\"dataframe\">\n",
              "  <thead>\n",
              "    <tr style=\"text-align: right;\">\n",
              "      <th></th>\n",
              "      <th>name</th>\n",
              "      <th>MDVP:Fo(Hz)</th>\n",
              "      <th>MDVP:Fhi(Hz)</th>\n",
              "      <th>MDVP:Flo(Hz)</th>\n",
              "      <th>MDVP:Jitter(%)</th>\n",
              "      <th>MDVP:Jitter(Abs)</th>\n",
              "      <th>MDVP:RAP</th>\n",
              "      <th>MDVP:PPQ</th>\n",
              "      <th>Jitter:DDP</th>\n",
              "      <th>MDVP:Shimmer</th>\n",
              "      <th>MDVP:Shimmer(dB)</th>\n",
              "      <th>Shimmer:APQ3</th>\n",
              "      <th>Shimmer:APQ5</th>\n",
              "      <th>MDVP:APQ</th>\n",
              "      <th>Shimmer:DDA</th>\n",
              "      <th>NHR</th>\n",
              "      <th>HNR</th>\n",
              "      <th>status</th>\n",
              "      <th>RPDE</th>\n",
              "      <th>DFA</th>\n",
              "      <th>spread1</th>\n",
              "      <th>spread2</th>\n",
              "      <th>D2</th>\n",
              "      <th>PPE</th>\n",
              "    </tr>\n",
              "  </thead>\n",
              "  <tbody>\n",
              "    <tr>\n",
              "      <th>121</th>\n",
              "      <td>phon_R01_S27_7</td>\n",
              "      <td>176.824</td>\n",
              "      <td>215.293</td>\n",
              "      <td>83.961</td>\n",
              "      <td>0.0046</td>\n",
              "      <td>0.00003</td>\n",
              "      <td>0.00209</td>\n",
              "      <td>0.00221</td>\n",
              "      <td>0.00628</td>\n",
              "      <td>0.01169</td>\n",
              "      <td>0.117</td>\n",
              "      <td>0.00534</td>\n",
              "      <td>0.0063</td>\n",
              "      <td>0.01104</td>\n",
              "      <td>0.01603</td>\n",
              "      <td>0.01161</td>\n",
              "      <td>27.166</td>\n",
              "      <td>1</td>\n",
              "      <td>0.400088</td>\n",
              "      <td>0.656182</td>\n",
              "      <td>-4.711007</td>\n",
              "      <td>0.281618</td>\n",
              "      <td>2.655744</td>\n",
              "      <td>0.234809</td>\n",
              "    </tr>\n",
              "  </tbody>\n",
              "</table>\n",
              "</div>\n",
              "      <button class=\"colab-df-convert\" onclick=\"convertToInteractive('df-a204848f-01b5-4f65-97cf-19505070872e')\"\n",
              "              title=\"Convert this dataframe to an interactive table.\"\n",
              "              style=\"display:none;\">\n",
              "        \n",
              "  <svg xmlns=\"http://www.w3.org/2000/svg\" height=\"24px\"viewBox=\"0 0 24 24\"\n",
              "       width=\"24px\">\n",
              "    <path d=\"M0 0h24v24H0V0z\" fill=\"none\"/>\n",
              "    <path d=\"M18.56 5.44l.94 2.06.94-2.06 2.06-.94-2.06-.94-.94-2.06-.94 2.06-2.06.94zm-11 1L8.5 8.5l.94-2.06 2.06-.94-2.06-.94L8.5 2.5l-.94 2.06-2.06.94zm10 10l.94 2.06.94-2.06 2.06-.94-2.06-.94-.94-2.06-.94 2.06-2.06.94z\"/><path d=\"M17.41 7.96l-1.37-1.37c-.4-.4-.92-.59-1.43-.59-.52 0-1.04.2-1.43.59L10.3 9.45l-7.72 7.72c-.78.78-.78 2.05 0 2.83L4 21.41c.39.39.9.59 1.41.59.51 0 1.02-.2 1.41-.59l7.78-7.78 2.81-2.81c.8-.78.8-2.07 0-2.86zM5.41 20L4 18.59l7.72-7.72 1.47 1.35L5.41 20z\"/>\n",
              "  </svg>\n",
              "      </button>\n",
              "      \n",
              "  <style>\n",
              "    .colab-df-container {\n",
              "      display:flex;\n",
              "      flex-wrap:wrap;\n",
              "      gap: 12px;\n",
              "    }\n",
              "\n",
              "    .colab-df-convert {\n",
              "      background-color: #E8F0FE;\n",
              "      border: none;\n",
              "      border-radius: 50%;\n",
              "      cursor: pointer;\n",
              "      display: none;\n",
              "      fill: #1967D2;\n",
              "      height: 32px;\n",
              "      padding: 0 0 0 0;\n",
              "      width: 32px;\n",
              "    }\n",
              "\n",
              "    .colab-df-convert:hover {\n",
              "      background-color: #E2EBFA;\n",
              "      box-shadow: 0px 1px 2px rgba(60, 64, 67, 0.3), 0px 1px 3px 1px rgba(60, 64, 67, 0.15);\n",
              "      fill: #174EA6;\n",
              "    }\n",
              "\n",
              "    [theme=dark] .colab-df-convert {\n",
              "      background-color: #3B4455;\n",
              "      fill: #D2E3FC;\n",
              "    }\n",
              "\n",
              "    [theme=dark] .colab-df-convert:hover {\n",
              "      background-color: #434B5C;\n",
              "      box-shadow: 0px 1px 3px 1px rgba(0, 0, 0, 0.15);\n",
              "      filter: drop-shadow(0px 1px 2px rgba(0, 0, 0, 0.3));\n",
              "      fill: #FFFFFF;\n",
              "    }\n",
              "  </style>\n",
              "\n",
              "      <script>\n",
              "        const buttonEl =\n",
              "          document.querySelector('#df-a204848f-01b5-4f65-97cf-19505070872e button.colab-df-convert');\n",
              "        buttonEl.style.display =\n",
              "          google.colab.kernel.accessAllowed ? 'block' : 'none';\n",
              "\n",
              "        async function convertToInteractive(key) {\n",
              "          const element = document.querySelector('#df-a204848f-01b5-4f65-97cf-19505070872e');\n",
              "          const dataTable =\n",
              "            await google.colab.kernel.invokeFunction('convertToInteractive',\n",
              "                                                     [key], {});\n",
              "          if (!dataTable) return;\n",
              "\n",
              "          const docLinkHtml = 'Like what you see? Visit the ' +\n",
              "            '<a target=\"_blank\" href=https://colab.research.google.com/notebooks/data_table.ipynb>data table notebook</a>'\n",
              "            + ' to learn more about interactive tables.';\n",
              "          element.innerHTML = '';\n",
              "          dataTable['output_type'] = 'display_data';\n",
              "          await google.colab.output.renderOutput(dataTable, element);\n",
              "          const docLink = document.createElement('div');\n",
              "          docLink.innerHTML = docLinkHtml;\n",
              "          element.appendChild(docLink);\n",
              "        }\n",
              "      </script>\n",
              "    </div>\n",
              "  </div>\n",
              "  "
            ],
            "text/plain": [
              "               name  MDVP:Fo(Hz)  MDVP:Fhi(Hz)  ...   spread2        D2       PPE\n",
              "121  phon_R01_S27_7      176.824       215.293  ...  0.281618  2.655744  0.234809\n",
              "\n",
              "[1 rows x 24 columns]"
            ]
          },
          "metadata": {},
          "execution_count": 11
        }
      ]
    },
    {
      "cell_type": "code",
      "source": [
        "df.loc[df['name']=='phon_R01_S35_7']"
      ],
      "metadata": {
        "colab": {
          "base_uri": "https://localhost:8080/",
          "height": 144
        },
        "id": "kRimDLBChvoo",
        "outputId": "f670f117-ec73-4cfe-a96e-29d7b0aefaff"
      },
      "execution_count": 12,
      "outputs": [
        {
          "output_type": "execute_result",
          "data": {
            "text/html": [
              "\n",
              "  <div id=\"df-583ec12c-aec3-47ac-8b73-ce0f4e3d228c\">\n",
              "    <div class=\"colab-df-container\">\n",
              "      <div>\n",
              "<style scoped>\n",
              "    .dataframe tbody tr th:only-of-type {\n",
              "        vertical-align: middle;\n",
              "    }\n",
              "\n",
              "    .dataframe tbody tr th {\n",
              "        vertical-align: top;\n",
              "    }\n",
              "\n",
              "    .dataframe thead th {\n",
              "        text-align: right;\n",
              "    }\n",
              "</style>\n",
              "<table border=\"1\" class=\"dataframe\">\n",
              "  <thead>\n",
              "    <tr style=\"text-align: right;\">\n",
              "      <th></th>\n",
              "      <th>name</th>\n",
              "      <th>MDVP:Fo(Hz)</th>\n",
              "      <th>MDVP:Fhi(Hz)</th>\n",
              "      <th>MDVP:Flo(Hz)</th>\n",
              "      <th>MDVP:Jitter(%)</th>\n",
              "      <th>MDVP:Jitter(Abs)</th>\n",
              "      <th>MDVP:RAP</th>\n",
              "      <th>MDVP:PPQ</th>\n",
              "      <th>Jitter:DDP</th>\n",
              "      <th>MDVP:Shimmer</th>\n",
              "      <th>MDVP:Shimmer(dB)</th>\n",
              "      <th>Shimmer:APQ3</th>\n",
              "      <th>Shimmer:APQ5</th>\n",
              "      <th>MDVP:APQ</th>\n",
              "      <th>Shimmer:DDA</th>\n",
              "      <th>NHR</th>\n",
              "      <th>HNR</th>\n",
              "      <th>status</th>\n",
              "      <th>RPDE</th>\n",
              "      <th>DFA</th>\n",
              "      <th>spread1</th>\n",
              "      <th>spread2</th>\n",
              "      <th>D2</th>\n",
              "      <th>PPE</th>\n",
              "    </tr>\n",
              "  </thead>\n",
              "  <tbody>\n",
              "    <tr>\n",
              "      <th>152</th>\n",
              "      <td>phon_R01_S35_7</td>\n",
              "      <td>198.116</td>\n",
              "      <td>233.099</td>\n",
              "      <td>174.478</td>\n",
              "      <td>0.02714</td>\n",
              "      <td>0.00014</td>\n",
              "      <td>0.01568</td>\n",
              "      <td>0.01699</td>\n",
              "      <td>0.04705</td>\n",
              "      <td>0.08684</td>\n",
              "      <td>1.018</td>\n",
              "      <td>0.04284</td>\n",
              "      <td>0.05556</td>\n",
              "      <td>0.08318</td>\n",
              "      <td>0.12851</td>\n",
              "      <td>0.16265</td>\n",
              "      <td>9.449</td>\n",
              "      <td>1</td>\n",
              "      <td>0.584164</td>\n",
              "      <td>0.754449</td>\n",
              "      <td>-2.839756</td>\n",
              "      <td>0.356224</td>\n",
              "      <td>3.184027</td>\n",
              "      <td>0.454721</td>\n",
              "    </tr>\n",
              "  </tbody>\n",
              "</table>\n",
              "</div>\n",
              "      <button class=\"colab-df-convert\" onclick=\"convertToInteractive('df-583ec12c-aec3-47ac-8b73-ce0f4e3d228c')\"\n",
              "              title=\"Convert this dataframe to an interactive table.\"\n",
              "              style=\"display:none;\">\n",
              "        \n",
              "  <svg xmlns=\"http://www.w3.org/2000/svg\" height=\"24px\"viewBox=\"0 0 24 24\"\n",
              "       width=\"24px\">\n",
              "    <path d=\"M0 0h24v24H0V0z\" fill=\"none\"/>\n",
              "    <path d=\"M18.56 5.44l.94 2.06.94-2.06 2.06-.94-2.06-.94-.94-2.06-.94 2.06-2.06.94zm-11 1L8.5 8.5l.94-2.06 2.06-.94-2.06-.94L8.5 2.5l-.94 2.06-2.06.94zm10 10l.94 2.06.94-2.06 2.06-.94-2.06-.94-.94-2.06-.94 2.06-2.06.94z\"/><path d=\"M17.41 7.96l-1.37-1.37c-.4-.4-.92-.59-1.43-.59-.52 0-1.04.2-1.43.59L10.3 9.45l-7.72 7.72c-.78.78-.78 2.05 0 2.83L4 21.41c.39.39.9.59 1.41.59.51 0 1.02-.2 1.41-.59l7.78-7.78 2.81-2.81c.8-.78.8-2.07 0-2.86zM5.41 20L4 18.59l7.72-7.72 1.47 1.35L5.41 20z\"/>\n",
              "  </svg>\n",
              "      </button>\n",
              "      \n",
              "  <style>\n",
              "    .colab-df-container {\n",
              "      display:flex;\n",
              "      flex-wrap:wrap;\n",
              "      gap: 12px;\n",
              "    }\n",
              "\n",
              "    .colab-df-convert {\n",
              "      background-color: #E8F0FE;\n",
              "      border: none;\n",
              "      border-radius: 50%;\n",
              "      cursor: pointer;\n",
              "      display: none;\n",
              "      fill: #1967D2;\n",
              "      height: 32px;\n",
              "      padding: 0 0 0 0;\n",
              "      width: 32px;\n",
              "    }\n",
              "\n",
              "    .colab-df-convert:hover {\n",
              "      background-color: #E2EBFA;\n",
              "      box-shadow: 0px 1px 2px rgba(60, 64, 67, 0.3), 0px 1px 3px 1px rgba(60, 64, 67, 0.15);\n",
              "      fill: #174EA6;\n",
              "    }\n",
              "\n",
              "    [theme=dark] .colab-df-convert {\n",
              "      background-color: #3B4455;\n",
              "      fill: #D2E3FC;\n",
              "    }\n",
              "\n",
              "    [theme=dark] .colab-df-convert:hover {\n",
              "      background-color: #434B5C;\n",
              "      box-shadow: 0px 1px 3px 1px rgba(0, 0, 0, 0.15);\n",
              "      filter: drop-shadow(0px 1px 2px rgba(0, 0, 0, 0.3));\n",
              "      fill: #FFFFFF;\n",
              "    }\n",
              "  </style>\n",
              "\n",
              "      <script>\n",
              "        const buttonEl =\n",
              "          document.querySelector('#df-583ec12c-aec3-47ac-8b73-ce0f4e3d228c button.colab-df-convert');\n",
              "        buttonEl.style.display =\n",
              "          google.colab.kernel.accessAllowed ? 'block' : 'none';\n",
              "\n",
              "        async function convertToInteractive(key) {\n",
              "          const element = document.querySelector('#df-583ec12c-aec3-47ac-8b73-ce0f4e3d228c');\n",
              "          const dataTable =\n",
              "            await google.colab.kernel.invokeFunction('convertToInteractive',\n",
              "                                                     [key], {});\n",
              "          if (!dataTable) return;\n",
              "\n",
              "          const docLinkHtml = 'Like what you see? Visit the ' +\n",
              "            '<a target=\"_blank\" href=https://colab.research.google.com/notebooks/data_table.ipynb>data table notebook</a>'\n",
              "            + ' to learn more about interactive tables.';\n",
              "          element.innerHTML = '';\n",
              "          dataTable['output_type'] = 'display_data';\n",
              "          await google.colab.output.renderOutput(dataTable, element);\n",
              "          const docLink = document.createElement('div');\n",
              "          docLink.innerHTML = docLinkHtml;\n",
              "          element.appendChild(docLink);\n",
              "        }\n",
              "      </script>\n",
              "    </div>\n",
              "  </div>\n",
              "  "
            ],
            "text/plain": [
              "               name  MDVP:Fo(Hz)  MDVP:Fhi(Hz)  ...   spread2        D2       PPE\n",
              "152  phon_R01_S35_7      198.116       233.099  ...  0.356224  3.184027  0.454721\n",
              "\n",
              "[1 rows x 24 columns]"
            ]
          },
          "metadata": {},
          "execution_count": 12
        }
      ]
    },
    {
      "cell_type": "code",
      "source": [
        "df = df.drop([df.index[90], df.index[121], df.index[152]])   #Drop 7th rows for each of the three individuals\n",
        "df.shape "
      ],
      "metadata": {
        "colab": {
          "base_uri": "https://localhost:8080/"
        },
        "id": "DfgemtVbiWNT",
        "outputId": "b1d123f7-2073-485b-b17e-fec010cb23d5"
      },
      "execution_count": 13,
      "outputs": [
        {
          "output_type": "execute_result",
          "data": {
            "text/plain": [
              "(192, 24)"
            ]
          },
          "metadata": {},
          "execution_count": 13
        }
      ]
    },
    {
      "cell_type": "code",
      "source": [
        "def get_range(df, start, finish):  #Source: https://stackoverflow.com/questions/50805446/pandas-select-range-from-index-column\n",
        "             return df[start:finish]  #Print portion of database to determine if 7th samples were removed\n",
        "print(get_range(df, 76,100))"
      ],
      "metadata": {
        "colab": {
          "base_uri": "https://localhost:8080/"
        },
        "id": "ftlFGL-yjt6G",
        "outputId": "d8eaa895-a7da-4210-99ed-bec0e7c59d97"
      },
      "execution_count": 14,
      "outputs": [
        {
          "output_type": "stream",
          "name": "stdout",
          "text": [
            "               name  MDVP:Fo(Hz)  MDVP:Fhi(Hz)  ...   spread2        D2       PPE\n",
            "76   phon_R01_S19_5      112.876       148.826  ...  0.341169  2.007923  0.193918\n",
            "77   phon_R01_S19_6      110.568       125.394  ...  0.250572  1.777901  0.232744\n",
            "78   phon_R01_S20_1       95.385       102.145  ...  0.249494  2.017753  0.260015\n",
            "79   phon_R01_S20_2      100.770       115.697  ...  0.265699  2.398422  0.277948\n",
            "80   phon_R01_S20_3       96.106       108.664  ...  0.155097  2.645959  0.327978\n",
            "81   phon_R01_S20_4       95.605       107.715  ...  0.210458  2.232576  0.260633\n",
            "82   phon_R01_S20_5      100.960       110.019  ...  0.146948  2.428306  0.264666\n",
            "83   phon_R01_S20_6       98.804       102.305  ...  0.078202  2.053601  0.177275\n",
            "84   phon_R01_S21_1      176.858       205.560  ...  0.343073  3.099301  0.242119\n",
            "85   phon_R01_S21_2      180.978       200.125  ...  0.315903  3.098256  0.200423\n",
            "86   phon_R01_S21_3      178.222       202.450  ...  0.335753  2.654271  0.144614\n",
            "87   phon_R01_S21_4      176.281       227.381  ...  0.299549  3.136550  0.220968\n",
            "88   phon_R01_S21_5      173.898       211.350  ...  0.299793  3.007096  0.194052\n",
            "89   phon_R01_S21_6      179.711       225.930  ...  0.375531  3.671155  0.332086\n",
            "91   phon_R01_S22_1      151.955       163.335  ...  0.207156  2.344876  0.134120\n",
            "92   phon_R01_S22_2      148.272       164.989  ...  0.087840  2.344336  0.186489\n",
            "93   phon_R01_S22_3      152.125       161.469  ...  0.173520  2.080121  0.160809\n",
            "94   phon_R01_S22_4      157.821       172.975  ...  0.188056  2.143851  0.160812\n",
            "95   phon_R01_S22_5      157.447       163.267  ...  0.180528  2.344348  0.164916\n",
            "96   phon_R01_S22_6      159.116       168.913  ...  0.194627  2.473239  0.151709\n",
            "97   phon_R01_S24_1      125.036       143.946  ...  0.265315  2.671825  0.340623\n",
            "98   phon_R01_S24_2      125.791       140.557  ...  0.202146  2.441612  0.260375\n",
            "99   phon_R01_S24_3      126.512       141.756  ...  0.242861  2.634633  0.378483\n",
            "100  phon_R01_S24_4      125.641       141.068  ...  0.260481  2.991063  0.370961\n",
            "\n",
            "[24 rows x 24 columns]\n"
          ]
        }
      ]
    },
    {
      "cell_type": "code",
      "source": [
        "df.info()  #Now 192 samples which would be 32 individuals with 6 samples each"
      ],
      "metadata": {
        "colab": {
          "base_uri": "https://localhost:8080/"
        },
        "id": "J_WYaodkp5Pl",
        "outputId": "354980d0-933d-4476-8c2b-33be624a13a9"
      },
      "execution_count": 15,
      "outputs": [
        {
          "output_type": "stream",
          "name": "stdout",
          "text": [
            "<class 'pandas.core.frame.DataFrame'>\n",
            "Int64Index: 192 entries, 0 to 194\n",
            "Data columns (total 24 columns):\n",
            " #   Column            Non-Null Count  Dtype  \n",
            "---  ------            --------------  -----  \n",
            " 0   name              192 non-null    object \n",
            " 1   MDVP:Fo(Hz)       192 non-null    float64\n",
            " 2   MDVP:Fhi(Hz)      192 non-null    float64\n",
            " 3   MDVP:Flo(Hz)      192 non-null    float64\n",
            " 4   MDVP:Jitter(%)    192 non-null    float64\n",
            " 5   MDVP:Jitter(Abs)  192 non-null    float64\n",
            " 6   MDVP:RAP          192 non-null    float64\n",
            " 7   MDVP:PPQ          192 non-null    float64\n",
            " 8   Jitter:DDP        192 non-null    float64\n",
            " 9   MDVP:Shimmer      192 non-null    float64\n",
            " 10  MDVP:Shimmer(dB)  192 non-null    float64\n",
            " 11  Shimmer:APQ3      192 non-null    float64\n",
            " 12  Shimmer:APQ5      192 non-null    float64\n",
            " 13  MDVP:APQ          192 non-null    float64\n",
            " 14  Shimmer:DDA       192 non-null    float64\n",
            " 15  NHR               192 non-null    float64\n",
            " 16  HNR               192 non-null    float64\n",
            " 17  status            192 non-null    int64  \n",
            " 18  RPDE              192 non-null    float64\n",
            " 19  DFA               192 non-null    float64\n",
            " 20  spread1           192 non-null    float64\n",
            " 21  spread2           192 non-null    float64\n",
            " 22  D2                192 non-null    float64\n",
            " 23  PPE               192 non-null    float64\n",
            "dtypes: float64(22), int64(1), object(1)\n",
            "memory usage: 37.5+ KB\n"
          ]
        }
      ]
    },
    {
      "cell_type": "code",
      "source": [
        "df.describe()"
      ],
      "metadata": {
        "colab": {
          "base_uri": "https://localhost:8080/",
          "height": 361
        },
        "id": "GTUmqK58rgsy",
        "outputId": "323c4782-b3fb-4e98-965e-f4d036f90d2c"
      },
      "execution_count": 16,
      "outputs": [
        {
          "output_type": "execute_result",
          "data": {
            "text/html": [
              "\n",
              "  <div id=\"df-9355923c-8d18-4cc5-80d3-0dde78a8164a\">\n",
              "    <div class=\"colab-df-container\">\n",
              "      <div>\n",
              "<style scoped>\n",
              "    .dataframe tbody tr th:only-of-type {\n",
              "        vertical-align: middle;\n",
              "    }\n",
              "\n",
              "    .dataframe tbody tr th {\n",
              "        vertical-align: top;\n",
              "    }\n",
              "\n",
              "    .dataframe thead th {\n",
              "        text-align: right;\n",
              "    }\n",
              "</style>\n",
              "<table border=\"1\" class=\"dataframe\">\n",
              "  <thead>\n",
              "    <tr style=\"text-align: right;\">\n",
              "      <th></th>\n",
              "      <th>MDVP:Fo(Hz)</th>\n",
              "      <th>MDVP:Fhi(Hz)</th>\n",
              "      <th>MDVP:Flo(Hz)</th>\n",
              "      <th>MDVP:Jitter(%)</th>\n",
              "      <th>MDVP:Jitter(Abs)</th>\n",
              "      <th>MDVP:RAP</th>\n",
              "      <th>MDVP:PPQ</th>\n",
              "      <th>Jitter:DDP</th>\n",
              "      <th>MDVP:Shimmer</th>\n",
              "      <th>MDVP:Shimmer(dB)</th>\n",
              "      <th>Shimmer:APQ3</th>\n",
              "      <th>Shimmer:APQ5</th>\n",
              "      <th>MDVP:APQ</th>\n",
              "      <th>Shimmer:DDA</th>\n",
              "      <th>NHR</th>\n",
              "      <th>HNR</th>\n",
              "      <th>status</th>\n",
              "      <th>RPDE</th>\n",
              "      <th>DFA</th>\n",
              "      <th>spread1</th>\n",
              "      <th>spread2</th>\n",
              "      <th>D2</th>\n",
              "      <th>PPE</th>\n",
              "    </tr>\n",
              "  </thead>\n",
              "  <tbody>\n",
              "    <tr>\n",
              "      <th>count</th>\n",
              "      <td>192.000000</td>\n",
              "      <td>192.000000</td>\n",
              "      <td>192.000000</td>\n",
              "      <td>192.000000</td>\n",
              "      <td>192.000000</td>\n",
              "      <td>192.000000</td>\n",
              "      <td>192.000000</td>\n",
              "      <td>192.000000</td>\n",
              "      <td>192.000000</td>\n",
              "      <td>192.000000</td>\n",
              "      <td>192.000000</td>\n",
              "      <td>192.000000</td>\n",
              "      <td>192.000000</td>\n",
              "      <td>192.000000</td>\n",
              "      <td>192.000000</td>\n",
              "      <td>192.000000</td>\n",
              "      <td>192.000000</td>\n",
              "      <td>192.000000</td>\n",
              "      <td>192.000000</td>\n",
              "      <td>192.000000</td>\n",
              "      <td>192.000000</td>\n",
              "      <td>192.000000</td>\n",
              "      <td>192.000000</td>\n",
              "    </tr>\n",
              "    <tr>\n",
              "      <th>mean</th>\n",
              "      <td>153.817917</td>\n",
              "      <td>196.776349</td>\n",
              "      <td>116.389750</td>\n",
              "      <td>0.006114</td>\n",
              "      <td>0.000044</td>\n",
              "      <td>0.003245</td>\n",
              "      <td>0.003377</td>\n",
              "      <td>0.009737</td>\n",
              "      <td>0.029314</td>\n",
              "      <td>0.277448</td>\n",
              "      <td>0.015468</td>\n",
              "      <td>0.017612</td>\n",
              "      <td>0.023701</td>\n",
              "      <td>0.046404</td>\n",
              "      <td>0.023873</td>\n",
              "      <td>21.976073</td>\n",
              "      <td>0.750000</td>\n",
              "      <td>0.497796</td>\n",
              "      <td>0.718154</td>\n",
              "      <td>-5.710404</td>\n",
              "      <td>0.224700</td>\n",
              "      <td>2.371348</td>\n",
              "      <td>0.204615</td>\n",
              "    </tr>\n",
              "    <tr>\n",
              "      <th>std</th>\n",
              "      <td>41.548965</td>\n",
              "      <td>92.158243</td>\n",
              "      <td>43.508538</td>\n",
              "      <td>0.004642</td>\n",
              "      <td>0.000034</td>\n",
              "      <td>0.002852</td>\n",
              "      <td>0.002598</td>\n",
              "      <td>0.008554</td>\n",
              "      <td>0.018308</td>\n",
              "      <td>0.186884</td>\n",
              "      <td>0.009898</td>\n",
              "      <td>0.011635</td>\n",
              "      <td>0.016387</td>\n",
              "      <td>0.029694</td>\n",
              "      <td>0.039213</td>\n",
              "      <td>4.288654</td>\n",
              "      <td>0.434145</td>\n",
              "      <td>0.103722</td>\n",
              "      <td>0.055515</td>\n",
              "      <td>1.073304</td>\n",
              "      <td>0.082583</td>\n",
              "      <td>0.374673</td>\n",
              "      <td>0.088719</td>\n",
              "    </tr>\n",
              "    <tr>\n",
              "      <th>min</th>\n",
              "      <td>88.333000</td>\n",
              "      <td>102.145000</td>\n",
              "      <td>65.476000</td>\n",
              "      <td>0.001680</td>\n",
              "      <td>0.000007</td>\n",
              "      <td>0.000680</td>\n",
              "      <td>0.000920</td>\n",
              "      <td>0.002040</td>\n",
              "      <td>0.009540</td>\n",
              "      <td>0.085000</td>\n",
              "      <td>0.004550</td>\n",
              "      <td>0.005700</td>\n",
              "      <td>0.007190</td>\n",
              "      <td>0.013640</td>\n",
              "      <td>0.000650</td>\n",
              "      <td>8.441000</td>\n",
              "      <td>0.000000</td>\n",
              "      <td>0.256570</td>\n",
              "      <td>0.574282</td>\n",
              "      <td>-7.964984</td>\n",
              "      <td>0.006274</td>\n",
              "      <td>1.423287</td>\n",
              "      <td>0.044539</td>\n",
              "    </tr>\n",
              "    <tr>\n",
              "      <th>25%</th>\n",
              "      <td>117.262000</td>\n",
              "      <td>134.549750</td>\n",
              "      <td>85.286250</td>\n",
              "      <td>0.003450</td>\n",
              "      <td>0.000020</td>\n",
              "      <td>0.001658</td>\n",
              "      <td>0.001855</td>\n",
              "      <td>0.004975</td>\n",
              "      <td>0.016537</td>\n",
              "      <td>0.148750</td>\n",
              "      <td>0.008268</td>\n",
              "      <td>0.009585</td>\n",
              "      <td>0.013085</td>\n",
              "      <td>0.024802</td>\n",
              "      <td>0.005890</td>\n",
              "      <td>19.251750</td>\n",
              "      <td>0.750000</td>\n",
              "      <td>0.421768</td>\n",
              "      <td>0.674855</td>\n",
              "      <td>-6.456900</td>\n",
              "      <td>0.173470</td>\n",
              "      <td>2.094037</td>\n",
              "      <td>0.136103</td>\n",
              "    </tr>\n",
              "    <tr>\n",
              "      <th>50%</th>\n",
              "      <td>148.367000</td>\n",
              "      <td>172.917500</td>\n",
              "      <td>104.376000</td>\n",
              "      <td>0.004940</td>\n",
              "      <td>0.000030</td>\n",
              "      <td>0.002485</td>\n",
              "      <td>0.002680</td>\n",
              "      <td>0.007455</td>\n",
              "      <td>0.022965</td>\n",
              "      <td>0.219000</td>\n",
              "      <td>0.012780</td>\n",
              "      <td>0.013450</td>\n",
              "      <td>0.018125</td>\n",
              "      <td>0.038335</td>\n",
              "      <td>0.011545</td>\n",
              "      <td>22.152000</td>\n",
              "      <td>1.000000</td>\n",
              "      <td>0.493649</td>\n",
              "      <td>0.722170</td>\n",
              "      <td>-5.730418</td>\n",
              "      <td>0.217525</td>\n",
              "      <td>2.352424</td>\n",
              "      <td>0.193324</td>\n",
              "    </tr>\n",
              "    <tr>\n",
              "      <th>75%</th>\n",
              "      <td>182.393500</td>\n",
              "      <td>224.093750</td>\n",
              "      <td>139.504250</td>\n",
              "      <td>0.007285</td>\n",
              "      <td>0.000060</td>\n",
              "      <td>0.003747</td>\n",
              "      <td>0.003912</td>\n",
              "      <td>0.011250</td>\n",
              "      <td>0.037610</td>\n",
              "      <td>0.348500</td>\n",
              "      <td>0.019063</td>\n",
              "      <td>0.021882</td>\n",
              "      <td>0.029198</td>\n",
              "      <td>0.057193</td>\n",
              "      <td>0.024960</td>\n",
              "      <td>25.053750</td>\n",
              "      <td>1.000000</td>\n",
              "      <td>0.586366</td>\n",
              "      <td>0.762563</td>\n",
              "      <td>-5.127827</td>\n",
              "      <td>0.271301</td>\n",
              "      <td>2.614510</td>\n",
              "      <td>0.252080</td>\n",
              "    </tr>\n",
              "    <tr>\n",
              "      <th>max</th>\n",
              "      <td>260.105000</td>\n",
              "      <td>592.030000</td>\n",
              "      <td>239.170000</td>\n",
              "      <td>0.033160</td>\n",
              "      <td>0.000260</td>\n",
              "      <td>0.021440</td>\n",
              "      <td>0.019580</td>\n",
              "      <td>0.064330</td>\n",
              "      <td>0.119080</td>\n",
              "      <td>1.302000</td>\n",
              "      <td>0.056470</td>\n",
              "      <td>0.079400</td>\n",
              "      <td>0.137780</td>\n",
              "      <td>0.169420</td>\n",
              "      <td>0.314820</td>\n",
              "      <td>33.047000</td>\n",
              "      <td>1.000000</td>\n",
              "      <td>0.685151</td>\n",
              "      <td>0.825288</td>\n",
              "      <td>-2.434031</td>\n",
              "      <td>0.450493</td>\n",
              "      <td>3.671155</td>\n",
              "      <td>0.527367</td>\n",
              "    </tr>\n",
              "  </tbody>\n",
              "</table>\n",
              "</div>\n",
              "      <button class=\"colab-df-convert\" onclick=\"convertToInteractive('df-9355923c-8d18-4cc5-80d3-0dde78a8164a')\"\n",
              "              title=\"Convert this dataframe to an interactive table.\"\n",
              "              style=\"display:none;\">\n",
              "        \n",
              "  <svg xmlns=\"http://www.w3.org/2000/svg\" height=\"24px\"viewBox=\"0 0 24 24\"\n",
              "       width=\"24px\">\n",
              "    <path d=\"M0 0h24v24H0V0z\" fill=\"none\"/>\n",
              "    <path d=\"M18.56 5.44l.94 2.06.94-2.06 2.06-.94-2.06-.94-.94-2.06-.94 2.06-2.06.94zm-11 1L8.5 8.5l.94-2.06 2.06-.94-2.06-.94L8.5 2.5l-.94 2.06-2.06.94zm10 10l.94 2.06.94-2.06 2.06-.94-2.06-.94-.94-2.06-.94 2.06-2.06.94z\"/><path d=\"M17.41 7.96l-1.37-1.37c-.4-.4-.92-.59-1.43-.59-.52 0-1.04.2-1.43.59L10.3 9.45l-7.72 7.72c-.78.78-.78 2.05 0 2.83L4 21.41c.39.39.9.59 1.41.59.51 0 1.02-.2 1.41-.59l7.78-7.78 2.81-2.81c.8-.78.8-2.07 0-2.86zM5.41 20L4 18.59l7.72-7.72 1.47 1.35L5.41 20z\"/>\n",
              "  </svg>\n",
              "      </button>\n",
              "      \n",
              "  <style>\n",
              "    .colab-df-container {\n",
              "      display:flex;\n",
              "      flex-wrap:wrap;\n",
              "      gap: 12px;\n",
              "    }\n",
              "\n",
              "    .colab-df-convert {\n",
              "      background-color: #E8F0FE;\n",
              "      border: none;\n",
              "      border-radius: 50%;\n",
              "      cursor: pointer;\n",
              "      display: none;\n",
              "      fill: #1967D2;\n",
              "      height: 32px;\n",
              "      padding: 0 0 0 0;\n",
              "      width: 32px;\n",
              "    }\n",
              "\n",
              "    .colab-df-convert:hover {\n",
              "      background-color: #E2EBFA;\n",
              "      box-shadow: 0px 1px 2px rgba(60, 64, 67, 0.3), 0px 1px 3px 1px rgba(60, 64, 67, 0.15);\n",
              "      fill: #174EA6;\n",
              "    }\n",
              "\n",
              "    [theme=dark] .colab-df-convert {\n",
              "      background-color: #3B4455;\n",
              "      fill: #D2E3FC;\n",
              "    }\n",
              "\n",
              "    [theme=dark] .colab-df-convert:hover {\n",
              "      background-color: #434B5C;\n",
              "      box-shadow: 0px 1px 3px 1px rgba(0, 0, 0, 0.15);\n",
              "      filter: drop-shadow(0px 1px 2px rgba(0, 0, 0, 0.3));\n",
              "      fill: #FFFFFF;\n",
              "    }\n",
              "  </style>\n",
              "\n",
              "      <script>\n",
              "        const buttonEl =\n",
              "          document.querySelector('#df-9355923c-8d18-4cc5-80d3-0dde78a8164a button.colab-df-convert');\n",
              "        buttonEl.style.display =\n",
              "          google.colab.kernel.accessAllowed ? 'block' : 'none';\n",
              "\n",
              "        async function convertToInteractive(key) {\n",
              "          const element = document.querySelector('#df-9355923c-8d18-4cc5-80d3-0dde78a8164a');\n",
              "          const dataTable =\n",
              "            await google.colab.kernel.invokeFunction('convertToInteractive',\n",
              "                                                     [key], {});\n",
              "          if (!dataTable) return;\n",
              "\n",
              "          const docLinkHtml = 'Like what you see? Visit the ' +\n",
              "            '<a target=\"_blank\" href=https://colab.research.google.com/notebooks/data_table.ipynb>data table notebook</a>'\n",
              "            + ' to learn more about interactive tables.';\n",
              "          element.innerHTML = '';\n",
              "          dataTable['output_type'] = 'display_data';\n",
              "          await google.colab.output.renderOutput(dataTable, element);\n",
              "          const docLink = document.createElement('div');\n",
              "          docLink.innerHTML = docLinkHtml;\n",
              "          element.appendChild(docLink);\n",
              "        }\n",
              "      </script>\n",
              "    </div>\n",
              "  </div>\n",
              "  "
            ],
            "text/plain": [
              "       MDVP:Fo(Hz)  MDVP:Fhi(Hz)  ...          D2         PPE\n",
              "count   192.000000    192.000000  ...  192.000000  192.000000\n",
              "mean    153.817917    196.776349  ...    2.371348    0.204615\n",
              "std      41.548965     92.158243  ...    0.374673    0.088719\n",
              "min      88.333000    102.145000  ...    1.423287    0.044539\n",
              "25%     117.262000    134.549750  ...    2.094037    0.136103\n",
              "50%     148.367000    172.917500  ...    2.352424    0.193324\n",
              "75%     182.393500    224.093750  ...    2.614510    0.252080\n",
              "max     260.105000    592.030000  ...    3.671155    0.527367\n",
              "\n",
              "[8 rows x 23 columns]"
            ]
          },
          "metadata": {},
          "execution_count": 16
        }
      ]
    },
    {
      "cell_type": "markdown",
      "source": [
        "# Data Cleaning\n",
        "\n",
        "\n",
        "---\n",
        "\n"
      ],
      "metadata": {
        "id": "olIcIbJvdf29"
      }
    },
    {
      "cell_type": "markdown",
      "source": [
        "# Check for duplicate rows"
      ],
      "metadata": {
        "id": "JVSRJscyvLKS"
      }
    },
    {
      "cell_type": "code",
      "source": [
        "df.duplicated().sum() #no duplicate rows"
      ],
      "metadata": {
        "colab": {
          "base_uri": "https://localhost:8080/"
        },
        "id": "YSGaN-0nuuIf",
        "outputId": "231ec4a1-9143-47f8-83ed-b3a4528bdbe8"
      },
      "execution_count": 17,
      "outputs": [
        {
          "output_type": "execute_result",
          "data": {
            "text/plain": [
              "0"
            ]
          },
          "metadata": {},
          "execution_count": 17
        }
      ]
    },
    {
      "cell_type": "markdown",
      "source": [
        "# Check for missing values"
      ],
      "metadata": {
        "id": "dtwup9WRvSIV"
      }
    },
    {
      "cell_type": "code",
      "source": [
        "df.isnull().sum() #no missing values"
      ],
      "metadata": {
        "colab": {
          "base_uri": "https://localhost:8080/"
        },
        "id": "Q6Wq7OFTu1vR",
        "outputId": "06e4495c-e864-426b-a4d9-0352c2acd3cd"
      },
      "execution_count": 18,
      "outputs": [
        {
          "output_type": "execute_result",
          "data": {
            "text/plain": [
              "name                0\n",
              "MDVP:Fo(Hz)         0\n",
              "MDVP:Fhi(Hz)        0\n",
              "MDVP:Flo(Hz)        0\n",
              "MDVP:Jitter(%)      0\n",
              "MDVP:Jitter(Abs)    0\n",
              "MDVP:RAP            0\n",
              "MDVP:PPQ            0\n",
              "Jitter:DDP          0\n",
              "MDVP:Shimmer        0\n",
              "MDVP:Shimmer(dB)    0\n",
              "Shimmer:APQ3        0\n",
              "Shimmer:APQ5        0\n",
              "MDVP:APQ            0\n",
              "Shimmer:DDA         0\n",
              "NHR                 0\n",
              "HNR                 0\n",
              "status              0\n",
              "RPDE                0\n",
              "DFA                 0\n",
              "spread1             0\n",
              "spread2             0\n",
              "D2                  0\n",
              "PPE                 0\n",
              "dtype: int64"
            ]
          },
          "metadata": {},
          "execution_count": 18
        }
      ]
    },
    {
      "cell_type": "markdown",
      "source": [
        "# Average Samples\n",
        "\n",
        "\n",
        "---\n",
        "\n"
      ],
      "metadata": {
        "id": "5N47ZIzybRK7"
      }
    },
    {
      "cell_type": "markdown",
      "source": [
        "Average six samples per individual"
      ],
      "metadata": {
        "id": "TXA9Ax5vbYd0"
      }
    },
    {
      "cell_type": "code",
      "source": [
        "import numpy as np"
      ],
      "metadata": {
        "id": "vg-p10PEMOd_"
      },
      "execution_count": 20,
      "outputs": []
    },
    {
      "cell_type": "code",
      "source": [
        "# Group every six rows in dataframe and average column values.  (Six sets of data per individual in the study)\n",
        "grouped_df = df.groupby(np.arange(len(df.index))//6, axis=0).mean() #source: link below"
      ],
      "metadata": {
        "id": "ishRbMnuMDuy"
      },
      "execution_count": 21,
      "outputs": []
    },
    {
      "cell_type": "markdown",
      "source": [
        "https://stackoverflow.com/questions/46478518/groupby-dataframe-by-n-columns-or-n-rows"
      ],
      "metadata": {
        "id": "ZSGw5BijMsm_"
      }
    },
    {
      "cell_type": "code",
      "source": [
        "grouped_df.shape  #32 individuals and 23 features"
      ],
      "metadata": {
        "colab": {
          "base_uri": "https://localhost:8080/"
        },
        "id": "m1tgJMSjMhar",
        "outputId": "f85bb5dd-fc68-45c8-e9c1-fafaa36314d8"
      },
      "execution_count": 22,
      "outputs": [
        {
          "output_type": "execute_result",
          "data": {
            "text/plain": [
              "(32, 23)"
            ]
          },
          "metadata": {},
          "execution_count": 22
        }
      ]
    },
    {
      "cell_type": "code",
      "source": [
        "grouped_df.head()"
      ],
      "metadata": {
        "colab": {
          "base_uri": "https://localhost:8080/",
          "height": 268
        },
        "id": "V5AoXxWSerUk",
        "outputId": "9654ebce-e433-41ff-e094-13d38bb67e8d"
      },
      "execution_count": 23,
      "outputs": [
        {
          "output_type": "execute_result",
          "data": {
            "text/html": [
              "\n",
              "  <div id=\"df-688a758c-e553-4764-82c3-34dff339c756\">\n",
              "    <div class=\"colab-df-container\">\n",
              "      <div>\n",
              "<style scoped>\n",
              "    .dataframe tbody tr th:only-of-type {\n",
              "        vertical-align: middle;\n",
              "    }\n",
              "\n",
              "    .dataframe tbody tr th {\n",
              "        vertical-align: top;\n",
              "    }\n",
              "\n",
              "    .dataframe thead th {\n",
              "        text-align: right;\n",
              "    }\n",
              "</style>\n",
              "<table border=\"1\" class=\"dataframe\">\n",
              "  <thead>\n",
              "    <tr style=\"text-align: right;\">\n",
              "      <th></th>\n",
              "      <th>MDVP:Fo(Hz)</th>\n",
              "      <th>MDVP:Fhi(Hz)</th>\n",
              "      <th>MDVP:Flo(Hz)</th>\n",
              "      <th>MDVP:Jitter(%)</th>\n",
              "      <th>MDVP:Jitter(Abs)</th>\n",
              "      <th>MDVP:RAP</th>\n",
              "      <th>MDVP:PPQ</th>\n",
              "      <th>Jitter:DDP</th>\n",
              "      <th>MDVP:Shimmer</th>\n",
              "      <th>MDVP:Shimmer(dB)</th>\n",
              "      <th>Shimmer:APQ3</th>\n",
              "      <th>Shimmer:APQ5</th>\n",
              "      <th>MDVP:APQ</th>\n",
              "      <th>Shimmer:DDA</th>\n",
              "      <th>NHR</th>\n",
              "      <th>HNR</th>\n",
              "      <th>status</th>\n",
              "      <th>RPDE</th>\n",
              "      <th>DFA</th>\n",
              "      <th>spread1</th>\n",
              "      <th>spread2</th>\n",
              "      <th>D2</th>\n",
              "      <th>PPE</th>\n",
              "    </tr>\n",
              "  </thead>\n",
              "  <tbody>\n",
              "    <tr>\n",
              "      <th>0</th>\n",
              "      <td>118.719333</td>\n",
              "      <td>141.312833</td>\n",
              "      <td>106.029833</td>\n",
              "      <td>0.010085</td>\n",
              "      <td>0.000087</td>\n",
              "      <td>0.004998</td>\n",
              "      <td>0.007312</td>\n",
              "      <td>0.014992</td>\n",
              "      <td>0.053932</td>\n",
              "      <td>0.515167</td>\n",
              "      <td>0.028025</td>\n",
              "      <td>0.039770</td>\n",
              "      <td>0.037348</td>\n",
              "      <td>0.084073</td>\n",
              "      <td>0.016318</td>\n",
              "      <td>20.406667</td>\n",
              "      <td>1</td>\n",
              "      <td>0.428488</td>\n",
              "      <td>0.821314</td>\n",
              "      <td>-4.239926</td>\n",
              "      <td>0.296836</td>\n",
              "      <td>2.342642</td>\n",
              "      <td>0.353841</td>\n",
              "    </tr>\n",
              "    <tr>\n",
              "      <th>1</th>\n",
              "      <td>99.770333</td>\n",
              "      <td>121.894333</td>\n",
              "      <td>95.413167</td>\n",
              "      <td>0.004585</td>\n",
              "      <td>0.000050</td>\n",
              "      <td>0.002325</td>\n",
              "      <td>0.002857</td>\n",
              "      <td>0.006978</td>\n",
              "      <td>0.021668</td>\n",
              "      <td>0.194333</td>\n",
              "      <td>0.011042</td>\n",
              "      <td>0.013113</td>\n",
              "      <td>0.018123</td>\n",
              "      <td>0.033125</td>\n",
              "      <td>0.008917</td>\n",
              "      <td>22.997333</td>\n",
              "      <td>1</td>\n",
              "      <td>0.598429</td>\n",
              "      <td>0.778017</td>\n",
              "      <td>-5.420414</td>\n",
              "      <td>0.308289</td>\n",
              "      <td>2.287428</td>\n",
              "      <td>0.234019</td>\n",
              "    </tr>\n",
              "    <tr>\n",
              "      <th>2</th>\n",
              "      <td>147.346167</td>\n",
              "      <td>216.867500</td>\n",
              "      <td>87.532333</td>\n",
              "      <td>0.004347</td>\n",
              "      <td>0.000030</td>\n",
              "      <td>0.001760</td>\n",
              "      <td>0.002320</td>\n",
              "      <td>0.005285</td>\n",
              "      <td>0.019343</td>\n",
              "      <td>0.181667</td>\n",
              "      <td>0.009383</td>\n",
              "      <td>0.011003</td>\n",
              "      <td>0.018410</td>\n",
              "      <td>0.028148</td>\n",
              "      <td>0.013080</td>\n",
              "      <td>23.899667</td>\n",
              "      <td>1</td>\n",
              "      <td>0.521660</td>\n",
              "      <td>0.645843</td>\n",
              "      <td>-5.337281</td>\n",
              "      <td>0.249288</td>\n",
              "      <td>2.360638</td>\n",
              "      <td>0.232007</td>\n",
              "    </tr>\n",
              "    <tr>\n",
              "      <th>3</th>\n",
              "      <td>159.837667</td>\n",
              "      <td>181.630167</td>\n",
              "      <td>86.767167</td>\n",
              "      <td>0.006247</td>\n",
              "      <td>0.000040</td>\n",
              "      <td>0.003062</td>\n",
              "      <td>0.003422</td>\n",
              "      <td>0.009188</td>\n",
              "      <td>0.043337</td>\n",
              "      <td>0.388167</td>\n",
              "      <td>0.020492</td>\n",
              "      <td>0.026550</td>\n",
              "      <td>0.044458</td>\n",
              "      <td>0.061477</td>\n",
              "      <td>0.025608</td>\n",
              "      <td>19.058667</td>\n",
              "      <td>1</td>\n",
              "      <td>0.626723</td>\n",
              "      <td>0.695886</td>\n",
              "      <td>-4.560947</td>\n",
              "      <td>0.278482</td>\n",
              "      <td>2.787869</td>\n",
              "      <td>0.310658</td>\n",
              "    </tr>\n",
              "    <tr>\n",
              "      <th>4</th>\n",
              "      <td>150.644667</td>\n",
              "      <td>208.264333</td>\n",
              "      <td>78.278333</td>\n",
              "      <td>0.005230</td>\n",
              "      <td>0.000037</td>\n",
              "      <td>0.002725</td>\n",
              "      <td>0.002838</td>\n",
              "      <td>0.008173</td>\n",
              "      <td>0.021367</td>\n",
              "      <td>0.209667</td>\n",
              "      <td>0.009673</td>\n",
              "      <td>0.012625</td>\n",
              "      <td>0.020725</td>\n",
              "      <td>0.029023</td>\n",
              "      <td>0.014892</td>\n",
              "      <td>24.762000</td>\n",
              "      <td>1</td>\n",
              "      <td>0.432723</td>\n",
              "      <td>0.719675</td>\n",
              "      <td>-6.223537</td>\n",
              "      <td>0.228296</td>\n",
              "      <td>2.440360</td>\n",
              "      <td>0.164939</td>\n",
              "    </tr>\n",
              "  </tbody>\n",
              "</table>\n",
              "</div>\n",
              "      <button class=\"colab-df-convert\" onclick=\"convertToInteractive('df-688a758c-e553-4764-82c3-34dff339c756')\"\n",
              "              title=\"Convert this dataframe to an interactive table.\"\n",
              "              style=\"display:none;\">\n",
              "        \n",
              "  <svg xmlns=\"http://www.w3.org/2000/svg\" height=\"24px\"viewBox=\"0 0 24 24\"\n",
              "       width=\"24px\">\n",
              "    <path d=\"M0 0h24v24H0V0z\" fill=\"none\"/>\n",
              "    <path d=\"M18.56 5.44l.94 2.06.94-2.06 2.06-.94-2.06-.94-.94-2.06-.94 2.06-2.06.94zm-11 1L8.5 8.5l.94-2.06 2.06-.94-2.06-.94L8.5 2.5l-.94 2.06-2.06.94zm10 10l.94 2.06.94-2.06 2.06-.94-2.06-.94-.94-2.06-.94 2.06-2.06.94z\"/><path d=\"M17.41 7.96l-1.37-1.37c-.4-.4-.92-.59-1.43-.59-.52 0-1.04.2-1.43.59L10.3 9.45l-7.72 7.72c-.78.78-.78 2.05 0 2.83L4 21.41c.39.39.9.59 1.41.59.51 0 1.02-.2 1.41-.59l7.78-7.78 2.81-2.81c.8-.78.8-2.07 0-2.86zM5.41 20L4 18.59l7.72-7.72 1.47 1.35L5.41 20z\"/>\n",
              "  </svg>\n",
              "      </button>\n",
              "      \n",
              "  <style>\n",
              "    .colab-df-container {\n",
              "      display:flex;\n",
              "      flex-wrap:wrap;\n",
              "      gap: 12px;\n",
              "    }\n",
              "\n",
              "    .colab-df-convert {\n",
              "      background-color: #E8F0FE;\n",
              "      border: none;\n",
              "      border-radius: 50%;\n",
              "      cursor: pointer;\n",
              "      display: none;\n",
              "      fill: #1967D2;\n",
              "      height: 32px;\n",
              "      padding: 0 0 0 0;\n",
              "      width: 32px;\n",
              "    }\n",
              "\n",
              "    .colab-df-convert:hover {\n",
              "      background-color: #E2EBFA;\n",
              "      box-shadow: 0px 1px 2px rgba(60, 64, 67, 0.3), 0px 1px 3px 1px rgba(60, 64, 67, 0.15);\n",
              "      fill: #174EA6;\n",
              "    }\n",
              "\n",
              "    [theme=dark] .colab-df-convert {\n",
              "      background-color: #3B4455;\n",
              "      fill: #D2E3FC;\n",
              "    }\n",
              "\n",
              "    [theme=dark] .colab-df-convert:hover {\n",
              "      background-color: #434B5C;\n",
              "      box-shadow: 0px 1px 3px 1px rgba(0, 0, 0, 0.15);\n",
              "      filter: drop-shadow(0px 1px 2px rgba(0, 0, 0, 0.3));\n",
              "      fill: #FFFFFF;\n",
              "    }\n",
              "  </style>\n",
              "\n",
              "      <script>\n",
              "        const buttonEl =\n",
              "          document.querySelector('#df-688a758c-e553-4764-82c3-34dff339c756 button.colab-df-convert');\n",
              "        buttonEl.style.display =\n",
              "          google.colab.kernel.accessAllowed ? 'block' : 'none';\n",
              "\n",
              "        async function convertToInteractive(key) {\n",
              "          const element = document.querySelector('#df-688a758c-e553-4764-82c3-34dff339c756');\n",
              "          const dataTable =\n",
              "            await google.colab.kernel.invokeFunction('convertToInteractive',\n",
              "                                                     [key], {});\n",
              "          if (!dataTable) return;\n",
              "\n",
              "          const docLinkHtml = 'Like what you see? Visit the ' +\n",
              "            '<a target=\"_blank\" href=https://colab.research.google.com/notebooks/data_table.ipynb>data table notebook</a>'\n",
              "            + ' to learn more about interactive tables.';\n",
              "          element.innerHTML = '';\n",
              "          dataTable['output_type'] = 'display_data';\n",
              "          await google.colab.output.renderOutput(dataTable, element);\n",
              "          const docLink = document.createElement('div');\n",
              "          docLink.innerHTML = docLinkHtml;\n",
              "          element.appendChild(docLink);\n",
              "        }\n",
              "      </script>\n",
              "    </div>\n",
              "  </div>\n",
              "  "
            ],
            "text/plain": [
              "   MDVP:Fo(Hz)  MDVP:Fhi(Hz)  MDVP:Flo(Hz)  ...   spread2        D2       PPE\n",
              "0   118.719333    141.312833    106.029833  ...  0.296836  2.342642  0.353841\n",
              "1    99.770333    121.894333     95.413167  ...  0.308289  2.287428  0.234019\n",
              "2   147.346167    216.867500     87.532333  ...  0.249288  2.360638  0.232007\n",
              "3   159.837667    181.630167     86.767167  ...  0.278482  2.787869  0.310658\n",
              "4   150.644667    208.264333     78.278333  ...  0.228296  2.440360  0.164939\n",
              "\n",
              "[5 rows x 23 columns]"
            ]
          },
          "metadata": {},
          "execution_count": 23
        }
      ]
    },
    {
      "cell_type": "markdown",
      "source": [
        "# Modeling on Averaged Data\n",
        "\n",
        "\n",
        "---"
      ],
      "metadata": {
        "id": "rI6RIViMgDJi"
      }
    },
    {
      "cell_type": "markdown",
      "source": [
        "# Model Validation\n"
      ],
      "metadata": {
        "id": "rSFE8_vC34Jc"
      }
    },
    {
      "cell_type": "code",
      "source": [
        "y = grouped_df['status']\n",
        "X = grouped_df.drop(columns = ['status'])\n",
        "\n",
        "X_train, X_test, y_train, y_test = train_test_split(X, y, random_state=42, stratify=y)"
      ],
      "metadata": {
        "id": "IJk7tvkr32c-"
      },
      "execution_count": 29,
      "outputs": []
    },
    {
      "cell_type": "markdown",
      "source": [
        "# Default Classifier Model"
      ],
      "metadata": {
        "id": "pioolmZXAr1-"
      }
    },
    {
      "cell_type": "code",
      "source": [
        "grouped_df['status'].value_counts(normalize = 'True')"
      ],
      "metadata": {
        "colab": {
          "base_uri": "https://localhost:8080/"
        },
        "id": "9gkjJrUTA2U4",
        "outputId": "72b948d2-6465-458e-bdf2-05ac66041b8a"
      },
      "execution_count": 32,
      "outputs": [
        {
          "output_type": "execute_result",
          "data": {
            "text/plain": [
              "1    0.75\n",
              "0    0.25\n",
              "Name: status, dtype: float64"
            ]
          },
          "metadata": {},
          "execution_count": 32
        }
      ]
    },
    {
      "cell_type": "code",
      "source": [
        "all_ones = np.ones(len(y_test))\n",
        "all_ones"
      ],
      "metadata": {
        "colab": {
          "base_uri": "https://localhost:8080/"
        },
        "id": "m_OtCf9mBBXS",
        "outputId": "26c413e7-07fb-4ec1-995d-1db2d92615d8"
      },
      "execution_count": 33,
      "outputs": [
        {
          "output_type": "execute_result",
          "data": {
            "text/plain": [
              "array([1., 1., 1., 1., 1., 1., 1., 1.])"
            ]
          },
          "metadata": {},
          "execution_count": 33
        }
      ]
    },
    {
      "cell_type": "code",
      "source": [
        "class_report_default = classification_report(y_test, all_ones);\n",
        "print(class_report_default)"
      ],
      "metadata": {
        "colab": {
          "base_uri": "https://localhost:8080/"
        },
        "id": "jRBE4ytCBjTC",
        "outputId": "be10dffb-9aa9-4ed5-fac5-de465ea7ff4c"
      },
      "execution_count": 34,
      "outputs": [
        {
          "output_type": "stream",
          "name": "stdout",
          "text": [
            "              precision    recall  f1-score   support\n",
            "\n",
            "           0       0.00      0.00      0.00         2\n",
            "           1       0.75      1.00      0.86         6\n",
            "\n",
            "    accuracy                           0.75         8\n",
            "   macro avg       0.38      0.50      0.43         8\n",
            "weighted avg       0.56      0.75      0.64         8\n",
            "\n"
          ]
        },
        {
          "output_type": "stream",
          "name": "stderr",
          "text": [
            "/usr/local/lib/python3.7/dist-packages/sklearn/metrics/_classification.py:1318: UndefinedMetricWarning: Precision and F-score are ill-defined and being set to 0.0 in labels with no predicted samples. Use `zero_division` parameter to control this behavior.\n",
            "  _warn_prf(average, modifier, msg_start, len(result))\n",
            "/usr/local/lib/python3.7/dist-packages/sklearn/metrics/_classification.py:1318: UndefinedMetricWarning: Precision and F-score are ill-defined and being set to 0.0 in labels with no predicted samples. Use `zero_division` parameter to control this behavior.\n",
            "  _warn_prf(average, modifier, msg_start, len(result))\n",
            "/usr/local/lib/python3.7/dist-packages/sklearn/metrics/_classification.py:1318: UndefinedMetricWarning: Precision and F-score are ill-defined and being set to 0.0 in labels with no predicted samples. Use `zero_division` parameter to control this behavior.\n",
            "  _warn_prf(average, modifier, msg_start, len(result))\n"
          ]
        }
      ]
    },
    {
      "cell_type": "markdown",
      "source": [
        "# KNN - Basic Model - Averaged Data"
      ],
      "metadata": {
        "id": "YqHAiV5Y_dYz"
      }
    },
    {
      "cell_type": "code",
      "source": [
        "scaler = StandardScaler()\n",
        "knn = KNeighborsClassifier()\n",
        "\n",
        "pipe = make_pipeline(scaler, knn)"
      ],
      "metadata": {
        "id": "h8mNKx9eMZFT"
      },
      "execution_count": 35,
      "outputs": []
    },
    {
      "cell_type": "code",
      "source": [
        "pipe.fit(X_train, y_train)"
      ],
      "metadata": {
        "colab": {
          "base_uri": "https://localhost:8080/"
        },
        "id": "uzsH7f-BIgzc",
        "outputId": "ec10a920-d959-4de9-98ef-e319f7d6100f"
      },
      "execution_count": 36,
      "outputs": [
        {
          "output_type": "execute_result",
          "data": {
            "text/plain": [
              "Pipeline(steps=[('standardscaler', StandardScaler()),\n",
              "                ('kneighborsclassifier', KNeighborsClassifier())])"
            ]
          },
          "metadata": {},
          "execution_count": 36
        }
      ]
    },
    {
      "cell_type": "code",
      "source": [
        "y_pred = pipe.predict(X_test)\n",
        "y_pred_train = pipe.predict(X_train)"
      ],
      "metadata": {
        "id": "aI3Swx6wKH7B"
      },
      "execution_count": 37,
      "outputs": []
    },
    {
      "cell_type": "code",
      "source": [
        "knn_train_accuracy = accuracy_score(y_train, y_pred_train)\n",
        "print(f'KNN Train Accuracy: {knn_train_accuracy}')"
      ],
      "metadata": {
        "colab": {
          "base_uri": "https://localhost:8080/"
        },
        "id": "A_rw80PkJhcC",
        "outputId": "0e1da3ec-546b-407b-d007-2f028588b686"
      },
      "execution_count": 38,
      "outputs": [
        {
          "output_type": "stream",
          "name": "stdout",
          "text": [
            "KNN Train Accuracy: 0.875\n"
          ]
        }
      ]
    },
    {
      "cell_type": "code",
      "source": [
        "knn_test_accuracy = accuracy_score(y_test, y_pred)\n",
        "print(f'KNN Test Accuracy: {knn_test_accuracy}')"
      ],
      "metadata": {
        "colab": {
          "base_uri": "https://localhost:8080/"
        },
        "id": "9z0nG4T5Jx8h",
        "outputId": "f5e8bf5c-a2db-4648-cd3c-2c2418d58572"
      },
      "execution_count": 39,
      "outputs": [
        {
          "output_type": "stream",
          "name": "stdout",
          "text": [
            "KNN Test Accuracy: 0.875\n"
          ]
        }
      ]
    },
    {
      "cell_type": "code",
      "source": [
        "class_report_knn_basic = classification_report(y_pred, y_test)\n",
        "print(class_report_knn_basic)"
      ],
      "metadata": {
        "colab": {
          "base_uri": "https://localhost:8080/"
        },
        "id": "aD_ndU57KVMA",
        "outputId": "3afb1a83-a4cf-4528-c9c6-fd0e51727e8b"
      },
      "execution_count": 40,
      "outputs": [
        {
          "output_type": "stream",
          "name": "stdout",
          "text": [
            "              precision    recall  f1-score   support\n",
            "\n",
            "           0       0.50      1.00      0.67         1\n",
            "           1       1.00      0.86      0.92         7\n",
            "\n",
            "    accuracy                           0.88         8\n",
            "   macro avg       0.75      0.93      0.79         8\n",
            "weighted avg       0.94      0.88      0.89         8\n",
            "\n"
          ]
        }
      ]
    },
    {
      "cell_type": "code",
      "source": [
        "plot_confusion_matrix(pipe, X_test, y_test, cmap = 'Blues');"
      ],
      "metadata": {
        "id": "8MrPx19IdbS9",
        "outputId": "8fe27041-f6cf-42de-a841-c652ff00681a",
        "colab": {
          "base_uri": "https://localhost:8080/",
          "height": 337
        }
      },
      "execution_count": 41,
      "outputs": [
        {
          "output_type": "stream",
          "name": "stderr",
          "text": [
            "/usr/local/lib/python3.7/dist-packages/sklearn/utils/deprecation.py:87: FutureWarning: Function plot_confusion_matrix is deprecated; Function `plot_confusion_matrix` is deprecated in 1.0 and will be removed in 1.2. Use one of the class methods: ConfusionMatrixDisplay.from_predictions or ConfusionMatrixDisplay.from_estimator.\n",
            "  warnings.warn(msg, category=FutureWarning)\n"
          ]
        },
        {
          "output_type": "display_data",
          "data": {
            "image/png": "[encoded data removed]",
            "text/plain": [
              "<Figure size 432x288 with 2 Axes>"
            ]
          },
          "metadata": {
            "needs_background": "light"
          }
        }
      ]
    },
    {
      "cell_type": "markdown",
      "source": [
        "# KNN - Optimized - Averaged Data"
      ],
      "metadata": {
        "id": "dK45j8YcLHA1"
      }
    },
    {
      "cell_type": "markdown",
      "source": [
        "Plot error rate versus n_neighbors to determine optimum number of n_neighbors"
      ],
      "metadata": {
        "id": "3Dv5jhxZgS_x"
      }
    },
    {
      "cell_type": "code",
      "source": [
        "error_rate = []   #source: https://towardsdatascience.com/how-to-find-the-optimal-value-of-k-in-knn-35d936e554eb\n",
        "for i in range(1,13):          #Finding minimum error\n",
        " knn1 = KNeighborsClassifier(n_neighbors=i)\n",
        " pipe_knn1 = make_pipeline(scaler,knn1)\n",
        "\n",
        " pipe_knn1.fit(X_train,y_train)\n",
        " pred_i = pipe_knn1.predict(X_test)\n",
        " error_rate.append(np.mean(pred_i != y_test))\n",
        "\n",
        "plt.figure(figsize=(10,6))\n",
        "plt.plot(range(1,13),error_rate,color='blue', linestyle='dashed', \n",
        "         marker='o',markerfacecolor='red', markersize=10)\n",
        "plt.title('Error Rate vs. K Value')\n",
        "plt.xlabel('K')\n",
        "plt.xticks(np.arange(1,13, step=2))\n",
        "plt.ylabel('Error Rate')\n",
        "print(\"Minimum error:-\",min(error_rate),\"at K =\",error_rate.index(min(error_rate))+1)"
      ],
      "metadata": {
        "colab": {
          "base_uri": "https://localhost:8080/",
          "height": 421
        },
        "id": "sADNBW7PK_VG",
        "outputId": "01baeac5-a203-4cac-dc11-ef34571b0a79"
      },
      "execution_count": 43,
      "outputs": [
        {
          "output_type": "stream",
          "name": "stdout",
          "text": [
            "Minimum error:- 0.125 at K = 1\n"
          ]
        },
        {
          "output_type": "display_data",
          "data": {
            "image/png": "[encoded data removed]",
            "text/plain": [
              "<Figure size 720x432 with 1 Axes>"
            ]
          },
          "metadata": {
            "needs_background": "light"
          }
        }
      ]
    },
    {
      "cell_type": "markdown",
      "source": [
        "Plot accuracy versus n_neighbors to determine optimum number of n_neighbors"
      ],
      "metadata": {
        "id": "x_96u2lDgVBo"
      }
    },
    {
      "cell_type": "code",
      "source": [
        "acc = [] #source: https://towardsdatascience.com/how-to-find-the-optimal-value-of-k-in-knn-35d936e554eb\n",
        "from sklearn import metrics #finding maximum accuracy\n",
        "for i in range(1,13):\n",
        "    knn1 = KNeighborsClassifier(n_neighbors=i)\n",
        "    pipe_knn1 = make_pipeline(scaler,knn1)\n",
        "    pipe_knn1.fit(X_train,y_train)    \n",
        "    yhat = pipe_knn1.predict(X_test)\n",
        "    acc.append(metrics.accuracy_score(y_test, yhat))\n",
        "    \n",
        "plt.figure(figsize=(10,6))\n",
        "plt.plot(range(1,13),acc,color = 'blue',linestyle='dashed', \n",
        "         marker='o',markerfacecolor='red', markersize=10)\n",
        "plt.title('accuracy vs. K Value')\n",
        "plt.xlabel('K')\n",
        "plt.ylabel('Accuracy')\n",
        "print(\"Maximum accuracy:-\",max(acc),\"at K =\",(acc.index(max(acc))+1))"
      ],
      "metadata": {
        "colab": {
          "base_uri": "https://localhost:8080/",
          "height": 421
        },
        "id": "8CzcErolN2AO",
        "outputId": "23621c54-d001-4c22-b536-9df929331f21"
      },
      "execution_count": 45,
      "outputs": [
        {
          "output_type": "stream",
          "name": "stdout",
          "text": [
            "Maximum accuracy:- 0.875 at K = 1\n"
          ]
        },
        {
          "output_type": "display_data",
          "data": {
            "image/png": "[encoded data removed]",
            "text/plain": [
              "<Figure size 720x432 with 1 Axes>"
            ]
          },
          "metadata": {
            "needs_background": "light"
          }
        }
      ]
    },
    {
      "cell_type": "markdown",
      "source": [
        "Both of the above plots above indicate that the number of samples in the dataset is too limited to adjust for n_neighbors. Therefore, n_neighbors will be set at 1 in the optimized model below. The KNN model on this dataset will be overfit."
      ],
      "metadata": {
        "id": "PeQVem5rgipV"
      }
    },
    {
      "cell_type": "code",
      "source": [
        "scaler = StandardScaler()\n",
        "knn_n1 = KNeighborsClassifier(n_neighbors=1)\n",
        "\n",
        "numeric_selector = make_column_selector(dtype_include = 'number')\n",
        "scaler_tuple = (scaler, numeric_selector)\n",
        "col_transformer = make_column_transformer(scaler_tuple, remainder = 'passthrough')\n",
        "pipe1 = make_pipeline(col_transformer, knn_n1)"
      ],
      "metadata": {
        "id": "8d2kvKGoOnuA"
      },
      "execution_count": 46,
      "outputs": []
    },
    {
      "cell_type": "code",
      "source": [
        "pipe1.fit(X_train, y_train)"
      ],
      "metadata": {
        "colab": {
          "base_uri": "https://localhost:8080/"
        },
        "id": "qHmy_BefO-MN",
        "outputId": "91a24c94-eb6d-4ee5-b60f-1fcea0b6c634"
      },
      "execution_count": 47,
      "outputs": [
        {
          "output_type": "execute_result",
          "data": {
            "text/plain": [
              "Pipeline(steps=[('columntransformer',\n",
              "                 ColumnTransformer(remainder='passthrough',\n",
              "                                   transformers=[('standardscaler',\n",
              "                                                  StandardScaler(),\n",
              "                                                  <sklearn.compose._column_transformer.make_column_selector object at 0x7f8aa4168150>)])),\n",
              "                ('kneighborsclassifier', KNeighborsClassifier(n_neighbors=1))])"
            ]
          },
          "metadata": {},
          "execution_count": 47
        }
      ]
    },
    {
      "cell_type": "code",
      "source": [
        "y_pred_knn_n1 = pipe1.predict(X_test)"
      ],
      "metadata": {
        "id": "bstiIErUPLZQ"
      },
      "execution_count": 48,
      "outputs": []
    },
    {
      "cell_type": "code",
      "source": [
        "y_pred_knn_n1_train = pipe1.predict(X_train)"
      ],
      "metadata": {
        "id": "bFBhWocSlvP9"
      },
      "execution_count": 49,
      "outputs": []
    },
    {
      "cell_type": "code",
      "source": [
        "knn_n1_train_accuracy = accuracy_score(y_train, y_pred_knn_n1_train)\n",
        "print(f'KNN with n_neighbors = 1 Train Accuracy: {knn_n1_train_accuracy}')"
      ],
      "metadata": {
        "colab": {
          "base_uri": "https://localhost:8080/"
        },
        "id": "ImBzyEfrmZcQ",
        "outputId": "7b1ccac7-c420-46ea-e209-b2c89da4656d"
      },
      "execution_count": 50,
      "outputs": [
        {
          "output_type": "stream",
          "name": "stdout",
          "text": [
            "KNN with n_neighbors = 1 Train Accuracy: 1.0\n"
          ]
        }
      ]
    },
    {
      "cell_type": "code",
      "source": [
        "knn_n1_test_accuracy = accuracy_score(y_test, y_pred_knn_n1)\n",
        "print(f'KNN with n_neighbors = 1 Test Accuracy: {knn_n1_test_accuracy}')"
      ],
      "metadata": {
        "colab": {
          "base_uri": "https://localhost:8080/"
        },
        "id": "f53hCjIkl4Se",
        "outputId": "d3768767-ec4b-4095-9ac9-02c204cb0482"
      },
      "execution_count": 51,
      "outputs": [
        {
          "output_type": "stream",
          "name": "stdout",
          "text": [
            "KNN with n_neighbors = 1 Test Accuracy: 0.875\n"
          ]
        }
      ]
    },
    {
      "cell_type": "code",
      "source": [
        "class_report_knn_n1 = classification_report(y_test, y_pred_knn_n1)\n",
        "print(class_report_knn_n1)"
      ],
      "metadata": {
        "colab": {
          "base_uri": "https://localhost:8080/"
        },
        "id": "ZM-cqkQPPY85",
        "outputId": "3aa5a5c6-a575-4262-dfc2-8f15962b2f83"
      },
      "execution_count": 52,
      "outputs": [
        {
          "output_type": "stream",
          "name": "stdout",
          "text": [
            "              precision    recall  f1-score   support\n",
            "\n",
            "           0       1.00      0.50      0.67         2\n",
            "           1       0.86      1.00      0.92         6\n",
            "\n",
            "    accuracy                           0.88         8\n",
            "   macro avg       0.93      0.75      0.79         8\n",
            "weighted avg       0.89      0.88      0.86         8\n",
            "\n"
          ]
        }
      ]
    },
    {
      "cell_type": "code",
      "source": [
        "plot_confusion_matrix(pipe1, X_test, y_test, cmap = 'Blues');"
      ],
      "metadata": {
        "colab": {
          "base_uri": "https://localhost:8080/",
          "height": 337
        },
        "id": "JX8k-19CIZGc",
        "outputId": "c93ae4bb-0512-4435-eafa-a3b69fd3e694"
      },
      "execution_count": 53,
      "outputs": [
        {
          "output_type": "stream",
          "name": "stderr",
          "text": [
            "/usr/local/lib/python3.7/dist-packages/sklearn/utils/deprecation.py:87: FutureWarning: Function plot_confusion_matrix is deprecated; Function `plot_confusion_matrix` is deprecated in 1.0 and will be removed in 1.2. Use one of the class methods: ConfusionMatrixDisplay.from_predictions or ConfusionMatrixDisplay.from_estimator.\n",
            "  warnings.warn(msg, category=FutureWarning)\n"
          ]
        },
        {
          "output_type": "display_data",
          "data": {
            "image/png": "[encoded data removed]",
            "text/plain": [
              "<Figure size 432x288 with 2 Axes>"
            ]
          },
          "metadata": {
            "needs_background": "light"
          }
        }
      ]
    },
    {
      "cell_type": "markdown",
      "source": [
        "# Light Gradient Boosting Machine - Base Model - Averaged Data"
      ],
      "metadata": {
        "id": "27gDYxoWnVLn"
      }
    },
    {
      "cell_type": "code",
      "source": [
        "lgb = LGBMClassifier()"
      ],
      "metadata": {
        "id": "fPnec68JnPUe"
      },
      "execution_count": 54,
      "outputs": []
    },
    {
      "cell_type": "code",
      "source": [
        "pipe_lgb = make_pipeline(col_transformer, lgb)"
      ],
      "metadata": {
        "id": "9sqoVEQioHtV"
      },
      "execution_count": 55,
      "outputs": []
    },
    {
      "cell_type": "code",
      "source": [
        "pipe_lgb.fit(X_train, y_train)"
      ],
      "metadata": {
        "colab": {
          "base_uri": "https://localhost:8080/"
        },
        "id": "91e3iuJdoOIR",
        "outputId": "5d5d208c-4949-49e6-a29a-75b291a3ca16"
      },
      "execution_count": 56,
      "outputs": [
        {
          "output_type": "execute_result",
          "data": {
            "text/plain": [
              "Pipeline(steps=[('columntransformer',\n",
              "                 ColumnTransformer(remainder='passthrough',\n",
              "                                   transformers=[('standardscaler',\n",
              "                                                  StandardScaler(),\n",
              "                                                  <sklearn.compose._column_transformer.make_column_selector object at 0x7f8aa4168150>)])),\n",
              "                ('lgbmclassifier', LGBMClassifier())])"
            ]
          },
          "metadata": {},
          "execution_count": 56
        }
      ]
    },
    {
      "cell_type": "code",
      "source": [
        "y_pred_lgb_train = pipe_lgb.predict(X_train)\n",
        "y_pred_lgb_test = pipe_lgb.predict(X_test)"
      ],
      "metadata": {
        "id": "C0GrY2wjoRvh"
      },
      "execution_count": 57,
      "outputs": []
    },
    {
      "cell_type": "code",
      "source": [
        "accuracy_lgb_train = accuracy_score(y_train, y_pred_lgb_train)\n",
        "print(f'Light Gradient Boosting Train Accuracy: {accuracy_lgb_train}')"
      ],
      "metadata": {
        "colab": {
          "base_uri": "https://localhost:8080/"
        },
        "id": "_rIzUk2IocCX",
        "outputId": "062db0eb-8372-4975-838f-a54bc50cba68"
      },
      "execution_count": 58,
      "outputs": [
        {
          "output_type": "stream",
          "name": "stdout",
          "text": [
            "Light Gradient Boosting Train Accuracy: 0.75\n"
          ]
        }
      ]
    },
    {
      "cell_type": "code",
      "source": [
        "accuracy_lgb_test = accuracy_score(y_test, y_pred_lgb_test)\n",
        "print(f'Light Gradient Boosting Test Accuracy: {accuracy_lgb_test}')"
      ],
      "metadata": {
        "colab": {
          "base_uri": "https://localhost:8080/"
        },
        "id": "9H5JEuP8os7i",
        "outputId": "74523bd7-8222-414a-ab16-bb7517d7ea3f"
      },
      "execution_count": 59,
      "outputs": [
        {
          "output_type": "stream",
          "name": "stdout",
          "text": [
            "Light Gradient Boosting Test Accuracy: 0.75\n"
          ]
        }
      ]
    },
    {
      "cell_type": "code",
      "source": [
        "class_report_lgb = classification_report(y_test, y_pred_lgb_test)\n",
        "print(class_report_lgb)"
      ],
      "metadata": {
        "colab": {
          "base_uri": "https://localhost:8080/"
        },
        "id": "27w_38RNqVvF",
        "outputId": "a9906936-88d5-4326-c521-33d922ca39ed"
      },
      "execution_count": 60,
      "outputs": [
        {
          "output_type": "stream",
          "name": "stdout",
          "text": [
            "              precision    recall  f1-score   support\n",
            "\n",
            "           0       0.00      0.00      0.00         2\n",
            "           1       0.75      1.00      0.86         6\n",
            "\n",
            "    accuracy                           0.75         8\n",
            "   macro avg       0.38      0.50      0.43         8\n",
            "weighted avg       0.56      0.75      0.64         8\n",
            "\n"
          ]
        },
        {
          "output_type": "stream",
          "name": "stderr",
          "text": [
            "/usr/local/lib/python3.7/dist-packages/sklearn/metrics/_classification.py:1318: UndefinedMetricWarning: Precision and F-score are ill-defined and being set to 0.0 in labels with no predicted samples. Use `zero_division` parameter to control this behavior.\n",
            "  _warn_prf(average, modifier, msg_start, len(result))\n",
            "/usr/local/lib/python3.7/dist-packages/sklearn/metrics/_classification.py:1318: UndefinedMetricWarning: Precision and F-score are ill-defined and being set to 0.0 in labels with no predicted samples. Use `zero_division` parameter to control this behavior.\n",
            "  _warn_prf(average, modifier, msg_start, len(result))\n",
            "/usr/local/lib/python3.7/dist-packages/sklearn/metrics/_classification.py:1318: UndefinedMetricWarning: Precision and F-score are ill-defined and being set to 0.0 in labels with no predicted samples. Use `zero_division` parameter to control this behavior.\n",
            "  _warn_prf(average, modifier, msg_start, len(result))\n"
          ]
        }
      ]
    },
    {
      "cell_type": "code",
      "source": [
        "plot_confusion_matrix(pipe_lgb, X_test, y_test, cmap = 'Blues');"
      ],
      "metadata": {
        "colab": {
          "base_uri": "https://localhost:8080/",
          "height": 337
        },
        "id": "__lS9h04c2x8",
        "outputId": "f3f668d6-6405-494b-a2d1-34bb0a3e162c"
      },
      "execution_count": 61,
      "outputs": [
        {
          "output_type": "stream",
          "name": "stderr",
          "text": [
            "/usr/local/lib/python3.7/dist-packages/sklearn/utils/deprecation.py:87: FutureWarning: Function plot_confusion_matrix is deprecated; Function `plot_confusion_matrix` is deprecated in 1.0 and will be removed in 1.2. Use one of the class methods: ConfusionMatrixDisplay.from_predictions or ConfusionMatrixDisplay.from_estimator.\n",
            "  warnings.warn(msg, category=FutureWarning)\n"
          ]
        },
        {
          "output_type": "display_data",
          "data": {
            "image/png": "[encoded data removed]",
            "text/plain": [
              "<Figure size 432x288 with 2 Axes>"
            ]
          },
          "metadata": {
            "needs_background": "light"
          }
        }
      ]
    },
    {
      "cell_type": "markdown",
      "source": [
        "# Light Gradient Boosting Machine - Optimized - Averaged Data"
      ],
      "metadata": {
        "id": "w09zkfGOqsK-"
      }
    },
    {
      "cell_type": "markdown",
      "source": [
        "Set ranges for hyperparameters:"
      ],
      "metadata": {
        "id": "yWW8rt8dj8B5"
      }
    },
    {
      "cell_type": "code",
      "source": [
        "params = {'lgbmclassifier__max_depth': range(5,9),\n",
        "          'lgbmclassifier__num_leaves': range(4,14),\n",
        "          'lgbmclassifier__min_data_in_leaf': range(1,4)}"
      ],
      "metadata": {
        "id": "_okgS-pvqq6f"
      },
      "execution_count": 62,
      "outputs": []
    },
    {
      "cell_type": "code",
      "source": [
        "lgb_gridsearch = GridSearchCV(pipe_lgb, params, cv = 5)"
      ],
      "metadata": {
        "id": "lW3lMXVNqzBj"
      },
      "execution_count": 63,
      "outputs": []
    },
    {
      "cell_type": "markdown",
      "source": [
        "Run gridsearch to find best combination of hyperparameters:"
      ],
      "metadata": {
        "id": "anbXUhjWkJlI"
      }
    },
    {
      "cell_type": "code",
      "source": [
        "lgb_gridsearch.fit(X_train, y_train)"
      ],
      "metadata": {
        "colab": {
          "base_uri": "https://localhost:8080/"
        },
        "id": "ruJIS4I-rVkC",
        "outputId": "7f65c8d9-8646-4384-bc71-a694de548239"
      },
      "execution_count": 64,
      "outputs": [
        {
          "output_type": "execute_result",
          "data": {
            "text/plain": [
              "GridSearchCV(cv=5,\n",
              "             estimator=Pipeline(steps=[('columntransformer',\n",
              "                                        ColumnTransformer(remainder='passthrough',\n",
              "                                                          transformers=[('standardscaler',\n",
              "                                                                         StandardScaler(),\n",
              "                                                                         <sklearn.compose._column_transformer.make_column_selector object at 0x7f8aa4168150>)])),\n",
              "                                       ('lgbmclassifier', LGBMClassifier())]),\n",
              "             param_grid={'lgbmclassifier__max_depth': range(5, 9),\n",
              "                         'lgbmclassifier__min_data_in_leaf': range(1, 4),\n",
              "                         'lgbmclassifier__num_leaves': range(4, 14)})"
            ]
          },
          "metadata": {},
          "execution_count": 64
        }
      ]
    },
    {
      "cell_type": "markdown",
      "source": [
        "The best hyperparameters from this gridsearch:"
      ],
      "metadata": {
        "id": "dzeXK437iSqA"
      }
    },
    {
      "cell_type": "code",
      "source": [
        "print(lgb_gridsearch.best_params_)"
      ],
      "metadata": {
        "id": "NWr_rDBGrd0O"
      },
      "execution_count": null,
      "outputs": []
    },
    {
      "cell_type": "markdown",
      "source": [
        "Adjust hyperparameter ranges to optimize model based on previous gridsearch:"
      ],
      "metadata": {
        "id": "dRwEbDabjBfD"
      }
    },
    {
      "cell_type": "code",
      "source": [
        "params1 = {'lgbmclassifier__max_depth': range(2,5),\n",
        "          'lgbmclassifier__num_leaves': range(2,4),\n",
        "          'lgbmclassifier__min_data_in_leaf': range(2,4)}"
      ],
      "metadata": {
        "id": "GbDw6JrKr6H3"
      },
      "execution_count": 66,
      "outputs": []
    },
    {
      "cell_type": "code",
      "source": [
        "gridsearch_lgb_2nd = GridSearchCV(pipe_lgb, params1, cv = 10)"
      ],
      "metadata": {
        "id": "UkOjQSsnsin0"
      },
      "execution_count": 67,
      "outputs": []
    },
    {
      "cell_type": "code",
      "source": [
        "gridsearch_lgb_2nd.fit(X_train, y_train)"
      ],
      "metadata": {
        "colab": {
          "base_uri": "https://localhost:8080/"
        },
        "id": "kOeoT2Shs7fA",
        "outputId": "06fb76f7-8943-4337-c8d1-5b0805dcddf7"
      },
      "execution_count": 68,
      "outputs": [
        {
          "output_type": "stream",
          "name": "stderr",
          "text": [
            "/usr/local/lib/python3.7/dist-packages/sklearn/model_selection/_split.py:680: UserWarning: The least populated class in y has only 6 members, which is less than n_splits=10.\n",
            "  UserWarning,\n"
          ]
        },
        {
          "output_type": "execute_result",
          "data": {
            "text/plain": [
              "GridSearchCV(cv=10,\n",
              "             estimator=Pipeline(steps=[('columntransformer',\n",
              "                                        ColumnTransformer(remainder='passthrough',\n",
              "                                                          transformers=[('standardscaler',\n",
              "                                                                         StandardScaler(),\n",
              "                                                                         <sklearn.compose._column_transformer.make_column_selector object at 0x7f8aa4168150>)])),\n",
              "                                       ('lgbmclassifier', LGBMClassifier())]),\n",
              "             param_grid={'lgbmclassifier__max_depth': range(2, 5),\n",
              "                         'lgbmclassifier__min_data_in_leaf': range(2, 4),\n",
              "                         'lgbmclassifier__num_leaves': range(2, 4)})"
            ]
          },
          "metadata": {},
          "execution_count": 68
        }
      ]
    },
    {
      "cell_type": "markdown",
      "source": [
        "Best parameters from thie gridsearch used in the final optimized model:"
      ],
      "metadata": {
        "id": "RKS7juXKjX7H"
      }
    },
    {
      "cell_type": "code",
      "source": [
        "print(gridsearch_lgb_2nd.best_params_)"
      ],
      "metadata": {
        "colab": {
          "base_uri": "https://localhost:8080/"
        },
        "id": "FuJ0K4aUtAC9",
        "outputId": "6234a98f-e753-4390-e6e8-bdcaadfdb8eb"
      },
      "execution_count": 69,
      "outputs": [
        {
          "output_type": "stream",
          "name": "stdout",
          "text": [
            "{'lgbmclassifier__max_depth': 2, 'lgbmclassifier__min_data_in_leaf': 2, 'lgbmclassifier__num_leaves': 2}\n"
          ]
        }
      ]
    },
    {
      "cell_type": "code",
      "source": [
        "lgb_best = lgb_gridsearch.best_estimator_"
      ],
      "metadata": {
        "id": "_Zeq2oPEri--"
      },
      "execution_count": 70,
      "outputs": []
    },
    {
      "cell_type": "code",
      "source": [
        "y_pred_lgb_best = lgb_best.predict(X_test)\n",
        "y_pred_lgb_best_train = lgb_best.predict(X_train)"
      ],
      "metadata": {
        "id": "cV3FnOSTrrf4"
      },
      "execution_count": 71,
      "outputs": []
    },
    {
      "cell_type": "code",
      "source": [
        "lgb_best_train_accuracy = accuracy_score(y_train, y_pred_lgb_best_train)\n",
        "print(f'Light Gradient Boosting Optimized Train Accuracy: {lgb_best_train_accuracy}')"
      ],
      "metadata": {
        "colab": {
          "base_uri": "https://localhost:8080/"
        },
        "id": "fBAOAOSwxWtn",
        "outputId": "7683411b-d940-444d-aad8-356fa85ba837"
      },
      "execution_count": 72,
      "outputs": [
        {
          "output_type": "stream",
          "name": "stdout",
          "text": [
            "Light Gradient Boosting Optimized Train Accuracy: 1.0\n"
          ]
        }
      ]
    },
    {
      "cell_type": "code",
      "source": [
        "lgb_best_test_accuracy = accuracy_score(y_test, y_pred_lgb_best)\n",
        "print(f'Light Gradient Boosting Optimized Test Accuracy: {lgb_best_test_accuracy}')"
      ],
      "metadata": {
        "colab": {
          "base_uri": "https://localhost:8080/"
        },
        "id": "Nj2rdg6ixaep",
        "outputId": "6c500783-3bd0-4920-99a6-ba2fd042f1a1"
      },
      "execution_count": 73,
      "outputs": [
        {
          "output_type": "stream",
          "name": "stdout",
          "text": [
            "Light Gradient Boosting Optimized Test Accuracy: 0.75\n"
          ]
        }
      ]
    },
    {
      "cell_type": "code",
      "source": [
        "class_report_lgb_best = classification_report(y_test, y_pred_lgb_best)\n",
        "print(class_report_lgb_best)"
      ],
      "metadata": {
        "colab": {
          "base_uri": "https://localhost:8080/"
        },
        "id": "_mlRshQHukiZ",
        "outputId": "ec440a83-3591-4f37-9850-acac5ae6bdbf"
      },
      "execution_count": 74,
      "outputs": [
        {
          "output_type": "stream",
          "name": "stdout",
          "text": [
            "              precision    recall  f1-score   support\n",
            "\n",
            "           0       0.00      0.00      0.00         2\n",
            "           1       0.75      1.00      0.86         6\n",
            "\n",
            "    accuracy                           0.75         8\n",
            "   macro avg       0.38      0.50      0.43         8\n",
            "weighted avg       0.56      0.75      0.64         8\n",
            "\n"
          ]
        },
        {
          "output_type": "stream",
          "name": "stderr",
          "text": [
            "/usr/local/lib/python3.7/dist-packages/sklearn/metrics/_classification.py:1318: UndefinedMetricWarning: Precision and F-score are ill-defined and being set to 0.0 in labels with no predicted samples. Use `zero_division` parameter to control this behavior.\n",
            "  _warn_prf(average, modifier, msg_start, len(result))\n",
            "/usr/local/lib/python3.7/dist-packages/sklearn/metrics/_classification.py:1318: UndefinedMetricWarning: Precision and F-score are ill-defined and being set to 0.0 in labels with no predicted samples. Use `zero_division` parameter to control this behavior.\n",
            "  _warn_prf(average, modifier, msg_start, len(result))\n",
            "/usr/local/lib/python3.7/dist-packages/sklearn/metrics/_classification.py:1318: UndefinedMetricWarning: Precision and F-score are ill-defined and being set to 0.0 in labels with no predicted samples. Use `zero_division` parameter to control this behavior.\n",
            "  _warn_prf(average, modifier, msg_start, len(result))\n"
          ]
        }
      ]
    },
    {
      "cell_type": "code",
      "source": [
        "plot_confusion_matrix(lgb_best, X_test, y_test, cmap = 'Blues');"
      ],
      "metadata": {
        "colab": {
          "base_uri": "https://localhost:8080/",
          "height": 337
        },
        "id": "fH-avJIGdRyS",
        "outputId": "c7ed34cf-a4a9-4de2-8804-0e0bef6a4c00"
      },
      "execution_count": 75,
      "outputs": [
        {
          "output_type": "stream",
          "name": "stderr",
          "text": [
            "/usr/local/lib/python3.7/dist-packages/sklearn/utils/deprecation.py:87: FutureWarning: Function plot_confusion_matrix is deprecated; Function `plot_confusion_matrix` is deprecated in 1.0 and will be removed in 1.2. Use one of the class methods: ConfusionMatrixDisplay.from_predictions or ConfusionMatrixDisplay.from_estimator.\n",
            "  warnings.warn(msg, category=FutureWarning)\n"
          ]
        },
        {
          "output_type": "display_data",
          "data": {
            "image/png": "[encoded data removed]",
            "text/plain": [
              "<Figure size 432x288 with 2 Axes>"
            ]
          },
          "metadata": {
            "needs_background": "light"
          }
        }
      ]
    },
    {
      "cell_type": "markdown",
      "source": [
        "# eXtreme Gradient Boost Machine - Base Model - Averaged Data"
      ],
      "metadata": {
        "id": "wPfKVfrhhWY8"
      }
    },
    {
      "cell_type": "code",
      "source": [
        "xgb = XGBClassifier()\n",
        "\n",
        "pipe_xgb = make_pipeline(col_transformer, xgb)"
      ],
      "metadata": {
        "id": "BCVkj6djGfHE"
      },
      "execution_count": 76,
      "outputs": []
    },
    {
      "cell_type": "code",
      "source": [
        "pipe_xgb.fit(X_train, y_train)"
      ],
      "metadata": {
        "colab": {
          "base_uri": "https://localhost:8080/"
        },
        "id": "9tFiEFyJGuHD",
        "outputId": "b677a287-3b10-40f9-bba0-9583dc12c7ab"
      },
      "execution_count": 77,
      "outputs": [
        {
          "output_type": "execute_result",
          "data": {
            "text/plain": [
              "Pipeline(steps=[('columntransformer',\n",
              "                 ColumnTransformer(remainder='passthrough',\n",
              "                                   transformers=[('standardscaler',\n",
              "                                                  StandardScaler(),\n",
              "                                                  <sklearn.compose._column_transformer.make_column_selector object at 0x7f8aa4168150>)])),\n",
              "                ('xgbclassifier', XGBClassifier())])"
            ]
          },
          "metadata": {},
          "execution_count": 77
        }
      ]
    },
    {
      "cell_type": "code",
      "source": [
        "y_pred_xgb = pipe_xgb.predict(X_test)\n",
        "y_pred_xgb_train = pipe_xgb.predict(X_train)"
      ],
      "metadata": {
        "id": "Za_0miQRGx8o"
      },
      "execution_count": 78,
      "outputs": []
    },
    {
      "cell_type": "code",
      "source": [
        "xgb_train_accuracy = accuracy_score(y_train, y_pred_xgb_train)\n",
        "print(f'Extreme Gradient Boosting Test Accuracy: {xgb_train_accuracy}')"
      ],
      "metadata": {
        "colab": {
          "base_uri": "https://localhost:8080/"
        },
        "id": "78PhlRvNK8nW",
        "outputId": "a45ef53e-d9a1-4f28-b013-2192f5530aa1"
      },
      "execution_count": 79,
      "outputs": [
        {
          "output_type": "stream",
          "name": "stdout",
          "text": [
            "Extreme Gradient Boosting Test Accuracy: 0.9166666666666666\n"
          ]
        }
      ]
    },
    {
      "cell_type": "code",
      "source": [
        "xgb_test_accuracy = accuracy_score(y_test, y_pred_xgb)\n",
        "print(f'Extreme Gradient Boosting Test Accuracy: {xgb_test_accuracy}')"
      ],
      "metadata": {
        "colab": {
          "base_uri": "https://localhost:8080/"
        },
        "id": "ES21WCPEG38h",
        "outputId": "fa6c5389-5752-4796-b046-50f666ee7801"
      },
      "execution_count": 80,
      "outputs": [
        {
          "output_type": "stream",
          "name": "stdout",
          "text": [
            "Extreme Gradient Boosting Test Accuracy: 0.875\n"
          ]
        }
      ]
    },
    {
      "cell_type": "code",
      "source": [
        "class_report_xgb = classification_report(y_pred_xgb, y_test)\n",
        "print(class_report_xgb)"
      ],
      "metadata": {
        "colab": {
          "base_uri": "https://localhost:8080/"
        },
        "id": "vc56TTWtSGRX",
        "outputId": "6b96b392-deb2-4094-d804-c6eb86caec71"
      },
      "execution_count": 81,
      "outputs": [
        {
          "output_type": "stream",
          "name": "stdout",
          "text": [
            "              precision    recall  f1-score   support\n",
            "\n",
            "           0       0.50      1.00      0.67         1\n",
            "           1       1.00      0.86      0.92         7\n",
            "\n",
            "    accuracy                           0.88         8\n",
            "   macro avg       0.75      0.93      0.79         8\n",
            "weighted avg       0.94      0.88      0.89         8\n",
            "\n"
          ]
        }
      ]
    },
    {
      "cell_type": "code",
      "source": [
        "plot_confusion_matrix(pipe_xgb, X_test, y_test, cmap = 'Blues');"
      ],
      "metadata": {
        "colab": {
          "base_uri": "https://localhost:8080/",
          "height": 337
        },
        "id": "LcR0DfLLcvYg",
        "outputId": "4f4a514e-8f6e-432d-d271-f79531e07858"
      },
      "execution_count": 82,
      "outputs": [
        {
          "output_type": "stream",
          "name": "stderr",
          "text": [
            "/usr/local/lib/python3.7/dist-packages/sklearn/utils/deprecation.py:87: FutureWarning: Function plot_confusion_matrix is deprecated; Function `plot_confusion_matrix` is deprecated in 1.0 and will be removed in 1.2. Use one of the class methods: ConfusionMatrixDisplay.from_predictions or ConfusionMatrixDisplay.from_estimator.\n",
            "  warnings.warn(msg, category=FutureWarning)\n"
          ]
        },
        {
          "output_type": "display_data",
          "data": {
            "image/png": "[encoded data removed]",
            "text/plain": [
              "<Figure size 432x288 with 2 Axes>"
            ]
          },
          "metadata": {
            "needs_background": "light"
          }
        }
      ]
    },
    {
      "cell_type": "markdown",
      "source": [
        "# eXtreme Gradient Boost Machine - Optimized Model - Averaged Data"
      ],
      "metadata": {
        "id": "ZSJj42pPhma_"
      }
    },
    {
      "cell_type": "markdown",
      "source": [
        "Choosing a range of hyperparameters to find values that optimize the model:\n"
      ],
      "metadata": {
        "id": "bQ7VZBH2h1c6"
      }
    },
    {
      "cell_type": "code",
      "source": [
        "params2 = {\n",
        "    'xgbclassifier__n_estimators': [50, 100, 150, 200],\n",
        "    'xgbclassifier__learning_rate': [0.05, 0.1, 0.3, 0.5, 0.7],\n",
        "    'xgbclassifier__max_depth': [2, 3, 5, 10, 15]}"
      ],
      "metadata": {
        "id": "AZmGUjTNHTIK"
      },
      "execution_count": 83,
      "outputs": []
    },
    {
      "cell_type": "code",
      "source": [
        "xgb_gridsearch = GridSearchCV(pipe_xgb, params2, cv = 3, refit = True)"
      ],
      "metadata": {
        "id": "k8Soar15HYSw"
      },
      "execution_count": 84,
      "outputs": []
    },
    {
      "cell_type": "markdown",
      "source": [
        "Run gridsearch to find best combination of hyperparameters:"
      ],
      "metadata": {
        "id": "e6vJBRfKkXsW"
      }
    },
    {
      "cell_type": "code",
      "source": [
        "xgb_gridsearch.fit(X_train, y_train)"
      ],
      "metadata": {
        "colab": {
          "base_uri": "https://localhost:8080/"
        },
        "id": "TkovOVcnHmV_",
        "outputId": "932a8dd6-1743-42af-f170-2163498a5bd5"
      },
      "execution_count": 85,
      "outputs": [
        {
          "output_type": "execute_result",
          "data": {
            "text/plain": [
              "GridSearchCV(cv=3,\n",
              "             estimator=Pipeline(steps=[('columntransformer',\n",
              "                                        ColumnTransformer(remainder='passthrough',\n",
              "                                                          transformers=[('standardscaler',\n",
              "                                                                         StandardScaler(),\n",
              "                                                                         <sklearn.compose._column_transformer.make_column_selector object at 0x7f8aa4168150>)])),\n",
              "                                       ('xgbclassifier', XGBClassifier())]),\n",
              "             param_grid={'xgbclassifier__learning_rate': [0.05, 0.1, 0.3, 0.5,\n",
              "                                                          0.7],\n",
              "                         'xgbclassifier__max_depth': [2, 3, 5, 10, 15],\n",
              "                         'xgbclassifier__n_estimators': [50, 100, 150, 200]})"
            ]
          },
          "metadata": {},
          "execution_count": 85
        }
      ]
    },
    {
      "cell_type": "markdown",
      "source": [
        "The best hyperparameters chosen for the model:"
      ],
      "metadata": {
        "id": "Mvcjl7Oqh-aI"
      }
    },
    {
      "cell_type": "code",
      "source": [
        "print(xgb_gridsearch.best_params_)"
      ],
      "metadata": {
        "colab": {
          "base_uri": "https://localhost:8080/"
        },
        "id": "ZlFr2CLpHx6t",
        "outputId": "09b10b33-1748-4300-aa71-eb4f091dd82f"
      },
      "execution_count": 86,
      "outputs": [
        {
          "output_type": "stream",
          "name": "stdout",
          "text": [
            "{'xgbclassifier__learning_rate': 0.05, 'xgbclassifier__max_depth': 2, 'xgbclassifier__n_estimators': 150}\n"
          ]
        }
      ]
    },
    {
      "cell_type": "code",
      "source": [
        "xgb_opt_model = xgb_gridsearch.best_estimator_"
      ],
      "metadata": {
        "id": "xDdria0GH6YH"
      },
      "execution_count": 87,
      "outputs": []
    },
    {
      "cell_type": "code",
      "source": [
        "y_pred_xgb_opt_test = xgb_opt_model.predict(X_test)\n",
        "y_pred_xgb_opt_train = xgb_opt_model.predict(X_train)"
      ],
      "metadata": {
        "id": "WE1dVNT6IBV7"
      },
      "execution_count": 88,
      "outputs": []
    },
    {
      "cell_type": "code",
      "source": [
        "xgb_opt_train_accuracy = accuracy_score(y_train, y_pred_xgb_opt_train)\n",
        "print(f'Extreme Gradient Boosting Optimized Test Accuracy: {xgb_opt_train_accuracy}')"
      ],
      "metadata": {
        "colab": {
          "base_uri": "https://localhost:8080/"
        },
        "id": "g6dHwTKsKgZT",
        "outputId": "f7808bca-b2fa-4e88-bf0b-738ccf3d5f65"
      },
      "execution_count": 89,
      "outputs": [
        {
          "output_type": "stream",
          "name": "stdout",
          "text": [
            "Extreme Gradient Boosting Optimized Test Accuracy: 0.9166666666666666\n"
          ]
        }
      ]
    },
    {
      "cell_type": "code",
      "source": [
        "xgb_opt_test_accuracy = accuracy_score(y_test, y_pred_xgb_opt_test)\n",
        "print(f'Extreme Gradient Boosting Optimized Test Accuracy: {xgb_opt_test_accuracy}')"
      ],
      "metadata": {
        "colab": {
          "base_uri": "https://localhost:8080/"
        },
        "id": "FKjCs23THbMV",
        "outputId": "f65f142d-30e8-4b7b-d423-161a731261e9"
      },
      "execution_count": 90,
      "outputs": [
        {
          "output_type": "stream",
          "name": "stdout",
          "text": [
            "Extreme Gradient Boosting Optimized Test Accuracy: 0.875\n"
          ]
        }
      ]
    },
    {
      "cell_type": "code",
      "source": [
        "class_report_xgb_opt = classification_report(y_pred_xgb_opt_test, y_test)\n",
        "print(class_report_xgb_opt)"
      ],
      "metadata": {
        "colab": {
          "base_uri": "https://localhost:8080/"
        },
        "id": "yWxIJHQvSWvD",
        "outputId": "b5420052-24b6-43f9-a95a-dc65d7e6acc9"
      },
      "execution_count": 91,
      "outputs": [
        {
          "output_type": "stream",
          "name": "stdout",
          "text": [
            "              precision    recall  f1-score   support\n",
            "\n",
            "           0       0.50      1.00      0.67         1\n",
            "           1       1.00      0.86      0.92         7\n",
            "\n",
            "    accuracy                           0.88         8\n",
            "   macro avg       0.75      0.93      0.79         8\n",
            "weighted avg       0.94      0.88      0.89         8\n",
            "\n"
          ]
        }
      ]
    },
    {
      "cell_type": "code",
      "source": [
        "plot_confusion_matrix(xgb_opt_model, X_test, y_test, cmap = 'Blues');"
      ],
      "metadata": {
        "colab": {
          "base_uri": "https://localhost:8080/",
          "height": 337
        },
        "id": "D1Ub1tNucoTt",
        "outputId": "113d97d2-8888-4fc6-e0ec-22d891cc3141"
      },
      "execution_count": 92,
      "outputs": [
        {
          "output_type": "stream",
          "name": "stderr",
          "text": [
            "/usr/local/lib/python3.7/dist-packages/sklearn/utils/deprecation.py:87: FutureWarning: Function plot_confusion_matrix is deprecated; Function `plot_confusion_matrix` is deprecated in 1.0 and will be removed in 1.2. Use one of the class methods: ConfusionMatrixDisplay.from_predictions or ConfusionMatrixDisplay.from_estimator.\n",
            "  warnings.warn(msg, category=FutureWarning)\n"
          ]
        },
        {
          "output_type": "display_data",
          "data": {
            "image/png": "[encoded data removed]",
            "text/plain": [
              "<Figure size 432x288 with 2 Axes>"
            ]
          },
          "metadata": {
            "needs_background": "light"
          }
        }
      ]
    }
  ]
}