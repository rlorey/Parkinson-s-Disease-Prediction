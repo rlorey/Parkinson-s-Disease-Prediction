{
  "nbformat": 4,
  "nbformat_minor": 0,
  "metadata": {
    "colab": {
      "name": "Parkinsons Model Test on Additional Data.ipynb",
      "provenance": [],
      "collapsed_sections": []
    },
    "kernelspec": {
      "name": "python3",
      "display_name": "Python 3"
    },
    "language_info": {
      "name": "python"
    }
  },
  "cells": [
    {
      "cell_type": "code",
      "metadata": {
        "colab": {
          "base_uri": "https://localhost:8080/"
        },
        "id": "0WXFAq3gdFPm",
        "outputId": "5f5efb37-38b6-45fe-c8b6-229d4ef040b5"
      },
      "source": [
        "from google.colab import drive\n",
        "drive.mount ('/content/drive')"
      ],
      "execution_count": 1,
      "outputs": [
        {
          "output_type": "stream",
          "name": "stdout",
          "text": [
            "Mounted at /content/drive\n"
          ]
        }
      ]
    },
    {
      "cell_type": "code",
      "metadata": {
        "id": "Qw3befFsdWl0"
      },
      "source": [
        "import pandas as pd\n",
        "import seaborn as sns\n",
        "import matplotlib.pyplot as plt\n",
        "from sklearn.model_selection import train_test_split, GridSearchCV\n",
        "from sklearn.metrics import plot_confusion_matrix, classification_report, accuracy_score\n",
        "from sklearn.neighbors import KNeighborsClassifier\n",
        "from sklearn.preprocessing import StandardScaler\n",
        "from sklearn.pipeline import make_pipeline, Pipeline\n",
        "from sklearn.compose import make_column_selector, make_column_transformer\n",
        "from lightgbm import LGBMClassifier\n",
        "from xgboost import XGBClassifier\n",
        "import numpy as np"
      ],
      "execution_count": 10,
      "outputs": []
    },
    {
      "cell_type": "code",
      "metadata": {
        "colab": {
          "base_uri": "https://localhost:8080/",
          "height": 268
        },
        "id": "8QX99ItY3YDQ",
        "outputId": "b9b78b77-7a74-4920-b4f9-c2add0e240d9"
      },
      "source": [
        "df = pd.read_csv('/content/parkinsons.csv')\n",
        "df.head()"
      ],
      "execution_count": 3,
      "outputs": [
        {
          "output_type": "execute_result",
          "data": {
            "text/html": [
              "\n",
              "  <div id=\"df-c24664c3-7498-4758-a2b7-72fa5d6091b3\">\n",
              "    <div class=\"colab-df-container\">\n",
              "      <div>\n",
              "<style scoped>\n",
              "    .dataframe tbody tr th:only-of-type {\n",
              "        vertical-align: middle;\n",
              "    }\n",
              "\n",
              "    .dataframe tbody tr th {\n",
              "        vertical-align: top;\n",
              "    }\n",
              "\n",
              "    .dataframe thead th {\n",
              "        text-align: right;\n",
              "    }\n",
              "</style>\n",
              "<table border=\"1\" class=\"dataframe\">\n",
              "  <thead>\n",
              "    <tr style=\"text-align: right;\">\n",
              "      <th></th>\n",
              "      <th>name</th>\n",
              "      <th>MDVP:Fo(Hz)</th>\n",
              "      <th>MDVP:Fhi(Hz)</th>\n",
              "      <th>MDVP:Flo(Hz)</th>\n",
              "      <th>MDVP:Jitter(%)</th>\n",
              "      <th>MDVP:Jitter(Abs)</th>\n",
              "      <th>MDVP:RAP</th>\n",
              "      <th>MDVP:PPQ</th>\n",
              "      <th>Jitter:DDP</th>\n",
              "      <th>MDVP:Shimmer</th>\n",
              "      <th>MDVP:Shimmer(dB)</th>\n",
              "      <th>Shimmer:APQ3</th>\n",
              "      <th>Shimmer:APQ5</th>\n",
              "      <th>MDVP:APQ</th>\n",
              "      <th>Shimmer:DDA</th>\n",
              "      <th>NHR</th>\n",
              "      <th>HNR</th>\n",
              "      <th>status</th>\n",
              "      <th>RPDE</th>\n",
              "      <th>DFA</th>\n",
              "      <th>spread1</th>\n",
              "      <th>spread2</th>\n",
              "      <th>D2</th>\n",
              "      <th>PPE</th>\n",
              "    </tr>\n",
              "  </thead>\n",
              "  <tbody>\n",
              "    <tr>\n",
              "      <th>0</th>\n",
              "      <td>phon_R01_S01_1</td>\n",
              "      <td>119.992</td>\n",
              "      <td>157.302</td>\n",
              "      <td>74.997</td>\n",
              "      <td>0.00784</td>\n",
              "      <td>0.00007</td>\n",
              "      <td>0.00370</td>\n",
              "      <td>0.00554</td>\n",
              "      <td>0.01109</td>\n",
              "      <td>0.04374</td>\n",
              "      <td>0.426</td>\n",
              "      <td>0.02182</td>\n",
              "      <td>0.03130</td>\n",
              "      <td>0.02971</td>\n",
              "      <td>0.06545</td>\n",
              "      <td>0.02211</td>\n",
              "      <td>21.033</td>\n",
              "      <td>1</td>\n",
              "      <td>0.414783</td>\n",
              "      <td>0.815285</td>\n",
              "      <td>-4.813031</td>\n",
              "      <td>0.266482</td>\n",
              "      <td>2.301442</td>\n",
              "      <td>0.284654</td>\n",
              "    </tr>\n",
              "    <tr>\n",
              "      <th>1</th>\n",
              "      <td>phon_R01_S01_2</td>\n",
              "      <td>122.400</td>\n",
              "      <td>148.650</td>\n",
              "      <td>113.819</td>\n",
              "      <td>0.00968</td>\n",
              "      <td>0.00008</td>\n",
              "      <td>0.00465</td>\n",
              "      <td>0.00696</td>\n",
              "      <td>0.01394</td>\n",
              "      <td>0.06134</td>\n",
              "      <td>0.626</td>\n",
              "      <td>0.03134</td>\n",
              "      <td>0.04518</td>\n",
              "      <td>0.04368</td>\n",
              "      <td>0.09403</td>\n",
              "      <td>0.01929</td>\n",
              "      <td>19.085</td>\n",
              "      <td>1</td>\n",
              "      <td>0.458359</td>\n",
              "      <td>0.819521</td>\n",
              "      <td>-4.075192</td>\n",
              "      <td>0.335590</td>\n",
              "      <td>2.486855</td>\n",
              "      <td>0.368674</td>\n",
              "    </tr>\n",
              "    <tr>\n",
              "      <th>2</th>\n",
              "      <td>phon_R01_S01_3</td>\n",
              "      <td>116.682</td>\n",
              "      <td>131.111</td>\n",
              "      <td>111.555</td>\n",
              "      <td>0.01050</td>\n",
              "      <td>0.00009</td>\n",
              "      <td>0.00544</td>\n",
              "      <td>0.00781</td>\n",
              "      <td>0.01633</td>\n",
              "      <td>0.05233</td>\n",
              "      <td>0.482</td>\n",
              "      <td>0.02757</td>\n",
              "      <td>0.03858</td>\n",
              "      <td>0.03590</td>\n",
              "      <td>0.08270</td>\n",
              "      <td>0.01309</td>\n",
              "      <td>20.651</td>\n",
              "      <td>1</td>\n",
              "      <td>0.429895</td>\n",
              "      <td>0.825288</td>\n",
              "      <td>-4.443179</td>\n",
              "      <td>0.311173</td>\n",
              "      <td>2.342259</td>\n",
              "      <td>0.332634</td>\n",
              "    </tr>\n",
              "    <tr>\n",
              "      <th>3</th>\n",
              "      <td>phon_R01_S01_4</td>\n",
              "      <td>116.676</td>\n",
              "      <td>137.871</td>\n",
              "      <td>111.366</td>\n",
              "      <td>0.00997</td>\n",
              "      <td>0.00009</td>\n",
              "      <td>0.00502</td>\n",
              "      <td>0.00698</td>\n",
              "      <td>0.01505</td>\n",
              "      <td>0.05492</td>\n",
              "      <td>0.517</td>\n",
              "      <td>0.02924</td>\n",
              "      <td>0.04005</td>\n",
              "      <td>0.03772</td>\n",
              "      <td>0.08771</td>\n",
              "      <td>0.01353</td>\n",
              "      <td>20.644</td>\n",
              "      <td>1</td>\n",
              "      <td>0.434969</td>\n",
              "      <td>0.819235</td>\n",
              "      <td>-4.117501</td>\n",
              "      <td>0.334147</td>\n",
              "      <td>2.405554</td>\n",
              "      <td>0.368975</td>\n",
              "    </tr>\n",
              "    <tr>\n",
              "      <th>4</th>\n",
              "      <td>phon_R01_S01_5</td>\n",
              "      <td>116.014</td>\n",
              "      <td>141.781</td>\n",
              "      <td>110.655</td>\n",
              "      <td>0.01284</td>\n",
              "      <td>0.00011</td>\n",
              "      <td>0.00655</td>\n",
              "      <td>0.00908</td>\n",
              "      <td>0.01966</td>\n",
              "      <td>0.06425</td>\n",
              "      <td>0.584</td>\n",
              "      <td>0.03490</td>\n",
              "      <td>0.04825</td>\n",
              "      <td>0.04465</td>\n",
              "      <td>0.10470</td>\n",
              "      <td>0.01767</td>\n",
              "      <td>19.649</td>\n",
              "      <td>1</td>\n",
              "      <td>0.417356</td>\n",
              "      <td>0.823484</td>\n",
              "      <td>-3.747787</td>\n",
              "      <td>0.234513</td>\n",
              "      <td>2.332180</td>\n",
              "      <td>0.410335</td>\n",
              "    </tr>\n",
              "  </tbody>\n",
              "</table>\n",
              "</div>\n",
              "      <button class=\"colab-df-convert\" onclick=\"convertToInteractive('df-c24664c3-7498-4758-a2b7-72fa5d6091b3')\"\n",
              "              title=\"Convert this dataframe to an interactive table.\"\n",
              "              style=\"display:none;\">\n",
              "        \n",
              "  <svg xmlns=\"http://www.w3.org/2000/svg\" height=\"24px\"viewBox=\"0 0 24 24\"\n",
              "       width=\"24px\">\n",
              "    <path d=\"M0 0h24v24H0V0z\" fill=\"none\"/>\n",
              "    <path d=\"M18.56 5.44l.94 2.06.94-2.06 2.06-.94-2.06-.94-.94-2.06-.94 2.06-2.06.94zm-11 1L8.5 8.5l.94-2.06 2.06-.94-2.06-.94L8.5 2.5l-.94 2.06-2.06.94zm10 10l.94 2.06.94-2.06 2.06-.94-2.06-.94-.94-2.06-.94 2.06-2.06.94z\"/><path d=\"M17.41 7.96l-1.37-1.37c-.4-.4-.92-.59-1.43-.59-.52 0-1.04.2-1.43.59L10.3 9.45l-7.72 7.72c-.78.78-.78 2.05 0 2.83L4 21.41c.39.39.9.59 1.41.59.51 0 1.02-.2 1.41-.59l7.78-7.78 2.81-2.81c.8-.78.8-2.07 0-2.86zM5.41 20L4 18.59l7.72-7.72 1.47 1.35L5.41 20z\"/>\n",
              "  </svg>\n",
              "      </button>\n",
              "      \n",
              "  <style>\n",
              "    .colab-df-container {\n",
              "      display:flex;\n",
              "      flex-wrap:wrap;\n",
              "      gap: 12px;\n",
              "    }\n",
              "\n",
              "    .colab-df-convert {\n",
              "      background-color: #E8F0FE;\n",
              "      border: none;\n",
              "      border-radius: 50%;\n",
              "      cursor: pointer;\n",
              "      display: none;\n",
              "      fill: #1967D2;\n",
              "      height: 32px;\n",
              "      padding: 0 0 0 0;\n",
              "      width: 32px;\n",
              "    }\n",
              "\n",
              "    .colab-df-convert:hover {\n",
              "      background-color: #E2EBFA;\n",
              "      box-shadow: 0px 1px 2px rgba(60, 64, 67, 0.3), 0px 1px 3px 1px rgba(60, 64, 67, 0.15);\n",
              "      fill: #174EA6;\n",
              "    }\n",
              "\n",
              "    [theme=dark] .colab-df-convert {\n",
              "      background-color: #3B4455;\n",
              "      fill: #D2E3FC;\n",
              "    }\n",
              "\n",
              "    [theme=dark] .colab-df-convert:hover {\n",
              "      background-color: #434B5C;\n",
              "      box-shadow: 0px 1px 3px 1px rgba(0, 0, 0, 0.15);\n",
              "      filter: drop-shadow(0px 1px 2px rgba(0, 0, 0, 0.3));\n",
              "      fill: #FFFFFF;\n",
              "    }\n",
              "  </style>\n",
              "\n",
              "      <script>\n",
              "        const buttonEl =\n",
              "          document.querySelector('#df-c24664c3-7498-4758-a2b7-72fa5d6091b3 button.colab-df-convert');\n",
              "        buttonEl.style.display =\n",
              "          google.colab.kernel.accessAllowed ? 'block' : 'none';\n",
              "\n",
              "        async function convertToInteractive(key) {\n",
              "          const element = document.querySelector('#df-c24664c3-7498-4758-a2b7-72fa5d6091b3');\n",
              "          const dataTable =\n",
              "            await google.colab.kernel.invokeFunction('convertToInteractive',\n",
              "                                                     [key], {});\n",
              "          if (!dataTable) return;\n",
              "\n",
              "          const docLinkHtml = 'Like what you see? Visit the ' +\n",
              "            '<a target=\"_blank\" href=https://colab.research.google.com/notebooks/data_table.ipynb>data table notebook</a>'\n",
              "            + ' to learn more about interactive tables.';\n",
              "          element.innerHTML = '';\n",
              "          dataTable['output_type'] = 'display_data';\n",
              "          await google.colab.output.renderOutput(dataTable, element);\n",
              "          const docLink = document.createElement('div');\n",
              "          docLink.innerHTML = docLinkHtml;\n",
              "          element.appendChild(docLink);\n",
              "        }\n",
              "      </script>\n",
              "    </div>\n",
              "  </div>\n",
              "  "
            ],
            "text/plain": [
              "             name  MDVP:Fo(Hz)  MDVP:Fhi(Hz)  ...   spread2        D2       PPE\n",
              "0  phon_R01_S01_1      119.992       157.302  ...  0.266482  2.301442  0.284654\n",
              "1  phon_R01_S01_2      122.400       148.650  ...  0.335590  2.486855  0.368674\n",
              "2  phon_R01_S01_3      116.682       131.111  ...  0.311173  2.342259  0.332634\n",
              "3  phon_R01_S01_4      116.676       137.871  ...  0.334147  2.405554  0.368975\n",
              "4  phon_R01_S01_5      116.014       141.781  ...  0.234513  2.332180  0.410335\n",
              "\n",
              "[5 rows x 24 columns]"
            ]
          },
          "metadata": {},
          "execution_count": 3
        }
      ]
    },
    {
      "cell_type": "code",
      "metadata": {
        "colab": {
          "base_uri": "https://localhost:8080/"
        },
        "id": "aRP5zAl237gm",
        "outputId": "14a621a1-fb9a-4923-c6e8-f6dd0e6f973e"
      },
      "source": [
        "df.shape"
      ],
      "execution_count": 4,
      "outputs": [
        {
          "output_type": "execute_result",
          "data": {
            "text/plain": [
              "(195, 24)"
            ]
          },
          "metadata": {},
          "execution_count": 4
        }
      ]
    },
    {
      "cell_type": "code",
      "source": [
        "df.tail(18)"
      ],
      "metadata": {
        "colab": {
          "base_uri": "https://localhost:8080/",
          "height": 671
        },
        "id": "zb33beUxegBE",
        "outputId": "cc0935ea-73e3-41f5-f182-eb1372a428d4"
      },
      "execution_count": 5,
      "outputs": [
        {
          "output_type": "execute_result",
          "data": {
            "text/html": [
              "\n",
              "  <div id=\"df-caf8bbf0-224b-4465-903d-44782d8df4ff\">\n",
              "    <div class=\"colab-df-container\">\n",
              "      <div>\n",
              "<style scoped>\n",
              "    .dataframe tbody tr th:only-of-type {\n",
              "        vertical-align: middle;\n",
              "    }\n",
              "\n",
              "    .dataframe tbody tr th {\n",
              "        vertical-align: top;\n",
              "    }\n",
              "\n",
              "    .dataframe thead th {\n",
              "        text-align: right;\n",
              "    }\n",
              "</style>\n",
              "<table border=\"1\" class=\"dataframe\">\n",
              "  <thead>\n",
              "    <tr style=\"text-align: right;\">\n",
              "      <th></th>\n",
              "      <th>name</th>\n",
              "      <th>MDVP:Fo(Hz)</th>\n",
              "      <th>MDVP:Fhi(Hz)</th>\n",
              "      <th>MDVP:Flo(Hz)</th>\n",
              "      <th>MDVP:Jitter(%)</th>\n",
              "      <th>MDVP:Jitter(Abs)</th>\n",
              "      <th>MDVP:RAP</th>\n",
              "      <th>MDVP:PPQ</th>\n",
              "      <th>Jitter:DDP</th>\n",
              "      <th>MDVP:Shimmer</th>\n",
              "      <th>MDVP:Shimmer(dB)</th>\n",
              "      <th>Shimmer:APQ3</th>\n",
              "      <th>Shimmer:APQ5</th>\n",
              "      <th>MDVP:APQ</th>\n",
              "      <th>Shimmer:DDA</th>\n",
              "      <th>NHR</th>\n",
              "      <th>HNR</th>\n",
              "      <th>status</th>\n",
              "      <th>RPDE</th>\n",
              "      <th>DFA</th>\n",
              "      <th>spread1</th>\n",
              "      <th>spread2</th>\n",
              "      <th>D2</th>\n",
              "      <th>PPE</th>\n",
              "    </tr>\n",
              "  </thead>\n",
              "  <tbody>\n",
              "    <tr>\n",
              "      <th>177</th>\n",
              "      <td>phon_R01_S44_1</td>\n",
              "      <td>151.737</td>\n",
              "      <td>190.204</td>\n",
              "      <td>129.859</td>\n",
              "      <td>0.00314</td>\n",
              "      <td>0.00002</td>\n",
              "      <td>0.00135</td>\n",
              "      <td>0.00162</td>\n",
              "      <td>0.00406</td>\n",
              "      <td>0.01469</td>\n",
              "      <td>0.132</td>\n",
              "      <td>0.00728</td>\n",
              "      <td>0.00886</td>\n",
              "      <td>0.01230</td>\n",
              "      <td>0.02184</td>\n",
              "      <td>0.00570</td>\n",
              "      <td>24.151</td>\n",
              "      <td>1</td>\n",
              "      <td>0.396610</td>\n",
              "      <td>0.745957</td>\n",
              "      <td>-6.486822</td>\n",
              "      <td>0.197919</td>\n",
              "      <td>2.449763</td>\n",
              "      <td>0.132703</td>\n",
              "    </tr>\n",
              "    <tr>\n",
              "      <th>178</th>\n",
              "      <td>phon_R01_S44_2</td>\n",
              "      <td>148.790</td>\n",
              "      <td>158.359</td>\n",
              "      <td>138.990</td>\n",
              "      <td>0.00309</td>\n",
              "      <td>0.00002</td>\n",
              "      <td>0.00152</td>\n",
              "      <td>0.00186</td>\n",
              "      <td>0.00456</td>\n",
              "      <td>0.01574</td>\n",
              "      <td>0.142</td>\n",
              "      <td>0.00839</td>\n",
              "      <td>0.00956</td>\n",
              "      <td>0.01309</td>\n",
              "      <td>0.02518</td>\n",
              "      <td>0.00488</td>\n",
              "      <td>24.412</td>\n",
              "      <td>1</td>\n",
              "      <td>0.402591</td>\n",
              "      <td>0.762508</td>\n",
              "      <td>-6.311987</td>\n",
              "      <td>0.182459</td>\n",
              "      <td>2.251553</td>\n",
              "      <td>0.160306</td>\n",
              "    </tr>\n",
              "    <tr>\n",
              "      <th>179</th>\n",
              "      <td>phon_R01_S44_3</td>\n",
              "      <td>148.143</td>\n",
              "      <td>155.982</td>\n",
              "      <td>135.041</td>\n",
              "      <td>0.00392</td>\n",
              "      <td>0.00003</td>\n",
              "      <td>0.00204</td>\n",
              "      <td>0.00231</td>\n",
              "      <td>0.00612</td>\n",
              "      <td>0.01450</td>\n",
              "      <td>0.131</td>\n",
              "      <td>0.00725</td>\n",
              "      <td>0.00876</td>\n",
              "      <td>0.01263</td>\n",
              "      <td>0.02175</td>\n",
              "      <td>0.00540</td>\n",
              "      <td>23.683</td>\n",
              "      <td>1</td>\n",
              "      <td>0.398499</td>\n",
              "      <td>0.778349</td>\n",
              "      <td>-5.711205</td>\n",
              "      <td>0.240875</td>\n",
              "      <td>2.845109</td>\n",
              "      <td>0.192730</td>\n",
              "    </tr>\n",
              "    <tr>\n",
              "      <th>180</th>\n",
              "      <td>phon_R01_S44_4</td>\n",
              "      <td>150.440</td>\n",
              "      <td>163.441</td>\n",
              "      <td>144.736</td>\n",
              "      <td>0.00396</td>\n",
              "      <td>0.00003</td>\n",
              "      <td>0.00206</td>\n",
              "      <td>0.00233</td>\n",
              "      <td>0.00619</td>\n",
              "      <td>0.02551</td>\n",
              "      <td>0.237</td>\n",
              "      <td>0.01321</td>\n",
              "      <td>0.01574</td>\n",
              "      <td>0.02148</td>\n",
              "      <td>0.03964</td>\n",
              "      <td>0.00611</td>\n",
              "      <td>23.133</td>\n",
              "      <td>1</td>\n",
              "      <td>0.352396</td>\n",
              "      <td>0.759320</td>\n",
              "      <td>-6.261446</td>\n",
              "      <td>0.183218</td>\n",
              "      <td>2.264226</td>\n",
              "      <td>0.144105</td>\n",
              "    </tr>\n",
              "    <tr>\n",
              "      <th>181</th>\n",
              "      <td>phon_R01_S44_5</td>\n",
              "      <td>148.462</td>\n",
              "      <td>161.078</td>\n",
              "      <td>141.998</td>\n",
              "      <td>0.00397</td>\n",
              "      <td>0.00003</td>\n",
              "      <td>0.00202</td>\n",
              "      <td>0.00235</td>\n",
              "      <td>0.00605</td>\n",
              "      <td>0.01831</td>\n",
              "      <td>0.163</td>\n",
              "      <td>0.00950</td>\n",
              "      <td>0.01103</td>\n",
              "      <td>0.01559</td>\n",
              "      <td>0.02849</td>\n",
              "      <td>0.00639</td>\n",
              "      <td>22.866</td>\n",
              "      <td>1</td>\n",
              "      <td>0.408598</td>\n",
              "      <td>0.768845</td>\n",
              "      <td>-5.704053</td>\n",
              "      <td>0.216204</td>\n",
              "      <td>2.679185</td>\n",
              "      <td>0.197710</td>\n",
              "    </tr>\n",
              "    <tr>\n",
              "      <th>182</th>\n",
              "      <td>phon_R01_S44_6</td>\n",
              "      <td>149.818</td>\n",
              "      <td>163.417</td>\n",
              "      <td>144.786</td>\n",
              "      <td>0.00336</td>\n",
              "      <td>0.00002</td>\n",
              "      <td>0.00174</td>\n",
              "      <td>0.00198</td>\n",
              "      <td>0.00521</td>\n",
              "      <td>0.02145</td>\n",
              "      <td>0.198</td>\n",
              "      <td>0.01155</td>\n",
              "      <td>0.01341</td>\n",
              "      <td>0.01666</td>\n",
              "      <td>0.03464</td>\n",
              "      <td>0.00595</td>\n",
              "      <td>23.008</td>\n",
              "      <td>1</td>\n",
              "      <td>0.329577</td>\n",
              "      <td>0.757180</td>\n",
              "      <td>-6.277170</td>\n",
              "      <td>0.109397</td>\n",
              "      <td>2.209021</td>\n",
              "      <td>0.156368</td>\n",
              "    </tr>\n",
              "    <tr>\n",
              "      <th>183</th>\n",
              "      <td>phon_R01_S49_1</td>\n",
              "      <td>117.226</td>\n",
              "      <td>123.925</td>\n",
              "      <td>106.656</td>\n",
              "      <td>0.00417</td>\n",
              "      <td>0.00004</td>\n",
              "      <td>0.00186</td>\n",
              "      <td>0.00270</td>\n",
              "      <td>0.00558</td>\n",
              "      <td>0.01909</td>\n",
              "      <td>0.171</td>\n",
              "      <td>0.00864</td>\n",
              "      <td>0.01223</td>\n",
              "      <td>0.01949</td>\n",
              "      <td>0.02592</td>\n",
              "      <td>0.00955</td>\n",
              "      <td>23.079</td>\n",
              "      <td>0</td>\n",
              "      <td>0.603515</td>\n",
              "      <td>0.669565</td>\n",
              "      <td>-5.619070</td>\n",
              "      <td>0.191576</td>\n",
              "      <td>2.027228</td>\n",
              "      <td>0.215724</td>\n",
              "    </tr>\n",
              "    <tr>\n",
              "      <th>184</th>\n",
              "      <td>phon_R01_S49_2</td>\n",
              "      <td>116.848</td>\n",
              "      <td>217.552</td>\n",
              "      <td>99.503</td>\n",
              "      <td>0.00531</td>\n",
              "      <td>0.00005</td>\n",
              "      <td>0.00260</td>\n",
              "      <td>0.00346</td>\n",
              "      <td>0.00780</td>\n",
              "      <td>0.01795</td>\n",
              "      <td>0.163</td>\n",
              "      <td>0.00810</td>\n",
              "      <td>0.01144</td>\n",
              "      <td>0.01756</td>\n",
              "      <td>0.02429</td>\n",
              "      <td>0.01179</td>\n",
              "      <td>22.085</td>\n",
              "      <td>0</td>\n",
              "      <td>0.663842</td>\n",
              "      <td>0.656516</td>\n",
              "      <td>-5.198864</td>\n",
              "      <td>0.206768</td>\n",
              "      <td>2.120412</td>\n",
              "      <td>0.252404</td>\n",
              "    </tr>\n",
              "    <tr>\n",
              "      <th>185</th>\n",
              "      <td>phon_R01_S49_3</td>\n",
              "      <td>116.286</td>\n",
              "      <td>177.291</td>\n",
              "      <td>96.983</td>\n",
              "      <td>0.00314</td>\n",
              "      <td>0.00003</td>\n",
              "      <td>0.00134</td>\n",
              "      <td>0.00192</td>\n",
              "      <td>0.00403</td>\n",
              "      <td>0.01564</td>\n",
              "      <td>0.136</td>\n",
              "      <td>0.00667</td>\n",
              "      <td>0.00990</td>\n",
              "      <td>0.01691</td>\n",
              "      <td>0.02001</td>\n",
              "      <td>0.00737</td>\n",
              "      <td>24.199</td>\n",
              "      <td>0</td>\n",
              "      <td>0.598515</td>\n",
              "      <td>0.654331</td>\n",
              "      <td>-5.592584</td>\n",
              "      <td>0.133917</td>\n",
              "      <td>2.058658</td>\n",
              "      <td>0.214346</td>\n",
              "    </tr>\n",
              "    <tr>\n",
              "      <th>186</th>\n",
              "      <td>phon_R01_S49_4</td>\n",
              "      <td>116.556</td>\n",
              "      <td>592.030</td>\n",
              "      <td>86.228</td>\n",
              "      <td>0.00496</td>\n",
              "      <td>0.00004</td>\n",
              "      <td>0.00254</td>\n",
              "      <td>0.00263</td>\n",
              "      <td>0.00762</td>\n",
              "      <td>0.01660</td>\n",
              "      <td>0.154</td>\n",
              "      <td>0.00820</td>\n",
              "      <td>0.00972</td>\n",
              "      <td>0.01491</td>\n",
              "      <td>0.02460</td>\n",
              "      <td>0.01397</td>\n",
              "      <td>23.958</td>\n",
              "      <td>0</td>\n",
              "      <td>0.566424</td>\n",
              "      <td>0.667654</td>\n",
              "      <td>-6.431119</td>\n",
              "      <td>0.153310</td>\n",
              "      <td>2.161936</td>\n",
              "      <td>0.120605</td>\n",
              "    </tr>\n",
              "    <tr>\n",
              "      <th>187</th>\n",
              "      <td>phon_R01_S49_5</td>\n",
              "      <td>116.342</td>\n",
              "      <td>581.289</td>\n",
              "      <td>94.246</td>\n",
              "      <td>0.00267</td>\n",
              "      <td>0.00002</td>\n",
              "      <td>0.00115</td>\n",
              "      <td>0.00148</td>\n",
              "      <td>0.00345</td>\n",
              "      <td>0.01300</td>\n",
              "      <td>0.117</td>\n",
              "      <td>0.00631</td>\n",
              "      <td>0.00789</td>\n",
              "      <td>0.01144</td>\n",
              "      <td>0.01892</td>\n",
              "      <td>0.00680</td>\n",
              "      <td>25.023</td>\n",
              "      <td>0</td>\n",
              "      <td>0.528485</td>\n",
              "      <td>0.663884</td>\n",
              "      <td>-6.359018</td>\n",
              "      <td>0.116636</td>\n",
              "      <td>2.152083</td>\n",
              "      <td>0.138868</td>\n",
              "    </tr>\n",
              "    <tr>\n",
              "      <th>188</th>\n",
              "      <td>phon_R01_S49_6</td>\n",
              "      <td>114.563</td>\n",
              "      <td>119.167</td>\n",
              "      <td>86.647</td>\n",
              "      <td>0.00327</td>\n",
              "      <td>0.00003</td>\n",
              "      <td>0.00146</td>\n",
              "      <td>0.00184</td>\n",
              "      <td>0.00439</td>\n",
              "      <td>0.01185</td>\n",
              "      <td>0.106</td>\n",
              "      <td>0.00557</td>\n",
              "      <td>0.00721</td>\n",
              "      <td>0.01095</td>\n",
              "      <td>0.01672</td>\n",
              "      <td>0.00703</td>\n",
              "      <td>24.775</td>\n",
              "      <td>0</td>\n",
              "      <td>0.555303</td>\n",
              "      <td>0.659132</td>\n",
              "      <td>-6.710219</td>\n",
              "      <td>0.149694</td>\n",
              "      <td>1.913990</td>\n",
              "      <td>0.121777</td>\n",
              "    </tr>\n",
              "    <tr>\n",
              "      <th>189</th>\n",
              "      <td>phon_R01_S50_1</td>\n",
              "      <td>201.774</td>\n",
              "      <td>262.707</td>\n",
              "      <td>78.228</td>\n",
              "      <td>0.00694</td>\n",
              "      <td>0.00003</td>\n",
              "      <td>0.00412</td>\n",
              "      <td>0.00396</td>\n",
              "      <td>0.01235</td>\n",
              "      <td>0.02574</td>\n",
              "      <td>0.255</td>\n",
              "      <td>0.01454</td>\n",
              "      <td>0.01582</td>\n",
              "      <td>0.01758</td>\n",
              "      <td>0.04363</td>\n",
              "      <td>0.04441</td>\n",
              "      <td>19.368</td>\n",
              "      <td>0</td>\n",
              "      <td>0.508479</td>\n",
              "      <td>0.683761</td>\n",
              "      <td>-6.934474</td>\n",
              "      <td>0.159890</td>\n",
              "      <td>2.316346</td>\n",
              "      <td>0.112838</td>\n",
              "    </tr>\n",
              "    <tr>\n",
              "      <th>190</th>\n",
              "      <td>phon_R01_S50_2</td>\n",
              "      <td>174.188</td>\n",
              "      <td>230.978</td>\n",
              "      <td>94.261</td>\n",
              "      <td>0.00459</td>\n",
              "      <td>0.00003</td>\n",
              "      <td>0.00263</td>\n",
              "      <td>0.00259</td>\n",
              "      <td>0.00790</td>\n",
              "      <td>0.04087</td>\n",
              "      <td>0.405</td>\n",
              "      <td>0.02336</td>\n",
              "      <td>0.02498</td>\n",
              "      <td>0.02745</td>\n",
              "      <td>0.07008</td>\n",
              "      <td>0.02764</td>\n",
              "      <td>19.517</td>\n",
              "      <td>0</td>\n",
              "      <td>0.448439</td>\n",
              "      <td>0.657899</td>\n",
              "      <td>-6.538586</td>\n",
              "      <td>0.121952</td>\n",
              "      <td>2.657476</td>\n",
              "      <td>0.133050</td>\n",
              "    </tr>\n",
              "    <tr>\n",
              "      <th>191</th>\n",
              "      <td>phon_R01_S50_3</td>\n",
              "      <td>209.516</td>\n",
              "      <td>253.017</td>\n",
              "      <td>89.488</td>\n",
              "      <td>0.00564</td>\n",
              "      <td>0.00003</td>\n",
              "      <td>0.00331</td>\n",
              "      <td>0.00292</td>\n",
              "      <td>0.00994</td>\n",
              "      <td>0.02751</td>\n",
              "      <td>0.263</td>\n",
              "      <td>0.01604</td>\n",
              "      <td>0.01657</td>\n",
              "      <td>0.01879</td>\n",
              "      <td>0.04812</td>\n",
              "      <td>0.01810</td>\n",
              "      <td>19.147</td>\n",
              "      <td>0</td>\n",
              "      <td>0.431674</td>\n",
              "      <td>0.683244</td>\n",
              "      <td>-6.195325</td>\n",
              "      <td>0.129303</td>\n",
              "      <td>2.784312</td>\n",
              "      <td>0.168895</td>\n",
              "    </tr>\n",
              "    <tr>\n",
              "      <th>192</th>\n",
              "      <td>phon_R01_S50_4</td>\n",
              "      <td>174.688</td>\n",
              "      <td>240.005</td>\n",
              "      <td>74.287</td>\n",
              "      <td>0.01360</td>\n",
              "      <td>0.00008</td>\n",
              "      <td>0.00624</td>\n",
              "      <td>0.00564</td>\n",
              "      <td>0.01873</td>\n",
              "      <td>0.02308</td>\n",
              "      <td>0.256</td>\n",
              "      <td>0.01268</td>\n",
              "      <td>0.01365</td>\n",
              "      <td>0.01667</td>\n",
              "      <td>0.03804</td>\n",
              "      <td>0.10715</td>\n",
              "      <td>17.883</td>\n",
              "      <td>0</td>\n",
              "      <td>0.407567</td>\n",
              "      <td>0.655683</td>\n",
              "      <td>-6.787197</td>\n",
              "      <td>0.158453</td>\n",
              "      <td>2.679772</td>\n",
              "      <td>0.131728</td>\n",
              "    </tr>\n",
              "    <tr>\n",
              "      <th>193</th>\n",
              "      <td>phon_R01_S50_5</td>\n",
              "      <td>198.764</td>\n",
              "      <td>396.961</td>\n",
              "      <td>74.904</td>\n",
              "      <td>0.00740</td>\n",
              "      <td>0.00004</td>\n",
              "      <td>0.00370</td>\n",
              "      <td>0.00390</td>\n",
              "      <td>0.01109</td>\n",
              "      <td>0.02296</td>\n",
              "      <td>0.241</td>\n",
              "      <td>0.01265</td>\n",
              "      <td>0.01321</td>\n",
              "      <td>0.01588</td>\n",
              "      <td>0.03794</td>\n",
              "      <td>0.07223</td>\n",
              "      <td>19.020</td>\n",
              "      <td>0</td>\n",
              "      <td>0.451221</td>\n",
              "      <td>0.643956</td>\n",
              "      <td>-6.744577</td>\n",
              "      <td>0.207454</td>\n",
              "      <td>2.138608</td>\n",
              "      <td>0.123306</td>\n",
              "    </tr>\n",
              "    <tr>\n",
              "      <th>194</th>\n",
              "      <td>phon_R01_S50_6</td>\n",
              "      <td>214.289</td>\n",
              "      <td>260.277</td>\n",
              "      <td>77.973</td>\n",
              "      <td>0.00567</td>\n",
              "      <td>0.00003</td>\n",
              "      <td>0.00295</td>\n",
              "      <td>0.00317</td>\n",
              "      <td>0.00885</td>\n",
              "      <td>0.01884</td>\n",
              "      <td>0.190</td>\n",
              "      <td>0.01026</td>\n",
              "      <td>0.01161</td>\n",
              "      <td>0.01373</td>\n",
              "      <td>0.03078</td>\n",
              "      <td>0.04398</td>\n",
              "      <td>21.209</td>\n",
              "      <td>0</td>\n",
              "      <td>0.462803</td>\n",
              "      <td>0.664357</td>\n",
              "      <td>-5.724056</td>\n",
              "      <td>0.190667</td>\n",
              "      <td>2.555477</td>\n",
              "      <td>0.148569</td>\n",
              "    </tr>\n",
              "  </tbody>\n",
              "</table>\n",
              "</div>\n",
              "      <button class=\"colab-df-convert\" onclick=\"convertToInteractive('df-caf8bbf0-224b-4465-903d-44782d8df4ff')\"\n",
              "              title=\"Convert this dataframe to an interactive table.\"\n",
              "              style=\"display:none;\">\n",
              "        \n",
              "  <svg xmlns=\"http://www.w3.org/2000/svg\" height=\"24px\"viewBox=\"0 0 24 24\"\n",
              "       width=\"24px\">\n",
              "    <path d=\"M0 0h24v24H0V0z\" fill=\"none\"/>\n",
              "    <path d=\"M18.56 5.44l.94 2.06.94-2.06 2.06-.94-2.06-.94-.94-2.06-.94 2.06-2.06.94zm-11 1L8.5 8.5l.94-2.06 2.06-.94-2.06-.94L8.5 2.5l-.94 2.06-2.06.94zm10 10l.94 2.06.94-2.06 2.06-.94-2.06-.94-.94-2.06-.94 2.06-2.06.94z\"/><path d=\"M17.41 7.96l-1.37-1.37c-.4-.4-.92-.59-1.43-.59-.52 0-1.04.2-1.43.59L10.3 9.45l-7.72 7.72c-.78.78-.78 2.05 0 2.83L4 21.41c.39.39.9.59 1.41.59.51 0 1.02-.2 1.41-.59l7.78-7.78 2.81-2.81c.8-.78.8-2.07 0-2.86zM5.41 20L4 18.59l7.72-7.72 1.47 1.35L5.41 20z\"/>\n",
              "  </svg>\n",
              "      </button>\n",
              "      \n",
              "  <style>\n",
              "    .colab-df-container {\n",
              "      display:flex;\n",
              "      flex-wrap:wrap;\n",
              "      gap: 12px;\n",
              "    }\n",
              "\n",
              "    .colab-df-convert {\n",
              "      background-color: #E8F0FE;\n",
              "      border: none;\n",
              "      border-radius: 50%;\n",
              "      cursor: pointer;\n",
              "      display: none;\n",
              "      fill: #1967D2;\n",
              "      height: 32px;\n",
              "      padding: 0 0 0 0;\n",
              "      width: 32px;\n",
              "    }\n",
              "\n",
              "    .colab-df-convert:hover {\n",
              "      background-color: #E2EBFA;\n",
              "      box-shadow: 0px 1px 2px rgba(60, 64, 67, 0.3), 0px 1px 3px 1px rgba(60, 64, 67, 0.15);\n",
              "      fill: #174EA6;\n",
              "    }\n",
              "\n",
              "    [theme=dark] .colab-df-convert {\n",
              "      background-color: #3B4455;\n",
              "      fill: #D2E3FC;\n",
              "    }\n",
              "\n",
              "    [theme=dark] .colab-df-convert:hover {\n",
              "      background-color: #434B5C;\n",
              "      box-shadow: 0px 1px 3px 1px rgba(0, 0, 0, 0.15);\n",
              "      filter: drop-shadow(0px 1px 2px rgba(0, 0, 0, 0.3));\n",
              "      fill: #FFFFFF;\n",
              "    }\n",
              "  </style>\n",
              "\n",
              "      <script>\n",
              "        const buttonEl =\n",
              "          document.querySelector('#df-caf8bbf0-224b-4465-903d-44782d8df4ff button.colab-df-convert');\n",
              "        buttonEl.style.display =\n",
              "          google.colab.kernel.accessAllowed ? 'block' : 'none';\n",
              "\n",
              "        async function convertToInteractive(key) {\n",
              "          const element = document.querySelector('#df-caf8bbf0-224b-4465-903d-44782d8df4ff');\n",
              "          const dataTable =\n",
              "            await google.colab.kernel.invokeFunction('convertToInteractive',\n",
              "                                                     [key], {});\n",
              "          if (!dataTable) return;\n",
              "\n",
              "          const docLinkHtml = 'Like what you see? Visit the ' +\n",
              "            '<a target=\"_blank\" href=https://colab.research.google.com/notebooks/data_table.ipynb>data table notebook</a>'\n",
              "            + ' to learn more about interactive tables.';\n",
              "          element.innerHTML = '';\n",
              "          dataTable['output_type'] = 'display_data';\n",
              "          await google.colab.output.renderOutput(dataTable, element);\n",
              "          const docLink = document.createElement('div');\n",
              "          docLink.innerHTML = docLinkHtml;\n",
              "          element.appendChild(docLink);\n",
              "        }\n",
              "      </script>\n",
              "    </div>\n",
              "  </div>\n",
              "  "
            ],
            "text/plain": [
              "               name  MDVP:Fo(Hz)  MDVP:Fhi(Hz)  ...   spread2        D2       PPE\n",
              "177  phon_R01_S44_1      151.737       190.204  ...  0.197919  2.449763  0.132703\n",
              "178  phon_R01_S44_2      148.790       158.359  ...  0.182459  2.251553  0.160306\n",
              "179  phon_R01_S44_3      148.143       155.982  ...  0.240875  2.845109  0.192730\n",
              "180  phon_R01_S44_4      150.440       163.441  ...  0.183218  2.264226  0.144105\n",
              "181  phon_R01_S44_5      148.462       161.078  ...  0.216204  2.679185  0.197710\n",
              "182  phon_R01_S44_6      149.818       163.417  ...  0.109397  2.209021  0.156368\n",
              "183  phon_R01_S49_1      117.226       123.925  ...  0.191576  2.027228  0.215724\n",
              "184  phon_R01_S49_2      116.848       217.552  ...  0.206768  2.120412  0.252404\n",
              "185  phon_R01_S49_3      116.286       177.291  ...  0.133917  2.058658  0.214346\n",
              "186  phon_R01_S49_4      116.556       592.030  ...  0.153310  2.161936  0.120605\n",
              "187  phon_R01_S49_5      116.342       581.289  ...  0.116636  2.152083  0.138868\n",
              "188  phon_R01_S49_6      114.563       119.167  ...  0.149694  1.913990  0.121777\n",
              "189  phon_R01_S50_1      201.774       262.707  ...  0.159890  2.316346  0.112838\n",
              "190  phon_R01_S50_2      174.188       230.978  ...  0.121952  2.657476  0.133050\n",
              "191  phon_R01_S50_3      209.516       253.017  ...  0.129303  2.784312  0.168895\n",
              "192  phon_R01_S50_4      174.688       240.005  ...  0.158453  2.679772  0.131728\n",
              "193  phon_R01_S50_5      198.764       396.961  ...  0.207454  2.138608  0.123306\n",
              "194  phon_R01_S50_6      214.289       260.277  ...  0.190667  2.555477  0.148569\n",
              "\n",
              "[18 rows x 24 columns]"
            ]
          },
          "metadata": {},
          "execution_count": 5
        }
      ]
    },
    {
      "cell_type": "code",
      "source": [
        "df.info()"
      ],
      "metadata": {
        "colab": {
          "base_uri": "https://localhost:8080/"
        },
        "id": "J_WYaodkp5Pl",
        "outputId": "8199808a-1d33-4c91-9741-5a8099d86367"
      },
      "execution_count": 6,
      "outputs": [
        {
          "output_type": "stream",
          "name": "stdout",
          "text": [
            "<class 'pandas.core.frame.DataFrame'>\n",
            "RangeIndex: 195 entries, 0 to 194\n",
            "Data columns (total 24 columns):\n",
            " #   Column            Non-Null Count  Dtype  \n",
            "---  ------            --------------  -----  \n",
            " 0   name              195 non-null    object \n",
            " 1   MDVP:Fo(Hz)       195 non-null    float64\n",
            " 2   MDVP:Fhi(Hz)      195 non-null    float64\n",
            " 3   MDVP:Flo(Hz)      195 non-null    float64\n",
            " 4   MDVP:Jitter(%)    195 non-null    float64\n",
            " 5   MDVP:Jitter(Abs)  195 non-null    float64\n",
            " 6   MDVP:RAP          195 non-null    float64\n",
            " 7   MDVP:PPQ          195 non-null    float64\n",
            " 8   Jitter:DDP        195 non-null    float64\n",
            " 9   MDVP:Shimmer      195 non-null    float64\n",
            " 10  MDVP:Shimmer(dB)  195 non-null    float64\n",
            " 11  Shimmer:APQ3      195 non-null    float64\n",
            " 12  Shimmer:APQ5      195 non-null    float64\n",
            " 13  MDVP:APQ          195 non-null    float64\n",
            " 14  Shimmer:DDA       195 non-null    float64\n",
            " 15  NHR               195 non-null    float64\n",
            " 16  HNR               195 non-null    float64\n",
            " 17  status            195 non-null    int64  \n",
            " 18  RPDE              195 non-null    float64\n",
            " 19  DFA               195 non-null    float64\n",
            " 20  spread1           195 non-null    float64\n",
            " 21  spread2           195 non-null    float64\n",
            " 22  D2                195 non-null    float64\n",
            " 23  PPE               195 non-null    float64\n",
            "dtypes: float64(22), int64(1), object(1)\n",
            "memory usage: 36.7+ KB\n"
          ]
        }
      ]
    },
    {
      "cell_type": "markdown",
      "source": [
        "# Model Validation\n"
      ],
      "metadata": {
        "id": "rSFE8_vC34Jc"
      }
    },
    {
      "cell_type": "code",
      "source": [
        "y = df['status']\n",
        "X = df.drop(columns = ['status', 'name', 'MDVP:Fo(Hz)', 'MDVP:Fhi(Hz)','MDVP:Flo(Hz)', 'MDVP:RAP', 'MDVP:PPQ', 'MDVP:APQ', 'spread1', 'spread2','D2' ])\n",
        "\n",
        "X_train, X_test, y_train, y_test = train_test_split(X, y, random_state=42, stratify=y)"
      ],
      "metadata": {
        "id": "IJk7tvkr32c-"
      },
      "execution_count": 7,
      "outputs": []
    },
    {
      "cell_type": "markdown",
      "source": [
        "# Default Classifier Model"
      ],
      "metadata": {
        "id": "pioolmZXAr1-"
      }
    },
    {
      "cell_type": "code",
      "source": [
        "df['status'].value_counts(normalize = 'True')"
      ],
      "metadata": {
        "colab": {
          "base_uri": "https://localhost:8080/"
        },
        "id": "9gkjJrUTA2U4",
        "outputId": "94fd8409-ed0f-49c9-e2ff-af04524156b8"
      },
      "execution_count": 8,
      "outputs": [
        {
          "output_type": "execute_result",
          "data": {
            "text/plain": [
              "1    0.753846\n",
              "0    0.246154\n",
              "Name: status, dtype: float64"
            ]
          },
          "metadata": {},
          "execution_count": 8
        }
      ]
    },
    {
      "cell_type": "code",
      "source": [
        "all_ones = np.ones(len(y_test))\n",
        "all_ones"
      ],
      "metadata": {
        "colab": {
          "base_uri": "https://localhost:8080/"
        },
        "id": "m_OtCf9mBBXS",
        "outputId": "e53c5ca1-8a4c-468b-f0c2-481050295138"
      },
      "execution_count": 12,
      "outputs": [
        {
          "output_type": "execute_result",
          "data": {
            "text/plain": [
              "array([1., 1., 1., 1., 1., 1., 1., 1., 1., 1., 1., 1., 1., 1., 1., 1., 1.,\n",
              "       1., 1., 1., 1., 1., 1., 1., 1., 1., 1., 1., 1., 1., 1., 1., 1., 1.,\n",
              "       1., 1., 1., 1., 1., 1., 1., 1., 1., 1., 1., 1., 1., 1., 1.])"
            ]
          },
          "metadata": {},
          "execution_count": 12
        }
      ]
    },
    {
      "cell_type": "code",
      "source": [
        "class_report_default = classification_report(y_test, all_ones);\n",
        "print(class_report_default)"
      ],
      "metadata": {
        "colab": {
          "base_uri": "https://localhost:8080/"
        },
        "id": "jRBE4ytCBjTC",
        "outputId": "2e8e4efb-a0ef-4e04-a2dc-e4f59d450835"
      },
      "execution_count": 13,
      "outputs": [
        {
          "output_type": "stream",
          "name": "stdout",
          "text": [
            "              precision    recall  f1-score   support\n",
            "\n",
            "           0       0.00      0.00      0.00        12\n",
            "           1       0.76      1.00      0.86        37\n",
            "\n",
            "    accuracy                           0.76        49\n",
            "   macro avg       0.38      0.50      0.43        49\n",
            "weighted avg       0.57      0.76      0.65        49\n",
            "\n"
          ]
        },
        {
          "output_type": "stream",
          "name": "stderr",
          "text": [
            "/usr/local/lib/python3.7/dist-packages/sklearn/metrics/_classification.py:1318: UndefinedMetricWarning: Precision and F-score are ill-defined and being set to 0.0 in labels with no predicted samples. Use `zero_division` parameter to control this behavior.\n",
            "  _warn_prf(average, modifier, msg_start, len(result))\n",
            "/usr/local/lib/python3.7/dist-packages/sklearn/metrics/_classification.py:1318: UndefinedMetricWarning: Precision and F-score are ill-defined and being set to 0.0 in labels with no predicted samples. Use `zero_division` parameter to control this behavior.\n",
            "  _warn_prf(average, modifier, msg_start, len(result))\n",
            "/usr/local/lib/python3.7/dist-packages/sklearn/metrics/_classification.py:1318: UndefinedMetricWarning: Precision and F-score are ill-defined and being set to 0.0 in labels with no predicted samples. Use `zero_division` parameter to control this behavior.\n",
            "  _warn_prf(average, modifier, msg_start, len(result))\n"
          ]
        }
      ]
    },
    {
      "cell_type": "markdown",
      "source": [
        "# KNN ** Basic Model** on Averaged Data"
      ],
      "metadata": {
        "id": "YqHAiV5Y_dYz"
      }
    },
    {
      "cell_type": "code",
      "source": [
        "scaler = StandardScaler ()\n",
        "scaled_df = scaler.fit_transform(X_train)"
      ],
      "metadata": {
        "id": "PxXdh708F1Be"
      },
      "execution_count": 14,
      "outputs": []
    },
    {
      "cell_type": "code",
      "source": [
        "scaler = StandardScaler()\n",
        "knn = KNeighborsClassifier()\n",
        "\n",
        "numeric_selector = make_column_selector(dtype_include = 'number')\n",
        "scaler_tuple = (scaler, numeric_selector)\n",
        "col_transformer = make_column_transformer(scaler_tuple, remainder = 'passthrough')\n",
        "pipe = make_pipeline(col_transformer, knn)"
      ],
      "metadata": {
        "id": "h8mNKx9eMZFT"
      },
      "execution_count": 15,
      "outputs": []
    },
    {
      "cell_type": "code",
      "source": [
        "pipe.fit(X_train, y_train)"
      ],
      "metadata": {
        "colab": {
          "base_uri": "https://localhost:8080/"
        },
        "id": "uzsH7f-BIgzc",
        "outputId": "77fec5f6-5bec-474f-8a9f-5aad43e2eb73"
      },
      "execution_count": 16,
      "outputs": [
        {
          "output_type": "execute_result",
          "data": {
            "text/plain": [
              "Pipeline(steps=[('columntransformer',\n",
              "                 ColumnTransformer(remainder='passthrough',\n",
              "                                   transformers=[('standardscaler',\n",
              "                                                  StandardScaler(),\n",
              "                                                  <sklearn.compose._column_transformer.make_column_selector object at 0x7f112c066650>)])),\n",
              "                ('kneighborsclassifier', KNeighborsClassifier())])"
            ]
          },
          "metadata": {},
          "execution_count": 16
        }
      ]
    },
    {
      "cell_type": "code",
      "source": [
        "y_pred = pipe.predict(X_test)\n",
        "y_pred_knn_train = pipe.predict(X_train)"
      ],
      "metadata": {
        "id": "aI3Swx6wKH7B"
      },
      "execution_count": 17,
      "outputs": []
    },
    {
      "cell_type": "code",
      "source": [
        "knn_train_accuracy = accuracy_score(y_train, y_pred_knn_train)\n",
        "print(f'KNN Train Accuracy: {knn_train_accuracy}')"
      ],
      "metadata": {
        "colab": {
          "base_uri": "https://localhost:8080/"
        },
        "id": "gWfsu9rbXPRk",
        "outputId": "dcefee5a-41a0-4eda-b782-f6b72d5dcf05"
      },
      "execution_count": 18,
      "outputs": [
        {
          "output_type": "stream",
          "name": "stdout",
          "text": [
            "KNN Train Accuracy: 0.8835616438356164\n"
          ]
        }
      ]
    },
    {
      "cell_type": "code",
      "source": [
        "knn_test_accuracy = accuracy_score(y_test, y_pred)\n",
        "print(f'KNN Test Accuracy: {knn_test_accuracy}')"
      ],
      "metadata": {
        "colab": {
          "base_uri": "https://localhost:8080/"
        },
        "id": "4_naPwpXXgj3",
        "outputId": "7d6db25e-c144-4a91-dc11-78ee23f1157c"
      },
      "execution_count": 19,
      "outputs": [
        {
          "output_type": "stream",
          "name": "stdout",
          "text": [
            "KNN Test Accuracy: 0.8367346938775511\n"
          ]
        }
      ]
    },
    {
      "cell_type": "code",
      "source": [
        "class_report_knn_basic = classification_report(y_pred, y_test)\n",
        "print(class_report_knn_basic)"
      ],
      "metadata": {
        "colab": {
          "base_uri": "https://localhost:8080/"
        },
        "id": "aD_ndU57KVMA",
        "outputId": "9381582a-61ad-424f-81a2-97f82424b5ca"
      },
      "execution_count": 20,
      "outputs": [
        {
          "output_type": "stream",
          "name": "stdout",
          "text": [
            "              precision    recall  f1-score   support\n",
            "\n",
            "           0       0.75      0.64      0.69        14\n",
            "           1       0.86      0.91      0.89        35\n",
            "\n",
            "    accuracy                           0.84        49\n",
            "   macro avg       0.81      0.78      0.79        49\n",
            "weighted avg       0.83      0.84      0.83        49\n",
            "\n"
          ]
        }
      ]
    },
    {
      "cell_type": "code",
      "source": [
        "plot_confusion_matrix(pipe, X_test, y_test, cmap = 'Blues');"
      ],
      "metadata": {
        "colab": {
          "base_uri": "https://localhost:8080/",
          "height": 333
        },
        "id": "JDDI8GEqcdts",
        "outputId": "433a537d-1f8e-42b1-be1e-9a85b39d93e9"
      },
      "execution_count": 21,
      "outputs": [
        {
          "output_type": "stream",
          "name": "stderr",
          "text": [
            "/usr/local/lib/python3.7/dist-packages/sklearn/utils/deprecation.py:87: FutureWarning: Function plot_confusion_matrix is deprecated; Function `plot_confusion_matrix` is deprecated in 1.0 and will be removed in 1.2. Use one of the class methods: ConfusionMatrixDisplay.from_predictions or ConfusionMatrixDisplay.from_estimator.\n",
            "  warnings.warn(msg, category=FutureWarning)\n"
          ]
        },
        {
          "output_type": "display_data",
          "data": {
            "image/png": "[encoded data removed]",
            "text/plain": [
              "<Figure size 432x288 with 2 Axes>"
            ]
          },
          "metadata": {
            "needs_background": "light"
          }
        }
      ]
    },
    {
      "cell_type": "markdown",
      "source": [
        "# Optimize KNN on Averaged Data"
      ],
      "metadata": {
        "id": "dK45j8YcLHA1"
      }
    },
    {
      "cell_type": "code",
      "source": [
        "error_rate = []   #source: https://towardsdatascience.com/how-to-find-the-optimal-value-of-k-in-knn-35d936e554eb\n",
        "for i in range(1,40):          #Finding minimum error\n",
        " knn1 = KNeighborsClassifier(n_neighbors=i)\n",
        " pipe_knn1 = make_pipeline(col_transformer,knn1)\n",
        "\n",
        " pipe_knn1.fit(X_train,y_train)\n",
        " pred_i = pipe_knn1.predict(X_test)\n",
        " error_rate.append(np.mean(pred_i != y_test))\n",
        "\n",
        "plt.figure(figsize=(10,6))\n",
        "plt.plot(range(1,40),error_rate,color='blue', linestyle='dashed', \n",
        "         marker='o',markerfacecolor='red', markersize=10)\n",
        "plt.title('Error Rate vs. K Value')\n",
        "plt.xlabel('K')\n",
        "plt.xticks(np.arange(0,40, step=2))\n",
        "plt.ylabel('Error Rate')\n",
        "print(\"Minimum error:-\",min(error_rate),\"at K =\",error_rate.index(min(error_rate))+1)"
      ],
      "metadata": {
        "colab": {
          "base_uri": "https://localhost:8080/",
          "height": 421
        },
        "id": "sADNBW7PK_VG",
        "outputId": "e2a92091-d7cf-4b4a-90b3-ccd9bcfcc365"
      },
      "execution_count": 22,
      "outputs": [
        {
          "output_type": "stream",
          "name": "stdout",
          "text": [
            "Minimum error:- 0.061224489795918366 at K = 1\n"
          ]
        },
        {
          "output_type": "display_data",
          "data": {
            "image/png": "[encoded data removed]",
            "text/plain": [
              "<Figure size 720x432 with 1 Axes>"
            ]
          },
          "metadata": {
            "needs_background": "light"
          }
        }
      ]
    },
    {
      "cell_type": "code",
      "source": [
        "acc = [] #source: https://towardsdatascience.com/how-to-find-the-optimal-value-of-k-in-knn-35d936e554eb\n",
        "from sklearn import metrics #finding maximum accuracy\n",
        "for i in range(1,60):\n",
        "    knn1 = KNeighborsClassifier(n_neighbors=i)\n",
        "    pipe_knn1 = make_pipeline(col_transformer,knn1)\n",
        "    pipe_knn1.fit(X_train,y_train)    \n",
        "    yhat = pipe_knn1.predict(X_test)\n",
        "    acc.append(metrics.accuracy_score(y_test, yhat))\n",
        "    \n",
        "plt.figure(figsize=(10,6))\n",
        "plt.plot(range(1,60),acc,color = 'blue',linestyle='dashed', \n",
        "         marker='o',markerfacecolor='red', markersize=10)\n",
        "plt.title('accuracy vs. K Value')\n",
        "plt.xlabel('K')\n",
        "plt.ylabel('Accuracy')\n",
        "print(\"Maximum accuracy:-\",max(acc),\"at K =\",(acc.index(max(acc))+1))"
      ],
      "metadata": {
        "colab": {
          "base_uri": "https://localhost:8080/",
          "height": 421
        },
        "id": "8CzcErolN2AO",
        "outputId": "53e27dea-e86e-43f1-d8aa-1e136125221b"
      },
      "execution_count": 23,
      "outputs": [
        {
          "output_type": "stream",
          "name": "stdout",
          "text": [
            "Maximum accuracy:- 0.9387755102040817 at K = 1\n"
          ]
        },
        {
          "output_type": "display_data",
          "data": {
            "image/png": "[encoded data removed]",
            "text/plain": [
              "<Figure size 720x432 with 1 Axes>"
            ]
          },
          "metadata": {
            "needs_background": "light"
          }
        }
      ]
    },
    {
      "cell_type": "code",
      "source": [
        "scaler = StandardScaler()\n",
        "knn_n1 = KNeighborsClassifier(n_neighbors=1)\n",
        "\n",
        "numeric_selector = make_column_selector(dtype_include = 'number')\n",
        "scaler_tuple = (scaler, numeric_selector)\n",
        "col_transformer = make_column_transformer(scaler_tuple, remainder = 'passthrough')\n",
        "pipe1 = make_pipeline(col_transformer, knn_n1)"
      ],
      "metadata": {
        "id": "8d2kvKGoOnuA"
      },
      "execution_count": 24,
      "outputs": []
    },
    {
      "cell_type": "code",
      "source": [
        "pipe1.fit(X_train, y_train)"
      ],
      "metadata": {
        "colab": {
          "base_uri": "https://localhost:8080/"
        },
        "id": "qHmy_BefO-MN",
        "outputId": "8e186584-bf6a-4d0c-c4cc-978313f3b38d"
      },
      "execution_count": 25,
      "outputs": [
        {
          "output_type": "execute_result",
          "data": {
            "text/plain": [
              "Pipeline(steps=[('columntransformer',\n",
              "                 ColumnTransformer(remainder='passthrough',\n",
              "                                   transformers=[('standardscaler',\n",
              "                                                  StandardScaler(),\n",
              "                                                  <sklearn.compose._column_transformer.make_column_selector object at 0x7f112be99910>)])),\n",
              "                ('kneighborsclassifier', KNeighborsClassifier(n_neighbors=1))])"
            ]
          },
          "metadata": {},
          "execution_count": 25
        }
      ]
    },
    {
      "cell_type": "code",
      "source": [
        "y_pred_knn_n1 = pipe1.predict(X_test)"
      ],
      "metadata": {
        "id": "bstiIErUPLZQ"
      },
      "execution_count": 26,
      "outputs": []
    },
    {
      "cell_type": "code",
      "source": [
        "y_pred_knn_n1_train = pipe1.predict(X_train)"
      ],
      "metadata": {
        "id": "bFBhWocSlvP9"
      },
      "execution_count": 27,
      "outputs": []
    },
    {
      "cell_type": "code",
      "source": [
        "knn_n1_train_accuracy = accuracy_score(y_train, y_pred_knn_n1_train)\n",
        "print(f'KNN with n_neighbors = 1 Train Accuracy: {knn_n1_train_accuracy}')"
      ],
      "metadata": {
        "colab": {
          "base_uri": "https://localhost:8080/"
        },
        "id": "ImBzyEfrmZcQ",
        "outputId": "93738ea3-a286-4b35-8705-d95dcbec257b"
      },
      "execution_count": 28,
      "outputs": [
        {
          "output_type": "stream",
          "name": "stdout",
          "text": [
            "KNN with n_neighbors = 1 Train Accuracy: 1.0\n"
          ]
        }
      ]
    },
    {
      "cell_type": "code",
      "source": [
        "knn_n1_test_accuracy = accuracy_score(y_test, y_pred_knn_n1)\n",
        "print(f'KNN with n_neighbors = 1 Test Accuracy: {knn_n1_test_accuracy}')"
      ],
      "metadata": {
        "colab": {
          "base_uri": "https://localhost:8080/"
        },
        "id": "f53hCjIkl4Se",
        "outputId": "a7a8355c-5c9d-46a5-af38-0bee47782fb5"
      },
      "execution_count": 29,
      "outputs": [
        {
          "output_type": "stream",
          "name": "stdout",
          "text": [
            "KNN with n_neighbors = 1 Test Accuracy: 0.9387755102040817\n"
          ]
        }
      ]
    },
    {
      "cell_type": "code",
      "source": [
        "class_report_knn_n1 = classification_report(y_test, y_pred_knn_n1)\n",
        "print(class_report_knn_n1)"
      ],
      "metadata": {
        "colab": {
          "base_uri": "https://localhost:8080/"
        },
        "id": "ZM-cqkQPPY85",
        "outputId": "544c60cc-4173-42d7-d049-14123a6fed9a"
      },
      "execution_count": 30,
      "outputs": [
        {
          "output_type": "stream",
          "name": "stdout",
          "text": [
            "              precision    recall  f1-score   support\n",
            "\n",
            "           0       0.91      0.83      0.87        12\n",
            "           1       0.95      0.97      0.96        37\n",
            "\n",
            "    accuracy                           0.94        49\n",
            "   macro avg       0.93      0.90      0.91        49\n",
            "weighted avg       0.94      0.94      0.94        49\n",
            "\n"
          ]
        }
      ]
    },
    {
      "cell_type": "code",
      "source": [
        "plot_confusion_matrix(pipe1, X_test, y_test, cmap = 'Blues');"
      ],
      "metadata": {
        "colab": {
          "base_uri": "https://localhost:8080/",
          "height": 333
        },
        "id": "JX8k-19CIZGc",
        "outputId": "44180c84-28b3-470c-af4a-01c9f780ac0d"
      },
      "execution_count": 31,
      "outputs": [
        {
          "output_type": "stream",
          "name": "stderr",
          "text": [
            "/usr/local/lib/python3.7/dist-packages/sklearn/utils/deprecation.py:87: FutureWarning: Function plot_confusion_matrix is deprecated; Function `plot_confusion_matrix` is deprecated in 1.0 and will be removed in 1.2. Use one of the class methods: ConfusionMatrixDisplay.from_predictions or ConfusionMatrixDisplay.from_estimator.\n",
            "  warnings.warn(msg, category=FutureWarning)\n"
          ]
        },
        {
          "output_type": "display_data",
          "data": {
            "image/png": "[encoded data removed]",
            "text/plain": [
              "<Figure size 432x288 with 2 Axes>"
            ]
          },
          "metadata": {
            "needs_background": "light"
          }
        }
      ]
    },
    {
      "cell_type": "markdown",
      "source": [
        "# Light Gradient Boosting Machine - Base Model"
      ],
      "metadata": {
        "id": "27gDYxoWnVLn"
      }
    },
    {
      "cell_type": "code",
      "source": [
        "lgb = LGBMClassifier()"
      ],
      "metadata": {
        "id": "fPnec68JnPUe"
      },
      "execution_count": 32,
      "outputs": []
    },
    {
      "cell_type": "code",
      "source": [
        "pipe_lgb = make_pipeline(col_transformer, lgb)"
      ],
      "metadata": {
        "id": "9sqoVEQioHtV"
      },
      "execution_count": 33,
      "outputs": []
    },
    {
      "cell_type": "code",
      "source": [
        "pipe_lgb.fit(X_train, y_train)"
      ],
      "metadata": {
        "colab": {
          "base_uri": "https://localhost:8080/"
        },
        "id": "91e3iuJdoOIR",
        "outputId": "22fc3ac7-ec1a-4649-98c7-722e71d64f26"
      },
      "execution_count": 34,
      "outputs": [
        {
          "output_type": "execute_result",
          "data": {
            "text/plain": [
              "Pipeline(steps=[('columntransformer',\n",
              "                 ColumnTransformer(remainder='passthrough',\n",
              "                                   transformers=[('standardscaler',\n",
              "                                                  StandardScaler(),\n",
              "                                                  <sklearn.compose._column_transformer.make_column_selector object at 0x7f112be99910>)])),\n",
              "                ('lgbmclassifier', LGBMClassifier())])"
            ]
          },
          "metadata": {},
          "execution_count": 34
        }
      ]
    },
    {
      "cell_type": "code",
      "source": [
        "y_pred_lgb_train = pipe_lgb.predict(X_train)\n",
        "y_pred_lgb_test = pipe_lgb.predict(X_test)"
      ],
      "metadata": {
        "id": "C0GrY2wjoRvh"
      },
      "execution_count": 35,
      "outputs": []
    },
    {
      "cell_type": "code",
      "source": [
        "accuracy_lgb_train = accuracy_score(y_train, y_pred_lgb_train)\n",
        "print(f'Light Gradient Boosting Train Accuracy: {accuracy_lgb_train}')"
      ],
      "metadata": {
        "colab": {
          "base_uri": "https://localhost:8080/"
        },
        "id": "_rIzUk2IocCX",
        "outputId": "bda28afc-91e6-4b8e-b86e-d3db3c1e159a"
      },
      "execution_count": 36,
      "outputs": [
        {
          "output_type": "stream",
          "name": "stdout",
          "text": [
            "Light Gradient Boosting Train Accuracy: 1.0\n"
          ]
        }
      ]
    },
    {
      "cell_type": "code",
      "source": [
        "accuracy_lgb_test = accuracy_score(y_test, y_pred_lgb_test)\n",
        "print(f'Light Gradient Boosting Test Accuracy: {accuracy_lgb_test}')"
      ],
      "metadata": {
        "colab": {
          "base_uri": "https://localhost:8080/"
        },
        "id": "9H5JEuP8os7i",
        "outputId": "6e173723-db2d-40c3-dcfa-e0b691155842"
      },
      "execution_count": 37,
      "outputs": [
        {
          "output_type": "stream",
          "name": "stdout",
          "text": [
            "Light Gradient Boosting Test Accuracy: 0.8775510204081632\n"
          ]
        }
      ]
    },
    {
      "cell_type": "code",
      "source": [
        "class_report_lgb = classification_report(y_test, y_pred_lgb_test)\n",
        "print(class_report_lgb)"
      ],
      "metadata": {
        "colab": {
          "base_uri": "https://localhost:8080/"
        },
        "id": "27w_38RNqVvF",
        "outputId": "3efae306-de8e-43bc-b38a-638549eef822"
      },
      "execution_count": 38,
      "outputs": [
        {
          "output_type": "stream",
          "name": "stdout",
          "text": [
            "              precision    recall  f1-score   support\n",
            "\n",
            "           0       0.71      0.83      0.77        12\n",
            "           1       0.94      0.89      0.92        37\n",
            "\n",
            "    accuracy                           0.88        49\n",
            "   macro avg       0.83      0.86      0.84        49\n",
            "weighted avg       0.89      0.88      0.88        49\n",
            "\n"
          ]
        }
      ]
    },
    {
      "cell_type": "code",
      "source": [
        "plot_confusion_matrix(pipe_lgb, X_test, y_test, cmap = 'Blues');"
      ],
      "metadata": {
        "colab": {
          "base_uri": "https://localhost:8080/",
          "height": 333
        },
        "id": "xT9AW06cbXP2",
        "outputId": "8b48d268-b917-4849-956f-1d89670127b3"
      },
      "execution_count": 39,
      "outputs": [
        {
          "output_type": "stream",
          "name": "stderr",
          "text": [
            "/usr/local/lib/python3.7/dist-packages/sklearn/utils/deprecation.py:87: FutureWarning: Function plot_confusion_matrix is deprecated; Function `plot_confusion_matrix` is deprecated in 1.0 and will be removed in 1.2. Use one of the class methods: ConfusionMatrixDisplay.from_predictions or ConfusionMatrixDisplay.from_estimator.\n",
            "  warnings.warn(msg, category=FutureWarning)\n"
          ]
        },
        {
          "output_type": "display_data",
          "data": {
            "image/png": "[encoded data removed]",
            "text/plain": [
              "<Figure size 432x288 with 2 Axes>"
            ]
          },
          "metadata": {
            "needs_background": "light"
          }
        }
      ]
    },
    {
      "cell_type": "markdown",
      "source": [
        "# Light Gradient Boosting Machine - Optimized"
      ],
      "metadata": {
        "id": "w09zkfGOqsK-"
      }
    },
    {
      "cell_type": "code",
      "source": [
        "params = {'lgbmclassifier__max_depth': range(5,9),\n",
        "          'lgbmclassifier__num_leaves': range(4,14),\n",
        "          'lgbmclassifier__min_data_in_leaf': range(1,4)}"
      ],
      "metadata": {
        "id": "_okgS-pvqq6f"
      },
      "execution_count": 40,
      "outputs": []
    },
    {
      "cell_type": "code",
      "source": [
        "lgb_gridsearch = GridSearchCV(pipe_lgb, params, cv = 5)"
      ],
      "metadata": {
        "id": "lW3lMXVNqzBj"
      },
      "execution_count": 41,
      "outputs": []
    },
    {
      "cell_type": "code",
      "source": [
        "lgb_gridsearch.fit(X_train, y_train)"
      ],
      "metadata": {
        "colab": {
          "base_uri": "https://localhost:8080/"
        },
        "id": "ruJIS4I-rVkC",
        "outputId": "ccd2c7a4-4584-4630-ea81-f037f992cb0a"
      },
      "execution_count": 42,
      "outputs": [
        {
          "output_type": "execute_result",
          "data": {
            "text/plain": [
              "GridSearchCV(cv=5,\n",
              "             estimator=Pipeline(steps=[('columntransformer',\n",
              "                                        ColumnTransformer(remainder='passthrough',\n",
              "                                                          transformers=[('standardscaler',\n",
              "                                                                         StandardScaler(),\n",
              "                                                                         <sklearn.compose._column_transformer.make_column_selector object at 0x7f112be99910>)])),\n",
              "                                       ('lgbmclassifier', LGBMClassifier())]),\n",
              "             param_grid={'lgbmclassifier__max_depth': range(5, 9),\n",
              "                         'lgbmclassifier__min_data_in_leaf': range(1, 4),\n",
              "                         'lgbmclassifier__num_leaves': range(4, 14)})"
            ]
          },
          "metadata": {},
          "execution_count": 42
        }
      ]
    },
    {
      "cell_type": "code",
      "source": [
        "print(lgb_gridsearch.best_params_)"
      ],
      "metadata": {
        "colab": {
          "base_uri": "https://localhost:8080/"
        },
        "id": "NWr_rDBGrd0O",
        "outputId": "a780f2cf-f24f-4a8b-c676-ca792c393bcb"
      },
      "execution_count": 43,
      "outputs": [
        {
          "output_type": "stream",
          "name": "stdout",
          "text": [
            "{'lgbmclassifier__max_depth': 5, 'lgbmclassifier__min_data_in_leaf': 2, 'lgbmclassifier__num_leaves': 7}\n"
          ]
        }
      ]
    },
    {
      "cell_type": "code",
      "source": [
        "lgb_model_1 = lgb_gridsearch.best_estimator_"
      ],
      "metadata": {
        "id": "oGyAaPMxYNdm"
      },
      "execution_count": 44,
      "outputs": []
    },
    {
      "cell_type": "code",
      "source": [
        "y_pred_lgb_model_1 = lgb_model_1.predict(X_test)"
      ],
      "metadata": {
        "id": "_MYkbomyYPrQ"
      },
      "execution_count": 45,
      "outputs": []
    },
    {
      "cell_type": "code",
      "source": [
        "lgb_best_test_accuracy = accuracy_score(y_test, y_pred_lgb_model_1)\n",
        "print(f'Light Gradient Boosting Train Accuracy: {lgb_best_test_accuracy}')"
      ],
      "metadata": {
        "colab": {
          "base_uri": "https://localhost:8080/"
        },
        "id": "7wWMIANDYcR7",
        "outputId": "639768b9-30dd-4b8d-ef72-81539c363845"
      },
      "execution_count": 46,
      "outputs": [
        {
          "output_type": "stream",
          "name": "stdout",
          "text": [
            "Light Gradient Boosting Train Accuracy: 0.9183673469387755\n"
          ]
        }
      ]
    },
    {
      "cell_type": "code",
      "source": [
        "params1 = {'lgbmclassifier__max_depth': range(2,5),\n",
        "          'lgbmclassifier__num_leaves': range(2,4),\n",
        "          'lgbmclassifier__min_data_in_leaf': range(2,4)}"
      ],
      "metadata": {
        "id": "GbDw6JrKr6H3"
      },
      "execution_count": 47,
      "outputs": []
    },
    {
      "cell_type": "code",
      "source": [
        "gridsearch_lgb_2nd = GridSearchCV(pipe_lgb, params1, cv = 10)"
      ],
      "metadata": {
        "id": "UkOjQSsnsin0"
      },
      "execution_count": 48,
      "outputs": []
    },
    {
      "cell_type": "code",
      "source": [
        "gridsearch_lgb_2nd.fit(X_train, y_train)"
      ],
      "metadata": {
        "colab": {
          "base_uri": "https://localhost:8080/"
        },
        "id": "kOeoT2Shs7fA",
        "outputId": "a3a8b682-695d-49d1-e7cc-6b8e626447e9"
      },
      "execution_count": 49,
      "outputs": [
        {
          "output_type": "execute_result",
          "data": {
            "text/plain": [
              "GridSearchCV(cv=10,\n",
              "             estimator=Pipeline(steps=[('columntransformer',\n",
              "                                        ColumnTransformer(remainder='passthrough',\n",
              "                                                          transformers=[('standardscaler',\n",
              "                                                                         StandardScaler(),\n",
              "                                                                         <sklearn.compose._column_transformer.make_column_selector object at 0x7f112be99910>)])),\n",
              "                                       ('lgbmclassifier', LGBMClassifier())]),\n",
              "             param_grid={'lgbmclassifier__max_depth': range(2, 5),\n",
              "                         'lgbmclassifier__min_data_in_leaf': range(2, 4),\n",
              "                         'lgbmclassifier__num_leaves': range(2, 4)})"
            ]
          },
          "metadata": {},
          "execution_count": 49
        }
      ]
    },
    {
      "cell_type": "code",
      "source": [
        "print(gridsearch_lgb_2nd.best_params_)"
      ],
      "metadata": {
        "colab": {
          "base_uri": "https://localhost:8080/"
        },
        "id": "FuJ0K4aUtAC9",
        "outputId": "29999f15-120e-49d6-fbd7-0dde8ddd537f"
      },
      "execution_count": 50,
      "outputs": [
        {
          "output_type": "stream",
          "name": "stdout",
          "text": [
            "{'lgbmclassifier__max_depth': 2, 'lgbmclassifier__min_data_in_leaf': 2, 'lgbmclassifier__num_leaves': 3}\n"
          ]
        }
      ]
    },
    {
      "cell_type": "code",
      "source": [
        "lgb_best = lgb_gridsearch.best_estimator_"
      ],
      "metadata": {
        "id": "_Zeq2oPEri--"
      },
      "execution_count": 51,
      "outputs": []
    },
    {
      "cell_type": "code",
      "source": [
        "y_pred_lgb_best = lgb_best.predict(X_test)\n",
        "y_pred_lgb_best_train = lgb_best.predict(X_train)"
      ],
      "metadata": {
        "id": "cV3FnOSTrrf4"
      },
      "execution_count": 52,
      "outputs": []
    },
    {
      "cell_type": "code",
      "source": [
        "lgb_best_train_accuracy = accuracy_score(y_train, y_pred_lgb_best_train)\n",
        "print(f'Light Gradient Boosting Optimized Train Accuracy: {lgb_best_train_accuracy}')"
      ],
      "metadata": {
        "colab": {
          "base_uri": "https://localhost:8080/"
        },
        "id": "fBAOAOSwxWtn",
        "outputId": "b092508d-037f-47e7-9a11-89024a849e58"
      },
      "execution_count": 53,
      "outputs": [
        {
          "output_type": "stream",
          "name": "stdout",
          "text": [
            "Light Gradient Boosting Optimized Train Accuracy: 1.0\n"
          ]
        }
      ]
    },
    {
      "cell_type": "code",
      "source": [
        "lgb_best_test_accuracy = accuracy_score(y_test, y_pred_lgb_best)\n",
        "print(f'Light Gradient Boosting Test Optimized Accuracy: {lgb_best_test_accuracy}')"
      ],
      "metadata": {
        "colab": {
          "base_uri": "https://localhost:8080/"
        },
        "id": "Nj2rdg6ixaep",
        "outputId": "1cec5947-91b0-4712-e35d-58a7c9a8d4b8"
      },
      "execution_count": 54,
      "outputs": [
        {
          "output_type": "stream",
          "name": "stdout",
          "text": [
            "Light Gradient Boosting Test Optimized Accuracy: 0.9183673469387755\n"
          ]
        }
      ]
    },
    {
      "cell_type": "code",
      "source": [
        "class_report_lgb_best = classification_report(y_test, y_pred_lgb_best)\n",
        "print(class_report_lgb_best)"
      ],
      "metadata": {
        "colab": {
          "base_uri": "https://localhost:8080/"
        },
        "id": "_mlRshQHukiZ",
        "outputId": "89d0fded-b51c-4673-c19c-bbbbd67c1ba9"
      },
      "execution_count": 55,
      "outputs": [
        {
          "output_type": "stream",
          "name": "stdout",
          "text": [
            "              precision    recall  f1-score   support\n",
            "\n",
            "           0       0.83      0.83      0.83        12\n",
            "           1       0.95      0.95      0.95        37\n",
            "\n",
            "    accuracy                           0.92        49\n",
            "   macro avg       0.89      0.89      0.89        49\n",
            "weighted avg       0.92      0.92      0.92        49\n",
            "\n"
          ]
        }
      ]
    },
    {
      "cell_type": "code",
      "source": [
        "plot_confusion_matrix(lgb_best, X_test, y_test, cmap = 'Blues');"
      ],
      "metadata": {
        "colab": {
          "base_uri": "https://localhost:8080/",
          "height": 337
        },
        "id": "HpsPp8tKbcYK",
        "outputId": "3818eed9-7cb5-457b-ce83-fbf1d9f73f52"
      },
      "execution_count": 56,
      "outputs": [
        {
          "output_type": "stream",
          "name": "stderr",
          "text": [
            "/usr/local/lib/python3.7/dist-packages/sklearn/utils/deprecation.py:87: FutureWarning: Function plot_confusion_matrix is deprecated; Function `plot_confusion_matrix` is deprecated in 1.0 and will be removed in 1.2. Use one of the class methods: ConfusionMatrixDisplay.from_predictions or ConfusionMatrixDisplay.from_estimator.\n",
            "  warnings.warn(msg, category=FutureWarning)\n"
          ]
        },
        {
          "output_type": "display_data",
          "data": {
            "image/png": "[encoded data removed]",
            "text/plain": [
              "<Figure size 432x288 with 2 Axes>"
            ]
          },
          "metadata": {
            "needs_background": "light"
          }
        }
      ]
    },
    {
      "cell_type": "markdown",
      "source": [
        "# Extreme Gradient Boosting Machine - Base Model"
      ],
      "metadata": {
        "id": "Ap4kIoiuOCpS"
      }
    },
    {
      "cell_type": "code",
      "source": [
        "xgb = XGBClassifier()"
      ],
      "metadata": {
        "id": "k2IzigwXOBZ8"
      },
      "execution_count": 57,
      "outputs": []
    },
    {
      "cell_type": "code",
      "source": [
        "pipe_xgb = make_pipeline(col_transformer, xgb)"
      ],
      "metadata": {
        "id": "uLZHe-SWPGap"
      },
      "execution_count": 58,
      "outputs": []
    },
    {
      "cell_type": "code",
      "source": [
        "pipe_xgb.fit(X_train, y_train)"
      ],
      "metadata": {
        "colab": {
          "base_uri": "https://localhost:8080/"
        },
        "id": "zffFbUoDRck-",
        "outputId": "5787bb71-11aa-400d-b7cb-789f2fe62757"
      },
      "execution_count": 59,
      "outputs": [
        {
          "output_type": "execute_result",
          "data": {
            "text/plain": [
              "Pipeline(steps=[('columntransformer',\n",
              "                 ColumnTransformer(remainder='passthrough',\n",
              "                                   transformers=[('standardscaler',\n",
              "                                                  StandardScaler(),\n",
              "                                                  <sklearn.compose._column_transformer.make_column_selector object at 0x7f112be99910>)])),\n",
              "                ('xgbclassifier', XGBClassifier())])"
            ]
          },
          "metadata": {},
          "execution_count": 59
        }
      ]
    },
    {
      "cell_type": "code",
      "source": [
        "y_pred_xgb_test = pipe_xgb.predict(X_test)\n",
        "y_pred_xgb_train = pipe_xgb.predict(X_train)"
      ],
      "metadata": {
        "id": "j9W9wHb9RjSr"
      },
      "execution_count": 60,
      "outputs": []
    },
    {
      "cell_type": "code",
      "source": [
        "xgb_train_accuracy = accuracy_score(y_train, y_pred_xgb_train)\n",
        "print(f'Extreme Gradient Boosting Train Accuracy: {xgb_train_accuracy}')"
      ],
      "metadata": {
        "colab": {
          "base_uri": "https://localhost:8080/"
        },
        "id": "0LzomQiaRuZ4",
        "outputId": "4aea9dd3-d2bc-439c-cb3f-f2d4e2012def"
      },
      "execution_count": 61,
      "outputs": [
        {
          "output_type": "stream",
          "name": "stdout",
          "text": [
            "Extreme Gradient Boosting Train Accuracy: 1.0\n"
          ]
        }
      ]
    },
    {
      "cell_type": "code",
      "source": [
        "xgb_test_accuracy = accuracy_score(y_test, y_pred_xgb_test)\n",
        "print(f'Extreme Gradient Boosting Test Accuracy: {xgb_test_accuracy}')"
      ],
      "metadata": {
        "colab": {
          "base_uri": "https://localhost:8080/"
        },
        "id": "gAJINq4YSgcY",
        "outputId": "fb752898-5023-446f-acda-c2f3c4d4f7f1"
      },
      "execution_count": 62,
      "outputs": [
        {
          "output_type": "stream",
          "name": "stdout",
          "text": [
            "Extreme Gradient Boosting Test Accuracy: 0.8163265306122449\n"
          ]
        }
      ]
    },
    {
      "cell_type": "code",
      "source": [
        "class_report_xgb = classification_report(y_pred_xgb_test, y_test)\n",
        "print(class_report_xgb)"
      ],
      "metadata": {
        "colab": {
          "base_uri": "https://localhost:8080/"
        },
        "id": "1_4HYfY4S4mc",
        "outputId": "9b1eb4ed-504d-49bd-964a-bdca3f9adf49"
      },
      "execution_count": 63,
      "outputs": [
        {
          "output_type": "stream",
          "name": "stdout",
          "text": [
            "              precision    recall  f1-score   support\n",
            "\n",
            "           0       0.75      0.60      0.67        15\n",
            "           1       0.84      0.91      0.87        34\n",
            "\n",
            "    accuracy                           0.82        49\n",
            "   macro avg       0.79      0.76      0.77        49\n",
            "weighted avg       0.81      0.82      0.81        49\n",
            "\n"
          ]
        }
      ]
    },
    {
      "cell_type": "code",
      "source": [
        "plot_confusion_matrix(pipe_xgb, X_test, y_test, cmap = 'Blues');"
      ],
      "metadata": {
        "colab": {
          "base_uri": "https://localhost:8080/",
          "height": 333
        },
        "id": "qusM4rWpcRpv",
        "outputId": "202a4edf-db64-4340-e776-24442fa80c42"
      },
      "execution_count": 64,
      "outputs": [
        {
          "output_type": "stream",
          "name": "stderr",
          "text": [
            "/usr/local/lib/python3.7/dist-packages/sklearn/utils/deprecation.py:87: FutureWarning: Function plot_confusion_matrix is deprecated; Function `plot_confusion_matrix` is deprecated in 1.0 and will be removed in 1.2. Use one of the class methods: ConfusionMatrixDisplay.from_predictions or ConfusionMatrixDisplay.from_estimator.\n",
            "  warnings.warn(msg, category=FutureWarning)\n"
          ]
        },
        {
          "output_type": "display_data",
          "data": {
            "image/png": "[encoded data removed]",
            "text/plain": [
              "<Figure size 432x288 with 2 Axes>"
            ]
          },
          "metadata": {
            "needs_background": "light"
          }
        }
      ]
    },
    {
      "cell_type": "code",
      "source": [
        "params = {\n",
        "    'xgbclassifier__n_estimators': [50, 100, 150, 200],\n",
        "    'xgbclassifier__learning_rate': [0.05, 0.1, 0.3, 0.5, 0.7],\n",
        "    'xgbclassifier__max_depth': [2, 3, 5, 10, 15]}"
      ],
      "metadata": {
        "id": "0AObclSRSpbi"
      },
      "execution_count": 65,
      "outputs": []
    },
    {
      "cell_type": "code",
      "source": [
        "xgb_gridsearch = GridSearchCV(pipe_xgb, params, cv = 3, refit = True)"
      ],
      "metadata": {
        "id": "am39ulp0SwrH"
      },
      "execution_count": 66,
      "outputs": []
    },
    {
      "cell_type": "code",
      "source": [
        "xgb_gridsearch.fit(X_train, y_train)"
      ],
      "metadata": {
        "colab": {
          "base_uri": "https://localhost:8080/"
        },
        "id": "TYcz4PjXS3Fe",
        "outputId": "53274b1d-150c-4702-c60e-6588625426d5"
      },
      "execution_count": 67,
      "outputs": [
        {
          "output_type": "execute_result",
          "data": {
            "text/plain": [
              "GridSearchCV(cv=3,\n",
              "             estimator=Pipeline(steps=[('columntransformer',\n",
              "                                        ColumnTransformer(remainder='passthrough',\n",
              "                                                          transformers=[('standardscaler',\n",
              "                                                                         StandardScaler(),\n",
              "                                                                         <sklearn.compose._column_transformer.make_column_selector object at 0x7f112be99910>)])),\n",
              "                                       ('xgbclassifier', XGBClassifier())]),\n",
              "             param_grid={'xgbclassifier__learning_rate': [0.05, 0.1, 0.3, 0.5,\n",
              "                                                          0.7],\n",
              "                         'xgbclassifier__max_depth': [2, 3, 5, 10, 15],\n",
              "                         'xgbclassifier__n_estimators': [50, 100, 150, 200]})"
            ]
          },
          "metadata": {},
          "execution_count": 67
        }
      ]
    },
    {
      "cell_type": "code",
      "source": [
        "print(xgb_gridsearch.best_params_)"
      ],
      "metadata": {
        "colab": {
          "base_uri": "https://localhost:8080/"
        },
        "id": "Pr8YRY3iS6u-",
        "outputId": "f600f0f4-a805-4d23-a7fd-3e6af394cd6a"
      },
      "execution_count": 68,
      "outputs": [
        {
          "output_type": "stream",
          "name": "stdout",
          "text": [
            "{'xgbclassifier__learning_rate': 0.05, 'xgbclassifier__max_depth': 3, 'xgbclassifier__n_estimators': 150}\n"
          ]
        }
      ]
    },
    {
      "cell_type": "code",
      "source": [
        "xgb_opt_model = xgb_gridsearch.best_estimator_"
      ],
      "metadata": {
        "id": "gHm24aOmS6lo"
      },
      "execution_count": 69,
      "outputs": []
    },
    {
      "cell_type": "code",
      "source": [
        "y_pred_xgb_opt_test = xgb_opt_model.predict(X_test)\n",
        "y_pred_xgb_opt_train = xgb_opt_model.predict(X_train)"
      ],
      "metadata": {
        "id": "Pzo3-jM7S6YI"
      },
      "execution_count": 70,
      "outputs": []
    },
    {
      "cell_type": "code",
      "source": [
        "xgb_opt_train_accuracy = accuracy_score(y_train, y_pred_xgb_opt_train)\n",
        "print(f'Extreme Gradient Boosting Optimized Train Accuracy: {xgb_opt_train_accuracy}')"
      ],
      "metadata": {
        "colab": {
          "base_uri": "https://localhost:8080/"
        },
        "id": "dSHdc0UMTCah",
        "outputId": "3bd18cda-aca0-43e3-bbbf-30ba4b33b40b"
      },
      "execution_count": 71,
      "outputs": [
        {
          "output_type": "stream",
          "name": "stdout",
          "text": [
            "Extreme Gradient Boosting Optimized Train Accuracy: 1.0\n"
          ]
        }
      ]
    },
    {
      "cell_type": "code",
      "source": [
        "xgb_opt_test_accuracy = accuracy_score(y_test, y_pred_xgb_opt_test)\n",
        "print(f'Extreme Gradient Boosting Optimized Test Accuracy: {xgb_opt_test_accuracy}')"
      ],
      "metadata": {
        "colab": {
          "base_uri": "https://localhost:8080/"
        },
        "id": "QWyjprTXTHe6",
        "outputId": "3f37f093-0eec-46b0-ef53-cfe51f23525b"
      },
      "execution_count": 72,
      "outputs": [
        {
          "output_type": "stream",
          "name": "stdout",
          "text": [
            "Extreme Gradient Boosting Optimized Test Accuracy: 0.7959183673469388\n"
          ]
        }
      ]
    },
    {
      "cell_type": "code",
      "source": [
        "class_report_xgb_opt = classification_report(y_pred_xgb_opt_test, y_test)\n",
        "print(class_report_xgb_opt)"
      ],
      "metadata": {
        "colab": {
          "base_uri": "https://localhost:8080/"
        },
        "id": "bmYeqHEASqc1",
        "outputId": "f8fe717c-8ab3-4b0e-d99d-ce7405e12c4b"
      },
      "execution_count": 73,
      "outputs": [
        {
          "output_type": "stream",
          "name": "stdout",
          "text": [
            "              precision    recall  f1-score   support\n",
            "\n",
            "           0       0.75      0.56      0.64        16\n",
            "           1       0.81      0.91      0.86        33\n",
            "\n",
            "    accuracy                           0.80        49\n",
            "   macro avg       0.78      0.74      0.75        49\n",
            "weighted avg       0.79      0.80      0.79        49\n",
            "\n"
          ]
        }
      ]
    },
    {
      "cell_type": "code",
      "source": [
        "plot_confusion_matrix(xgb_opt_model, X_test, y_test, cmap = 'Blues');"
      ],
      "metadata": {
        "colab": {
          "base_uri": "https://localhost:8080/",
          "height": 337
        },
        "id": "_EeDRXQQbl4m",
        "outputId": "d80cb263-33bb-4cd1-9584-061400213021"
      },
      "execution_count": 74,
      "outputs": [
        {
          "output_type": "stream",
          "name": "stderr",
          "text": [
            "/usr/local/lib/python3.7/dist-packages/sklearn/utils/deprecation.py:87: FutureWarning: Function plot_confusion_matrix is deprecated; Function `plot_confusion_matrix` is deprecated in 1.0 and will be removed in 1.2. Use one of the class methods: ConfusionMatrixDisplay.from_predictions or ConfusionMatrixDisplay.from_estimator.\n",
            "  warnings.warn(msg, category=FutureWarning)\n"
          ]
        },
        {
          "output_type": "display_data",
          "data": {
            "image/png": "[encoded data removed]",
            "text/plain": [
              "<Figure size 432x288 with 2 Axes>"
            ]
          },
          "metadata": {
            "needs_background": "light"
          }
        }
      ]
    },
    {
      "cell_type": "markdown",
      "source": [
        "# Import Additional MDVP Data on Parkinsons Disease"
      ],
      "metadata": {
        "id": "XHlkm95AOJo9"
      }
    },
    {
      "cell_type": "code",
      "source": [
        "df_ParkData = pd.read_csv('https://raw.githubusercontent.com/pqrst/ParkinsonsDiseaseDataAnalysis/master/parkinsons_updrs.csv')"
      ],
      "metadata": {
        "id": "kW1D49uN6s98"
      },
      "execution_count": 75,
      "outputs": []
    },
    {
      "cell_type": "code",
      "source": [
        "df_ParkData.head()"
      ],
      "metadata": {
        "colab": {
          "base_uri": "https://localhost:8080/",
          "height": 268
        },
        "id": "OA4iFquV69-M",
        "outputId": "b6345363-e930-4c66-fbcf-228edc0b0405"
      },
      "execution_count": 76,
      "outputs": [
        {
          "output_type": "execute_result",
          "data": {
            "text/html": [
              "\n",
              "  <div id=\"df-7d6df14e-65c9-46d9-9aa7-2e90eb3854b6\">\n",
              "    <div class=\"colab-df-container\">\n",
              "      <div>\n",
              "<style scoped>\n",
              "    .dataframe tbody tr th:only-of-type {\n",
              "        vertical-align: middle;\n",
              "    }\n",
              "\n",
              "    .dataframe tbody tr th {\n",
              "        vertical-align: top;\n",
              "    }\n",
              "\n",
              "    .dataframe thead th {\n",
              "        text-align: right;\n",
              "    }\n",
              "</style>\n",
              "<table border=\"1\" class=\"dataframe\">\n",
              "  <thead>\n",
              "    <tr style=\"text-align: right;\">\n",
              "      <th></th>\n",
              "      <th>subject#</th>\n",
              "      <th>age</th>\n",
              "      <th>sex</th>\n",
              "      <th>test_time</th>\n",
              "      <th>motor_UPDRS</th>\n",
              "      <th>total_UPDRS</th>\n",
              "      <th>Jitter(%)</th>\n",
              "      <th>Jitter(Abs)</th>\n",
              "      <th>Jitter:RAP</th>\n",
              "      <th>Jitter:PPQ5</th>\n",
              "      <th>Jitter:DDP</th>\n",
              "      <th>Shimmer</th>\n",
              "      <th>Shimmer(dB)</th>\n",
              "      <th>Shimmer:APQ3</th>\n",
              "      <th>Shimmer:APQ5</th>\n",
              "      <th>Shimmer:APQ11</th>\n",
              "      <th>Shimmer:DDA</th>\n",
              "      <th>NHR</th>\n",
              "      <th>HNR</th>\n",
              "      <th>RPDE</th>\n",
              "      <th>DFA</th>\n",
              "      <th>PPE</th>\n",
              "    </tr>\n",
              "  </thead>\n",
              "  <tbody>\n",
              "    <tr>\n",
              "      <th>0</th>\n",
              "      <td>1</td>\n",
              "      <td>72</td>\n",
              "      <td>0</td>\n",
              "      <td>5.6431</td>\n",
              "      <td>28.199</td>\n",
              "      <td>34.398</td>\n",
              "      <td>0.00662</td>\n",
              "      <td>0.000034</td>\n",
              "      <td>0.00401</td>\n",
              "      <td>0.00317</td>\n",
              "      <td>0.01204</td>\n",
              "      <td>0.02565</td>\n",
              "      <td>0.230</td>\n",
              "      <td>0.01438</td>\n",
              "      <td>0.01309</td>\n",
              "      <td>0.01662</td>\n",
              "      <td>0.04314</td>\n",
              "      <td>0.014290</td>\n",
              "      <td>21.640</td>\n",
              "      <td>0.41888</td>\n",
              "      <td>0.54842</td>\n",
              "      <td>0.16006</td>\n",
              "    </tr>\n",
              "    <tr>\n",
              "      <th>1</th>\n",
              "      <td>1</td>\n",
              "      <td>72</td>\n",
              "      <td>0</td>\n",
              "      <td>12.6660</td>\n",
              "      <td>28.447</td>\n",
              "      <td>34.894</td>\n",
              "      <td>0.00300</td>\n",
              "      <td>0.000017</td>\n",
              "      <td>0.00132</td>\n",
              "      <td>0.00150</td>\n",
              "      <td>0.00395</td>\n",
              "      <td>0.02024</td>\n",
              "      <td>0.179</td>\n",
              "      <td>0.00994</td>\n",
              "      <td>0.01072</td>\n",
              "      <td>0.01689</td>\n",
              "      <td>0.02982</td>\n",
              "      <td>0.011112</td>\n",
              "      <td>27.183</td>\n",
              "      <td>0.43493</td>\n",
              "      <td>0.56477</td>\n",
              "      <td>0.10810</td>\n",
              "    </tr>\n",
              "    <tr>\n",
              "      <th>2</th>\n",
              "      <td>1</td>\n",
              "      <td>72</td>\n",
              "      <td>0</td>\n",
              "      <td>19.6810</td>\n",
              "      <td>28.695</td>\n",
              "      <td>35.389</td>\n",
              "      <td>0.00481</td>\n",
              "      <td>0.000025</td>\n",
              "      <td>0.00205</td>\n",
              "      <td>0.00208</td>\n",
              "      <td>0.00616</td>\n",
              "      <td>0.01675</td>\n",
              "      <td>0.181</td>\n",
              "      <td>0.00734</td>\n",
              "      <td>0.00844</td>\n",
              "      <td>0.01458</td>\n",
              "      <td>0.02202</td>\n",
              "      <td>0.020220</td>\n",
              "      <td>23.047</td>\n",
              "      <td>0.46222</td>\n",
              "      <td>0.54405</td>\n",
              "      <td>0.21014</td>\n",
              "    </tr>\n",
              "    <tr>\n",
              "      <th>3</th>\n",
              "      <td>1</td>\n",
              "      <td>72</td>\n",
              "      <td>0</td>\n",
              "      <td>25.6470</td>\n",
              "      <td>28.905</td>\n",
              "      <td>35.810</td>\n",
              "      <td>0.00528</td>\n",
              "      <td>0.000027</td>\n",
              "      <td>0.00191</td>\n",
              "      <td>0.00264</td>\n",
              "      <td>0.00573</td>\n",
              "      <td>0.02309</td>\n",
              "      <td>0.327</td>\n",
              "      <td>0.01106</td>\n",
              "      <td>0.01265</td>\n",
              "      <td>0.01963</td>\n",
              "      <td>0.03317</td>\n",
              "      <td>0.027837</td>\n",
              "      <td>24.445</td>\n",
              "      <td>0.48730</td>\n",
              "      <td>0.57794</td>\n",
              "      <td>0.33277</td>\n",
              "    </tr>\n",
              "    <tr>\n",
              "      <th>4</th>\n",
              "      <td>1</td>\n",
              "      <td>72</td>\n",
              "      <td>0</td>\n",
              "      <td>33.6420</td>\n",
              "      <td>29.187</td>\n",
              "      <td>36.375</td>\n",
              "      <td>0.00335</td>\n",
              "      <td>0.000020</td>\n",
              "      <td>0.00093</td>\n",
              "      <td>0.00130</td>\n",
              "      <td>0.00278</td>\n",
              "      <td>0.01703</td>\n",
              "      <td>0.176</td>\n",
              "      <td>0.00679</td>\n",
              "      <td>0.00929</td>\n",
              "      <td>0.01819</td>\n",
              "      <td>0.02036</td>\n",
              "      <td>0.011625</td>\n",
              "      <td>26.126</td>\n",
              "      <td>0.47188</td>\n",
              "      <td>0.56122</td>\n",
              "      <td>0.19361</td>\n",
              "    </tr>\n",
              "  </tbody>\n",
              "</table>\n",
              "</div>\n",
              "      <button class=\"colab-df-convert\" onclick=\"convertToInteractive('df-7d6df14e-65c9-46d9-9aa7-2e90eb3854b6')\"\n",
              "              title=\"Convert this dataframe to an interactive table.\"\n",
              "              style=\"display:none;\">\n",
              "        \n",
              "  <svg xmlns=\"http://www.w3.org/2000/svg\" height=\"24px\"viewBox=\"0 0 24 24\"\n",
              "       width=\"24px\">\n",
              "    <path d=\"M0 0h24v24H0V0z\" fill=\"none\"/>\n",
              "    <path d=\"M18.56 5.44l.94 2.06.94-2.06 2.06-.94-2.06-.94-.94-2.06-.94 2.06-2.06.94zm-11 1L8.5 8.5l.94-2.06 2.06-.94-2.06-.94L8.5 2.5l-.94 2.06-2.06.94zm10 10l.94 2.06.94-2.06 2.06-.94-2.06-.94-.94-2.06-.94 2.06-2.06.94z\"/><path d=\"M17.41 7.96l-1.37-1.37c-.4-.4-.92-.59-1.43-.59-.52 0-1.04.2-1.43.59L10.3 9.45l-7.72 7.72c-.78.78-.78 2.05 0 2.83L4 21.41c.39.39.9.59 1.41.59.51 0 1.02-.2 1.41-.59l7.78-7.78 2.81-2.81c.8-.78.8-2.07 0-2.86zM5.41 20L4 18.59l7.72-7.72 1.47 1.35L5.41 20z\"/>\n",
              "  </svg>\n",
              "      </button>\n",
              "      \n",
              "  <style>\n",
              "    .colab-df-container {\n",
              "      display:flex;\n",
              "      flex-wrap:wrap;\n",
              "      gap: 12px;\n",
              "    }\n",
              "\n",
              "    .colab-df-convert {\n",
              "      background-color: #E8F0FE;\n",
              "      border: none;\n",
              "      border-radius: 50%;\n",
              "      cursor: pointer;\n",
              "      display: none;\n",
              "      fill: #1967D2;\n",
              "      height: 32px;\n",
              "      padding: 0 0 0 0;\n",
              "      width: 32px;\n",
              "    }\n",
              "\n",
              "    .colab-df-convert:hover {\n",
              "      background-color: #E2EBFA;\n",
              "      box-shadow: 0px 1px 2px rgba(60, 64, 67, 0.3), 0px 1px 3px 1px rgba(60, 64, 67, 0.15);\n",
              "      fill: #174EA6;\n",
              "    }\n",
              "\n",
              "    [theme=dark] .colab-df-convert {\n",
              "      background-color: #3B4455;\n",
              "      fill: #D2E3FC;\n",
              "    }\n",
              "\n",
              "    [theme=dark] .colab-df-convert:hover {\n",
              "      background-color: #434B5C;\n",
              "      box-shadow: 0px 1px 3px 1px rgba(0, 0, 0, 0.15);\n",
              "      filter: drop-shadow(0px 1px 2px rgba(0, 0, 0, 0.3));\n",
              "      fill: #FFFFFF;\n",
              "    }\n",
              "  </style>\n",
              "\n",
              "      <script>\n",
              "        const buttonEl =\n",
              "          document.querySelector('#df-7d6df14e-65c9-46d9-9aa7-2e90eb3854b6 button.colab-df-convert');\n",
              "        buttonEl.style.display =\n",
              "          google.colab.kernel.accessAllowed ? 'block' : 'none';\n",
              "\n",
              "        async function convertToInteractive(key) {\n",
              "          const element = document.querySelector('#df-7d6df14e-65c9-46d9-9aa7-2e90eb3854b6');\n",
              "          const dataTable =\n",
              "            await google.colab.kernel.invokeFunction('convertToInteractive',\n",
              "                                                     [key], {});\n",
              "          if (!dataTable) return;\n",
              "\n",
              "          const docLinkHtml = 'Like what you see? Visit the ' +\n",
              "            '<a target=\"_blank\" href=https://colab.research.google.com/notebooks/data_table.ipynb>data table notebook</a>'\n",
              "            + ' to learn more about interactive tables.';\n",
              "          element.innerHTML = '';\n",
              "          dataTable['output_type'] = 'display_data';\n",
              "          await google.colab.output.renderOutput(dataTable, element);\n",
              "          const docLink = document.createElement('div');\n",
              "          docLink.innerHTML = docLinkHtml;\n",
              "          element.appendChild(docLink);\n",
              "        }\n",
              "      </script>\n",
              "    </div>\n",
              "  </div>\n",
              "  "
            ],
            "text/plain": [
              "   subject#  age  sex  test_time  ...     HNR     RPDE      DFA      PPE\n",
              "0         1   72    0     5.6431  ...  21.640  0.41888  0.54842  0.16006\n",
              "1         1   72    0    12.6660  ...  27.183  0.43493  0.56477  0.10810\n",
              "2         1   72    0    19.6810  ...  23.047  0.46222  0.54405  0.21014\n",
              "3         1   72    0    25.6470  ...  24.445  0.48730  0.57794  0.33277\n",
              "4         1   72    0    33.6420  ...  26.126  0.47188  0.56122  0.19361\n",
              "\n",
              "[5 rows x 22 columns]"
            ]
          },
          "metadata": {},
          "execution_count": 76
        }
      ]
    },
    {
      "cell_type": "markdown",
      "source": [
        "Remove features to match those in data set for model development:"
      ],
      "metadata": {
        "id": "D8iqEjXtl4vW"
      }
    },
    {
      "cell_type": "code",
      "source": [
        "df_ParkData = df_ParkData.drop(columns = ['subject#', 'age', 'sex', 'test_time', 'motor_UPDRS', 'total_UPDRS', 'Shimmer:APQ11'])"
      ],
      "metadata": {
        "id": "KpblJfZo7HFA"
      },
      "execution_count": 77,
      "outputs": []
    },
    {
      "cell_type": "code",
      "source": [
        "df_ParkData.head()"
      ],
      "metadata": {
        "colab": {
          "base_uri": "https://localhost:8080/",
          "height": 268
        },
        "id": "-70hZCLhAjpQ",
        "outputId": "487b7ed2-615a-4183-9b73-800bd5219b09"
      },
      "execution_count": 78,
      "outputs": [
        {
          "output_type": "execute_result",
          "data": {
            "text/html": [
              "\n",
              "  <div id=\"df-74c160d5-ea20-4d2b-bdaf-e929643ff3b8\">\n",
              "    <div class=\"colab-df-container\">\n",
              "      <div>\n",
              "<style scoped>\n",
              "    .dataframe tbody tr th:only-of-type {\n",
              "        vertical-align: middle;\n",
              "    }\n",
              "\n",
              "    .dataframe tbody tr th {\n",
              "        vertical-align: top;\n",
              "    }\n",
              "\n",
              "    .dataframe thead th {\n",
              "        text-align: right;\n",
              "    }\n",
              "</style>\n",
              "<table border=\"1\" class=\"dataframe\">\n",
              "  <thead>\n",
              "    <tr style=\"text-align: right;\">\n",
              "      <th></th>\n",
              "      <th>Jitter(%)</th>\n",
              "      <th>Jitter(Abs)</th>\n",
              "      <th>Jitter:RAP</th>\n",
              "      <th>Jitter:PPQ5</th>\n",
              "      <th>Jitter:DDP</th>\n",
              "      <th>Shimmer</th>\n",
              "      <th>Shimmer(dB)</th>\n",
              "      <th>Shimmer:APQ3</th>\n",
              "      <th>Shimmer:APQ5</th>\n",
              "      <th>Shimmer:DDA</th>\n",
              "      <th>NHR</th>\n",
              "      <th>HNR</th>\n",
              "      <th>RPDE</th>\n",
              "      <th>DFA</th>\n",
              "      <th>PPE</th>\n",
              "    </tr>\n",
              "  </thead>\n",
              "  <tbody>\n",
              "    <tr>\n",
              "      <th>0</th>\n",
              "      <td>0.00662</td>\n",
              "      <td>0.000034</td>\n",
              "      <td>0.00401</td>\n",
              "      <td>0.00317</td>\n",
              "      <td>0.01204</td>\n",
              "      <td>0.02565</td>\n",
              "      <td>0.230</td>\n",
              "      <td>0.01438</td>\n",
              "      <td>0.01309</td>\n",
              "      <td>0.04314</td>\n",
              "      <td>0.014290</td>\n",
              "      <td>21.640</td>\n",
              "      <td>0.41888</td>\n",
              "      <td>0.54842</td>\n",
              "      <td>0.16006</td>\n",
              "    </tr>\n",
              "    <tr>\n",
              "      <th>1</th>\n",
              "      <td>0.00300</td>\n",
              "      <td>0.000017</td>\n",
              "      <td>0.00132</td>\n",
              "      <td>0.00150</td>\n",
              "      <td>0.00395</td>\n",
              "      <td>0.02024</td>\n",
              "      <td>0.179</td>\n",
              "      <td>0.00994</td>\n",
              "      <td>0.01072</td>\n",
              "      <td>0.02982</td>\n",
              "      <td>0.011112</td>\n",
              "      <td>27.183</td>\n",
              "      <td>0.43493</td>\n",
              "      <td>0.56477</td>\n",
              "      <td>0.10810</td>\n",
              "    </tr>\n",
              "    <tr>\n",
              "      <th>2</th>\n",
              "      <td>0.00481</td>\n",
              "      <td>0.000025</td>\n",
              "      <td>0.00205</td>\n",
              "      <td>0.00208</td>\n",
              "      <td>0.00616</td>\n",
              "      <td>0.01675</td>\n",
              "      <td>0.181</td>\n",
              "      <td>0.00734</td>\n",
              "      <td>0.00844</td>\n",
              "      <td>0.02202</td>\n",
              "      <td>0.020220</td>\n",
              "      <td>23.047</td>\n",
              "      <td>0.46222</td>\n",
              "      <td>0.54405</td>\n",
              "      <td>0.21014</td>\n",
              "    </tr>\n",
              "    <tr>\n",
              "      <th>3</th>\n",
              "      <td>0.00528</td>\n",
              "      <td>0.000027</td>\n",
              "      <td>0.00191</td>\n",
              "      <td>0.00264</td>\n",
              "      <td>0.00573</td>\n",
              "      <td>0.02309</td>\n",
              "      <td>0.327</td>\n",
              "      <td>0.01106</td>\n",
              "      <td>0.01265</td>\n",
              "      <td>0.03317</td>\n",
              "      <td>0.027837</td>\n",
              "      <td>24.445</td>\n",
              "      <td>0.48730</td>\n",
              "      <td>0.57794</td>\n",
              "      <td>0.33277</td>\n",
              "    </tr>\n",
              "    <tr>\n",
              "      <th>4</th>\n",
              "      <td>0.00335</td>\n",
              "      <td>0.000020</td>\n",
              "      <td>0.00093</td>\n",
              "      <td>0.00130</td>\n",
              "      <td>0.00278</td>\n",
              "      <td>0.01703</td>\n",
              "      <td>0.176</td>\n",
              "      <td>0.00679</td>\n",
              "      <td>0.00929</td>\n",
              "      <td>0.02036</td>\n",
              "      <td>0.011625</td>\n",
              "      <td>26.126</td>\n",
              "      <td>0.47188</td>\n",
              "      <td>0.56122</td>\n",
              "      <td>0.19361</td>\n",
              "    </tr>\n",
              "  </tbody>\n",
              "</table>\n",
              "</div>\n",
              "      <button class=\"colab-df-convert\" onclick=\"convertToInteractive('df-74c160d5-ea20-4d2b-bdaf-e929643ff3b8')\"\n",
              "              title=\"Convert this dataframe to an interactive table.\"\n",
              "              style=\"display:none;\">\n",
              "        \n",
              "  <svg xmlns=\"http://www.w3.org/2000/svg\" height=\"24px\"viewBox=\"0 0 24 24\"\n",
              "       width=\"24px\">\n",
              "    <path d=\"M0 0h24v24H0V0z\" fill=\"none\"/>\n",
              "    <path d=\"M18.56 5.44l.94 2.06.94-2.06 2.06-.94-2.06-.94-.94-2.06-.94 2.06-2.06.94zm-11 1L8.5 8.5l.94-2.06 2.06-.94-2.06-.94L8.5 2.5l-.94 2.06-2.06.94zm10 10l.94 2.06.94-2.06 2.06-.94-2.06-.94-.94-2.06-.94 2.06-2.06.94z\"/><path d=\"M17.41 7.96l-1.37-1.37c-.4-.4-.92-.59-1.43-.59-.52 0-1.04.2-1.43.59L10.3 9.45l-7.72 7.72c-.78.78-.78 2.05 0 2.83L4 21.41c.39.39.9.59 1.41.59.51 0 1.02-.2 1.41-.59l7.78-7.78 2.81-2.81c.8-.78.8-2.07 0-2.86zM5.41 20L4 18.59l7.72-7.72 1.47 1.35L5.41 20z\"/>\n",
              "  </svg>\n",
              "      </button>\n",
              "      \n",
              "  <style>\n",
              "    .colab-df-container {\n",
              "      display:flex;\n",
              "      flex-wrap:wrap;\n",
              "      gap: 12px;\n",
              "    }\n",
              "\n",
              "    .colab-df-convert {\n",
              "      background-color: #E8F0FE;\n",
              "      border: none;\n",
              "      border-radius: 50%;\n",
              "      cursor: pointer;\n",
              "      display: none;\n",
              "      fill: #1967D2;\n",
              "      height: 32px;\n",
              "      padding: 0 0 0 0;\n",
              "      width: 32px;\n",
              "    }\n",
              "\n",
              "    .colab-df-convert:hover {\n",
              "      background-color: #E2EBFA;\n",
              "      box-shadow: 0px 1px 2px rgba(60, 64, 67, 0.3), 0px 1px 3px 1px rgba(60, 64, 67, 0.15);\n",
              "      fill: #174EA6;\n",
              "    }\n",
              "\n",
              "    [theme=dark] .colab-df-convert {\n",
              "      background-color: #3B4455;\n",
              "      fill: #D2E3FC;\n",
              "    }\n",
              "\n",
              "    [theme=dark] .colab-df-convert:hover {\n",
              "      background-color: #434B5C;\n",
              "      box-shadow: 0px 1px 3px 1px rgba(0, 0, 0, 0.15);\n",
              "      filter: drop-shadow(0px 1px 2px rgba(0, 0, 0, 0.3));\n",
              "      fill: #FFFFFF;\n",
              "    }\n",
              "  </style>\n",
              "\n",
              "      <script>\n",
              "        const buttonEl =\n",
              "          document.querySelector('#df-74c160d5-ea20-4d2b-bdaf-e929643ff3b8 button.colab-df-convert');\n",
              "        buttonEl.style.display =\n",
              "          google.colab.kernel.accessAllowed ? 'block' : 'none';\n",
              "\n",
              "        async function convertToInteractive(key) {\n",
              "          const element = document.querySelector('#df-74c160d5-ea20-4d2b-bdaf-e929643ff3b8');\n",
              "          const dataTable =\n",
              "            await google.colab.kernel.invokeFunction('convertToInteractive',\n",
              "                                                     [key], {});\n",
              "          if (!dataTable) return;\n",
              "\n",
              "          const docLinkHtml = 'Like what you see? Visit the ' +\n",
              "            '<a target=\"_blank\" href=https://colab.research.google.com/notebooks/data_table.ipynb>data table notebook</a>'\n",
              "            + ' to learn more about interactive tables.';\n",
              "          element.innerHTML = '';\n",
              "          dataTable['output_type'] = 'display_data';\n",
              "          await google.colab.output.renderOutput(dataTable, element);\n",
              "          const docLink = document.createElement('div');\n",
              "          docLink.innerHTML = docLinkHtml;\n",
              "          element.appendChild(docLink);\n",
              "        }\n",
              "      </script>\n",
              "    </div>\n",
              "  </div>\n",
              "  "
            ],
            "text/plain": [
              "   Jitter(%)  Jitter(Abs)  Jitter:RAP  ...     RPDE      DFA      PPE\n",
              "0    0.00662     0.000034     0.00401  ...  0.41888  0.54842  0.16006\n",
              "1    0.00300     0.000017     0.00132  ...  0.43493  0.56477  0.10810\n",
              "2    0.00481     0.000025     0.00205  ...  0.46222  0.54405  0.21014\n",
              "3    0.00528     0.000027     0.00191  ...  0.48730  0.57794  0.33277\n",
              "4    0.00335     0.000020     0.00093  ...  0.47188  0.56122  0.19361\n",
              "\n",
              "[5 rows x 15 columns]"
            ]
          },
          "metadata": {},
          "execution_count": 78
        }
      ]
    },
    {
      "cell_type": "code",
      "source": [
        "df_ParkData.shape"
      ],
      "metadata": {
        "id": "bzaEn67LooAV",
        "outputId": "df884bb0-1d13-4068-d2cd-0bcac32b2af5",
        "colab": {
          "base_uri": "https://localhost:8080/"
        }
      },
      "execution_count": 79,
      "outputs": [
        {
          "output_type": "execute_result",
          "data": {
            "text/plain": [
              "(5875, 15)"
            ]
          },
          "metadata": {},
          "execution_count": 79
        }
      ]
    },
    {
      "cell_type": "markdown",
      "source": [
        "Create an array of positive diagnoses of Parkinsons that is the length of the data set since all data is from those with Parkinsons Disease"
      ],
      "metadata": {
        "id": "Gj4wS-7uOQ-8"
      }
    },
    {
      "cell_type": "code",
      "source": [
        "Positive_Parks = np.ones(len(df_ParkData['NHR']))"
      ],
      "metadata": {
        "id": "HgA3dH1-95L6"
      },
      "execution_count": 80,
      "outputs": []
    },
    {
      "cell_type": "markdown",
      "source": [
        "Rename columns to match those in original data set used to create model"
      ],
      "metadata": {
        "id": "MKMBB3OTOmfC"
      }
    },
    {
      "cell_type": "code",
      "source": [
        "df_ParkData = df_ParkData.rename(columns={'Jitter(%)': 'MDVP:Jitter(%)', 'Jitter(Abs)': 'MDVP:Jitter(Abs)', 'Jitter:RAP': 'MDVP:RAP', 'Jitter:PPQ5': 'MDVP:PPQ', 'Shimmer': 'MDVP:Shimmer', 'Shimmer(dB)': 'MDVP:Shimmer(dB)'})\n"
      ],
      "metadata": {
        "id": "Pjzp7qxRDwyo"
      },
      "execution_count": 81,
      "outputs": []
    },
    {
      "cell_type": "markdown",
      "source": [
        "# Accuracy of Models on Additional Data"
      ],
      "metadata": {
        "id": "iJ0mNjt_mJ5X"
      }
    },
    {
      "cell_type": "code",
      "source": [
        "y_pred_pipe_knn = pipe.predict(df_ParkData)"
      ],
      "metadata": {
        "id": "m6mKmNfiWgGk"
      },
      "execution_count": 82,
      "outputs": []
    },
    {
      "cell_type": "code",
      "source": [
        "accuracy_pipe_ParkData = accuracy_score(Positive_Parks, y_pred_pipe_knn)\n",
        "print(accuracy_pipe_ParkData)"
      ],
      "metadata": {
        "colab": {
          "base_uri": "https://localhost:8080/"
        },
        "id": "qdivsue8Wfos",
        "outputId": "5d57e4ab-a415-4dd9-cd01-10792a41aaed"
      },
      "execution_count": 83,
      "outputs": [
        {
          "output_type": "stream",
          "name": "stdout",
          "text": [
            "0.7651063829787234\n"
          ]
        }
      ]
    },
    {
      "cell_type": "code",
      "source": [
        "y_pred_pipe1_knn = pipe1.predict(df_ParkData)"
      ],
      "metadata": {
        "id": "1BKgMUhY_lN9"
      },
      "execution_count": 84,
      "outputs": []
    },
    {
      "cell_type": "code",
      "source": [
        "accuracy_pipe1_ParkData = accuracy_score(Positive_Parks, y_pred_pipe1_knn)\n",
        "print(accuracy_pipe1_ParkData)"
      ],
      "metadata": {
        "colab": {
          "base_uri": "https://localhost:8080/"
        },
        "id": "9UyVqbUGFIH1",
        "outputId": "8d300e26-10e4-4abd-a7c9-3a9a8051dbeb"
      },
      "execution_count": 85,
      "outputs": [
        {
          "output_type": "stream",
          "name": "stdout",
          "text": [
            "0.7697021276595745\n"
          ]
        }
      ]
    },
    {
      "cell_type": "code",
      "source": [
        "y_pred_pipe_lgb = pipe_lgb.predict(df_ParkData)"
      ],
      "metadata": {
        "id": "1EWEepOSVAgR"
      },
      "execution_count": 86,
      "outputs": []
    },
    {
      "cell_type": "code",
      "source": [
        "accuracy_pipe_lgb_ParkData = accuracy_score(Positive_Parks, y_pred_pipe_lgb)\n",
        "print(accuracy_pipe_lgb_ParkData)"
      ],
      "metadata": {
        "colab": {
          "base_uri": "https://localhost:8080/"
        },
        "id": "YNMvNwQsVCHi",
        "outputId": "70297ad7-43ee-444e-85bc-70e10b6c57ec"
      },
      "execution_count": 87,
      "outputs": [
        {
          "output_type": "stream",
          "name": "stdout",
          "text": [
            "0.7785531914893618\n"
          ]
        }
      ]
    },
    {
      "cell_type": "code",
      "source": [
        "y_pred_lgb_best = lgb_best.predict(df_ParkData)"
      ],
      "metadata": {
        "id": "0El9g9uQGM7s"
      },
      "execution_count": 88,
      "outputs": []
    },
    {
      "cell_type": "code",
      "source": [
        "accuracy_lgb_best_ParkData = accuracy_score(Positive_Parks, y_pred_lgb_best)\n",
        "print(accuracy_lgb_best_ParkData)"
      ],
      "metadata": {
        "colab": {
          "base_uri": "https://localhost:8080/"
        },
        "id": "oRU0IXVDUC5a",
        "outputId": "11f33924-e63e-4c38-bfe3-b1526c962d79"
      },
      "execution_count": 89,
      "outputs": [
        {
          "output_type": "stream",
          "name": "stdout",
          "text": [
            "0.8502127659574468\n"
          ]
        }
      ]
    },
    {
      "cell_type": "code",
      "source": [
        "y_pred_xgb = pipe_xgb.predict(df_ParkData)"
      ],
      "metadata": {
        "id": "v0mAvNUGUH5W"
      },
      "execution_count": 90,
      "outputs": []
    },
    {
      "cell_type": "code",
      "source": [
        "accuracy_xgb = accuracy_score(Positive_Parks, y_pred_xgb)\n",
        "print(accuracy_xgb)"
      ],
      "metadata": {
        "colab": {
          "base_uri": "https://localhost:8080/"
        },
        "id": "G_7lFKnHUS4j",
        "outputId": "aaa9d76e-f0d1-49d0-f406-b97c7ad6a027"
      },
      "execution_count": 91,
      "outputs": [
        {
          "output_type": "stream",
          "name": "stdout",
          "text": [
            "0.8568510638297873\n"
          ]
        }
      ]
    },
    {
      "cell_type": "code",
      "source": [
        "y_pred_xgb_opt = xgb_opt_model.predict(df_ParkData)"
      ],
      "metadata": {
        "id": "F0FTUtRiWue1"
      },
      "execution_count": 92,
      "outputs": []
    },
    {
      "cell_type": "code",
      "source": [
        "accuracy_xgb_opt = accuracy_score(Positive_Parks, y_pred_xgb_opt)\n",
        "print(accuracy_xgb_opt)"
      ],
      "metadata": {
        "colab": {
          "base_uri": "https://localhost:8080/"
        },
        "id": "cTv2xtX3TZ6Y",
        "outputId": "ee5b2763-c383-4adc-b9ca-7d095151d639"
      },
      "execution_count": 93,
      "outputs": [
        {
          "output_type": "stream",
          "name": "stdout",
          "text": [
            "0.8529361702127659\n"
          ]
        }
      ]
    },
    {
      "cell_type": "markdown",
      "source": [
        "# Model Results Compiled"
      ],
      "metadata": {
        "id": "v1KrEeGI44Mf"
      }
    },
    {
      "cell_type": "markdown",
      "source": [
        "![picture](https://drive.google.com/uc?id=1XCyXwUEgrfgcxk1WfBBbBzRGjs34ZjEV)"
      ],
      "metadata": {
        "id": "LfRmoS6m4cKV"
      }
    },
    {
      "cell_type": "markdown",
      "source": [
        "# Final Model Evaluation"
      ],
      "metadata": {
        "id": "Qm8ZZLfm4K9W"
      }
    },
    {
      "cell_type": "markdown",
      "source": [
        "The Light Gradient Boosting Machine (LGBM) Optimized model was chosen as the best model for predicting a diagnosis of Parkinson's Disease from Multi-Dimensional Voice Program (MDVP) data. \n",
        "\n",
        "****************************************\n",
        "\n",
        "* Overall, averaging the six samples of MDVP data for each individual did not \n",
        "show significant changes to model accuracy.  For this reason, those models created from unaveraged data were used during the final model evaluations.\n",
        "\n",
        "* Although K-Nearest Neighbors (KNN) models had higher testing accuracies, the optimal n_neighbors was equal to one making the model extremely overfit.  The results of the overfitting was seen when the KNN Optimized model scored a 77% accuracy when run on additional data that was separate data from which the model was created.  KNN also scored the lowest accuracy of all models on additional testing data (77%).\n",
        "\n",
        "* The LGBM Optimized was chosen over the eXtreme Gradent Boosting Machine (XGBM) Optimized because although their accuracy scores both on the validation model and when run on additional data were the same, the LGBM Optimized predicted fewer false negatives. LGBM Optimized had a 1% chance of predicting false negatives and the XGBM Optimized had a 3.6% chance at predicting a false negative. In predicting Parkinson's Disease, false negatives lead to individuals not getting the correct diagnosis of PD, preventing treatment which is an undesirable outcome.\n",
        "\n",
        "* The data set used for modeling in this project was small and thus limited the ability to create models with higher accuracies.  However, with accuracies on additional data that were in the mid 80% range, the ease and non-invasive nature of collection using MDVP data does show promise in predicting a diagnosis of Parkinson's disease and further analysis is warrented."
      ],
      "metadata": {
        "id": "m08KY2aJ4DmF"
      }
    }
  ]
}