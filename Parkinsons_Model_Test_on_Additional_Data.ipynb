{
  "nbformat": 4,
  "nbformat_minor": 0,
  "metadata": {
    "colab": {
      "name": "Parkinsons Model Test on Additional Data.ipynb",
      "provenance": [],
      "collapsed_sections": [
        "jAYA0sXA4Efv",
        "ZYpDz6Mf4M9w",
        "4xf50jOsARVj",
        "XhxalX2gAnT3",
        "Tu-mm_taAtWx",
        "w77BsNA5Bd67"
      ]
    },
    "kernelspec": {
      "name": "python3",
      "display_name": "Python 3"
    },
    "language_info": {
      "name": "python"
    }
  },
  "cells": [
    {
      "cell_type": "code",
      "metadata": {
        "colab": {
          "base_uri": "https://localhost:8080/"
        },
        "id": "0WXFAq3gdFPm",
        "outputId": "11e3d7d1-5284-4b2d-fdfe-ac02704d0534"
      },
      "source": [
        "from google.colab import drive\n",
        "drive.mount ('/content/drive')"
      ],
      "execution_count": null,
      "outputs": [
        {
          "output_type": "stream",
          "name": "stdout",
          "text": [
            "Mounted at /content/drive\n"
          ]
        }
      ]
    },
    {
      "cell_type": "code",
      "metadata": {
        "id": "Qw3befFsdWl0"
      },
      "source": [
        "import pandas as pd\n",
        "import seaborn as sns\n",
        "import matplotlib.pyplot as plt\n",
        "from sklearn.model_selection import train_test_split, GridSearchCV\n",
        "from sklearn.metrics import plot_confusion_matrix, classification_report, accuracy_score\n",
        "from sklearn.neighbors import KNeighborsClassifier\n",
        "from sklearn.preprocessing import StandardScaler\n",
        "from sklearn.pipeline import make_pipeline, Pipeline\n",
        "from sklearn.compose import make_column_selector, make_column_transformer\n",
        "from lightgbm import LGBMClassifier\n",
        "from xgboost import XGBClassifier"
      ],
      "execution_count": null,
      "outputs": []
    },
    {
      "cell_type": "code",
      "metadata": {
        "colab": {
          "base_uri": "https://localhost:8080/",
          "height": 268
        },
        "id": "8QX99ItY3YDQ",
        "outputId": "10af6dc4-6431-472d-bb7f-e851b694b794"
      },
      "source": [
        "df = pd.read_csv('/content/parkinsons.csv')\n",
        "df.head()"
      ],
      "execution_count": null,
      "outputs": [
        {
          "output_type": "execute_result",
          "data": {
            "text/html": [
              "\n",
              "  <div id=\"df-d15d507a-a442-4740-9c4a-c60899c6fb6e\">\n",
              "    <div class=\"colab-df-container\">\n",
              "      <div>\n",
              "<style scoped>\n",
              "    .dataframe tbody tr th:only-of-type {\n",
              "        vertical-align: middle;\n",
              "    }\n",
              "\n",
              "    .dataframe tbody tr th {\n",
              "        vertical-align: top;\n",
              "    }\n",
              "\n",
              "    .dataframe thead th {\n",
              "        text-align: right;\n",
              "    }\n",
              "</style>\n",
              "<table border=\"1\" class=\"dataframe\">\n",
              "  <thead>\n",
              "    <tr style=\"text-align: right;\">\n",
              "      <th></th>\n",
              "      <th>name</th>\n",
              "      <th>MDVP:Fo(Hz)</th>\n",
              "      <th>MDVP:Fhi(Hz)</th>\n",
              "      <th>MDVP:Flo(Hz)</th>\n",
              "      <th>MDVP:Jitter(%)</th>\n",
              "      <th>MDVP:Jitter(Abs)</th>\n",
              "      <th>MDVP:RAP</th>\n",
              "      <th>MDVP:PPQ</th>\n",
              "      <th>Jitter:DDP</th>\n",
              "      <th>MDVP:Shimmer</th>\n",
              "      <th>MDVP:Shimmer(dB)</th>\n",
              "      <th>Shimmer:APQ3</th>\n",
              "      <th>Shimmer:APQ5</th>\n",
              "      <th>MDVP:APQ</th>\n",
              "      <th>Shimmer:DDA</th>\n",
              "      <th>NHR</th>\n",
              "      <th>HNR</th>\n",
              "      <th>status</th>\n",
              "      <th>RPDE</th>\n",
              "      <th>DFA</th>\n",
              "      <th>spread1</th>\n",
              "      <th>spread2</th>\n",
              "      <th>D2</th>\n",
              "      <th>PPE</th>\n",
              "    </tr>\n",
              "  </thead>\n",
              "  <tbody>\n",
              "    <tr>\n",
              "      <th>0</th>\n",
              "      <td>phon_R01_S01_1</td>\n",
              "      <td>119.992</td>\n",
              "      <td>157.302</td>\n",
              "      <td>74.997</td>\n",
              "      <td>0.00784</td>\n",
              "      <td>0.00007</td>\n",
              "      <td>0.00370</td>\n",
              "      <td>0.00554</td>\n",
              "      <td>0.01109</td>\n",
              "      <td>0.04374</td>\n",
              "      <td>0.426</td>\n",
              "      <td>0.02182</td>\n",
              "      <td>0.03130</td>\n",
              "      <td>0.02971</td>\n",
              "      <td>0.06545</td>\n",
              "      <td>0.02211</td>\n",
              "      <td>21.033</td>\n",
              "      <td>1</td>\n",
              "      <td>0.414783</td>\n",
              "      <td>0.815285</td>\n",
              "      <td>-4.813031</td>\n",
              "      <td>0.266482</td>\n",
              "      <td>2.301442</td>\n",
              "      <td>0.284654</td>\n",
              "    </tr>\n",
              "    <tr>\n",
              "      <th>1</th>\n",
              "      <td>phon_R01_S01_2</td>\n",
              "      <td>122.400</td>\n",
              "      <td>148.650</td>\n",
              "      <td>113.819</td>\n",
              "      <td>0.00968</td>\n",
              "      <td>0.00008</td>\n",
              "      <td>0.00465</td>\n",
              "      <td>0.00696</td>\n",
              "      <td>0.01394</td>\n",
              "      <td>0.06134</td>\n",
              "      <td>0.626</td>\n",
              "      <td>0.03134</td>\n",
              "      <td>0.04518</td>\n",
              "      <td>0.04368</td>\n",
              "      <td>0.09403</td>\n",
              "      <td>0.01929</td>\n",
              "      <td>19.085</td>\n",
              "      <td>1</td>\n",
              "      <td>0.458359</td>\n",
              "      <td>0.819521</td>\n",
              "      <td>-4.075192</td>\n",
              "      <td>0.335590</td>\n",
              "      <td>2.486855</td>\n",
              "      <td>0.368674</td>\n",
              "    </tr>\n",
              "    <tr>\n",
              "      <th>2</th>\n",
              "      <td>phon_R01_S01_3</td>\n",
              "      <td>116.682</td>\n",
              "      <td>131.111</td>\n",
              "      <td>111.555</td>\n",
              "      <td>0.01050</td>\n",
              "      <td>0.00009</td>\n",
              "      <td>0.00544</td>\n",
              "      <td>0.00781</td>\n",
              "      <td>0.01633</td>\n",
              "      <td>0.05233</td>\n",
              "      <td>0.482</td>\n",
              "      <td>0.02757</td>\n",
              "      <td>0.03858</td>\n",
              "      <td>0.03590</td>\n",
              "      <td>0.08270</td>\n",
              "      <td>0.01309</td>\n",
              "      <td>20.651</td>\n",
              "      <td>1</td>\n",
              "      <td>0.429895</td>\n",
              "      <td>0.825288</td>\n",
              "      <td>-4.443179</td>\n",
              "      <td>0.311173</td>\n",
              "      <td>2.342259</td>\n",
              "      <td>0.332634</td>\n",
              "    </tr>\n",
              "    <tr>\n",
              "      <th>3</th>\n",
              "      <td>phon_R01_S01_4</td>\n",
              "      <td>116.676</td>\n",
              "      <td>137.871</td>\n",
              "      <td>111.366</td>\n",
              "      <td>0.00997</td>\n",
              "      <td>0.00009</td>\n",
              "      <td>0.00502</td>\n",
              "      <td>0.00698</td>\n",
              "      <td>0.01505</td>\n",
              "      <td>0.05492</td>\n",
              "      <td>0.517</td>\n",
              "      <td>0.02924</td>\n",
              "      <td>0.04005</td>\n",
              "      <td>0.03772</td>\n",
              "      <td>0.08771</td>\n",
              "      <td>0.01353</td>\n",
              "      <td>20.644</td>\n",
              "      <td>1</td>\n",
              "      <td>0.434969</td>\n",
              "      <td>0.819235</td>\n",
              "      <td>-4.117501</td>\n",
              "      <td>0.334147</td>\n",
              "      <td>2.405554</td>\n",
              "      <td>0.368975</td>\n",
              "    </tr>\n",
              "    <tr>\n",
              "      <th>4</th>\n",
              "      <td>phon_R01_S01_5</td>\n",
              "      <td>116.014</td>\n",
              "      <td>141.781</td>\n",
              "      <td>110.655</td>\n",
              "      <td>0.01284</td>\n",
              "      <td>0.00011</td>\n",
              "      <td>0.00655</td>\n",
              "      <td>0.00908</td>\n",
              "      <td>0.01966</td>\n",
              "      <td>0.06425</td>\n",
              "      <td>0.584</td>\n",
              "      <td>0.03490</td>\n",
              "      <td>0.04825</td>\n",
              "      <td>0.04465</td>\n",
              "      <td>0.10470</td>\n",
              "      <td>0.01767</td>\n",
              "      <td>19.649</td>\n",
              "      <td>1</td>\n",
              "      <td>0.417356</td>\n",
              "      <td>0.823484</td>\n",
              "      <td>-3.747787</td>\n",
              "      <td>0.234513</td>\n",
              "      <td>2.332180</td>\n",
              "      <td>0.410335</td>\n",
              "    </tr>\n",
              "  </tbody>\n",
              "</table>\n",
              "</div>\n",
              "      <button class=\"colab-df-convert\" onclick=\"convertToInteractive('df-d15d507a-a442-4740-9c4a-c60899c6fb6e')\"\n",
              "              title=\"Convert this dataframe to an interactive table.\"\n",
              "              style=\"display:none;\">\n",
              "        \n",
              "  <svg xmlns=\"http://www.w3.org/2000/svg\" height=\"24px\"viewBox=\"0 0 24 24\"\n",
              "       width=\"24px\">\n",
              "    <path d=\"M0 0h24v24H0V0z\" fill=\"none\"/>\n",
              "    <path d=\"M18.56 5.44l.94 2.06.94-2.06 2.06-.94-2.06-.94-.94-2.06-.94 2.06-2.06.94zm-11 1L8.5 8.5l.94-2.06 2.06-.94-2.06-.94L8.5 2.5l-.94 2.06-2.06.94zm10 10l.94 2.06.94-2.06 2.06-.94-2.06-.94-.94-2.06-.94 2.06-2.06.94z\"/><path d=\"M17.41 7.96l-1.37-1.37c-.4-.4-.92-.59-1.43-.59-.52 0-1.04.2-1.43.59L10.3 9.45l-7.72 7.72c-.78.78-.78 2.05 0 2.83L4 21.41c.39.39.9.59 1.41.59.51 0 1.02-.2 1.41-.59l7.78-7.78 2.81-2.81c.8-.78.8-2.07 0-2.86zM5.41 20L4 18.59l7.72-7.72 1.47 1.35L5.41 20z\"/>\n",
              "  </svg>\n",
              "      </button>\n",
              "      \n",
              "  <style>\n",
              "    .colab-df-container {\n",
              "      display:flex;\n",
              "      flex-wrap:wrap;\n",
              "      gap: 12px;\n",
              "    }\n",
              "\n",
              "    .colab-df-convert {\n",
              "      background-color: #E8F0FE;\n",
              "      border: none;\n",
              "      border-radius: 50%;\n",
              "      cursor: pointer;\n",
              "      display: none;\n",
              "      fill: #1967D2;\n",
              "      height: 32px;\n",
              "      padding: 0 0 0 0;\n",
              "      width: 32px;\n",
              "    }\n",
              "\n",
              "    .colab-df-convert:hover {\n",
              "      background-color: #E2EBFA;\n",
              "      box-shadow: 0px 1px 2px rgba(60, 64, 67, 0.3), 0px 1px 3px 1px rgba(60, 64, 67, 0.15);\n",
              "      fill: #174EA6;\n",
              "    }\n",
              "\n",
              "    [theme=dark] .colab-df-convert {\n",
              "      background-color: #3B4455;\n",
              "      fill: #D2E3FC;\n",
              "    }\n",
              "\n",
              "    [theme=dark] .colab-df-convert:hover {\n",
              "      background-color: #434B5C;\n",
              "      box-shadow: 0px 1px 3px 1px rgba(0, 0, 0, 0.15);\n",
              "      filter: drop-shadow(0px 1px 2px rgba(0, 0, 0, 0.3));\n",
              "      fill: #FFFFFF;\n",
              "    }\n",
              "  </style>\n",
              "\n",
              "      <script>\n",
              "        const buttonEl =\n",
              "          document.querySelector('#df-d15d507a-a442-4740-9c4a-c60899c6fb6e button.colab-df-convert');\n",
              "        buttonEl.style.display =\n",
              "          google.colab.kernel.accessAllowed ? 'block' : 'none';\n",
              "\n",
              "        async function convertToInteractive(key) {\n",
              "          const element = document.querySelector('#df-d15d507a-a442-4740-9c4a-c60899c6fb6e');\n",
              "          const dataTable =\n",
              "            await google.colab.kernel.invokeFunction('convertToInteractive',\n",
              "                                                     [key], {});\n",
              "          if (!dataTable) return;\n",
              "\n",
              "          const docLinkHtml = 'Like what you see? Visit the ' +\n",
              "            '<a target=\"_blank\" href=https://colab.research.google.com/notebooks/data_table.ipynb>data table notebook</a>'\n",
              "            + ' to learn more about interactive tables.';\n",
              "          element.innerHTML = '';\n",
              "          dataTable['output_type'] = 'display_data';\n",
              "          await google.colab.output.renderOutput(dataTable, element);\n",
              "          const docLink = document.createElement('div');\n",
              "          docLink.innerHTML = docLinkHtml;\n",
              "          element.appendChild(docLink);\n",
              "        }\n",
              "      </script>\n",
              "    </div>\n",
              "  </div>\n",
              "  "
            ],
            "text/plain": [
              "             name  MDVP:Fo(Hz)  MDVP:Fhi(Hz)  ...   spread2        D2       PPE\n",
              "0  phon_R01_S01_1      119.992       157.302  ...  0.266482  2.301442  0.284654\n",
              "1  phon_R01_S01_2      122.400       148.650  ...  0.335590  2.486855  0.368674\n",
              "2  phon_R01_S01_3      116.682       131.111  ...  0.311173  2.342259  0.332634\n",
              "3  phon_R01_S01_4      116.676       137.871  ...  0.334147  2.405554  0.368975\n",
              "4  phon_R01_S01_5      116.014       141.781  ...  0.234513  2.332180  0.410335\n",
              "\n",
              "[5 rows x 24 columns]"
            ]
          },
          "metadata": {},
          "execution_count": 3
        }
      ]
    },
    {
      "cell_type": "code",
      "metadata": {
        "colab": {
          "base_uri": "https://localhost:8080/"
        },
        "id": "aRP5zAl237gm",
        "outputId": "4e7d1d4d-8519-4985-e0b4-877aa11e417f"
      },
      "source": [
        "df.shape"
      ],
      "execution_count": null,
      "outputs": [
        {
          "output_type": "execute_result",
          "data": {
            "text/plain": [
              "(195, 24)"
            ]
          },
          "metadata": {},
          "execution_count": 4
        }
      ]
    },
    {
      "cell_type": "code",
      "source": [
        "df.tail(18)"
      ],
      "metadata": {
        "colab": {
          "base_uri": "https://localhost:8080/",
          "height": 671
        },
        "id": "zb33beUxegBE",
        "outputId": "be74ed6d-dc97-4d99-c711-e780bbef3b11"
      },
      "execution_count": null,
      "outputs": [
        {
          "output_type": "execute_result",
          "data": {
            "text/html": [
              "\n",
              "  <div id=\"df-d6b95770-4a6b-40d0-8e01-55e276a96719\">\n",
              "    <div class=\"colab-df-container\">\n",
              "      <div>\n",
              "<style scoped>\n",
              "    .dataframe tbody tr th:only-of-type {\n",
              "        vertical-align: middle;\n",
              "    }\n",
              "\n",
              "    .dataframe tbody tr th {\n",
              "        vertical-align: top;\n",
              "    }\n",
              "\n",
              "    .dataframe thead th {\n",
              "        text-align: right;\n",
              "    }\n",
              "</style>\n",
              "<table border=\"1\" class=\"dataframe\">\n",
              "  <thead>\n",
              "    <tr style=\"text-align: right;\">\n",
              "      <th></th>\n",
              "      <th>name</th>\n",
              "      <th>MDVP:Fo(Hz)</th>\n",
              "      <th>MDVP:Fhi(Hz)</th>\n",
              "      <th>MDVP:Flo(Hz)</th>\n",
              "      <th>MDVP:Jitter(%)</th>\n",
              "      <th>MDVP:Jitter(Abs)</th>\n",
              "      <th>MDVP:RAP</th>\n",
              "      <th>MDVP:PPQ</th>\n",
              "      <th>Jitter:DDP</th>\n",
              "      <th>MDVP:Shimmer</th>\n",
              "      <th>MDVP:Shimmer(dB)</th>\n",
              "      <th>Shimmer:APQ3</th>\n",
              "      <th>Shimmer:APQ5</th>\n",
              "      <th>MDVP:APQ</th>\n",
              "      <th>Shimmer:DDA</th>\n",
              "      <th>NHR</th>\n",
              "      <th>HNR</th>\n",
              "      <th>status</th>\n",
              "      <th>RPDE</th>\n",
              "      <th>DFA</th>\n",
              "      <th>spread1</th>\n",
              "      <th>spread2</th>\n",
              "      <th>D2</th>\n",
              "      <th>PPE</th>\n",
              "    </tr>\n",
              "  </thead>\n",
              "  <tbody>\n",
              "    <tr>\n",
              "      <th>177</th>\n",
              "      <td>phon_R01_S44_1</td>\n",
              "      <td>151.737</td>\n",
              "      <td>190.204</td>\n",
              "      <td>129.859</td>\n",
              "      <td>0.00314</td>\n",
              "      <td>0.00002</td>\n",
              "      <td>0.00135</td>\n",
              "      <td>0.00162</td>\n",
              "      <td>0.00406</td>\n",
              "      <td>0.01469</td>\n",
              "      <td>0.132</td>\n",
              "      <td>0.00728</td>\n",
              "      <td>0.00886</td>\n",
              "      <td>0.01230</td>\n",
              "      <td>0.02184</td>\n",
              "      <td>0.00570</td>\n",
              "      <td>24.151</td>\n",
              "      <td>1</td>\n",
              "      <td>0.396610</td>\n",
              "      <td>0.745957</td>\n",
              "      <td>-6.486822</td>\n",
              "      <td>0.197919</td>\n",
              "      <td>2.449763</td>\n",
              "      <td>0.132703</td>\n",
              "    </tr>\n",
              "    <tr>\n",
              "      <th>178</th>\n",
              "      <td>phon_R01_S44_2</td>\n",
              "      <td>148.790</td>\n",
              "      <td>158.359</td>\n",
              "      <td>138.990</td>\n",
              "      <td>0.00309</td>\n",
              "      <td>0.00002</td>\n",
              "      <td>0.00152</td>\n",
              "      <td>0.00186</td>\n",
              "      <td>0.00456</td>\n",
              "      <td>0.01574</td>\n",
              "      <td>0.142</td>\n",
              "      <td>0.00839</td>\n",
              "      <td>0.00956</td>\n",
              "      <td>0.01309</td>\n",
              "      <td>0.02518</td>\n",
              "      <td>0.00488</td>\n",
              "      <td>24.412</td>\n",
              "      <td>1</td>\n",
              "      <td>0.402591</td>\n",
              "      <td>0.762508</td>\n",
              "      <td>-6.311987</td>\n",
              "      <td>0.182459</td>\n",
              "      <td>2.251553</td>\n",
              "      <td>0.160306</td>\n",
              "    </tr>\n",
              "    <tr>\n",
              "      <th>179</th>\n",
              "      <td>phon_R01_S44_3</td>\n",
              "      <td>148.143</td>\n",
              "      <td>155.982</td>\n",
              "      <td>135.041</td>\n",
              "      <td>0.00392</td>\n",
              "      <td>0.00003</td>\n",
              "      <td>0.00204</td>\n",
              "      <td>0.00231</td>\n",
              "      <td>0.00612</td>\n",
              "      <td>0.01450</td>\n",
              "      <td>0.131</td>\n",
              "      <td>0.00725</td>\n",
              "      <td>0.00876</td>\n",
              "      <td>0.01263</td>\n",
              "      <td>0.02175</td>\n",
              "      <td>0.00540</td>\n",
              "      <td>23.683</td>\n",
              "      <td>1</td>\n",
              "      <td>0.398499</td>\n",
              "      <td>0.778349</td>\n",
              "      <td>-5.711205</td>\n",
              "      <td>0.240875</td>\n",
              "      <td>2.845109</td>\n",
              "      <td>0.192730</td>\n",
              "    </tr>\n",
              "    <tr>\n",
              "      <th>180</th>\n",
              "      <td>phon_R01_S44_4</td>\n",
              "      <td>150.440</td>\n",
              "      <td>163.441</td>\n",
              "      <td>144.736</td>\n",
              "      <td>0.00396</td>\n",
              "      <td>0.00003</td>\n",
              "      <td>0.00206</td>\n",
              "      <td>0.00233</td>\n",
              "      <td>0.00619</td>\n",
              "      <td>0.02551</td>\n",
              "      <td>0.237</td>\n",
              "      <td>0.01321</td>\n",
              "      <td>0.01574</td>\n",
              "      <td>0.02148</td>\n",
              "      <td>0.03964</td>\n",
              "      <td>0.00611</td>\n",
              "      <td>23.133</td>\n",
              "      <td>1</td>\n",
              "      <td>0.352396</td>\n",
              "      <td>0.759320</td>\n",
              "      <td>-6.261446</td>\n",
              "      <td>0.183218</td>\n",
              "      <td>2.264226</td>\n",
              "      <td>0.144105</td>\n",
              "    </tr>\n",
              "    <tr>\n",
              "      <th>181</th>\n",
              "      <td>phon_R01_S44_5</td>\n",
              "      <td>148.462</td>\n",
              "      <td>161.078</td>\n",
              "      <td>141.998</td>\n",
              "      <td>0.00397</td>\n",
              "      <td>0.00003</td>\n",
              "      <td>0.00202</td>\n",
              "      <td>0.00235</td>\n",
              "      <td>0.00605</td>\n",
              "      <td>0.01831</td>\n",
              "      <td>0.163</td>\n",
              "      <td>0.00950</td>\n",
              "      <td>0.01103</td>\n",
              "      <td>0.01559</td>\n",
              "      <td>0.02849</td>\n",
              "      <td>0.00639</td>\n",
              "      <td>22.866</td>\n",
              "      <td>1</td>\n",
              "      <td>0.408598</td>\n",
              "      <td>0.768845</td>\n",
              "      <td>-5.704053</td>\n",
              "      <td>0.216204</td>\n",
              "      <td>2.679185</td>\n",
              "      <td>0.197710</td>\n",
              "    </tr>\n",
              "    <tr>\n",
              "      <th>182</th>\n",
              "      <td>phon_R01_S44_6</td>\n",
              "      <td>149.818</td>\n",
              "      <td>163.417</td>\n",
              "      <td>144.786</td>\n",
              "      <td>0.00336</td>\n",
              "      <td>0.00002</td>\n",
              "      <td>0.00174</td>\n",
              "      <td>0.00198</td>\n",
              "      <td>0.00521</td>\n",
              "      <td>0.02145</td>\n",
              "      <td>0.198</td>\n",
              "      <td>0.01155</td>\n",
              "      <td>0.01341</td>\n",
              "      <td>0.01666</td>\n",
              "      <td>0.03464</td>\n",
              "      <td>0.00595</td>\n",
              "      <td>23.008</td>\n",
              "      <td>1</td>\n",
              "      <td>0.329577</td>\n",
              "      <td>0.757180</td>\n",
              "      <td>-6.277170</td>\n",
              "      <td>0.109397</td>\n",
              "      <td>2.209021</td>\n",
              "      <td>0.156368</td>\n",
              "    </tr>\n",
              "    <tr>\n",
              "      <th>183</th>\n",
              "      <td>phon_R01_S49_1</td>\n",
              "      <td>117.226</td>\n",
              "      <td>123.925</td>\n",
              "      <td>106.656</td>\n",
              "      <td>0.00417</td>\n",
              "      <td>0.00004</td>\n",
              "      <td>0.00186</td>\n",
              "      <td>0.00270</td>\n",
              "      <td>0.00558</td>\n",
              "      <td>0.01909</td>\n",
              "      <td>0.171</td>\n",
              "      <td>0.00864</td>\n",
              "      <td>0.01223</td>\n",
              "      <td>0.01949</td>\n",
              "      <td>0.02592</td>\n",
              "      <td>0.00955</td>\n",
              "      <td>23.079</td>\n",
              "      <td>0</td>\n",
              "      <td>0.603515</td>\n",
              "      <td>0.669565</td>\n",
              "      <td>-5.619070</td>\n",
              "      <td>0.191576</td>\n",
              "      <td>2.027228</td>\n",
              "      <td>0.215724</td>\n",
              "    </tr>\n",
              "    <tr>\n",
              "      <th>184</th>\n",
              "      <td>phon_R01_S49_2</td>\n",
              "      <td>116.848</td>\n",
              "      <td>217.552</td>\n",
              "      <td>99.503</td>\n",
              "      <td>0.00531</td>\n",
              "      <td>0.00005</td>\n",
              "      <td>0.00260</td>\n",
              "      <td>0.00346</td>\n",
              "      <td>0.00780</td>\n",
              "      <td>0.01795</td>\n",
              "      <td>0.163</td>\n",
              "      <td>0.00810</td>\n",
              "      <td>0.01144</td>\n",
              "      <td>0.01756</td>\n",
              "      <td>0.02429</td>\n",
              "      <td>0.01179</td>\n",
              "      <td>22.085</td>\n",
              "      <td>0</td>\n",
              "      <td>0.663842</td>\n",
              "      <td>0.656516</td>\n",
              "      <td>-5.198864</td>\n",
              "      <td>0.206768</td>\n",
              "      <td>2.120412</td>\n",
              "      <td>0.252404</td>\n",
              "    </tr>\n",
              "    <tr>\n",
              "      <th>185</th>\n",
              "      <td>phon_R01_S49_3</td>\n",
              "      <td>116.286</td>\n",
              "      <td>177.291</td>\n",
              "      <td>96.983</td>\n",
              "      <td>0.00314</td>\n",
              "      <td>0.00003</td>\n",
              "      <td>0.00134</td>\n",
              "      <td>0.00192</td>\n",
              "      <td>0.00403</td>\n",
              "      <td>0.01564</td>\n",
              "      <td>0.136</td>\n",
              "      <td>0.00667</td>\n",
              "      <td>0.00990</td>\n",
              "      <td>0.01691</td>\n",
              "      <td>0.02001</td>\n",
              "      <td>0.00737</td>\n",
              "      <td>24.199</td>\n",
              "      <td>0</td>\n",
              "      <td>0.598515</td>\n",
              "      <td>0.654331</td>\n",
              "      <td>-5.592584</td>\n",
              "      <td>0.133917</td>\n",
              "      <td>2.058658</td>\n",
              "      <td>0.214346</td>\n",
              "    </tr>\n",
              "    <tr>\n",
              "      <th>186</th>\n",
              "      <td>phon_R01_S49_4</td>\n",
              "      <td>116.556</td>\n",
              "      <td>592.030</td>\n",
              "      <td>86.228</td>\n",
              "      <td>0.00496</td>\n",
              "      <td>0.00004</td>\n",
              "      <td>0.00254</td>\n",
              "      <td>0.00263</td>\n",
              "      <td>0.00762</td>\n",
              "      <td>0.01660</td>\n",
              "      <td>0.154</td>\n",
              "      <td>0.00820</td>\n",
              "      <td>0.00972</td>\n",
              "      <td>0.01491</td>\n",
              "      <td>0.02460</td>\n",
              "      <td>0.01397</td>\n",
              "      <td>23.958</td>\n",
              "      <td>0</td>\n",
              "      <td>0.566424</td>\n",
              "      <td>0.667654</td>\n",
              "      <td>-6.431119</td>\n",
              "      <td>0.153310</td>\n",
              "      <td>2.161936</td>\n",
              "      <td>0.120605</td>\n",
              "    </tr>\n",
              "    <tr>\n",
              "      <th>187</th>\n",
              "      <td>phon_R01_S49_5</td>\n",
              "      <td>116.342</td>\n",
              "      <td>581.289</td>\n",
              "      <td>94.246</td>\n",
              "      <td>0.00267</td>\n",
              "      <td>0.00002</td>\n",
              "      <td>0.00115</td>\n",
              "      <td>0.00148</td>\n",
              "      <td>0.00345</td>\n",
              "      <td>0.01300</td>\n",
              "      <td>0.117</td>\n",
              "      <td>0.00631</td>\n",
              "      <td>0.00789</td>\n",
              "      <td>0.01144</td>\n",
              "      <td>0.01892</td>\n",
              "      <td>0.00680</td>\n",
              "      <td>25.023</td>\n",
              "      <td>0</td>\n",
              "      <td>0.528485</td>\n",
              "      <td>0.663884</td>\n",
              "      <td>-6.359018</td>\n",
              "      <td>0.116636</td>\n",
              "      <td>2.152083</td>\n",
              "      <td>0.138868</td>\n",
              "    </tr>\n",
              "    <tr>\n",
              "      <th>188</th>\n",
              "      <td>phon_R01_S49_6</td>\n",
              "      <td>114.563</td>\n",
              "      <td>119.167</td>\n",
              "      <td>86.647</td>\n",
              "      <td>0.00327</td>\n",
              "      <td>0.00003</td>\n",
              "      <td>0.00146</td>\n",
              "      <td>0.00184</td>\n",
              "      <td>0.00439</td>\n",
              "      <td>0.01185</td>\n",
              "      <td>0.106</td>\n",
              "      <td>0.00557</td>\n",
              "      <td>0.00721</td>\n",
              "      <td>0.01095</td>\n",
              "      <td>0.01672</td>\n",
              "      <td>0.00703</td>\n",
              "      <td>24.775</td>\n",
              "      <td>0</td>\n",
              "      <td>0.555303</td>\n",
              "      <td>0.659132</td>\n",
              "      <td>-6.710219</td>\n",
              "      <td>0.149694</td>\n",
              "      <td>1.913990</td>\n",
              "      <td>0.121777</td>\n",
              "    </tr>\n",
              "    <tr>\n",
              "      <th>189</th>\n",
              "      <td>phon_R01_S50_1</td>\n",
              "      <td>201.774</td>\n",
              "      <td>262.707</td>\n",
              "      <td>78.228</td>\n",
              "      <td>0.00694</td>\n",
              "      <td>0.00003</td>\n",
              "      <td>0.00412</td>\n",
              "      <td>0.00396</td>\n",
              "      <td>0.01235</td>\n",
              "      <td>0.02574</td>\n",
              "      <td>0.255</td>\n",
              "      <td>0.01454</td>\n",
              "      <td>0.01582</td>\n",
              "      <td>0.01758</td>\n",
              "      <td>0.04363</td>\n",
              "      <td>0.04441</td>\n",
              "      <td>19.368</td>\n",
              "      <td>0</td>\n",
              "      <td>0.508479</td>\n",
              "      <td>0.683761</td>\n",
              "      <td>-6.934474</td>\n",
              "      <td>0.159890</td>\n",
              "      <td>2.316346</td>\n",
              "      <td>0.112838</td>\n",
              "    </tr>\n",
              "    <tr>\n",
              "      <th>190</th>\n",
              "      <td>phon_R01_S50_2</td>\n",
              "      <td>174.188</td>\n",
              "      <td>230.978</td>\n",
              "      <td>94.261</td>\n",
              "      <td>0.00459</td>\n",
              "      <td>0.00003</td>\n",
              "      <td>0.00263</td>\n",
              "      <td>0.00259</td>\n",
              "      <td>0.00790</td>\n",
              "      <td>0.04087</td>\n",
              "      <td>0.405</td>\n",
              "      <td>0.02336</td>\n",
              "      <td>0.02498</td>\n",
              "      <td>0.02745</td>\n",
              "      <td>0.07008</td>\n",
              "      <td>0.02764</td>\n",
              "      <td>19.517</td>\n",
              "      <td>0</td>\n",
              "      <td>0.448439</td>\n",
              "      <td>0.657899</td>\n",
              "      <td>-6.538586</td>\n",
              "      <td>0.121952</td>\n",
              "      <td>2.657476</td>\n",
              "      <td>0.133050</td>\n",
              "    </tr>\n",
              "    <tr>\n",
              "      <th>191</th>\n",
              "      <td>phon_R01_S50_3</td>\n",
              "      <td>209.516</td>\n",
              "      <td>253.017</td>\n",
              "      <td>89.488</td>\n",
              "      <td>0.00564</td>\n",
              "      <td>0.00003</td>\n",
              "      <td>0.00331</td>\n",
              "      <td>0.00292</td>\n",
              "      <td>0.00994</td>\n",
              "      <td>0.02751</td>\n",
              "      <td>0.263</td>\n",
              "      <td>0.01604</td>\n",
              "      <td>0.01657</td>\n",
              "      <td>0.01879</td>\n",
              "      <td>0.04812</td>\n",
              "      <td>0.01810</td>\n",
              "      <td>19.147</td>\n",
              "      <td>0</td>\n",
              "      <td>0.431674</td>\n",
              "      <td>0.683244</td>\n",
              "      <td>-6.195325</td>\n",
              "      <td>0.129303</td>\n",
              "      <td>2.784312</td>\n",
              "      <td>0.168895</td>\n",
              "    </tr>\n",
              "    <tr>\n",
              "      <th>192</th>\n",
              "      <td>phon_R01_S50_4</td>\n",
              "      <td>174.688</td>\n",
              "      <td>240.005</td>\n",
              "      <td>74.287</td>\n",
              "      <td>0.01360</td>\n",
              "      <td>0.00008</td>\n",
              "      <td>0.00624</td>\n",
              "      <td>0.00564</td>\n",
              "      <td>0.01873</td>\n",
              "      <td>0.02308</td>\n",
              "      <td>0.256</td>\n",
              "      <td>0.01268</td>\n",
              "      <td>0.01365</td>\n",
              "      <td>0.01667</td>\n",
              "      <td>0.03804</td>\n",
              "      <td>0.10715</td>\n",
              "      <td>17.883</td>\n",
              "      <td>0</td>\n",
              "      <td>0.407567</td>\n",
              "      <td>0.655683</td>\n",
              "      <td>-6.787197</td>\n",
              "      <td>0.158453</td>\n",
              "      <td>2.679772</td>\n",
              "      <td>0.131728</td>\n",
              "    </tr>\n",
              "    <tr>\n",
              "      <th>193</th>\n",
              "      <td>phon_R01_S50_5</td>\n",
              "      <td>198.764</td>\n",
              "      <td>396.961</td>\n",
              "      <td>74.904</td>\n",
              "      <td>0.00740</td>\n",
              "      <td>0.00004</td>\n",
              "      <td>0.00370</td>\n",
              "      <td>0.00390</td>\n",
              "      <td>0.01109</td>\n",
              "      <td>0.02296</td>\n",
              "      <td>0.241</td>\n",
              "      <td>0.01265</td>\n",
              "      <td>0.01321</td>\n",
              "      <td>0.01588</td>\n",
              "      <td>0.03794</td>\n",
              "      <td>0.07223</td>\n",
              "      <td>19.020</td>\n",
              "      <td>0</td>\n",
              "      <td>0.451221</td>\n",
              "      <td>0.643956</td>\n",
              "      <td>-6.744577</td>\n",
              "      <td>0.207454</td>\n",
              "      <td>2.138608</td>\n",
              "      <td>0.123306</td>\n",
              "    </tr>\n",
              "    <tr>\n",
              "      <th>194</th>\n",
              "      <td>phon_R01_S50_6</td>\n",
              "      <td>214.289</td>\n",
              "      <td>260.277</td>\n",
              "      <td>77.973</td>\n",
              "      <td>0.00567</td>\n",
              "      <td>0.00003</td>\n",
              "      <td>0.00295</td>\n",
              "      <td>0.00317</td>\n",
              "      <td>0.00885</td>\n",
              "      <td>0.01884</td>\n",
              "      <td>0.190</td>\n",
              "      <td>0.01026</td>\n",
              "      <td>0.01161</td>\n",
              "      <td>0.01373</td>\n",
              "      <td>0.03078</td>\n",
              "      <td>0.04398</td>\n",
              "      <td>21.209</td>\n",
              "      <td>0</td>\n",
              "      <td>0.462803</td>\n",
              "      <td>0.664357</td>\n",
              "      <td>-5.724056</td>\n",
              "      <td>0.190667</td>\n",
              "      <td>2.555477</td>\n",
              "      <td>0.148569</td>\n",
              "    </tr>\n",
              "  </tbody>\n",
              "</table>\n",
              "</div>\n",
              "      <button class=\"colab-df-convert\" onclick=\"convertToInteractive('df-d6b95770-4a6b-40d0-8e01-55e276a96719')\"\n",
              "              title=\"Convert this dataframe to an interactive table.\"\n",
              "              style=\"display:none;\">\n",
              "        \n",
              "  <svg xmlns=\"http://www.w3.org/2000/svg\" height=\"24px\"viewBox=\"0 0 24 24\"\n",
              "       width=\"24px\">\n",
              "    <path d=\"M0 0h24v24H0V0z\" fill=\"none\"/>\n",
              "    <path d=\"M18.56 5.44l.94 2.06.94-2.06 2.06-.94-2.06-.94-.94-2.06-.94 2.06-2.06.94zm-11 1L8.5 8.5l.94-2.06 2.06-.94-2.06-.94L8.5 2.5l-.94 2.06-2.06.94zm10 10l.94 2.06.94-2.06 2.06-.94-2.06-.94-.94-2.06-.94 2.06-2.06.94z\"/><path d=\"M17.41 7.96l-1.37-1.37c-.4-.4-.92-.59-1.43-.59-.52 0-1.04.2-1.43.59L10.3 9.45l-7.72 7.72c-.78.78-.78 2.05 0 2.83L4 21.41c.39.39.9.59 1.41.59.51 0 1.02-.2 1.41-.59l7.78-7.78 2.81-2.81c.8-.78.8-2.07 0-2.86zM5.41 20L4 18.59l7.72-7.72 1.47 1.35L5.41 20z\"/>\n",
              "  </svg>\n",
              "      </button>\n",
              "      \n",
              "  <style>\n",
              "    .colab-df-container {\n",
              "      display:flex;\n",
              "      flex-wrap:wrap;\n",
              "      gap: 12px;\n",
              "    }\n",
              "\n",
              "    .colab-df-convert {\n",
              "      background-color: #E8F0FE;\n",
              "      border: none;\n",
              "      border-radius: 50%;\n",
              "      cursor: pointer;\n",
              "      display: none;\n",
              "      fill: #1967D2;\n",
              "      height: 32px;\n",
              "      padding: 0 0 0 0;\n",
              "      width: 32px;\n",
              "    }\n",
              "\n",
              "    .colab-df-convert:hover {\n",
              "      background-color: #E2EBFA;\n",
              "      box-shadow: 0px 1px 2px rgba(60, 64, 67, 0.3), 0px 1px 3px 1px rgba(60, 64, 67, 0.15);\n",
              "      fill: #174EA6;\n",
              "    }\n",
              "\n",
              "    [theme=dark] .colab-df-convert {\n",
              "      background-color: #3B4455;\n",
              "      fill: #D2E3FC;\n",
              "    }\n",
              "\n",
              "    [theme=dark] .colab-df-convert:hover {\n",
              "      background-color: #434B5C;\n",
              "      box-shadow: 0px 1px 3px 1px rgba(0, 0, 0, 0.15);\n",
              "      filter: drop-shadow(0px 1px 2px rgba(0, 0, 0, 0.3));\n",
              "      fill: #FFFFFF;\n",
              "    }\n",
              "  </style>\n",
              "\n",
              "      <script>\n",
              "        const buttonEl =\n",
              "          document.querySelector('#df-d6b95770-4a6b-40d0-8e01-55e276a96719 button.colab-df-convert');\n",
              "        buttonEl.style.display =\n",
              "          google.colab.kernel.accessAllowed ? 'block' : 'none';\n",
              "\n",
              "        async function convertToInteractive(key) {\n",
              "          const element = document.querySelector('#df-d6b95770-4a6b-40d0-8e01-55e276a96719');\n",
              "          const dataTable =\n",
              "            await google.colab.kernel.invokeFunction('convertToInteractive',\n",
              "                                                     [key], {});\n",
              "          if (!dataTable) return;\n",
              "\n",
              "          const docLinkHtml = 'Like what you see? Visit the ' +\n",
              "            '<a target=\"_blank\" href=https://colab.research.google.com/notebooks/data_table.ipynb>data table notebook</a>'\n",
              "            + ' to learn more about interactive tables.';\n",
              "          element.innerHTML = '';\n",
              "          dataTable['output_type'] = 'display_data';\n",
              "          await google.colab.output.renderOutput(dataTable, element);\n",
              "          const docLink = document.createElement('div');\n",
              "          docLink.innerHTML = docLinkHtml;\n",
              "          element.appendChild(docLink);\n",
              "        }\n",
              "      </script>\n",
              "    </div>\n",
              "  </div>\n",
              "  "
            ],
            "text/plain": [
              "               name  MDVP:Fo(Hz)  MDVP:Fhi(Hz)  ...   spread2        D2       PPE\n",
              "177  phon_R01_S44_1      151.737       190.204  ...  0.197919  2.449763  0.132703\n",
              "178  phon_R01_S44_2      148.790       158.359  ...  0.182459  2.251553  0.160306\n",
              "179  phon_R01_S44_3      148.143       155.982  ...  0.240875  2.845109  0.192730\n",
              "180  phon_R01_S44_4      150.440       163.441  ...  0.183218  2.264226  0.144105\n",
              "181  phon_R01_S44_5      148.462       161.078  ...  0.216204  2.679185  0.197710\n",
              "182  phon_R01_S44_6      149.818       163.417  ...  0.109397  2.209021  0.156368\n",
              "183  phon_R01_S49_1      117.226       123.925  ...  0.191576  2.027228  0.215724\n",
              "184  phon_R01_S49_2      116.848       217.552  ...  0.206768  2.120412  0.252404\n",
              "185  phon_R01_S49_3      116.286       177.291  ...  0.133917  2.058658  0.214346\n",
              "186  phon_R01_S49_4      116.556       592.030  ...  0.153310  2.161936  0.120605\n",
              "187  phon_R01_S49_5      116.342       581.289  ...  0.116636  2.152083  0.138868\n",
              "188  phon_R01_S49_6      114.563       119.167  ...  0.149694  1.913990  0.121777\n",
              "189  phon_R01_S50_1      201.774       262.707  ...  0.159890  2.316346  0.112838\n",
              "190  phon_R01_S50_2      174.188       230.978  ...  0.121952  2.657476  0.133050\n",
              "191  phon_R01_S50_3      209.516       253.017  ...  0.129303  2.784312  0.168895\n",
              "192  phon_R01_S50_4      174.688       240.005  ...  0.158453  2.679772  0.131728\n",
              "193  phon_R01_S50_5      198.764       396.961  ...  0.207454  2.138608  0.123306\n",
              "194  phon_R01_S50_6      214.289       260.277  ...  0.190667  2.555477  0.148569\n",
              "\n",
              "[18 rows x 24 columns]"
            ]
          },
          "metadata": {},
          "execution_count": 5
        }
      ]
    },
    {
      "cell_type": "code",
      "source": [
        "strings = df['name']   #Source: https://www.kite.com/python/answers/how-to-check-if-a-list-contains-a-substring-in-python\n",
        "substring = \"_7\"\n",
        "\n",
        "substring_in_list = any(substring in string for string in strings)\n",
        "\n",
        "print(substring_in_list)"
      ],
      "metadata": {
        "colab": {
          "base_uri": "https://localhost:8080/"
        },
        "id": "ULR6abbpgHbS",
        "outputId": "908d0c1b-f261-4bd0-c8ea-7be15b0318a4"
      },
      "execution_count": null,
      "outputs": [
        {
          "output_type": "stream",
          "name": "stdout",
          "text": [
            "True\n"
          ]
        }
      ]
    },
    {
      "cell_type": "code",
      "source": [
        "matching = [s for s in df['name'] if \"_7\" in s] #Source: https://stackoverflow.com/questions/4843158/how-to-check-if-a-string-is-a-substring-of-items-in-a-list-of-strings\n",
        "matching"
      ],
      "metadata": {
        "colab": {
          "base_uri": "https://localhost:8080/"
        },
        "id": "yzvqLF3mhRmT",
        "outputId": "e57f01dd-974f-42f0-8539-47848c24744b"
      },
      "execution_count": null,
      "outputs": [
        {
          "output_type": "execute_result",
          "data": {
            "text/plain": [
              "['phon_R01_S21_7', 'phon_R01_S27_7', 'phon_R01_S35_7']"
            ]
          },
          "metadata": {},
          "execution_count": 7
        }
      ]
    },
    {
      "cell_type": "code",
      "source": [
        "df.loc[df['name']=='phon_R01_S21_7']"
      ],
      "metadata": {
        "colab": {
          "base_uri": "https://localhost:8080/",
          "height": 144
        },
        "id": "DoWyanoaheOl",
        "outputId": "d26f429a-6ec2-478d-e433-7bc7b50bf423"
      },
      "execution_count": null,
      "outputs": [
        {
          "output_type": "execute_result",
          "data": {
            "text/html": [
              "\n",
              "  <div id=\"df-db0ec0eb-8036-4a5c-a06c-511f42d82ef8\">\n",
              "    <div class=\"colab-df-container\">\n",
              "      <div>\n",
              "<style scoped>\n",
              "    .dataframe tbody tr th:only-of-type {\n",
              "        vertical-align: middle;\n",
              "    }\n",
              "\n",
              "    .dataframe tbody tr th {\n",
              "        vertical-align: top;\n",
              "    }\n",
              "\n",
              "    .dataframe thead th {\n",
              "        text-align: right;\n",
              "    }\n",
              "</style>\n",
              "<table border=\"1\" class=\"dataframe\">\n",
              "  <thead>\n",
              "    <tr style=\"text-align: right;\">\n",
              "      <th></th>\n",
              "      <th>name</th>\n",
              "      <th>MDVP:Fo(Hz)</th>\n",
              "      <th>MDVP:Fhi(Hz)</th>\n",
              "      <th>MDVP:Flo(Hz)</th>\n",
              "      <th>MDVP:Jitter(%)</th>\n",
              "      <th>MDVP:Jitter(Abs)</th>\n",
              "      <th>MDVP:RAP</th>\n",
              "      <th>MDVP:PPQ</th>\n",
              "      <th>Jitter:DDP</th>\n",
              "      <th>MDVP:Shimmer</th>\n",
              "      <th>MDVP:Shimmer(dB)</th>\n",
              "      <th>Shimmer:APQ3</th>\n",
              "      <th>Shimmer:APQ5</th>\n",
              "      <th>MDVP:APQ</th>\n",
              "      <th>Shimmer:DDA</th>\n",
              "      <th>NHR</th>\n",
              "      <th>HNR</th>\n",
              "      <th>status</th>\n",
              "      <th>RPDE</th>\n",
              "      <th>DFA</th>\n",
              "      <th>spread1</th>\n",
              "      <th>spread2</th>\n",
              "      <th>D2</th>\n",
              "      <th>PPE</th>\n",
              "    </tr>\n",
              "  </thead>\n",
              "  <tbody>\n",
              "    <tr>\n",
              "      <th>90</th>\n",
              "      <td>phon_R01_S21_7</td>\n",
              "      <td>166.605</td>\n",
              "      <td>206.008</td>\n",
              "      <td>78.032</td>\n",
              "      <td>0.00742</td>\n",
              "      <td>0.00004</td>\n",
              "      <td>0.00387</td>\n",
              "      <td>0.00453</td>\n",
              "      <td>0.01161</td>\n",
              "      <td>0.0664</td>\n",
              "      <td>0.634</td>\n",
              "      <td>0.0365</td>\n",
              "      <td>0.04282</td>\n",
              "      <td>0.05114</td>\n",
              "      <td>0.10949</td>\n",
              "      <td>0.08725</td>\n",
              "      <td>11.744</td>\n",
              "      <td>1</td>\n",
              "      <td>0.65341</td>\n",
              "      <td>0.733165</td>\n",
              "      <td>-4.508984</td>\n",
              "      <td>0.389232</td>\n",
              "      <td>3.317586</td>\n",
              "      <td>0.301952</td>\n",
              "    </tr>\n",
              "  </tbody>\n",
              "</table>\n",
              "</div>\n",
              "      <button class=\"colab-df-convert\" onclick=\"convertToInteractive('df-db0ec0eb-8036-4a5c-a06c-511f42d82ef8')\"\n",
              "              title=\"Convert this dataframe to an interactive table.\"\n",
              "              style=\"display:none;\">\n",
              "        \n",
              "  <svg xmlns=\"http://www.w3.org/2000/svg\" height=\"24px\"viewBox=\"0 0 24 24\"\n",
              "       width=\"24px\">\n",
              "    <path d=\"M0 0h24v24H0V0z\" fill=\"none\"/>\n",
              "    <path d=\"M18.56 5.44l.94 2.06.94-2.06 2.06-.94-2.06-.94-.94-2.06-.94 2.06-2.06.94zm-11 1L8.5 8.5l.94-2.06 2.06-.94-2.06-.94L8.5 2.5l-.94 2.06-2.06.94zm10 10l.94 2.06.94-2.06 2.06-.94-2.06-.94-.94-2.06-.94 2.06-2.06.94z\"/><path d=\"M17.41 7.96l-1.37-1.37c-.4-.4-.92-.59-1.43-.59-.52 0-1.04.2-1.43.59L10.3 9.45l-7.72 7.72c-.78.78-.78 2.05 0 2.83L4 21.41c.39.39.9.59 1.41.59.51 0 1.02-.2 1.41-.59l7.78-7.78 2.81-2.81c.8-.78.8-2.07 0-2.86zM5.41 20L4 18.59l7.72-7.72 1.47 1.35L5.41 20z\"/>\n",
              "  </svg>\n",
              "      </button>\n",
              "      \n",
              "  <style>\n",
              "    .colab-df-container {\n",
              "      display:flex;\n",
              "      flex-wrap:wrap;\n",
              "      gap: 12px;\n",
              "    }\n",
              "\n",
              "    .colab-df-convert {\n",
              "      background-color: #E8F0FE;\n",
              "      border: none;\n",
              "      border-radius: 50%;\n",
              "      cursor: pointer;\n",
              "      display: none;\n",
              "      fill: #1967D2;\n",
              "      height: 32px;\n",
              "      padding: 0 0 0 0;\n",
              "      width: 32px;\n",
              "    }\n",
              "\n",
              "    .colab-df-convert:hover {\n",
              "      background-color: #E2EBFA;\n",
              "      box-shadow: 0px 1px 2px rgba(60, 64, 67, 0.3), 0px 1px 3px 1px rgba(60, 64, 67, 0.15);\n",
              "      fill: #174EA6;\n",
              "    }\n",
              "\n",
              "    [theme=dark] .colab-df-convert {\n",
              "      background-color: #3B4455;\n",
              "      fill: #D2E3FC;\n",
              "    }\n",
              "\n",
              "    [theme=dark] .colab-df-convert:hover {\n",
              "      background-color: #434B5C;\n",
              "      box-shadow: 0px 1px 3px 1px rgba(0, 0, 0, 0.15);\n",
              "      filter: drop-shadow(0px 1px 2px rgba(0, 0, 0, 0.3));\n",
              "      fill: #FFFFFF;\n",
              "    }\n",
              "  </style>\n",
              "\n",
              "      <script>\n",
              "        const buttonEl =\n",
              "          document.querySelector('#df-db0ec0eb-8036-4a5c-a06c-511f42d82ef8 button.colab-df-convert');\n",
              "        buttonEl.style.display =\n",
              "          google.colab.kernel.accessAllowed ? 'block' : 'none';\n",
              "\n",
              "        async function convertToInteractive(key) {\n",
              "          const element = document.querySelector('#df-db0ec0eb-8036-4a5c-a06c-511f42d82ef8');\n",
              "          const dataTable =\n",
              "            await google.colab.kernel.invokeFunction('convertToInteractive',\n",
              "                                                     [key], {});\n",
              "          if (!dataTable) return;\n",
              "\n",
              "          const docLinkHtml = 'Like what you see? Visit the ' +\n",
              "            '<a target=\"_blank\" href=https://colab.research.google.com/notebooks/data_table.ipynb>data table notebook</a>'\n",
              "            + ' to learn more about interactive tables.';\n",
              "          element.innerHTML = '';\n",
              "          dataTable['output_type'] = 'display_data';\n",
              "          await google.colab.output.renderOutput(dataTable, element);\n",
              "          const docLink = document.createElement('div');\n",
              "          docLink.innerHTML = docLinkHtml;\n",
              "          element.appendChild(docLink);\n",
              "        }\n",
              "      </script>\n",
              "    </div>\n",
              "  </div>\n",
              "  "
            ],
            "text/plain": [
              "              name  MDVP:Fo(Hz)  MDVP:Fhi(Hz)  ...   spread2        D2       PPE\n",
              "90  phon_R01_S21_7      166.605       206.008  ...  0.389232  3.317586  0.301952\n",
              "\n",
              "[1 rows x 24 columns]"
            ]
          },
          "metadata": {},
          "execution_count": 8
        }
      ]
    },
    {
      "cell_type": "code",
      "source": [
        "df.loc[df['name']=='phon_R01_S27_7']"
      ],
      "metadata": {
        "colab": {
          "base_uri": "https://localhost:8080/",
          "height": 144
        },
        "id": "lyVDFinshoAg",
        "outputId": "8376e99a-74a5-4623-f302-87cb083b74ae"
      },
      "execution_count": null,
      "outputs": [
        {
          "output_type": "execute_result",
          "data": {
            "text/html": [
              "\n",
              "  <div id=\"df-c47804bd-189f-4f1d-860a-81a28c9b73e6\">\n",
              "    <div class=\"colab-df-container\">\n",
              "      <div>\n",
              "<style scoped>\n",
              "    .dataframe tbody tr th:only-of-type {\n",
              "        vertical-align: middle;\n",
              "    }\n",
              "\n",
              "    .dataframe tbody tr th {\n",
              "        vertical-align: top;\n",
              "    }\n",
              "\n",
              "    .dataframe thead th {\n",
              "        text-align: right;\n",
              "    }\n",
              "</style>\n",
              "<table border=\"1\" class=\"dataframe\">\n",
              "  <thead>\n",
              "    <tr style=\"text-align: right;\">\n",
              "      <th></th>\n",
              "      <th>name</th>\n",
              "      <th>MDVP:Fo(Hz)</th>\n",
              "      <th>MDVP:Fhi(Hz)</th>\n",
              "      <th>MDVP:Flo(Hz)</th>\n",
              "      <th>MDVP:Jitter(%)</th>\n",
              "      <th>MDVP:Jitter(Abs)</th>\n",
              "      <th>MDVP:RAP</th>\n",
              "      <th>MDVP:PPQ</th>\n",
              "      <th>Jitter:DDP</th>\n",
              "      <th>MDVP:Shimmer</th>\n",
              "      <th>MDVP:Shimmer(dB)</th>\n",
              "      <th>Shimmer:APQ3</th>\n",
              "      <th>Shimmer:APQ5</th>\n",
              "      <th>MDVP:APQ</th>\n",
              "      <th>Shimmer:DDA</th>\n",
              "      <th>NHR</th>\n",
              "      <th>HNR</th>\n",
              "      <th>status</th>\n",
              "      <th>RPDE</th>\n",
              "      <th>DFA</th>\n",
              "      <th>spread1</th>\n",
              "      <th>spread2</th>\n",
              "      <th>D2</th>\n",
              "      <th>PPE</th>\n",
              "    </tr>\n",
              "  </thead>\n",
              "  <tbody>\n",
              "    <tr>\n",
              "      <th>121</th>\n",
              "      <td>phon_R01_S27_7</td>\n",
              "      <td>176.824</td>\n",
              "      <td>215.293</td>\n",
              "      <td>83.961</td>\n",
              "      <td>0.0046</td>\n",
              "      <td>0.00003</td>\n",
              "      <td>0.00209</td>\n",
              "      <td>0.00221</td>\n",
              "      <td>0.00628</td>\n",
              "      <td>0.01169</td>\n",
              "      <td>0.117</td>\n",
              "      <td>0.00534</td>\n",
              "      <td>0.0063</td>\n",
              "      <td>0.01104</td>\n",
              "      <td>0.01603</td>\n",
              "      <td>0.01161</td>\n",
              "      <td>27.166</td>\n",
              "      <td>1</td>\n",
              "      <td>0.400088</td>\n",
              "      <td>0.656182</td>\n",
              "      <td>-4.711007</td>\n",
              "      <td>0.281618</td>\n",
              "      <td>2.655744</td>\n",
              "      <td>0.234809</td>\n",
              "    </tr>\n",
              "  </tbody>\n",
              "</table>\n",
              "</div>\n",
              "      <button class=\"colab-df-convert\" onclick=\"convertToInteractive('df-c47804bd-189f-4f1d-860a-81a28c9b73e6')\"\n",
              "              title=\"Convert this dataframe to an interactive table.\"\n",
              "              style=\"display:none;\">\n",
              "        \n",
              "  <svg xmlns=\"http://www.w3.org/2000/svg\" height=\"24px\"viewBox=\"0 0 24 24\"\n",
              "       width=\"24px\">\n",
              "    <path d=\"M0 0h24v24H0V0z\" fill=\"none\"/>\n",
              "    <path d=\"M18.56 5.44l.94 2.06.94-2.06 2.06-.94-2.06-.94-.94-2.06-.94 2.06-2.06.94zm-11 1L8.5 8.5l.94-2.06 2.06-.94-2.06-.94L8.5 2.5l-.94 2.06-2.06.94zm10 10l.94 2.06.94-2.06 2.06-.94-2.06-.94-.94-2.06-.94 2.06-2.06.94z\"/><path d=\"M17.41 7.96l-1.37-1.37c-.4-.4-.92-.59-1.43-.59-.52 0-1.04.2-1.43.59L10.3 9.45l-7.72 7.72c-.78.78-.78 2.05 0 2.83L4 21.41c.39.39.9.59 1.41.59.51 0 1.02-.2 1.41-.59l7.78-7.78 2.81-2.81c.8-.78.8-2.07 0-2.86zM5.41 20L4 18.59l7.72-7.72 1.47 1.35L5.41 20z\"/>\n",
              "  </svg>\n",
              "      </button>\n",
              "      \n",
              "  <style>\n",
              "    .colab-df-container {\n",
              "      display:flex;\n",
              "      flex-wrap:wrap;\n",
              "      gap: 12px;\n",
              "    }\n",
              "\n",
              "    .colab-df-convert {\n",
              "      background-color: #E8F0FE;\n",
              "      border: none;\n",
              "      border-radius: 50%;\n",
              "      cursor: pointer;\n",
              "      display: none;\n",
              "      fill: #1967D2;\n",
              "      height: 32px;\n",
              "      padding: 0 0 0 0;\n",
              "      width: 32px;\n",
              "    }\n",
              "\n",
              "    .colab-df-convert:hover {\n",
              "      background-color: #E2EBFA;\n",
              "      box-shadow: 0px 1px 2px rgba(60, 64, 67, 0.3), 0px 1px 3px 1px rgba(60, 64, 67, 0.15);\n",
              "      fill: #174EA6;\n",
              "    }\n",
              "\n",
              "    [theme=dark] .colab-df-convert {\n",
              "      background-color: #3B4455;\n",
              "      fill: #D2E3FC;\n",
              "    }\n",
              "\n",
              "    [theme=dark] .colab-df-convert:hover {\n",
              "      background-color: #434B5C;\n",
              "      box-shadow: 0px 1px 3px 1px rgba(0, 0, 0, 0.15);\n",
              "      filter: drop-shadow(0px 1px 2px rgba(0, 0, 0, 0.3));\n",
              "      fill: #FFFFFF;\n",
              "    }\n",
              "  </style>\n",
              "\n",
              "      <script>\n",
              "        const buttonEl =\n",
              "          document.querySelector('#df-c47804bd-189f-4f1d-860a-81a28c9b73e6 button.colab-df-convert');\n",
              "        buttonEl.style.display =\n",
              "          google.colab.kernel.accessAllowed ? 'block' : 'none';\n",
              "\n",
              "        async function convertToInteractive(key) {\n",
              "          const element = document.querySelector('#df-c47804bd-189f-4f1d-860a-81a28c9b73e6');\n",
              "          const dataTable =\n",
              "            await google.colab.kernel.invokeFunction('convertToInteractive',\n",
              "                                                     [key], {});\n",
              "          if (!dataTable) return;\n",
              "\n",
              "          const docLinkHtml = 'Like what you see? Visit the ' +\n",
              "            '<a target=\"_blank\" href=https://colab.research.google.com/notebooks/data_table.ipynb>data table notebook</a>'\n",
              "            + ' to learn more about interactive tables.';\n",
              "          element.innerHTML = '';\n",
              "          dataTable['output_type'] = 'display_data';\n",
              "          await google.colab.output.renderOutput(dataTable, element);\n",
              "          const docLink = document.createElement('div');\n",
              "          docLink.innerHTML = docLinkHtml;\n",
              "          element.appendChild(docLink);\n",
              "        }\n",
              "      </script>\n",
              "    </div>\n",
              "  </div>\n",
              "  "
            ],
            "text/plain": [
              "               name  MDVP:Fo(Hz)  MDVP:Fhi(Hz)  ...   spread2        D2       PPE\n",
              "121  phon_R01_S27_7      176.824       215.293  ...  0.281618  2.655744  0.234809\n",
              "\n",
              "[1 rows x 24 columns]"
            ]
          },
          "metadata": {},
          "execution_count": 9
        }
      ]
    },
    {
      "cell_type": "code",
      "source": [
        "df.loc[df['name']=='phon_R01_S35_7']"
      ],
      "metadata": {
        "colab": {
          "base_uri": "https://localhost:8080/",
          "height": 144
        },
        "id": "kRimDLBChvoo",
        "outputId": "d3d7e081-f497-43f2-baad-026da92701a5"
      },
      "execution_count": null,
      "outputs": [
        {
          "output_type": "execute_result",
          "data": {
            "text/html": [
              "\n",
              "  <div id=\"df-32f5d205-8225-4484-8d0d-cddd188c25d3\">\n",
              "    <div class=\"colab-df-container\">\n",
              "      <div>\n",
              "<style scoped>\n",
              "    .dataframe tbody tr th:only-of-type {\n",
              "        vertical-align: middle;\n",
              "    }\n",
              "\n",
              "    .dataframe tbody tr th {\n",
              "        vertical-align: top;\n",
              "    }\n",
              "\n",
              "    .dataframe thead th {\n",
              "        text-align: right;\n",
              "    }\n",
              "</style>\n",
              "<table border=\"1\" class=\"dataframe\">\n",
              "  <thead>\n",
              "    <tr style=\"text-align: right;\">\n",
              "      <th></th>\n",
              "      <th>name</th>\n",
              "      <th>MDVP:Fo(Hz)</th>\n",
              "      <th>MDVP:Fhi(Hz)</th>\n",
              "      <th>MDVP:Flo(Hz)</th>\n",
              "      <th>MDVP:Jitter(%)</th>\n",
              "      <th>MDVP:Jitter(Abs)</th>\n",
              "      <th>MDVP:RAP</th>\n",
              "      <th>MDVP:PPQ</th>\n",
              "      <th>Jitter:DDP</th>\n",
              "      <th>MDVP:Shimmer</th>\n",
              "      <th>MDVP:Shimmer(dB)</th>\n",
              "      <th>Shimmer:APQ3</th>\n",
              "      <th>Shimmer:APQ5</th>\n",
              "      <th>MDVP:APQ</th>\n",
              "      <th>Shimmer:DDA</th>\n",
              "      <th>NHR</th>\n",
              "      <th>HNR</th>\n",
              "      <th>status</th>\n",
              "      <th>RPDE</th>\n",
              "      <th>DFA</th>\n",
              "      <th>spread1</th>\n",
              "      <th>spread2</th>\n",
              "      <th>D2</th>\n",
              "      <th>PPE</th>\n",
              "    </tr>\n",
              "  </thead>\n",
              "  <tbody>\n",
              "    <tr>\n",
              "      <th>152</th>\n",
              "      <td>phon_R01_S35_7</td>\n",
              "      <td>198.116</td>\n",
              "      <td>233.099</td>\n",
              "      <td>174.478</td>\n",
              "      <td>0.02714</td>\n",
              "      <td>0.00014</td>\n",
              "      <td>0.01568</td>\n",
              "      <td>0.01699</td>\n",
              "      <td>0.04705</td>\n",
              "      <td>0.08684</td>\n",
              "      <td>1.018</td>\n",
              "      <td>0.04284</td>\n",
              "      <td>0.05556</td>\n",
              "      <td>0.08318</td>\n",
              "      <td>0.12851</td>\n",
              "      <td>0.16265</td>\n",
              "      <td>9.449</td>\n",
              "      <td>1</td>\n",
              "      <td>0.584164</td>\n",
              "      <td>0.754449</td>\n",
              "      <td>-2.839756</td>\n",
              "      <td>0.356224</td>\n",
              "      <td>3.184027</td>\n",
              "      <td>0.454721</td>\n",
              "    </tr>\n",
              "  </tbody>\n",
              "</table>\n",
              "</div>\n",
              "      <button class=\"colab-df-convert\" onclick=\"convertToInteractive('df-32f5d205-8225-4484-8d0d-cddd188c25d3')\"\n",
              "              title=\"Convert this dataframe to an interactive table.\"\n",
              "              style=\"display:none;\">\n",
              "        \n",
              "  <svg xmlns=\"http://www.w3.org/2000/svg\" height=\"24px\"viewBox=\"0 0 24 24\"\n",
              "       width=\"24px\">\n",
              "    <path d=\"M0 0h24v24H0V0z\" fill=\"none\"/>\n",
              "    <path d=\"M18.56 5.44l.94 2.06.94-2.06 2.06-.94-2.06-.94-.94-2.06-.94 2.06-2.06.94zm-11 1L8.5 8.5l.94-2.06 2.06-.94-2.06-.94L8.5 2.5l-.94 2.06-2.06.94zm10 10l.94 2.06.94-2.06 2.06-.94-2.06-.94-.94-2.06-.94 2.06-2.06.94z\"/><path d=\"M17.41 7.96l-1.37-1.37c-.4-.4-.92-.59-1.43-.59-.52 0-1.04.2-1.43.59L10.3 9.45l-7.72 7.72c-.78.78-.78 2.05 0 2.83L4 21.41c.39.39.9.59 1.41.59.51 0 1.02-.2 1.41-.59l7.78-7.78 2.81-2.81c.8-.78.8-2.07 0-2.86zM5.41 20L4 18.59l7.72-7.72 1.47 1.35L5.41 20z\"/>\n",
              "  </svg>\n",
              "      </button>\n",
              "      \n",
              "  <style>\n",
              "    .colab-df-container {\n",
              "      display:flex;\n",
              "      flex-wrap:wrap;\n",
              "      gap: 12px;\n",
              "    }\n",
              "\n",
              "    .colab-df-convert {\n",
              "      background-color: #E8F0FE;\n",
              "      border: none;\n",
              "      border-radius: 50%;\n",
              "      cursor: pointer;\n",
              "      display: none;\n",
              "      fill: #1967D2;\n",
              "      height: 32px;\n",
              "      padding: 0 0 0 0;\n",
              "      width: 32px;\n",
              "    }\n",
              "\n",
              "    .colab-df-convert:hover {\n",
              "      background-color: #E2EBFA;\n",
              "      box-shadow: 0px 1px 2px rgba(60, 64, 67, 0.3), 0px 1px 3px 1px rgba(60, 64, 67, 0.15);\n",
              "      fill: #174EA6;\n",
              "    }\n",
              "\n",
              "    [theme=dark] .colab-df-convert {\n",
              "      background-color: #3B4455;\n",
              "      fill: #D2E3FC;\n",
              "    }\n",
              "\n",
              "    [theme=dark] .colab-df-convert:hover {\n",
              "      background-color: #434B5C;\n",
              "      box-shadow: 0px 1px 3px 1px rgba(0, 0, 0, 0.15);\n",
              "      filter: drop-shadow(0px 1px 2px rgba(0, 0, 0, 0.3));\n",
              "      fill: #FFFFFF;\n",
              "    }\n",
              "  </style>\n",
              "\n",
              "      <script>\n",
              "        const buttonEl =\n",
              "          document.querySelector('#df-32f5d205-8225-4484-8d0d-cddd188c25d3 button.colab-df-convert');\n",
              "        buttonEl.style.display =\n",
              "          google.colab.kernel.accessAllowed ? 'block' : 'none';\n",
              "\n",
              "        async function convertToInteractive(key) {\n",
              "          const element = document.querySelector('#df-32f5d205-8225-4484-8d0d-cddd188c25d3');\n",
              "          const dataTable =\n",
              "            await google.colab.kernel.invokeFunction('convertToInteractive',\n",
              "                                                     [key], {});\n",
              "          if (!dataTable) return;\n",
              "\n",
              "          const docLinkHtml = 'Like what you see? Visit the ' +\n",
              "            '<a target=\"_blank\" href=https://colab.research.google.com/notebooks/data_table.ipynb>data table notebook</a>'\n",
              "            + ' to learn more about interactive tables.';\n",
              "          element.innerHTML = '';\n",
              "          dataTable['output_type'] = 'display_data';\n",
              "          await google.colab.output.renderOutput(dataTable, element);\n",
              "          const docLink = document.createElement('div');\n",
              "          docLink.innerHTML = docLinkHtml;\n",
              "          element.appendChild(docLink);\n",
              "        }\n",
              "      </script>\n",
              "    </div>\n",
              "  </div>\n",
              "  "
            ],
            "text/plain": [
              "               name  MDVP:Fo(Hz)  MDVP:Fhi(Hz)  ...   spread2        D2       PPE\n",
              "152  phon_R01_S35_7      198.116       233.099  ...  0.356224  3.184027  0.454721\n",
              "\n",
              "[1 rows x 24 columns]"
            ]
          },
          "metadata": {},
          "execution_count": 10
        }
      ]
    },
    {
      "cell_type": "code",
      "source": [
        "df = df.drop([df.index[90], df.index[121], df.index[152]])\n",
        "df.shape "
      ],
      "metadata": {
        "colab": {
          "base_uri": "https://localhost:8080/"
        },
        "id": "DfgemtVbiWNT",
        "outputId": "53119d9e-381b-4dda-d48a-4112efca2025"
      },
      "execution_count": null,
      "outputs": [
        {
          "output_type": "execute_result",
          "data": {
            "text/plain": [
              "(192, 24)"
            ]
          },
          "metadata": {},
          "execution_count": 11
        }
      ]
    },
    {
      "cell_type": "code",
      "source": [
        "def get_range(df, start, finish):  #Source: https://stackoverflow.com/questions/50805446/pandas-select-range-from-index-column\n",
        "             return df[start:finish]\n",
        "print(get_range(df, 76,100))"
      ],
      "metadata": {
        "colab": {
          "base_uri": "https://localhost:8080/"
        },
        "id": "ftlFGL-yjt6G",
        "outputId": "0c1188d2-eb1c-499a-9ec6-b232c64820fc"
      },
      "execution_count": null,
      "outputs": [
        {
          "output_type": "stream",
          "name": "stdout",
          "text": [
            "               name  MDVP:Fo(Hz)  MDVP:Fhi(Hz)  ...   spread2        D2       PPE\n",
            "76   phon_R01_S19_5      112.876       148.826  ...  0.341169  2.007923  0.193918\n",
            "77   phon_R01_S19_6      110.568       125.394  ...  0.250572  1.777901  0.232744\n",
            "78   phon_R01_S20_1       95.385       102.145  ...  0.249494  2.017753  0.260015\n",
            "79   phon_R01_S20_2      100.770       115.697  ...  0.265699  2.398422  0.277948\n",
            "80   phon_R01_S20_3       96.106       108.664  ...  0.155097  2.645959  0.327978\n",
            "81   phon_R01_S20_4       95.605       107.715  ...  0.210458  2.232576  0.260633\n",
            "82   phon_R01_S20_5      100.960       110.019  ...  0.146948  2.428306  0.264666\n",
            "83   phon_R01_S20_6       98.804       102.305  ...  0.078202  2.053601  0.177275\n",
            "84   phon_R01_S21_1      176.858       205.560  ...  0.343073  3.099301  0.242119\n",
            "85   phon_R01_S21_2      180.978       200.125  ...  0.315903  3.098256  0.200423\n",
            "86   phon_R01_S21_3      178.222       202.450  ...  0.335753  2.654271  0.144614\n",
            "87   phon_R01_S21_4      176.281       227.381  ...  0.299549  3.136550  0.220968\n",
            "88   phon_R01_S21_5      173.898       211.350  ...  0.299793  3.007096  0.194052\n",
            "89   phon_R01_S21_6      179.711       225.930  ...  0.375531  3.671155  0.332086\n",
            "91   phon_R01_S22_1      151.955       163.335  ...  0.207156  2.344876  0.134120\n",
            "92   phon_R01_S22_2      148.272       164.989  ...  0.087840  2.344336  0.186489\n",
            "93   phon_R01_S22_3      152.125       161.469  ...  0.173520  2.080121  0.160809\n",
            "94   phon_R01_S22_4      157.821       172.975  ...  0.188056  2.143851  0.160812\n",
            "95   phon_R01_S22_5      157.447       163.267  ...  0.180528  2.344348  0.164916\n",
            "96   phon_R01_S22_6      159.116       168.913  ...  0.194627  2.473239  0.151709\n",
            "97   phon_R01_S24_1      125.036       143.946  ...  0.265315  2.671825  0.340623\n",
            "98   phon_R01_S24_2      125.791       140.557  ...  0.202146  2.441612  0.260375\n",
            "99   phon_R01_S24_3      126.512       141.756  ...  0.242861  2.634633  0.378483\n",
            "100  phon_R01_S24_4      125.641       141.068  ...  0.260481  2.991063  0.370961\n",
            "\n",
            "[24 rows x 24 columns]\n"
          ]
        }
      ]
    },
    {
      "cell_type": "code",
      "source": [
        "df.info()"
      ],
      "metadata": {
        "colab": {
          "base_uri": "https://localhost:8080/"
        },
        "id": "J_WYaodkp5Pl",
        "outputId": "a6722a02-a564-473d-e976-cd4aa2460c49"
      },
      "execution_count": null,
      "outputs": [
        {
          "output_type": "stream",
          "name": "stdout",
          "text": [
            "<class 'pandas.core.frame.DataFrame'>\n",
            "Int64Index: 192 entries, 0 to 194\n",
            "Data columns (total 24 columns):\n",
            " #   Column            Non-Null Count  Dtype  \n",
            "---  ------            --------------  -----  \n",
            " 0   name              192 non-null    object \n",
            " 1   MDVP:Fo(Hz)       192 non-null    float64\n",
            " 2   MDVP:Fhi(Hz)      192 non-null    float64\n",
            " 3   MDVP:Flo(Hz)      192 non-null    float64\n",
            " 4   MDVP:Jitter(%)    192 non-null    float64\n",
            " 5   MDVP:Jitter(Abs)  192 non-null    float64\n",
            " 6   MDVP:RAP          192 non-null    float64\n",
            " 7   MDVP:PPQ          192 non-null    float64\n",
            " 8   Jitter:DDP        192 non-null    float64\n",
            " 9   MDVP:Shimmer      192 non-null    float64\n",
            " 10  MDVP:Shimmer(dB)  192 non-null    float64\n",
            " 11  Shimmer:APQ3      192 non-null    float64\n",
            " 12  Shimmer:APQ5      192 non-null    float64\n",
            " 13  MDVP:APQ          192 non-null    float64\n",
            " 14  Shimmer:DDA       192 non-null    float64\n",
            " 15  NHR               192 non-null    float64\n",
            " 16  HNR               192 non-null    float64\n",
            " 17  status            192 non-null    int64  \n",
            " 18  RPDE              192 non-null    float64\n",
            " 19  DFA               192 non-null    float64\n",
            " 20  spread1           192 non-null    float64\n",
            " 21  spread2           192 non-null    float64\n",
            " 22  D2                192 non-null    float64\n",
            " 23  PPE               192 non-null    float64\n",
            "dtypes: float64(22), int64(1), object(1)\n",
            "memory usage: 37.5+ KB\n"
          ]
        }
      ]
    },
    {
      "cell_type": "code",
      "source": [
        "df.describe()"
      ],
      "metadata": {
        "colab": {
          "base_uri": "https://localhost:8080/",
          "height": 361
        },
        "id": "GTUmqK58rgsy",
        "outputId": "e5fe2c90-1ded-4b3a-fd33-198bd3b3976c"
      },
      "execution_count": null,
      "outputs": [
        {
          "output_type": "execute_result",
          "data": {
            "text/html": [
              "\n",
              "  <div id=\"df-ae516e9d-f517-4e1f-bc52-e0620a3950f4\">\n",
              "    <div class=\"colab-df-container\">\n",
              "      <div>\n",
              "<style scoped>\n",
              "    .dataframe tbody tr th:only-of-type {\n",
              "        vertical-align: middle;\n",
              "    }\n",
              "\n",
              "    .dataframe tbody tr th {\n",
              "        vertical-align: top;\n",
              "    }\n",
              "\n",
              "    .dataframe thead th {\n",
              "        text-align: right;\n",
              "    }\n",
              "</style>\n",
              "<table border=\"1\" class=\"dataframe\">\n",
              "  <thead>\n",
              "    <tr style=\"text-align: right;\">\n",
              "      <th></th>\n",
              "      <th>MDVP:Fo(Hz)</th>\n",
              "      <th>MDVP:Fhi(Hz)</th>\n",
              "      <th>MDVP:Flo(Hz)</th>\n",
              "      <th>MDVP:Jitter(%)</th>\n",
              "      <th>MDVP:Jitter(Abs)</th>\n",
              "      <th>MDVP:RAP</th>\n",
              "      <th>MDVP:PPQ</th>\n",
              "      <th>Jitter:DDP</th>\n",
              "      <th>MDVP:Shimmer</th>\n",
              "      <th>MDVP:Shimmer(dB)</th>\n",
              "      <th>Shimmer:APQ3</th>\n",
              "      <th>Shimmer:APQ5</th>\n",
              "      <th>MDVP:APQ</th>\n",
              "      <th>Shimmer:DDA</th>\n",
              "      <th>NHR</th>\n",
              "      <th>HNR</th>\n",
              "      <th>status</th>\n",
              "      <th>RPDE</th>\n",
              "      <th>DFA</th>\n",
              "      <th>spread1</th>\n",
              "      <th>spread2</th>\n",
              "      <th>D2</th>\n",
              "      <th>PPE</th>\n",
              "    </tr>\n",
              "  </thead>\n",
              "  <tbody>\n",
              "    <tr>\n",
              "      <th>count</th>\n",
              "      <td>192.000000</td>\n",
              "      <td>192.000000</td>\n",
              "      <td>192.000000</td>\n",
              "      <td>192.000000</td>\n",
              "      <td>192.000000</td>\n",
              "      <td>192.000000</td>\n",
              "      <td>192.000000</td>\n",
              "      <td>192.000000</td>\n",
              "      <td>192.000000</td>\n",
              "      <td>192.000000</td>\n",
              "      <td>192.000000</td>\n",
              "      <td>192.000000</td>\n",
              "      <td>192.000000</td>\n",
              "      <td>192.000000</td>\n",
              "      <td>192.000000</td>\n",
              "      <td>192.000000</td>\n",
              "      <td>192.000000</td>\n",
              "      <td>192.000000</td>\n",
              "      <td>192.000000</td>\n",
              "      <td>192.000000</td>\n",
              "      <td>192.000000</td>\n",
              "      <td>192.000000</td>\n",
              "      <td>192.000000</td>\n",
              "    </tr>\n",
              "    <tr>\n",
              "      <th>mean</th>\n",
              "      <td>153.817917</td>\n",
              "      <td>196.776349</td>\n",
              "      <td>116.389750</td>\n",
              "      <td>0.006114</td>\n",
              "      <td>0.000044</td>\n",
              "      <td>0.003245</td>\n",
              "      <td>0.003377</td>\n",
              "      <td>0.009737</td>\n",
              "      <td>0.029314</td>\n",
              "      <td>0.277448</td>\n",
              "      <td>0.015468</td>\n",
              "      <td>0.017612</td>\n",
              "      <td>0.023701</td>\n",
              "      <td>0.046404</td>\n",
              "      <td>0.023873</td>\n",
              "      <td>21.976073</td>\n",
              "      <td>0.750000</td>\n",
              "      <td>0.497796</td>\n",
              "      <td>0.718154</td>\n",
              "      <td>-5.710404</td>\n",
              "      <td>0.224700</td>\n",
              "      <td>2.371348</td>\n",
              "      <td>0.204615</td>\n",
              "    </tr>\n",
              "    <tr>\n",
              "      <th>std</th>\n",
              "      <td>41.548965</td>\n",
              "      <td>92.158243</td>\n",
              "      <td>43.508538</td>\n",
              "      <td>0.004642</td>\n",
              "      <td>0.000034</td>\n",
              "      <td>0.002852</td>\n",
              "      <td>0.002598</td>\n",
              "      <td>0.008554</td>\n",
              "      <td>0.018308</td>\n",
              "      <td>0.186884</td>\n",
              "      <td>0.009898</td>\n",
              "      <td>0.011635</td>\n",
              "      <td>0.016387</td>\n",
              "      <td>0.029694</td>\n",
              "      <td>0.039213</td>\n",
              "      <td>4.288654</td>\n",
              "      <td>0.434145</td>\n",
              "      <td>0.103722</td>\n",
              "      <td>0.055515</td>\n",
              "      <td>1.073304</td>\n",
              "      <td>0.082583</td>\n",
              "      <td>0.374673</td>\n",
              "      <td>0.088719</td>\n",
              "    </tr>\n",
              "    <tr>\n",
              "      <th>min</th>\n",
              "      <td>88.333000</td>\n",
              "      <td>102.145000</td>\n",
              "      <td>65.476000</td>\n",
              "      <td>0.001680</td>\n",
              "      <td>0.000007</td>\n",
              "      <td>0.000680</td>\n",
              "      <td>0.000920</td>\n",
              "      <td>0.002040</td>\n",
              "      <td>0.009540</td>\n",
              "      <td>0.085000</td>\n",
              "      <td>0.004550</td>\n",
              "      <td>0.005700</td>\n",
              "      <td>0.007190</td>\n",
              "      <td>0.013640</td>\n",
              "      <td>0.000650</td>\n",
              "      <td>8.441000</td>\n",
              "      <td>0.000000</td>\n",
              "      <td>0.256570</td>\n",
              "      <td>0.574282</td>\n",
              "      <td>-7.964984</td>\n",
              "      <td>0.006274</td>\n",
              "      <td>1.423287</td>\n",
              "      <td>0.044539</td>\n",
              "    </tr>\n",
              "    <tr>\n",
              "      <th>25%</th>\n",
              "      <td>117.262000</td>\n",
              "      <td>134.549750</td>\n",
              "      <td>85.286250</td>\n",
              "      <td>0.003450</td>\n",
              "      <td>0.000020</td>\n",
              "      <td>0.001658</td>\n",
              "      <td>0.001855</td>\n",
              "      <td>0.004975</td>\n",
              "      <td>0.016537</td>\n",
              "      <td>0.148750</td>\n",
              "      <td>0.008268</td>\n",
              "      <td>0.009585</td>\n",
              "      <td>0.013085</td>\n",
              "      <td>0.024802</td>\n",
              "      <td>0.005890</td>\n",
              "      <td>19.251750</td>\n",
              "      <td>0.750000</td>\n",
              "      <td>0.421768</td>\n",
              "      <td>0.674855</td>\n",
              "      <td>-6.456900</td>\n",
              "      <td>0.173470</td>\n",
              "      <td>2.094037</td>\n",
              "      <td>0.136103</td>\n",
              "    </tr>\n",
              "    <tr>\n",
              "      <th>50%</th>\n",
              "      <td>148.367000</td>\n",
              "      <td>172.917500</td>\n",
              "      <td>104.376000</td>\n",
              "      <td>0.004940</td>\n",
              "      <td>0.000030</td>\n",
              "      <td>0.002485</td>\n",
              "      <td>0.002680</td>\n",
              "      <td>0.007455</td>\n",
              "      <td>0.022965</td>\n",
              "      <td>0.219000</td>\n",
              "      <td>0.012780</td>\n",
              "      <td>0.013450</td>\n",
              "      <td>0.018125</td>\n",
              "      <td>0.038335</td>\n",
              "      <td>0.011545</td>\n",
              "      <td>22.152000</td>\n",
              "      <td>1.000000</td>\n",
              "      <td>0.493649</td>\n",
              "      <td>0.722170</td>\n",
              "      <td>-5.730418</td>\n",
              "      <td>0.217525</td>\n",
              "      <td>2.352424</td>\n",
              "      <td>0.193324</td>\n",
              "    </tr>\n",
              "    <tr>\n",
              "      <th>75%</th>\n",
              "      <td>182.393500</td>\n",
              "      <td>224.093750</td>\n",
              "      <td>139.504250</td>\n",
              "      <td>0.007285</td>\n",
              "      <td>0.000060</td>\n",
              "      <td>0.003747</td>\n",
              "      <td>0.003912</td>\n",
              "      <td>0.011250</td>\n",
              "      <td>0.037610</td>\n",
              "      <td>0.348500</td>\n",
              "      <td>0.019063</td>\n",
              "      <td>0.021882</td>\n",
              "      <td>0.029198</td>\n",
              "      <td>0.057193</td>\n",
              "      <td>0.024960</td>\n",
              "      <td>25.053750</td>\n",
              "      <td>1.000000</td>\n",
              "      <td>0.586366</td>\n",
              "      <td>0.762563</td>\n",
              "      <td>-5.127827</td>\n",
              "      <td>0.271301</td>\n",
              "      <td>2.614510</td>\n",
              "      <td>0.252080</td>\n",
              "    </tr>\n",
              "    <tr>\n",
              "      <th>max</th>\n",
              "      <td>260.105000</td>\n",
              "      <td>592.030000</td>\n",
              "      <td>239.170000</td>\n",
              "      <td>0.033160</td>\n",
              "      <td>0.000260</td>\n",
              "      <td>0.021440</td>\n",
              "      <td>0.019580</td>\n",
              "      <td>0.064330</td>\n",
              "      <td>0.119080</td>\n",
              "      <td>1.302000</td>\n",
              "      <td>0.056470</td>\n",
              "      <td>0.079400</td>\n",
              "      <td>0.137780</td>\n",
              "      <td>0.169420</td>\n",
              "      <td>0.314820</td>\n",
              "      <td>33.047000</td>\n",
              "      <td>1.000000</td>\n",
              "      <td>0.685151</td>\n",
              "      <td>0.825288</td>\n",
              "      <td>-2.434031</td>\n",
              "      <td>0.450493</td>\n",
              "      <td>3.671155</td>\n",
              "      <td>0.527367</td>\n",
              "    </tr>\n",
              "  </tbody>\n",
              "</table>\n",
              "</div>\n",
              "      <button class=\"colab-df-convert\" onclick=\"convertToInteractive('df-ae516e9d-f517-4e1f-bc52-e0620a3950f4')\"\n",
              "              title=\"Convert this dataframe to an interactive table.\"\n",
              "              style=\"display:none;\">\n",
              "        \n",
              "  <svg xmlns=\"http://www.w3.org/2000/svg\" height=\"24px\"viewBox=\"0 0 24 24\"\n",
              "       width=\"24px\">\n",
              "    <path d=\"M0 0h24v24H0V0z\" fill=\"none\"/>\n",
              "    <path d=\"M18.56 5.44l.94 2.06.94-2.06 2.06-.94-2.06-.94-.94-2.06-.94 2.06-2.06.94zm-11 1L8.5 8.5l.94-2.06 2.06-.94-2.06-.94L8.5 2.5l-.94 2.06-2.06.94zm10 10l.94 2.06.94-2.06 2.06-.94-2.06-.94-.94-2.06-.94 2.06-2.06.94z\"/><path d=\"M17.41 7.96l-1.37-1.37c-.4-.4-.92-.59-1.43-.59-.52 0-1.04.2-1.43.59L10.3 9.45l-7.72 7.72c-.78.78-.78 2.05 0 2.83L4 21.41c.39.39.9.59 1.41.59.51 0 1.02-.2 1.41-.59l7.78-7.78 2.81-2.81c.8-.78.8-2.07 0-2.86zM5.41 20L4 18.59l7.72-7.72 1.47 1.35L5.41 20z\"/>\n",
              "  </svg>\n",
              "      </button>\n",
              "      \n",
              "  <style>\n",
              "    .colab-df-container {\n",
              "      display:flex;\n",
              "      flex-wrap:wrap;\n",
              "      gap: 12px;\n",
              "    }\n",
              "\n",
              "    .colab-df-convert {\n",
              "      background-color: #E8F0FE;\n",
              "      border: none;\n",
              "      border-radius: 50%;\n",
              "      cursor: pointer;\n",
              "      display: none;\n",
              "      fill: #1967D2;\n",
              "      height: 32px;\n",
              "      padding: 0 0 0 0;\n",
              "      width: 32px;\n",
              "    }\n",
              "\n",
              "    .colab-df-convert:hover {\n",
              "      background-color: #E2EBFA;\n",
              "      box-shadow: 0px 1px 2px rgba(60, 64, 67, 0.3), 0px 1px 3px 1px rgba(60, 64, 67, 0.15);\n",
              "      fill: #174EA6;\n",
              "    }\n",
              "\n",
              "    [theme=dark] .colab-df-convert {\n",
              "      background-color: #3B4455;\n",
              "      fill: #D2E3FC;\n",
              "    }\n",
              "\n",
              "    [theme=dark] .colab-df-convert:hover {\n",
              "      background-color: #434B5C;\n",
              "      box-shadow: 0px 1px 3px 1px rgba(0, 0, 0, 0.15);\n",
              "      filter: drop-shadow(0px 1px 2px rgba(0, 0, 0, 0.3));\n",
              "      fill: #FFFFFF;\n",
              "    }\n",
              "  </style>\n",
              "\n",
              "      <script>\n",
              "        const buttonEl =\n",
              "          document.querySelector('#df-ae516e9d-f517-4e1f-bc52-e0620a3950f4 button.colab-df-convert');\n",
              "        buttonEl.style.display =\n",
              "          google.colab.kernel.accessAllowed ? 'block' : 'none';\n",
              "\n",
              "        async function convertToInteractive(key) {\n",
              "          const element = document.querySelector('#df-ae516e9d-f517-4e1f-bc52-e0620a3950f4');\n",
              "          const dataTable =\n",
              "            await google.colab.kernel.invokeFunction('convertToInteractive',\n",
              "                                                     [key], {});\n",
              "          if (!dataTable) return;\n",
              "\n",
              "          const docLinkHtml = 'Like what you see? Visit the ' +\n",
              "            '<a target=\"_blank\" href=https://colab.research.google.com/notebooks/data_table.ipynb>data table notebook</a>'\n",
              "            + ' to learn more about interactive tables.';\n",
              "          element.innerHTML = '';\n",
              "          dataTable['output_type'] = 'display_data';\n",
              "          await google.colab.output.renderOutput(dataTable, element);\n",
              "          const docLink = document.createElement('div');\n",
              "          docLink.innerHTML = docLinkHtml;\n",
              "          element.appendChild(docLink);\n",
              "        }\n",
              "      </script>\n",
              "    </div>\n",
              "  </div>\n",
              "  "
            ],
            "text/plain": [
              "       MDVP:Fo(Hz)  MDVP:Fhi(Hz)  ...          D2         PPE\n",
              "count   192.000000    192.000000  ...  192.000000  192.000000\n",
              "mean    153.817917    196.776349  ...    2.371348    0.204615\n",
              "std      41.548965     92.158243  ...    0.374673    0.088719\n",
              "min      88.333000    102.145000  ...    1.423287    0.044539\n",
              "25%     117.262000    134.549750  ...    2.094037    0.136103\n",
              "50%     148.367000    172.917500  ...    2.352424    0.193324\n",
              "75%     182.393500    224.093750  ...    2.614510    0.252080\n",
              "max     260.105000    592.030000  ...    3.671155    0.527367\n",
              "\n",
              "[8 rows x 23 columns]"
            ]
          },
          "metadata": {},
          "execution_count": 14
        }
      ]
    },
    {
      "cell_type": "markdown",
      "source": [
        "Check for duplicate rows"
      ],
      "metadata": {
        "id": "JVSRJscyvLKS"
      }
    },
    {
      "cell_type": "code",
      "source": [
        "df.duplicated().sum() #no duplicate rows"
      ],
      "metadata": {
        "colab": {
          "base_uri": "https://localhost:8080/"
        },
        "id": "YSGaN-0nuuIf",
        "outputId": "1869ea9f-43e0-47b9-9aa7-07b03b63ca36"
      },
      "execution_count": null,
      "outputs": [
        {
          "output_type": "execute_result",
          "data": {
            "text/plain": [
              "0"
            ]
          },
          "metadata": {},
          "execution_count": 15
        }
      ]
    },
    {
      "cell_type": "markdown",
      "source": [
        "# Check for missing values"
      ],
      "metadata": {
        "id": "dtwup9WRvSIV"
      }
    },
    {
      "cell_type": "code",
      "source": [
        "df.isnull().sum() #no missing values"
      ],
      "metadata": {
        "colab": {
          "base_uri": "https://localhost:8080/"
        },
        "id": "Q6Wq7OFTu1vR",
        "outputId": "9e38ad5c-b6b2-40ba-beb8-a195f6dd346e"
      },
      "execution_count": null,
      "outputs": [
        {
          "output_type": "execute_result",
          "data": {
            "text/plain": [
              "name                0\n",
              "MDVP:Fo(Hz)         0\n",
              "MDVP:Fhi(Hz)        0\n",
              "MDVP:Flo(Hz)        0\n",
              "MDVP:Jitter(%)      0\n",
              "MDVP:Jitter(Abs)    0\n",
              "MDVP:RAP            0\n",
              "MDVP:PPQ            0\n",
              "Jitter:DDP          0\n",
              "MDVP:Shimmer        0\n",
              "MDVP:Shimmer(dB)    0\n",
              "Shimmer:APQ3        0\n",
              "Shimmer:APQ5        0\n",
              "MDVP:APQ            0\n",
              "Shimmer:DDA         0\n",
              "NHR                 0\n",
              "HNR                 0\n",
              "status              0\n",
              "RPDE                0\n",
              "DFA                 0\n",
              "spread1             0\n",
              "spread2             0\n",
              "D2                  0\n",
              "PPE                 0\n",
              "dtype: int64"
            ]
          },
          "metadata": {},
          "execution_count": 16
        }
      ]
    },
    {
      "cell_type": "markdown",
      "source": [
        "# Univariate visuals for target and all features"
      ],
      "metadata": {
        "id": "GrFd1YFzv3LX"
      }
    },
    {
      "cell_type": "code",
      "source": [
        "df.head(15)"
      ],
      "metadata": {
        "colab": {
          "base_uri": "https://localhost:8080/",
          "height": 578
        },
        "id": "UEyizplcJpNG",
        "outputId": "e9011da2-f49a-4c20-e2a5-4e2341e3f031"
      },
      "execution_count": null,
      "outputs": [
        {
          "output_type": "execute_result",
          "data": {
            "text/html": [
              "\n",
              "  <div id=\"df-cafa7d3f-a8c4-4450-bf7e-48419027c95b\">\n",
              "    <div class=\"colab-df-container\">\n",
              "      <div>\n",
              "<style scoped>\n",
              "    .dataframe tbody tr th:only-of-type {\n",
              "        vertical-align: middle;\n",
              "    }\n",
              "\n",
              "    .dataframe tbody tr th {\n",
              "        vertical-align: top;\n",
              "    }\n",
              "\n",
              "    .dataframe thead th {\n",
              "        text-align: right;\n",
              "    }\n",
              "</style>\n",
              "<table border=\"1\" class=\"dataframe\">\n",
              "  <thead>\n",
              "    <tr style=\"text-align: right;\">\n",
              "      <th></th>\n",
              "      <th>name</th>\n",
              "      <th>MDVP:Fo(Hz)</th>\n",
              "      <th>MDVP:Fhi(Hz)</th>\n",
              "      <th>MDVP:Flo(Hz)</th>\n",
              "      <th>MDVP:Jitter(%)</th>\n",
              "      <th>MDVP:Jitter(Abs)</th>\n",
              "      <th>MDVP:RAP</th>\n",
              "      <th>MDVP:PPQ</th>\n",
              "      <th>Jitter:DDP</th>\n",
              "      <th>MDVP:Shimmer</th>\n",
              "      <th>MDVP:Shimmer(dB)</th>\n",
              "      <th>Shimmer:APQ3</th>\n",
              "      <th>Shimmer:APQ5</th>\n",
              "      <th>MDVP:APQ</th>\n",
              "      <th>Shimmer:DDA</th>\n",
              "      <th>NHR</th>\n",
              "      <th>HNR</th>\n",
              "      <th>status</th>\n",
              "      <th>RPDE</th>\n",
              "      <th>DFA</th>\n",
              "      <th>spread1</th>\n",
              "      <th>spread2</th>\n",
              "      <th>D2</th>\n",
              "      <th>PPE</th>\n",
              "    </tr>\n",
              "  </thead>\n",
              "  <tbody>\n",
              "    <tr>\n",
              "      <th>0</th>\n",
              "      <td>phon_R01_S01_1</td>\n",
              "      <td>119.992</td>\n",
              "      <td>157.302</td>\n",
              "      <td>74.997</td>\n",
              "      <td>0.00784</td>\n",
              "      <td>0.00007</td>\n",
              "      <td>0.00370</td>\n",
              "      <td>0.00554</td>\n",
              "      <td>0.01109</td>\n",
              "      <td>0.04374</td>\n",
              "      <td>0.426</td>\n",
              "      <td>0.02182</td>\n",
              "      <td>0.03130</td>\n",
              "      <td>0.02971</td>\n",
              "      <td>0.06545</td>\n",
              "      <td>0.02211</td>\n",
              "      <td>21.033</td>\n",
              "      <td>1</td>\n",
              "      <td>0.414783</td>\n",
              "      <td>0.815285</td>\n",
              "      <td>-4.813031</td>\n",
              "      <td>0.266482</td>\n",
              "      <td>2.301442</td>\n",
              "      <td>0.284654</td>\n",
              "    </tr>\n",
              "    <tr>\n",
              "      <th>1</th>\n",
              "      <td>phon_R01_S01_2</td>\n",
              "      <td>122.400</td>\n",
              "      <td>148.650</td>\n",
              "      <td>113.819</td>\n",
              "      <td>0.00968</td>\n",
              "      <td>0.00008</td>\n",
              "      <td>0.00465</td>\n",
              "      <td>0.00696</td>\n",
              "      <td>0.01394</td>\n",
              "      <td>0.06134</td>\n",
              "      <td>0.626</td>\n",
              "      <td>0.03134</td>\n",
              "      <td>0.04518</td>\n",
              "      <td>0.04368</td>\n",
              "      <td>0.09403</td>\n",
              "      <td>0.01929</td>\n",
              "      <td>19.085</td>\n",
              "      <td>1</td>\n",
              "      <td>0.458359</td>\n",
              "      <td>0.819521</td>\n",
              "      <td>-4.075192</td>\n",
              "      <td>0.335590</td>\n",
              "      <td>2.486855</td>\n",
              "      <td>0.368674</td>\n",
              "    </tr>\n",
              "    <tr>\n",
              "      <th>2</th>\n",
              "      <td>phon_R01_S01_3</td>\n",
              "      <td>116.682</td>\n",
              "      <td>131.111</td>\n",
              "      <td>111.555</td>\n",
              "      <td>0.01050</td>\n",
              "      <td>0.00009</td>\n",
              "      <td>0.00544</td>\n",
              "      <td>0.00781</td>\n",
              "      <td>0.01633</td>\n",
              "      <td>0.05233</td>\n",
              "      <td>0.482</td>\n",
              "      <td>0.02757</td>\n",
              "      <td>0.03858</td>\n",
              "      <td>0.03590</td>\n",
              "      <td>0.08270</td>\n",
              "      <td>0.01309</td>\n",
              "      <td>20.651</td>\n",
              "      <td>1</td>\n",
              "      <td>0.429895</td>\n",
              "      <td>0.825288</td>\n",
              "      <td>-4.443179</td>\n",
              "      <td>0.311173</td>\n",
              "      <td>2.342259</td>\n",
              "      <td>0.332634</td>\n",
              "    </tr>\n",
              "    <tr>\n",
              "      <th>3</th>\n",
              "      <td>phon_R01_S01_4</td>\n",
              "      <td>116.676</td>\n",
              "      <td>137.871</td>\n",
              "      <td>111.366</td>\n",
              "      <td>0.00997</td>\n",
              "      <td>0.00009</td>\n",
              "      <td>0.00502</td>\n",
              "      <td>0.00698</td>\n",
              "      <td>0.01505</td>\n",
              "      <td>0.05492</td>\n",
              "      <td>0.517</td>\n",
              "      <td>0.02924</td>\n",
              "      <td>0.04005</td>\n",
              "      <td>0.03772</td>\n",
              "      <td>0.08771</td>\n",
              "      <td>0.01353</td>\n",
              "      <td>20.644</td>\n",
              "      <td>1</td>\n",
              "      <td>0.434969</td>\n",
              "      <td>0.819235</td>\n",
              "      <td>-4.117501</td>\n",
              "      <td>0.334147</td>\n",
              "      <td>2.405554</td>\n",
              "      <td>0.368975</td>\n",
              "    </tr>\n",
              "    <tr>\n",
              "      <th>4</th>\n",
              "      <td>phon_R01_S01_5</td>\n",
              "      <td>116.014</td>\n",
              "      <td>141.781</td>\n",
              "      <td>110.655</td>\n",
              "      <td>0.01284</td>\n",
              "      <td>0.00011</td>\n",
              "      <td>0.00655</td>\n",
              "      <td>0.00908</td>\n",
              "      <td>0.01966</td>\n",
              "      <td>0.06425</td>\n",
              "      <td>0.584</td>\n",
              "      <td>0.03490</td>\n",
              "      <td>0.04825</td>\n",
              "      <td>0.04465</td>\n",
              "      <td>0.10470</td>\n",
              "      <td>0.01767</td>\n",
              "      <td>19.649</td>\n",
              "      <td>1</td>\n",
              "      <td>0.417356</td>\n",
              "      <td>0.823484</td>\n",
              "      <td>-3.747787</td>\n",
              "      <td>0.234513</td>\n",
              "      <td>2.332180</td>\n",
              "      <td>0.410335</td>\n",
              "    </tr>\n",
              "    <tr>\n",
              "      <th>5</th>\n",
              "      <td>phon_R01_S01_6</td>\n",
              "      <td>120.552</td>\n",
              "      <td>131.162</td>\n",
              "      <td>113.787</td>\n",
              "      <td>0.00968</td>\n",
              "      <td>0.00008</td>\n",
              "      <td>0.00463</td>\n",
              "      <td>0.00750</td>\n",
              "      <td>0.01388</td>\n",
              "      <td>0.04701</td>\n",
              "      <td>0.456</td>\n",
              "      <td>0.02328</td>\n",
              "      <td>0.03526</td>\n",
              "      <td>0.03243</td>\n",
              "      <td>0.06985</td>\n",
              "      <td>0.01222</td>\n",
              "      <td>21.378</td>\n",
              "      <td>1</td>\n",
              "      <td>0.415564</td>\n",
              "      <td>0.825069</td>\n",
              "      <td>-4.242867</td>\n",
              "      <td>0.299111</td>\n",
              "      <td>2.187560</td>\n",
              "      <td>0.357775</td>\n",
              "    </tr>\n",
              "    <tr>\n",
              "      <th>6</th>\n",
              "      <td>phon_R01_S02_1</td>\n",
              "      <td>120.267</td>\n",
              "      <td>137.244</td>\n",
              "      <td>114.820</td>\n",
              "      <td>0.00333</td>\n",
              "      <td>0.00003</td>\n",
              "      <td>0.00155</td>\n",
              "      <td>0.00202</td>\n",
              "      <td>0.00466</td>\n",
              "      <td>0.01608</td>\n",
              "      <td>0.140</td>\n",
              "      <td>0.00779</td>\n",
              "      <td>0.00937</td>\n",
              "      <td>0.01351</td>\n",
              "      <td>0.02337</td>\n",
              "      <td>0.00607</td>\n",
              "      <td>24.886</td>\n",
              "      <td>1</td>\n",
              "      <td>0.596040</td>\n",
              "      <td>0.764112</td>\n",
              "      <td>-5.634322</td>\n",
              "      <td>0.257682</td>\n",
              "      <td>1.854785</td>\n",
              "      <td>0.211756</td>\n",
              "    </tr>\n",
              "    <tr>\n",
              "      <th>7</th>\n",
              "      <td>phon_R01_S02_2</td>\n",
              "      <td>107.332</td>\n",
              "      <td>113.840</td>\n",
              "      <td>104.315</td>\n",
              "      <td>0.00290</td>\n",
              "      <td>0.00003</td>\n",
              "      <td>0.00144</td>\n",
              "      <td>0.00182</td>\n",
              "      <td>0.00431</td>\n",
              "      <td>0.01567</td>\n",
              "      <td>0.134</td>\n",
              "      <td>0.00829</td>\n",
              "      <td>0.00946</td>\n",
              "      <td>0.01256</td>\n",
              "      <td>0.02487</td>\n",
              "      <td>0.00344</td>\n",
              "      <td>26.892</td>\n",
              "      <td>1</td>\n",
              "      <td>0.637420</td>\n",
              "      <td>0.763262</td>\n",
              "      <td>-6.167603</td>\n",
              "      <td>0.183721</td>\n",
              "      <td>2.064693</td>\n",
              "      <td>0.163755</td>\n",
              "    </tr>\n",
              "    <tr>\n",
              "      <th>8</th>\n",
              "      <td>phon_R01_S02_3</td>\n",
              "      <td>95.730</td>\n",
              "      <td>132.068</td>\n",
              "      <td>91.754</td>\n",
              "      <td>0.00551</td>\n",
              "      <td>0.00006</td>\n",
              "      <td>0.00293</td>\n",
              "      <td>0.00332</td>\n",
              "      <td>0.00880</td>\n",
              "      <td>0.02093</td>\n",
              "      <td>0.191</td>\n",
              "      <td>0.01073</td>\n",
              "      <td>0.01277</td>\n",
              "      <td>0.01717</td>\n",
              "      <td>0.03218</td>\n",
              "      <td>0.01070</td>\n",
              "      <td>21.812</td>\n",
              "      <td>1</td>\n",
              "      <td>0.615551</td>\n",
              "      <td>0.773587</td>\n",
              "      <td>-5.498678</td>\n",
              "      <td>0.327769</td>\n",
              "      <td>2.322511</td>\n",
              "      <td>0.231571</td>\n",
              "    </tr>\n",
              "    <tr>\n",
              "      <th>9</th>\n",
              "      <td>phon_R01_S02_4</td>\n",
              "      <td>95.056</td>\n",
              "      <td>120.103</td>\n",
              "      <td>91.226</td>\n",
              "      <td>0.00532</td>\n",
              "      <td>0.00006</td>\n",
              "      <td>0.00268</td>\n",
              "      <td>0.00332</td>\n",
              "      <td>0.00803</td>\n",
              "      <td>0.02838</td>\n",
              "      <td>0.255</td>\n",
              "      <td>0.01441</td>\n",
              "      <td>0.01725</td>\n",
              "      <td>0.02444</td>\n",
              "      <td>0.04324</td>\n",
              "      <td>0.01022</td>\n",
              "      <td>21.862</td>\n",
              "      <td>1</td>\n",
              "      <td>0.547037</td>\n",
              "      <td>0.798463</td>\n",
              "      <td>-5.011879</td>\n",
              "      <td>0.325996</td>\n",
              "      <td>2.432792</td>\n",
              "      <td>0.271362</td>\n",
              "    </tr>\n",
              "    <tr>\n",
              "      <th>10</th>\n",
              "      <td>phon_R01_S02_5</td>\n",
              "      <td>88.333</td>\n",
              "      <td>112.240</td>\n",
              "      <td>84.072</td>\n",
              "      <td>0.00505</td>\n",
              "      <td>0.00006</td>\n",
              "      <td>0.00254</td>\n",
              "      <td>0.00330</td>\n",
              "      <td>0.00763</td>\n",
              "      <td>0.02143</td>\n",
              "      <td>0.197</td>\n",
              "      <td>0.01079</td>\n",
              "      <td>0.01342</td>\n",
              "      <td>0.01892</td>\n",
              "      <td>0.03237</td>\n",
              "      <td>0.01166</td>\n",
              "      <td>21.118</td>\n",
              "      <td>1</td>\n",
              "      <td>0.611137</td>\n",
              "      <td>0.776156</td>\n",
              "      <td>-5.249770</td>\n",
              "      <td>0.391002</td>\n",
              "      <td>2.407313</td>\n",
              "      <td>0.249740</td>\n",
              "    </tr>\n",
              "    <tr>\n",
              "      <th>11</th>\n",
              "      <td>phon_R01_S02_6</td>\n",
              "      <td>91.904</td>\n",
              "      <td>115.871</td>\n",
              "      <td>86.292</td>\n",
              "      <td>0.00540</td>\n",
              "      <td>0.00006</td>\n",
              "      <td>0.00281</td>\n",
              "      <td>0.00336</td>\n",
              "      <td>0.00844</td>\n",
              "      <td>0.02752</td>\n",
              "      <td>0.249</td>\n",
              "      <td>0.01424</td>\n",
              "      <td>0.01641</td>\n",
              "      <td>0.02214</td>\n",
              "      <td>0.04272</td>\n",
              "      <td>0.01141</td>\n",
              "      <td>21.414</td>\n",
              "      <td>1</td>\n",
              "      <td>0.583390</td>\n",
              "      <td>0.792520</td>\n",
              "      <td>-4.960234</td>\n",
              "      <td>0.363566</td>\n",
              "      <td>2.642476</td>\n",
              "      <td>0.275931</td>\n",
              "    </tr>\n",
              "    <tr>\n",
              "      <th>12</th>\n",
              "      <td>phon_R01_S04_1</td>\n",
              "      <td>136.926</td>\n",
              "      <td>159.866</td>\n",
              "      <td>131.276</td>\n",
              "      <td>0.00293</td>\n",
              "      <td>0.00002</td>\n",
              "      <td>0.00118</td>\n",
              "      <td>0.00153</td>\n",
              "      <td>0.00355</td>\n",
              "      <td>0.01259</td>\n",
              "      <td>0.112</td>\n",
              "      <td>0.00656</td>\n",
              "      <td>0.00717</td>\n",
              "      <td>0.01140</td>\n",
              "      <td>0.01968</td>\n",
              "      <td>0.00581</td>\n",
              "      <td>25.703</td>\n",
              "      <td>1</td>\n",
              "      <td>0.460600</td>\n",
              "      <td>0.646846</td>\n",
              "      <td>-6.547148</td>\n",
              "      <td>0.152813</td>\n",
              "      <td>2.041277</td>\n",
              "      <td>0.138512</td>\n",
              "    </tr>\n",
              "    <tr>\n",
              "      <th>13</th>\n",
              "      <td>phon_R01_S04_2</td>\n",
              "      <td>139.173</td>\n",
              "      <td>179.139</td>\n",
              "      <td>76.556</td>\n",
              "      <td>0.00390</td>\n",
              "      <td>0.00003</td>\n",
              "      <td>0.00165</td>\n",
              "      <td>0.00208</td>\n",
              "      <td>0.00496</td>\n",
              "      <td>0.01642</td>\n",
              "      <td>0.154</td>\n",
              "      <td>0.00728</td>\n",
              "      <td>0.00932</td>\n",
              "      <td>0.01797</td>\n",
              "      <td>0.02184</td>\n",
              "      <td>0.01041</td>\n",
              "      <td>24.889</td>\n",
              "      <td>1</td>\n",
              "      <td>0.430166</td>\n",
              "      <td>0.665833</td>\n",
              "      <td>-5.660217</td>\n",
              "      <td>0.254989</td>\n",
              "      <td>2.519422</td>\n",
              "      <td>0.199889</td>\n",
              "    </tr>\n",
              "    <tr>\n",
              "      <th>14</th>\n",
              "      <td>phon_R01_S04_3</td>\n",
              "      <td>152.845</td>\n",
              "      <td>163.305</td>\n",
              "      <td>75.836</td>\n",
              "      <td>0.00294</td>\n",
              "      <td>0.00002</td>\n",
              "      <td>0.00121</td>\n",
              "      <td>0.00149</td>\n",
              "      <td>0.00364</td>\n",
              "      <td>0.01828</td>\n",
              "      <td>0.158</td>\n",
              "      <td>0.01064</td>\n",
              "      <td>0.00972</td>\n",
              "      <td>0.01246</td>\n",
              "      <td>0.03191</td>\n",
              "      <td>0.00609</td>\n",
              "      <td>24.922</td>\n",
              "      <td>1</td>\n",
              "      <td>0.474791</td>\n",
              "      <td>0.654027</td>\n",
              "      <td>-6.105098</td>\n",
              "      <td>0.203653</td>\n",
              "      <td>2.125618</td>\n",
              "      <td>0.170100</td>\n",
              "    </tr>\n",
              "  </tbody>\n",
              "</table>\n",
              "</div>\n",
              "      <button class=\"colab-df-convert\" onclick=\"convertToInteractive('df-cafa7d3f-a8c4-4450-bf7e-48419027c95b')\"\n",
              "              title=\"Convert this dataframe to an interactive table.\"\n",
              "              style=\"display:none;\">\n",
              "        \n",
              "  <svg xmlns=\"http://www.w3.org/2000/svg\" height=\"24px\"viewBox=\"0 0 24 24\"\n",
              "       width=\"24px\">\n",
              "    <path d=\"M0 0h24v24H0V0z\" fill=\"none\"/>\n",
              "    <path d=\"M18.56 5.44l.94 2.06.94-2.06 2.06-.94-2.06-.94-.94-2.06-.94 2.06-2.06.94zm-11 1L8.5 8.5l.94-2.06 2.06-.94-2.06-.94L8.5 2.5l-.94 2.06-2.06.94zm10 10l.94 2.06.94-2.06 2.06-.94-2.06-.94-.94-2.06-.94 2.06-2.06.94z\"/><path d=\"M17.41 7.96l-1.37-1.37c-.4-.4-.92-.59-1.43-.59-.52 0-1.04.2-1.43.59L10.3 9.45l-7.72 7.72c-.78.78-.78 2.05 0 2.83L4 21.41c.39.39.9.59 1.41.59.51 0 1.02-.2 1.41-.59l7.78-7.78 2.81-2.81c.8-.78.8-2.07 0-2.86zM5.41 20L4 18.59l7.72-7.72 1.47 1.35L5.41 20z\"/>\n",
              "  </svg>\n",
              "      </button>\n",
              "      \n",
              "  <style>\n",
              "    .colab-df-container {\n",
              "      display:flex;\n",
              "      flex-wrap:wrap;\n",
              "      gap: 12px;\n",
              "    }\n",
              "\n",
              "    .colab-df-convert {\n",
              "      background-color: #E8F0FE;\n",
              "      border: none;\n",
              "      border-radius: 50%;\n",
              "      cursor: pointer;\n",
              "      display: none;\n",
              "      fill: #1967D2;\n",
              "      height: 32px;\n",
              "      padding: 0 0 0 0;\n",
              "      width: 32px;\n",
              "    }\n",
              "\n",
              "    .colab-df-convert:hover {\n",
              "      background-color: #E2EBFA;\n",
              "      box-shadow: 0px 1px 2px rgba(60, 64, 67, 0.3), 0px 1px 3px 1px rgba(60, 64, 67, 0.15);\n",
              "      fill: #174EA6;\n",
              "    }\n",
              "\n",
              "    [theme=dark] .colab-df-convert {\n",
              "      background-color: #3B4455;\n",
              "      fill: #D2E3FC;\n",
              "    }\n",
              "\n",
              "    [theme=dark] .colab-df-convert:hover {\n",
              "      background-color: #434B5C;\n",
              "      box-shadow: 0px 1px 3px 1px rgba(0, 0, 0, 0.15);\n",
              "      filter: drop-shadow(0px 1px 2px rgba(0, 0, 0, 0.3));\n",
              "      fill: #FFFFFF;\n",
              "    }\n",
              "  </style>\n",
              "\n",
              "      <script>\n",
              "        const buttonEl =\n",
              "          document.querySelector('#df-cafa7d3f-a8c4-4450-bf7e-48419027c95b button.colab-df-convert');\n",
              "        buttonEl.style.display =\n",
              "          google.colab.kernel.accessAllowed ? 'block' : 'none';\n",
              "\n",
              "        async function convertToInteractive(key) {\n",
              "          const element = document.querySelector('#df-cafa7d3f-a8c4-4450-bf7e-48419027c95b');\n",
              "          const dataTable =\n",
              "            await google.colab.kernel.invokeFunction('convertToInteractive',\n",
              "                                                     [key], {});\n",
              "          if (!dataTable) return;\n",
              "\n",
              "          const docLinkHtml = 'Like what you see? Visit the ' +\n",
              "            '<a target=\"_blank\" href=https://colab.research.google.com/notebooks/data_table.ipynb>data table notebook</a>'\n",
              "            + ' to learn more about interactive tables.';\n",
              "          element.innerHTML = '';\n",
              "          dataTable['output_type'] = 'display_data';\n",
              "          await google.colab.output.renderOutput(dataTable, element);\n",
              "          const docLink = document.createElement('div');\n",
              "          docLink.innerHTML = docLinkHtml;\n",
              "          element.appendChild(docLink);\n",
              "        }\n",
              "      </script>\n",
              "    </div>\n",
              "  </div>\n",
              "  "
            ],
            "text/plain": [
              "              name  MDVP:Fo(Hz)  MDVP:Fhi(Hz)  ...   spread2        D2       PPE\n",
              "0   phon_R01_S01_1      119.992       157.302  ...  0.266482  2.301442  0.284654\n",
              "1   phon_R01_S01_2      122.400       148.650  ...  0.335590  2.486855  0.368674\n",
              "2   phon_R01_S01_3      116.682       131.111  ...  0.311173  2.342259  0.332634\n",
              "3   phon_R01_S01_4      116.676       137.871  ...  0.334147  2.405554  0.368975\n",
              "4   phon_R01_S01_5      116.014       141.781  ...  0.234513  2.332180  0.410335\n",
              "5   phon_R01_S01_6      120.552       131.162  ...  0.299111  2.187560  0.357775\n",
              "6   phon_R01_S02_1      120.267       137.244  ...  0.257682  1.854785  0.211756\n",
              "7   phon_R01_S02_2      107.332       113.840  ...  0.183721  2.064693  0.163755\n",
              "8   phon_R01_S02_3       95.730       132.068  ...  0.327769  2.322511  0.231571\n",
              "9   phon_R01_S02_4       95.056       120.103  ...  0.325996  2.432792  0.271362\n",
              "10  phon_R01_S02_5       88.333       112.240  ...  0.391002  2.407313  0.249740\n",
              "11  phon_R01_S02_6       91.904       115.871  ...  0.363566  2.642476  0.275931\n",
              "12  phon_R01_S04_1      136.926       159.866  ...  0.152813  2.041277  0.138512\n",
              "13  phon_R01_S04_2      139.173       179.139  ...  0.254989  2.519422  0.199889\n",
              "14  phon_R01_S04_3      152.845       163.305  ...  0.203653  2.125618  0.170100\n",
              "\n",
              "[15 rows x 24 columns]"
            ]
          },
          "metadata": {},
          "execution_count": 17
        }
      ]
    },
    {
      "cell_type": "code",
      "source": [
        "import numpy as np"
      ],
      "metadata": {
        "id": "vg-p10PEMOd_"
      },
      "execution_count": null,
      "outputs": []
    },
    {
      "cell_type": "code",
      "source": [
        "# Group every six rows in dataframe and average column values.  (Six sets of data per individual in the study)\n",
        "grouped_df = df.groupby(np.arange(len(df.index))//6, axis=0).mean() #source: link below"
      ],
      "metadata": {
        "id": "ishRbMnuMDuy"
      },
      "execution_count": null,
      "outputs": []
    },
    {
      "cell_type": "markdown",
      "source": [
        "https://stackoverflow.com/questions/46478518/groupby-dataframe-by-n-columns-or-n-rows"
      ],
      "metadata": {
        "id": "ZSGw5BijMsm_"
      }
    },
    {
      "cell_type": "code",
      "source": [
        "grouped_df.shape"
      ],
      "metadata": {
        "colab": {
          "base_uri": "https://localhost:8080/"
        },
        "id": "m1tgJMSjMhar",
        "outputId": "410ed8d0-f070-416c-b682-abeb2a13b665"
      },
      "execution_count": null,
      "outputs": [
        {
          "output_type": "execute_result",
          "data": {
            "text/plain": [
              "(32, 23)"
            ]
          },
          "metadata": {},
          "execution_count": 20
        }
      ]
    },
    {
      "cell_type": "code",
      "source": [
        "grouped_df['status'].value_counts() #This grouped value_counts indicates an issue with 3 of the study members\n",
        "# having both diagnoses of parkinsons and not parkinsons.  Before I decide what to do, I need to spend more \n",
        "# time looking at why this is the case."
      ],
      "metadata": {
        "colab": {
          "base_uri": "https://localhost:8080/"
        },
        "id": "JeAG-lTF_Fz3",
        "outputId": "211501db-9f3b-48e0-ac12-30d24f8fb233"
      },
      "execution_count": null,
      "outputs": [
        {
          "output_type": "execute_result",
          "data": {
            "text/plain": [
              "1    24\n",
              "0     8\n",
              "Name: status, dtype: int64"
            ]
          },
          "metadata": {},
          "execution_count": 21
        }
      ]
    },
    {
      "cell_type": "code",
      "source": [
        "parkinsons = len(df.loc[df['status']==1]) #find number in study diagnosed with PD\n",
        "no_parkinsons = len(df.loc[df['status']==0])"
      ],
      "metadata": {
        "id": "V_SsBnA99cj2"
      },
      "execution_count": null,
      "outputs": []
    },
    {
      "cell_type": "markdown",
      "source": [
        "This visual is showing the total number of diagnoses.  This is not adjusted for individual people.  "
      ],
      "metadata": {
        "id": "zd-rpL5CUSli"
      }
    },
    {
      "cell_type": "markdown",
      "source": [
        "# Produce and evaluate a correlation heatmap\n",
        "\n",
        "\n"
      ],
      "metadata": {
        "id": "q77C2HHKwIsT"
      }
    },
    {
      "cell_type": "code",
      "source": [
        "corr = df.corr()\n",
        "plt.figure(figsize = (15,15))\n",
        "sns.heatmap(corr, cmap = 'Greens', annot=True)"
      ],
      "metadata": {
        "colab": {
          "base_uri": "https://localhost:8080/",
          "height": 993
        },
        "id": "QfDixm6HxFI5",
        "outputId": "410aef1b-b81b-4182-c652-0770690e926f"
      },
      "execution_count": null,
      "outputs": [
        {
          "output_type": "execute_result",
          "data": {
            "text/plain": [
              "<matplotlib.axes._subplots.AxesSubplot at 0x7f2e76a58bd0>"
            ]
          },
          "metadata": {},
          "execution_count": 23
        },
        {
          "output_type": "display_data",
          "data": {
            "image/png": "[encoded data removed]",
            "text/plain": [
              "<Figure size 1080x1080 with 2 Axes>"
            ]
          },
          "metadata": {
            "needs_background": "light"
          }
        }
      ]
    },
    {
      "cell_type": "markdown",
      "source": [
        "There are moderate correlations between status (Parkinson's diagnosis) and PPE, spread1, and spread2.  These are 0.53, 0.56, and 0.45, respectively.  "
      ],
      "metadata": {
        "id": "uLz5GEK6lsIU"
      }
    },
    {
      "cell_type": "markdown",
      "source": [
        "# Model Validation\n"
      ],
      "metadata": {
        "id": "rSFE8_vC34Jc"
      }
    },
    {
      "cell_type": "code",
      "source": [
        "y = df['status']\n",
        "X = df.drop(columns = ['status', 'name', 'MDVP:Fo(Hz)', 'MDVP:Fhi(Hz)','MDVP:Flo(Hz)', 'MDVP:RAP', 'MDVP:PPQ', 'MDVP:APQ', 'spread1', 'spread2','D2' ])\n",
        "\n",
        "X_train, X_test, y_train, y_test = train_test_split(X, y, random_state=42, stratify=y)"
      ],
      "metadata": {
        "id": "IJk7tvkr32c-"
      },
      "execution_count": null,
      "outputs": []
    },
    {
      "cell_type": "code",
      "source": [
        "df.shape"
      ],
      "metadata": {
        "colab": {
          "base_uri": "https://localhost:8080/"
        },
        "id": "VnweqNzFgKTT",
        "outputId": "a920f97e-fafc-460b-d9ad-e28444c39da8"
      },
      "execution_count": null,
      "outputs": [
        {
          "output_type": "execute_result",
          "data": {
            "text/plain": [
              "(192, 24)"
            ]
          },
          "metadata": {},
          "execution_count": 25
        }
      ]
    },
    {
      "cell_type": "code",
      "source": [
        "X_train.hist(figsize=(20,20));\n"
      ],
      "metadata": {
        "colab": {
          "base_uri": "https://localhost:8080/",
          "height": 841
        },
        "id": "OEUcrFvS9bN-",
        "outputId": "bdf7d210-743f-48a1-8252-eca3371ff067"
      },
      "execution_count": null,
      "outputs": [
        {
          "output_type": "display_data",
          "data": {
            "image/png": "[encoded data removed]",
            "text/plain": [
              "<Figure size 1440x1440 with 16 Axes>"
            ]
          },
          "metadata": {
            "needs_background": "light"
          }
        }
      ]
    },
    {
      "cell_type": "markdown",
      "source": [
        "# Identify Outliers"
      ],
      "metadata": {
        "id": "Fp0cSyGawFWg"
      }
    },
    {
      "cell_type": "code",
      "source": [
        "Q1 = X_train.quantile(0.25)  # Source: https://towardsdatascience.com/ways-to-detect-and-remove-the-outliers-404d16608dba\n",
        "Q3 = X_train.quantile(0.75)  # Calculating Q1, Q3 and the Interquartile Range\n",
        "IQR = Q3 - Q1\n",
        "print(IQR)"
      ],
      "metadata": {
        "id": "ZUJMU5MR01gu",
        "colab": {
          "base_uri": "https://localhost:8080/"
        },
        "outputId": "42420d3b-aa01-4d9b-a15a-74844f4abb85"
      },
      "execution_count": null,
      "outputs": [
        {
          "output_type": "stream",
          "name": "stdout",
          "text": [
            "MDVP:Jitter(%)      0.003925\n",
            "MDVP:Jitter(Abs)    0.000030\n",
            "Jitter:DDP          0.006383\n",
            "MDVP:Shimmer        0.022375\n",
            "MDVP:Shimmer(dB)    0.210250\n",
            "Shimmer:APQ3        0.011975\n",
            "Shimmer:APQ5        0.013500\n",
            "Shimmer:DDA         0.035925\n",
            "NHR                 0.019527\n",
            "HNR                 5.954750\n",
            "RPDE                0.164064\n",
            "DFA                 0.085463\n",
            "PPE                 0.121390\n",
            "dtype: float64\n"
          ]
        }
      ]
    },
    {
      "cell_type": "code",
      "source": [
        "print(X_train < (Q1 - 1.5 * IQR)) or (X_train > (Q3 + 1.5 * IQR))  # Source: https://towardsdatascience.com/ways-to-detect-and-remove-the-outliers-404d16608dba\n",
        "\n",
        "# Identifying the outliers which fall 1.5 times the interquartile range below the 1st quartile OR 1.5 times the interquartile\n",
        "# range above the third quartile"
      ],
      "metadata": {
        "colab": {
          "base_uri": "https://localhost:8080/",
          "height": 721
        },
        "id": "MWgVRPkM767s",
        "outputId": "b5d90246-55b7-4c3c-ef31-7d59d8e5354d"
      },
      "execution_count": null,
      "outputs": [
        {
          "output_type": "stream",
          "name": "stdout",
          "text": [
            "     MDVP:Jitter(%)  MDVP:Jitter(Abs)  Jitter:DDP  ...   RPDE    DFA    PPE\n",
            "24            False             False       False  ...  False  False  False\n",
            "166           False             False       False  ...  False  False  False\n",
            "35            False             False       False  ...  False  False  False\n",
            "109           False             False       False  ...  False  False  False\n",
            "94            False             False       False  ...  False  False  False\n",
            "..              ...               ...         ...  ...    ...    ...    ...\n",
            "9             False             False       False  ...  False  False  False\n",
            "120           False             False       False  ...  False  False  False\n",
            "132           False             False       False  ...  False  False  False\n",
            "110           False             False       False  ...  False  False  False\n",
            "153           False             False       False  ...  False  False  False\n",
            "\n",
            "[144 rows x 13 columns]\n"
          ]
        },
        {
          "output_type": "execute_result",
          "data": {
            "text/html": [
              "\n",
              "  <div id=\"df-a85106f7-2de2-4f72-ba0e-88a2bc83d009\">\n",
              "    <div class=\"colab-df-container\">\n",
              "      <div>\n",
              "<style scoped>\n",
              "    .dataframe tbody tr th:only-of-type {\n",
              "        vertical-align: middle;\n",
              "    }\n",
              "\n",
              "    .dataframe tbody tr th {\n",
              "        vertical-align: top;\n",
              "    }\n",
              "\n",
              "    .dataframe thead th {\n",
              "        text-align: right;\n",
              "    }\n",
              "</style>\n",
              "<table border=\"1\" class=\"dataframe\">\n",
              "  <thead>\n",
              "    <tr style=\"text-align: right;\">\n",
              "      <th></th>\n",
              "      <th>MDVP:Jitter(%)</th>\n",
              "      <th>MDVP:Jitter(Abs)</th>\n",
              "      <th>Jitter:DDP</th>\n",
              "      <th>MDVP:Shimmer</th>\n",
              "      <th>MDVP:Shimmer(dB)</th>\n",
              "      <th>Shimmer:APQ3</th>\n",
              "      <th>Shimmer:APQ5</th>\n",
              "      <th>Shimmer:DDA</th>\n",
              "      <th>NHR</th>\n",
              "      <th>HNR</th>\n",
              "      <th>RPDE</th>\n",
              "      <th>DFA</th>\n",
              "      <th>PPE</th>\n",
              "    </tr>\n",
              "  </thead>\n",
              "  <tbody>\n",
              "    <tr>\n",
              "      <th>24</th>\n",
              "      <td>False</td>\n",
              "      <td>False</td>\n",
              "      <td>False</td>\n",
              "      <td>False</td>\n",
              "      <td>False</td>\n",
              "      <td>False</td>\n",
              "      <td>False</td>\n",
              "      <td>False</td>\n",
              "      <td>False</td>\n",
              "      <td>False</td>\n",
              "      <td>False</td>\n",
              "      <td>False</td>\n",
              "      <td>False</td>\n",
              "    </tr>\n",
              "    <tr>\n",
              "      <th>166</th>\n",
              "      <td>False</td>\n",
              "      <td>False</td>\n",
              "      <td>False</td>\n",
              "      <td>False</td>\n",
              "      <td>False</td>\n",
              "      <td>False</td>\n",
              "      <td>False</td>\n",
              "      <td>False</td>\n",
              "      <td>False</td>\n",
              "      <td>False</td>\n",
              "      <td>False</td>\n",
              "      <td>False</td>\n",
              "      <td>False</td>\n",
              "    </tr>\n",
              "    <tr>\n",
              "      <th>35</th>\n",
              "      <td>False</td>\n",
              "      <td>False</td>\n",
              "      <td>False</td>\n",
              "      <td>False</td>\n",
              "      <td>False</td>\n",
              "      <td>False</td>\n",
              "      <td>False</td>\n",
              "      <td>False</td>\n",
              "      <td>False</td>\n",
              "      <td>False</td>\n",
              "      <td>False</td>\n",
              "      <td>False</td>\n",
              "      <td>False</td>\n",
              "    </tr>\n",
              "    <tr>\n",
              "      <th>109</th>\n",
              "      <td>False</td>\n",
              "      <td>False</td>\n",
              "      <td>False</td>\n",
              "      <td>False</td>\n",
              "      <td>False</td>\n",
              "      <td>False</td>\n",
              "      <td>False</td>\n",
              "      <td>False</td>\n",
              "      <td>False</td>\n",
              "      <td>False</td>\n",
              "      <td>False</td>\n",
              "      <td>False</td>\n",
              "      <td>False</td>\n",
              "    </tr>\n",
              "    <tr>\n",
              "      <th>94</th>\n",
              "      <td>False</td>\n",
              "      <td>False</td>\n",
              "      <td>False</td>\n",
              "      <td>False</td>\n",
              "      <td>False</td>\n",
              "      <td>False</td>\n",
              "      <td>False</td>\n",
              "      <td>False</td>\n",
              "      <td>False</td>\n",
              "      <td>False</td>\n",
              "      <td>False</td>\n",
              "      <td>False</td>\n",
              "      <td>False</td>\n",
              "    </tr>\n",
              "    <tr>\n",
              "      <th>...</th>\n",
              "      <td>...</td>\n",
              "      <td>...</td>\n",
              "      <td>...</td>\n",
              "      <td>...</td>\n",
              "      <td>...</td>\n",
              "      <td>...</td>\n",
              "      <td>...</td>\n",
              "      <td>...</td>\n",
              "      <td>...</td>\n",
              "      <td>...</td>\n",
              "      <td>...</td>\n",
              "      <td>...</td>\n",
              "      <td>...</td>\n",
              "    </tr>\n",
              "    <tr>\n",
              "      <th>9</th>\n",
              "      <td>False</td>\n",
              "      <td>False</td>\n",
              "      <td>False</td>\n",
              "      <td>False</td>\n",
              "      <td>False</td>\n",
              "      <td>False</td>\n",
              "      <td>False</td>\n",
              "      <td>False</td>\n",
              "      <td>False</td>\n",
              "      <td>False</td>\n",
              "      <td>False</td>\n",
              "      <td>False</td>\n",
              "      <td>False</td>\n",
              "    </tr>\n",
              "    <tr>\n",
              "      <th>120</th>\n",
              "      <td>False</td>\n",
              "      <td>False</td>\n",
              "      <td>False</td>\n",
              "      <td>False</td>\n",
              "      <td>False</td>\n",
              "      <td>False</td>\n",
              "      <td>False</td>\n",
              "      <td>False</td>\n",
              "      <td>False</td>\n",
              "      <td>False</td>\n",
              "      <td>False</td>\n",
              "      <td>False</td>\n",
              "      <td>False</td>\n",
              "    </tr>\n",
              "    <tr>\n",
              "      <th>132</th>\n",
              "      <td>False</td>\n",
              "      <td>False</td>\n",
              "      <td>False</td>\n",
              "      <td>False</td>\n",
              "      <td>False</td>\n",
              "      <td>False</td>\n",
              "      <td>False</td>\n",
              "      <td>False</td>\n",
              "      <td>False</td>\n",
              "      <td>False</td>\n",
              "      <td>False</td>\n",
              "      <td>False</td>\n",
              "      <td>False</td>\n",
              "    </tr>\n",
              "    <tr>\n",
              "      <th>110</th>\n",
              "      <td>False</td>\n",
              "      <td>False</td>\n",
              "      <td>False</td>\n",
              "      <td>False</td>\n",
              "      <td>False</td>\n",
              "      <td>False</td>\n",
              "      <td>False</td>\n",
              "      <td>False</td>\n",
              "      <td>False</td>\n",
              "      <td>False</td>\n",
              "      <td>False</td>\n",
              "      <td>False</td>\n",
              "      <td>False</td>\n",
              "    </tr>\n",
              "    <tr>\n",
              "      <th>153</th>\n",
              "      <td>False</td>\n",
              "      <td>False</td>\n",
              "      <td>False</td>\n",
              "      <td>False</td>\n",
              "      <td>False</td>\n",
              "      <td>False</td>\n",
              "      <td>False</td>\n",
              "      <td>False</td>\n",
              "      <td>False</td>\n",
              "      <td>False</td>\n",
              "      <td>False</td>\n",
              "      <td>False</td>\n",
              "      <td>False</td>\n",
              "    </tr>\n",
              "  </tbody>\n",
              "</table>\n",
              "<p>144 rows × 13 columns</p>\n",
              "</div>\n",
              "      <button class=\"colab-df-convert\" onclick=\"convertToInteractive('df-a85106f7-2de2-4f72-ba0e-88a2bc83d009')\"\n",
              "              title=\"Convert this dataframe to an interactive table.\"\n",
              "              style=\"display:none;\">\n",
              "        \n",
              "  <svg xmlns=\"http://www.w3.org/2000/svg\" height=\"24px\"viewBox=\"0 0 24 24\"\n",
              "       width=\"24px\">\n",
              "    <path d=\"M0 0h24v24H0V0z\" fill=\"none\"/>\n",
              "    <path d=\"M18.56 5.44l.94 2.06.94-2.06 2.06-.94-2.06-.94-.94-2.06-.94 2.06-2.06.94zm-11 1L8.5 8.5l.94-2.06 2.06-.94-2.06-.94L8.5 2.5l-.94 2.06-2.06.94zm10 10l.94 2.06.94-2.06 2.06-.94-2.06-.94-.94-2.06-.94 2.06-2.06.94z\"/><path d=\"M17.41 7.96l-1.37-1.37c-.4-.4-.92-.59-1.43-.59-.52 0-1.04.2-1.43.59L10.3 9.45l-7.72 7.72c-.78.78-.78 2.05 0 2.83L4 21.41c.39.39.9.59 1.41.59.51 0 1.02-.2 1.41-.59l7.78-7.78 2.81-2.81c.8-.78.8-2.07 0-2.86zM5.41 20L4 18.59l7.72-7.72 1.47 1.35L5.41 20z\"/>\n",
              "  </svg>\n",
              "      </button>\n",
              "      \n",
              "  <style>\n",
              "    .colab-df-container {\n",
              "      display:flex;\n",
              "      flex-wrap:wrap;\n",
              "      gap: 12px;\n",
              "    }\n",
              "\n",
              "    .colab-df-convert {\n",
              "      background-color: #E8F0FE;\n",
              "      border: none;\n",
              "      border-radius: 50%;\n",
              "      cursor: pointer;\n",
              "      display: none;\n",
              "      fill: #1967D2;\n",
              "      height: 32px;\n",
              "      padding: 0 0 0 0;\n",
              "      width: 32px;\n",
              "    }\n",
              "\n",
              "    .colab-df-convert:hover {\n",
              "      background-color: #E2EBFA;\n",
              "      box-shadow: 0px 1px 2px rgba(60, 64, 67, 0.3), 0px 1px 3px 1px rgba(60, 64, 67, 0.15);\n",
              "      fill: #174EA6;\n",
              "    }\n",
              "\n",
              "    [theme=dark] .colab-df-convert {\n",
              "      background-color: #3B4455;\n",
              "      fill: #D2E3FC;\n",
              "    }\n",
              "\n",
              "    [theme=dark] .colab-df-convert:hover {\n",
              "      background-color: #434B5C;\n",
              "      box-shadow: 0px 1px 3px 1px rgba(0, 0, 0, 0.15);\n",
              "      filter: drop-shadow(0px 1px 2px rgba(0, 0, 0, 0.3));\n",
              "      fill: #FFFFFF;\n",
              "    }\n",
              "  </style>\n",
              "\n",
              "      <script>\n",
              "        const buttonEl =\n",
              "          document.querySelector('#df-a85106f7-2de2-4f72-ba0e-88a2bc83d009 button.colab-df-convert');\n",
              "        buttonEl.style.display =\n",
              "          google.colab.kernel.accessAllowed ? 'block' : 'none';\n",
              "\n",
              "        async function convertToInteractive(key) {\n",
              "          const element = document.querySelector('#df-a85106f7-2de2-4f72-ba0e-88a2bc83d009');\n",
              "          const dataTable =\n",
              "            await google.colab.kernel.invokeFunction('convertToInteractive',\n",
              "                                                     [key], {});\n",
              "          if (!dataTable) return;\n",
              "\n",
              "          const docLinkHtml = 'Like what you see? Visit the ' +\n",
              "            '<a target=\"_blank\" href=https://colab.research.google.com/notebooks/data_table.ipynb>data table notebook</a>'\n",
              "            + ' to learn more about interactive tables.';\n",
              "          element.innerHTML = '';\n",
              "          dataTable['output_type'] = 'display_data';\n",
              "          await google.colab.output.renderOutput(dataTable, element);\n",
              "          const docLink = document.createElement('div');\n",
              "          docLink.innerHTML = docLinkHtml;\n",
              "          element.appendChild(docLink);\n",
              "        }\n",
              "      </script>\n",
              "    </div>\n",
              "  </div>\n",
              "  "
            ],
            "text/plain": [
              "     MDVP:Jitter(%)  MDVP:Jitter(Abs)  Jitter:DDP  ...   RPDE    DFA    PPE\n",
              "24            False             False       False  ...  False  False  False\n",
              "166           False             False       False  ...  False  False  False\n",
              "35            False             False       False  ...  False  False  False\n",
              "109           False             False       False  ...  False  False  False\n",
              "94            False             False       False  ...  False  False  False\n",
              "..              ...               ...         ...  ...    ...    ...    ...\n",
              "9             False             False       False  ...  False  False  False\n",
              "120           False             False       False  ...  False  False  False\n",
              "132           False             False       False  ...  False  False  False\n",
              "110           False             False       False  ...  False  False  False\n",
              "153           False             False       False  ...  False  False  False\n",
              "\n",
              "[144 rows x 13 columns]"
            ]
          },
          "metadata": {},
          "execution_count": 28
        }
      ]
    },
    {
      "cell_type": "code",
      "source": [
        "X_train_ready = X_train[~((X_train < (Q1 - 1.5 * IQR)) | (X_train > (Q3 + 1.5 * IQR))).any(axis=1)] # This code (also from source above) creates a \n",
        "X_train_ready.shape"
      ],
      "metadata": {
        "colab": {
          "base_uri": "https://localhost:8080/"
        },
        "id": "LLdcsvZ_8Qyz",
        "outputId": "1f1be74a-2814-42a3-86a2-aa877edfe77f"
      },
      "execution_count": null,
      "outputs": [
        {
          "output_type": "execute_result",
          "data": {
            "text/plain": [
              "(126, 13)"
            ]
          },
          "metadata": {},
          "execution_count": 29
        }
      ]
    },
    {
      "cell_type": "code",
      "source": [
        "X_train_ready.hist(figsize = (20,20));    # Outliers removed"
      ],
      "metadata": {
        "colab": {
          "base_uri": "https://localhost:8080/",
          "height": 839
        },
        "id": "Aey5pJTl9J7N",
        "outputId": "47d2a444-761e-4175-e1dc-f756edf1b273"
      },
      "execution_count": null,
      "outputs": [
        {
          "output_type": "display_data",
          "data": {
            "image/png": "[encoded data removed]",
            "text/plain": [
              "<Figure size 1440x1440 with 16 Axes>"
            ]
          },
          "metadata": {
            "needs_background": "light"
          }
        }
      ]
    },
    {
      "cell_type": "markdown",
      "source": [
        "# Default Classifier Model"
      ],
      "metadata": {
        "id": "pioolmZXAr1-"
      }
    },
    {
      "cell_type": "code",
      "source": [
        "df['status'].value_counts(normalize = 'True')"
      ],
      "metadata": {
        "colab": {
          "base_uri": "https://localhost:8080/"
        },
        "id": "9gkjJrUTA2U4",
        "outputId": "138e5789-6bcb-4f91-bf82-ecaf6162b084"
      },
      "execution_count": null,
      "outputs": [
        {
          "output_type": "execute_result",
          "data": {
            "text/plain": [
              "1    0.75\n",
              "0    0.25\n",
              "Name: status, dtype: float64"
            ]
          },
          "metadata": {},
          "execution_count": 31
        }
      ]
    },
    {
      "cell_type": "code",
      "source": [
        "all_ones = np.ones(len(y_test))\n",
        "all_ones"
      ],
      "metadata": {
        "colab": {
          "base_uri": "https://localhost:8080/"
        },
        "id": "m_OtCf9mBBXS",
        "outputId": "e549dac1-ccc7-4f62-fabb-7750ea7eeff9"
      },
      "execution_count": null,
      "outputs": [
        {
          "output_type": "execute_result",
          "data": {
            "text/plain": [
              "array([1., 1., 1., 1., 1., 1., 1., 1., 1., 1., 1., 1., 1., 1., 1., 1., 1.,\n",
              "       1., 1., 1., 1., 1., 1., 1., 1., 1., 1., 1., 1., 1., 1., 1., 1., 1.,\n",
              "       1., 1., 1., 1., 1., 1., 1., 1., 1., 1., 1., 1., 1., 1.])"
            ]
          },
          "metadata": {},
          "execution_count": 32
        }
      ]
    },
    {
      "cell_type": "code",
      "source": [
        "class_report_default = classification_report(y_test, all_ones);\n",
        "print(class_report_default)"
      ],
      "metadata": {
        "colab": {
          "base_uri": "https://localhost:8080/"
        },
        "id": "jRBE4ytCBjTC",
        "outputId": "3c45f36c-74ff-4154-c528-361da148eb59"
      },
      "execution_count": null,
      "outputs": [
        {
          "output_type": "stream",
          "name": "stdout",
          "text": [
            "              precision    recall  f1-score   support\n",
            "\n",
            "           0       0.00      0.00      0.00        12\n",
            "           1       0.75      1.00      0.86        36\n",
            "\n",
            "    accuracy                           0.75        48\n",
            "   macro avg       0.38      0.50      0.43        48\n",
            "weighted avg       0.56      0.75      0.64        48\n",
            "\n"
          ]
        },
        {
          "output_type": "stream",
          "name": "stderr",
          "text": [
            "/usr/local/lib/python3.7/dist-packages/sklearn/metrics/_classification.py:1308: UndefinedMetricWarning: Precision and F-score are ill-defined and being set to 0.0 in labels with no predicted samples. Use `zero_division` parameter to control this behavior.\n",
            "  _warn_prf(average, modifier, msg_start, len(result))\n",
            "/usr/local/lib/python3.7/dist-packages/sklearn/metrics/_classification.py:1308: UndefinedMetricWarning: Precision and F-score are ill-defined and being set to 0.0 in labels with no predicted samples. Use `zero_division` parameter to control this behavior.\n",
            "  _warn_prf(average, modifier, msg_start, len(result))\n",
            "/usr/local/lib/python3.7/dist-packages/sklearn/metrics/_classification.py:1308: UndefinedMetricWarning: Precision and F-score are ill-defined and being set to 0.0 in labels with no predicted samples. Use `zero_division` parameter to control this behavior.\n",
            "  _warn_prf(average, modifier, msg_start, len(result))\n"
          ]
        }
      ]
    },
    {
      "cell_type": "markdown",
      "source": [
        "# KNN ** Basic Model** on Averaged Data"
      ],
      "metadata": {
        "id": "YqHAiV5Y_dYz"
      }
    },
    {
      "cell_type": "code",
      "source": [
        "scaler = StandardScaler ()\n",
        "scaled_df = scaler.fit_transform(X_train)"
      ],
      "metadata": {
        "id": "PxXdh708F1Be"
      },
      "execution_count": null,
      "outputs": []
    },
    {
      "cell_type": "code",
      "source": [
        "scaler = StandardScaler()\n",
        "knn = KNeighborsClassifier()\n",
        "\n",
        "numeric_selector = make_column_selector(dtype_include = 'number')\n",
        "scaler_tuple = (scaler, numeric_selector)\n",
        "col_transformer = make_column_transformer(scaler_tuple, remainder = 'passthrough')\n",
        "pipe = make_pipeline(col_transformer, knn)"
      ],
      "metadata": {
        "id": "h8mNKx9eMZFT"
      },
      "execution_count": null,
      "outputs": []
    },
    {
      "cell_type": "code",
      "source": [
        "pipe.fit(X_train, y_train)"
      ],
      "metadata": {
        "colab": {
          "base_uri": "https://localhost:8080/"
        },
        "id": "uzsH7f-BIgzc",
        "outputId": "154c9cf3-87c6-47ca-f9c5-c44aedb58b3e"
      },
      "execution_count": null,
      "outputs": [
        {
          "output_type": "execute_result",
          "data": {
            "text/plain": [
              "Pipeline(steps=[('columntransformer',\n",
              "                 ColumnTransformer(remainder='passthrough',\n",
              "                                   transformers=[('standardscaler',\n",
              "                                                  StandardScaler(),\n",
              "                                                  <sklearn.compose._column_transformer.make_column_selector object at 0x7f2e6a70fa10>)])),\n",
              "                ('kneighborsclassifier', KNeighborsClassifier())])"
            ]
          },
          "metadata": {},
          "execution_count": 36
        }
      ]
    },
    {
      "cell_type": "code",
      "source": [
        "y_pred = pipe.predict(X_test)\n",
        "y_pred_knn_train = pipe.predict(X_train)"
      ],
      "metadata": {
        "id": "aI3Swx6wKH7B"
      },
      "execution_count": null,
      "outputs": []
    },
    {
      "cell_type": "code",
      "source": [
        "knn_train_accuracy = accuracy_score(y_train, y_pred_knn_train)\n",
        "print(f'KNN Train Accuracy: {knn_train_accuracy}')"
      ],
      "metadata": {
        "colab": {
          "base_uri": "https://localhost:8080/"
        },
        "id": "gWfsu9rbXPRk",
        "outputId": "ed054476-cd73-4c94-dafa-5223e2b394ee"
      },
      "execution_count": null,
      "outputs": [
        {
          "output_type": "stream",
          "name": "stdout",
          "text": [
            "KNN Train Accuracy: 0.8819444444444444\n"
          ]
        }
      ]
    },
    {
      "cell_type": "code",
      "source": [
        "knn_test_accuracy = accuracy_score(y_test, y_pred)\n",
        "print(f'KNN Test Accuracy: {knn_test_accuracy}')"
      ],
      "metadata": {
        "colab": {
          "base_uri": "https://localhost:8080/"
        },
        "id": "4_naPwpXXgj3",
        "outputId": "44a474b9-e348-4219-b36b-9c13023bd036"
      },
      "execution_count": null,
      "outputs": [
        {
          "output_type": "stream",
          "name": "stdout",
          "text": [
            "KNN Test Accuracy: 0.8333333333333334\n"
          ]
        }
      ]
    },
    {
      "cell_type": "code",
      "source": [
        "class_report_knn_basic = classification_report(y_pred, y_test)\n",
        "print(class_report_knn_basic)"
      ],
      "metadata": {
        "colab": {
          "base_uri": "https://localhost:8080/"
        },
        "id": "aD_ndU57KVMA",
        "outputId": "ff197d17-0580-4129-c015-3a76a26ddb7b"
      },
      "execution_count": null,
      "outputs": [
        {
          "output_type": "stream",
          "name": "stdout",
          "text": [
            "              precision    recall  f1-score   support\n",
            "\n",
            "           0       0.75      0.64      0.69        14\n",
            "           1       0.86      0.91      0.89        34\n",
            "\n",
            "    accuracy                           0.83        48\n",
            "   macro avg       0.81      0.78      0.79        48\n",
            "weighted avg       0.83      0.83      0.83        48\n",
            "\n"
          ]
        }
      ]
    },
    {
      "cell_type": "code",
      "source": [
        "plot_confusion_matrix(pipe, X_test, y_test, cmap = 'Blues');"
      ],
      "metadata": {
        "colab": {
          "base_uri": "https://localhost:8080/",
          "height": 333
        },
        "id": "JDDI8GEqcdts",
        "outputId": "425ee5bb-0352-4879-c45c-23a9a7c2496a"
      },
      "execution_count": null,
      "outputs": [
        {
          "output_type": "stream",
          "name": "stderr",
          "text": [
            "/usr/local/lib/python3.7/dist-packages/sklearn/utils/deprecation.py:87: FutureWarning: Function plot_confusion_matrix is deprecated; Function `plot_confusion_matrix` is deprecated in 1.0 and will be removed in 1.2. Use one of the class methods: ConfusionMatrixDisplay.from_predictions or ConfusionMatrixDisplay.from_estimator.\n",
            "  warnings.warn(msg, category=FutureWarning)\n"
          ]
        },
        {
          "output_type": "display_data",
          "data": {
            "image/png": "[encoded data removed]",
            "text/plain": [
              "<Figure size 432x288 with 2 Axes>"
            ]
          },
          "metadata": {
            "needs_background": "light"
          }
        }
      ]
    },
    {
      "cell_type": "markdown",
      "source": [
        "# Optimize KNN on Averaged Data"
      ],
      "metadata": {
        "id": "dK45j8YcLHA1"
      }
    },
    {
      "cell_type": "code",
      "source": [
        "error_rate = []   #source: https://towardsdatascience.com/how-to-find-the-optimal-value-of-k-in-knn-35d936e554eb\n",
        "for i in range(1,40):          #Finding minimum error\n",
        " knn1 = KNeighborsClassifier(n_neighbors=i)\n",
        " pipe_knn1 = make_pipeline(col_transformer,knn1)\n",
        "\n",
        " pipe_knn1.fit(X_train,y_train)\n",
        " pred_i = pipe_knn1.predict(X_test)\n",
        " error_rate.append(np.mean(pred_i != y_test))\n",
        "\n",
        "plt.figure(figsize=(10,6))\n",
        "plt.plot(range(1,40),error_rate,color='blue', linestyle='dashed', \n",
        "         marker='o',markerfacecolor='red', markersize=10)\n",
        "plt.title('Error Rate vs. K Value')\n",
        "plt.xlabel('K')\n",
        "plt.xticks(np.arange(0,40, step=2))\n",
        "plt.ylabel('Error Rate')\n",
        "print(\"Minimum error:-\",min(error_rate),\"at K =\",error_rate.index(min(error_rate))+1)"
      ],
      "metadata": {
        "colab": {
          "base_uri": "https://localhost:8080/",
          "height": 421
        },
        "id": "sADNBW7PK_VG",
        "outputId": "d63a159f-e649-4c1c-dff9-448323f3a3ff"
      },
      "execution_count": null,
      "outputs": [
        {
          "output_type": "stream",
          "name": "stdout",
          "text": [
            "Minimum error:- 0.0625 at K = 1\n"
          ]
        },
        {
          "output_type": "display_data",
          "data": {
            "image/png": "[encoded data removed]",
            "text/plain": [
              "<Figure size 720x432 with 1 Axes>"
            ]
          },
          "metadata": {
            "needs_background": "light"
          }
        }
      ]
    },
    {
      "cell_type": "code",
      "source": [
        "acc = [] #source: https://towardsdatascience.com/how-to-find-the-optimal-value-of-k-in-knn-35d936e554eb\n",
        "from sklearn import metrics #finding maximum accuracy\n",
        "for i in range(1,60):\n",
        "    knn1 = KNeighborsClassifier(n_neighbors=i)\n",
        "    pipe_knn1 = make_pipeline(col_transformer,knn1)\n",
        "    pipe_knn1.fit(X_train,y_train)    \n",
        "    yhat = pipe_knn1.predict(X_test)\n",
        "    acc.append(metrics.accuracy_score(y_test, yhat))\n",
        "    \n",
        "plt.figure(figsize=(10,6))\n",
        "plt.plot(range(1,60),acc,color = 'blue',linestyle='dashed', \n",
        "         marker='o',markerfacecolor='red', markersize=10)\n",
        "plt.title('accuracy vs. K Value')\n",
        "plt.xlabel('K')\n",
        "plt.ylabel('Accuracy')\n",
        "print(\"Maximum accuracy:-\",max(acc),\"at K =\",(acc.index(max(acc))+1))"
      ],
      "metadata": {
        "colab": {
          "base_uri": "https://localhost:8080/",
          "height": 421
        },
        "id": "8CzcErolN2AO",
        "outputId": "993ff2be-7057-45c7-bd89-b3cacf70bbfb"
      },
      "execution_count": null,
      "outputs": [
        {
          "output_type": "stream",
          "name": "stdout",
          "text": [
            "Maximum accuracy:- 0.9375 at K = 1\n"
          ]
        },
        {
          "output_type": "display_data",
          "data": {
            "image/png": "[encoded data removed]",
            "text/plain": [
              "<Figure size 720x432 with 1 Axes>"
            ]
          },
          "metadata": {
            "needs_background": "light"
          }
        }
      ]
    },
    {
      "cell_type": "code",
      "source": [
        "scaler = StandardScaler()\n",
        "knn_n1 = KNeighborsClassifier(n_neighbors=1)\n",
        "\n",
        "numeric_selector = make_column_selector(dtype_include = 'number')\n",
        "scaler_tuple = (scaler, numeric_selector)\n",
        "col_transformer = make_column_transformer(scaler_tuple, remainder = 'passthrough')\n",
        "pipe1 = make_pipeline(col_transformer, knn_n1)"
      ],
      "metadata": {
        "id": "8d2kvKGoOnuA"
      },
      "execution_count": null,
      "outputs": []
    },
    {
      "cell_type": "code",
      "source": [
        "pipe1.fit(X_train, y_train)"
      ],
      "metadata": {
        "colab": {
          "base_uri": "https://localhost:8080/"
        },
        "id": "qHmy_BefO-MN",
        "outputId": "7a4b65cc-c5bc-4f91-9bc0-2945e9e93988"
      },
      "execution_count": null,
      "outputs": [
        {
          "output_type": "execute_result",
          "data": {
            "text/plain": [
              "Pipeline(steps=[('columntransformer',\n",
              "                 ColumnTransformer(remainder='passthrough',\n",
              "                                   transformers=[('standardscaler',\n",
              "                                                  StandardScaler(),\n",
              "                                                  <sklearn.compose._column_transformer.make_column_selector object at 0x7f2e6ce199d0>)])),\n",
              "                ('kneighborsclassifier', KNeighborsClassifier(n_neighbors=1))])"
            ]
          },
          "metadata": {},
          "execution_count": 47
        }
      ]
    },
    {
      "cell_type": "code",
      "source": [
        "y_pred_knn_n1 = pipe1.predict(X_test)"
      ],
      "metadata": {
        "id": "bstiIErUPLZQ"
      },
      "execution_count": null,
      "outputs": []
    },
    {
      "cell_type": "code",
      "source": [
        "y_pred_knn_n1_train = pipe1.predict(X_train)"
      ],
      "metadata": {
        "id": "bFBhWocSlvP9"
      },
      "execution_count": null,
      "outputs": []
    },
    {
      "cell_type": "code",
      "source": [
        "knn_n1_train_accuracy = accuracy_score(y_train, y_pred_knn_n1_train)\n",
        "print(f'KNN with n_neighbors = 1 Train Accuracy: {knn_n1_train_accuracy}')"
      ],
      "metadata": {
        "colab": {
          "base_uri": "https://localhost:8080/"
        },
        "id": "ImBzyEfrmZcQ",
        "outputId": "21835b6d-3313-4ae5-cf2f-ba023f2185a7"
      },
      "execution_count": null,
      "outputs": [
        {
          "output_type": "stream",
          "name": "stdout",
          "text": [
            "KNN with n_neighbors = 1 Train Accuracy: 1.0\n"
          ]
        }
      ]
    },
    {
      "cell_type": "code",
      "source": [
        "knn_n1_test_accuracy = accuracy_score(y_test, y_pred_knn_n1)\n",
        "print(f'KNN with n_neighbors = 1 Test Accuracy: {knn_n1_test_accuracy}')"
      ],
      "metadata": {
        "colab": {
          "base_uri": "https://localhost:8080/"
        },
        "id": "f53hCjIkl4Se",
        "outputId": "2069fdfc-fc53-4ed9-af50-f41ff74e16ed"
      },
      "execution_count": null,
      "outputs": [
        {
          "output_type": "stream",
          "name": "stdout",
          "text": [
            "KNN with n_neighbors = 1 Test Accuracy: 0.9375\n"
          ]
        }
      ]
    },
    {
      "cell_type": "code",
      "source": [
        "class_report_knn_n1 = classification_report(y_test, y_pred_knn_n1)\n",
        "print(class_report_knn_n1)"
      ],
      "metadata": {
        "colab": {
          "base_uri": "https://localhost:8080/"
        },
        "id": "ZM-cqkQPPY85",
        "outputId": "fa5d0f3c-7606-46c6-c8a5-6aef7becbb7f"
      },
      "execution_count": null,
      "outputs": [
        {
          "output_type": "stream",
          "name": "stdout",
          "text": [
            "              precision    recall  f1-score   support\n",
            "\n",
            "           0       0.91      0.83      0.87        12\n",
            "           1       0.95      0.97      0.96        36\n",
            "\n",
            "    accuracy                           0.94        48\n",
            "   macro avg       0.93      0.90      0.91        48\n",
            "weighted avg       0.94      0.94      0.94        48\n",
            "\n"
          ]
        }
      ]
    },
    {
      "cell_type": "code",
      "source": [
        "plot_confusion_matrix(pipe1, X_test, y_test, cmap = 'Blues');"
      ],
      "metadata": {
        "colab": {
          "base_uri": "https://localhost:8080/",
          "height": 337
        },
        "id": "JX8k-19CIZGc",
        "outputId": "9216296f-a6ec-4cdf-a196-a9f54f581a86"
      },
      "execution_count": null,
      "outputs": [
        {
          "output_type": "stream",
          "name": "stderr",
          "text": [
            "/usr/local/lib/python3.7/dist-packages/sklearn/utils/deprecation.py:87: FutureWarning: Function plot_confusion_matrix is deprecated; Function `plot_confusion_matrix` is deprecated in 1.0 and will be removed in 1.2. Use one of the class methods: ConfusionMatrixDisplay.from_predictions or ConfusionMatrixDisplay.from_estimator.\n",
            "  warnings.warn(msg, category=FutureWarning)\n"
          ]
        },
        {
          "output_type": "display_data",
          "data": {
            "image/png": "[encoded data removed]",
            "text/plain": [
              "<Figure size 432x288 with 2 Axes>"
            ]
          },
          "metadata": {
            "needs_background": "light"
          }
        }
      ]
    },
    {
      "cell_type": "markdown",
      "source": [
        "# Light Gradient Boosting Machine - Base Model"
      ],
      "metadata": {
        "id": "27gDYxoWnVLn"
      }
    },
    {
      "cell_type": "code",
      "source": [
        "lgb = LGBMClassifier()"
      ],
      "metadata": {
        "id": "fPnec68JnPUe"
      },
      "execution_count": null,
      "outputs": []
    },
    {
      "cell_type": "code",
      "source": [
        "pipe_lgb = make_pipeline(col_transformer, lgb)"
      ],
      "metadata": {
        "id": "9sqoVEQioHtV"
      },
      "execution_count": null,
      "outputs": []
    },
    {
      "cell_type": "code",
      "source": [
        "pipe_lgb.fit(X_train, y_train)"
      ],
      "metadata": {
        "colab": {
          "base_uri": "https://localhost:8080/"
        },
        "id": "91e3iuJdoOIR",
        "outputId": "4768e430-6dd3-4349-b42a-9beb51acb2e2"
      },
      "execution_count": null,
      "outputs": [
        {
          "output_type": "execute_result",
          "data": {
            "text/plain": [
              "Pipeline(steps=[('columntransformer',\n",
              "                 ColumnTransformer(remainder='passthrough',\n",
              "                                   transformers=[('standardscaler',\n",
              "                                                  StandardScaler(),\n",
              "                                                  <sklearn.compose._column_transformer.make_column_selector object at 0x7f2e6ce199d0>)])),\n",
              "                ('lgbmclassifier', LGBMClassifier())])"
            ]
          },
          "metadata": {},
          "execution_count": 56
        }
      ]
    },
    {
      "cell_type": "code",
      "source": [
        "y_pred_lgb_train = pipe_lgb.predict(X_train)\n",
        "y_pred_lgb_test = pipe_lgb.predict(X_test)"
      ],
      "metadata": {
        "id": "C0GrY2wjoRvh"
      },
      "execution_count": null,
      "outputs": []
    },
    {
      "cell_type": "code",
      "source": [
        "accuracy_lgb_train = accuracy_score(y_train, y_pred_lgb_train)\n",
        "print(f'Light Gradient Boosting Train Accuracy: {accuracy_lgb_train}')"
      ],
      "metadata": {
        "colab": {
          "base_uri": "https://localhost:8080/"
        },
        "id": "_rIzUk2IocCX",
        "outputId": "0a4f096f-1d5a-4223-c392-f91323a4339a"
      },
      "execution_count": null,
      "outputs": [
        {
          "output_type": "stream",
          "name": "stdout",
          "text": [
            "Light Gradient Boosting Train Accuracy: 1.0\n"
          ]
        }
      ]
    },
    {
      "cell_type": "code",
      "source": [
        "accuracy_lgb_test = accuracy_score(y_test, y_pred_lgb_test)\n",
        "print(f'Light Gradient Boosting Test Accuracy: {accuracy_lgb_test}')"
      ],
      "metadata": {
        "colab": {
          "base_uri": "https://localhost:8080/"
        },
        "id": "9H5JEuP8os7i",
        "outputId": "4e92ea7c-09aa-4091-c70e-11a4af840868"
      },
      "execution_count": null,
      "outputs": [
        {
          "output_type": "stream",
          "name": "stdout",
          "text": [
            "Light Gradient Boosting Test Accuracy: 0.875\n"
          ]
        }
      ]
    },
    {
      "cell_type": "code",
      "source": [
        "class_report_lgb = classification_report(y_test, y_pred_lgb_test)\n",
        "print(class_report_lgb)"
      ],
      "metadata": {
        "colab": {
          "base_uri": "https://localhost:8080/"
        },
        "id": "27w_38RNqVvF",
        "outputId": "b4171549-7db7-4ab1-8350-72612ab8f0b2"
      },
      "execution_count": null,
      "outputs": [
        {
          "output_type": "stream",
          "name": "stdout",
          "text": [
            "              precision    recall  f1-score   support\n",
            "\n",
            "           0       0.71      0.83      0.77        12\n",
            "           1       0.94      0.89      0.91        36\n",
            "\n",
            "    accuracy                           0.88        48\n",
            "   macro avg       0.83      0.86      0.84        48\n",
            "weighted avg       0.88      0.88      0.88        48\n",
            "\n"
          ]
        }
      ]
    },
    {
      "cell_type": "code",
      "source": [
        "plot_confusion_matrix(pipe_lgb, X_test, y_test, cmap = 'Blues');"
      ],
      "metadata": {
        "colab": {
          "base_uri": "https://localhost:8080/",
          "height": 333
        },
        "id": "xT9AW06cbXP2",
        "outputId": "ee3d4194-450f-4f92-83a5-a27d43eea7f6"
      },
      "execution_count": null,
      "outputs": [
        {
          "output_type": "stream",
          "name": "stderr",
          "text": [
            "/usr/local/lib/python3.7/dist-packages/sklearn/utils/deprecation.py:87: FutureWarning: Function plot_confusion_matrix is deprecated; Function `plot_confusion_matrix` is deprecated in 1.0 and will be removed in 1.2. Use one of the class methods: ConfusionMatrixDisplay.from_predictions or ConfusionMatrixDisplay.from_estimator.\n",
            "  warnings.warn(msg, category=FutureWarning)\n"
          ]
        },
        {
          "output_type": "display_data",
          "data": {
            "image/png": "[encoded data removed]",
            "text/plain": [
              "<Figure size 432x288 with 2 Axes>"
            ]
          },
          "metadata": {
            "needs_background": "light"
          }
        }
      ]
    },
    {
      "cell_type": "markdown",
      "source": [
        "# Light Gradient Boosting Machine - Optimized"
      ],
      "metadata": {
        "id": "w09zkfGOqsK-"
      }
    },
    {
      "cell_type": "code",
      "source": [
        "params = {'lgbmclassifier__max_depth': range(5,9),\n",
        "          'lgbmclassifier__num_leaves': range(4,14),\n",
        "          'lgbmclassifier__min_data_in_leaf': range(1,4)}"
      ],
      "metadata": {
        "id": "_okgS-pvqq6f"
      },
      "execution_count": null,
      "outputs": []
    },
    {
      "cell_type": "code",
      "source": [
        "lgb_gridsearch = GridSearchCV(pipe_lgb, params, cv = 5)"
      ],
      "metadata": {
        "id": "lW3lMXVNqzBj"
      },
      "execution_count": null,
      "outputs": []
    },
    {
      "cell_type": "code",
      "source": [
        "lgb_gridsearch.fit(X_train, y_train)"
      ],
      "metadata": {
        "colab": {
          "base_uri": "https://localhost:8080/"
        },
        "id": "ruJIS4I-rVkC",
        "outputId": "eccf3c2d-a0d3-4928-d4f6-c748840cc32c"
      },
      "execution_count": null,
      "outputs": [
        {
          "output_type": "execute_result",
          "data": {
            "text/plain": [
              "GridSearchCV(cv=5,\n",
              "             estimator=Pipeline(steps=[('columntransformer',\n",
              "                                        ColumnTransformer(remainder='passthrough',\n",
              "                                                          transformers=[('standardscaler',\n",
              "                                                                         StandardScaler(),\n",
              "                                                                         <sklearn.compose._column_transformer.make_column_selector object at 0x7f2e6ce199d0>)])),\n",
              "                                       ('lgbmclassifier', LGBMClassifier())]),\n",
              "             param_grid={'lgbmclassifier__max_depth': range(5, 9),\n",
              "                         'lgbmclassifier__min_data_in_leaf': range(1, 4),\n",
              "                         'lgbmclassifier__num_leaves': range(4, 14)})"
            ]
          },
          "metadata": {},
          "execution_count": 64
        }
      ]
    },
    {
      "cell_type": "code",
      "source": [
        "print(lgb_gridsearch.best_params_)"
      ],
      "metadata": {
        "colab": {
          "base_uri": "https://localhost:8080/"
        },
        "id": "NWr_rDBGrd0O",
        "outputId": "666ad107-1d1f-42d3-957e-e4147f59ca21"
      },
      "execution_count": null,
      "outputs": [
        {
          "output_type": "stream",
          "name": "stdout",
          "text": [
            "{'lgbmclassifier__max_depth': 5, 'lgbmclassifier__min_data_in_leaf': 2, 'lgbmclassifier__num_leaves': 4}\n"
          ]
        }
      ]
    },
    {
      "cell_type": "code",
      "source": [
        "lgb_model_1 = lgb_gridsearch.best_estimator_"
      ],
      "metadata": {
        "id": "oGyAaPMxYNdm"
      },
      "execution_count": null,
      "outputs": []
    },
    {
      "cell_type": "code",
      "source": [
        "y_pred_lgb_model_1 = lgb_model_1.predict(X_test)"
      ],
      "metadata": {
        "id": "_MYkbomyYPrQ"
      },
      "execution_count": null,
      "outputs": []
    },
    {
      "cell_type": "code",
      "source": [
        "lgb_best_test_accuracy = accuracy_score(y_test, y_pred_lgb_model_1)\n",
        "print(f'Light Gradient Boosting Train Accuracy: {lgb_best_test_accuracy}')"
      ],
      "metadata": {
        "colab": {
          "base_uri": "https://localhost:8080/"
        },
        "id": "7wWMIANDYcR7",
        "outputId": "9d28ac65-c554-415b-e875-4cc38ce7459f"
      },
      "execution_count": null,
      "outputs": [
        {
          "output_type": "stream",
          "name": "stdout",
          "text": [
            "Light Gradient Boosting Train Accuracy: 0.8541666666666666\n"
          ]
        }
      ]
    },
    {
      "cell_type": "code",
      "source": [
        "params1 = {'lgbmclassifier__max_depth': range(2,5),\n",
        "          'lgbmclassifier__num_leaves': range(2,4),\n",
        "          'lgbmclassifier__min_data_in_leaf': range(2,4)}"
      ],
      "metadata": {
        "id": "GbDw6JrKr6H3"
      },
      "execution_count": null,
      "outputs": []
    },
    {
      "cell_type": "code",
      "source": [
        "gridsearch_lgb_2nd = GridSearchCV(pipe_lgb, params1, cv = 10)"
      ],
      "metadata": {
        "id": "UkOjQSsnsin0"
      },
      "execution_count": null,
      "outputs": []
    },
    {
      "cell_type": "code",
      "source": [
        "gridsearch_lgb_2nd.fit(X_train, y_train)"
      ],
      "metadata": {
        "colab": {
          "base_uri": "https://localhost:8080/"
        },
        "id": "kOeoT2Shs7fA",
        "outputId": "f6dbc449-a620-4876-f5db-76358e8ae061"
      },
      "execution_count": null,
      "outputs": [
        {
          "output_type": "execute_result",
          "data": {
            "text/plain": [
              "GridSearchCV(cv=10,\n",
              "             estimator=Pipeline(steps=[('columntransformer',\n",
              "                                        ColumnTransformer(remainder='passthrough',\n",
              "                                                          transformers=[('standardscaler',\n",
              "                                                                         StandardScaler(),\n",
              "                                                                         <sklearn.compose._column_transformer.make_column_selector object at 0x7f2e6ce199d0>)])),\n",
              "                                       ('lgbmclassifier', LGBMClassifier())]),\n",
              "             param_grid={'lgbmclassifier__max_depth': range(2, 5),\n",
              "                         'lgbmclassifier__min_data_in_leaf': range(2, 4),\n",
              "                         'lgbmclassifier__num_leaves': range(2, 4)})"
            ]
          },
          "metadata": {},
          "execution_count": 71
        }
      ]
    },
    {
      "cell_type": "code",
      "source": [
        "print(gridsearch_lgb_2nd.best_params_)"
      ],
      "metadata": {
        "colab": {
          "base_uri": "https://localhost:8080/"
        },
        "id": "FuJ0K4aUtAC9",
        "outputId": "8f3e015f-0a71-43d3-983a-441c1454b307"
      },
      "execution_count": null,
      "outputs": [
        {
          "output_type": "stream",
          "name": "stdout",
          "text": [
            "{'lgbmclassifier__max_depth': 2, 'lgbmclassifier__min_data_in_leaf': 2, 'lgbmclassifier__num_leaves': 3}\n"
          ]
        }
      ]
    },
    {
      "cell_type": "code",
      "source": [
        "lgb_best = lgb_gridsearch.best_estimator_"
      ],
      "metadata": {
        "id": "_Zeq2oPEri--"
      },
      "execution_count": null,
      "outputs": []
    },
    {
      "cell_type": "code",
      "source": [
        "y_pred_lgb_best = lgb_best.predict(X_test)\n",
        "y_pred_lgb_best_train = lgb_best.predict(X_train)"
      ],
      "metadata": {
        "id": "cV3FnOSTrrf4"
      },
      "execution_count": null,
      "outputs": []
    },
    {
      "cell_type": "code",
      "source": [
        "lgb_best_train_accuracy = accuracy_score(y_train, y_pred_lgb_best_train)\n",
        "print(f'Light Gradient Boosting Optimized Train Accuracy: {lgb_best_train_accuracy}')"
      ],
      "metadata": {
        "colab": {
          "base_uri": "https://localhost:8080/"
        },
        "id": "fBAOAOSwxWtn",
        "outputId": "9b5f7a96-f3d9-41e4-fced-525d165ba059"
      },
      "execution_count": null,
      "outputs": [
        {
          "output_type": "stream",
          "name": "stdout",
          "text": [
            "Light Gradient Boosting Optimized Train Accuracy: 1.0\n"
          ]
        }
      ]
    },
    {
      "cell_type": "code",
      "source": [
        "lgb_best_test_accuracy = accuracy_score(y_test, y_pred_lgb_best)\n",
        "print(f'Light Gradient Boosting Test Optimized Accuracy: {lgb_best_test_accuracy}')"
      ],
      "metadata": {
        "colab": {
          "base_uri": "https://localhost:8080/"
        },
        "id": "Nj2rdg6ixaep",
        "outputId": "31f3822c-55c3-4b39-f6f5-94f096a8e236"
      },
      "execution_count": null,
      "outputs": [
        {
          "output_type": "stream",
          "name": "stdout",
          "text": [
            "Light Gradient Boosting Test Optimized Accuracy: 0.8541666666666666\n"
          ]
        }
      ]
    },
    {
      "cell_type": "code",
      "source": [
        "class_report_lgb_best = classification_report(y_test, y_pred_lgb_best)\n",
        "print(class_report_lgb_best)"
      ],
      "metadata": {
        "colab": {
          "base_uri": "https://localhost:8080/"
        },
        "id": "_mlRshQHukiZ",
        "outputId": "25faa3c8-c7a3-4edb-e1f3-500fcbd2a38b"
      },
      "execution_count": null,
      "outputs": [
        {
          "output_type": "stream",
          "name": "stdout",
          "text": [
            "              precision    recall  f1-score   support\n",
            "\n",
            "           0       0.78      0.58      0.67        12\n",
            "           1       0.87      0.94      0.91        36\n",
            "\n",
            "    accuracy                           0.85        48\n",
            "   macro avg       0.82      0.76      0.79        48\n",
            "weighted avg       0.85      0.85      0.85        48\n",
            "\n"
          ]
        }
      ]
    },
    {
      "cell_type": "code",
      "source": [
        "plot_confusion_matrix(lgb_best, X_test, y_test, cmap = 'Blues');"
      ],
      "metadata": {
        "colab": {
          "base_uri": "https://localhost:8080/",
          "height": 333
        },
        "id": "HpsPp8tKbcYK",
        "outputId": "fd13b3ef-84a4-4ab1-fea7-fb2df3ab3a3e"
      },
      "execution_count": null,
      "outputs": [
        {
          "output_type": "stream",
          "name": "stderr",
          "text": [
            "/usr/local/lib/python3.7/dist-packages/sklearn/utils/deprecation.py:87: FutureWarning: Function plot_confusion_matrix is deprecated; Function `plot_confusion_matrix` is deprecated in 1.0 and will be removed in 1.2. Use one of the class methods: ConfusionMatrixDisplay.from_predictions or ConfusionMatrixDisplay.from_estimator.\n",
            "  warnings.warn(msg, category=FutureWarning)\n"
          ]
        },
        {
          "output_type": "display_data",
          "data": {
            "image/png": "[encoded data removed]",
            "text/plain": [
              "<Figure size 432x288 with 2 Axes>"
            ]
          },
          "metadata": {
            "needs_background": "light"
          }
        }
      ]
    },
    {
      "cell_type": "markdown",
      "source": [
        "# Extreme Gradient Boosting Machine - Base Model"
      ],
      "metadata": {
        "id": "Ap4kIoiuOCpS"
      }
    },
    {
      "cell_type": "code",
      "source": [
        "xgb = XGBClassifier()"
      ],
      "metadata": {
        "id": "k2IzigwXOBZ8"
      },
      "execution_count": null,
      "outputs": []
    },
    {
      "cell_type": "code",
      "source": [
        "pipe_xgb = make_pipeline(col_transformer, xgb)"
      ],
      "metadata": {
        "id": "uLZHe-SWPGap"
      },
      "execution_count": null,
      "outputs": []
    },
    {
      "cell_type": "code",
      "source": [
        "pipe_xgb.fit(X_train, y_train)"
      ],
      "metadata": {
        "colab": {
          "base_uri": "https://localhost:8080/"
        },
        "id": "zffFbUoDRck-",
        "outputId": "d0f12839-f647-4696-bbb5-6dd012f6e859"
      },
      "execution_count": null,
      "outputs": [
        {
          "output_type": "execute_result",
          "data": {
            "text/plain": [
              "Pipeline(steps=[('columntransformer',\n",
              "                 ColumnTransformer(remainder='passthrough',\n",
              "                                   transformers=[('standardscaler',\n",
              "                                                  StandardScaler(),\n",
              "                                                  <sklearn.compose._column_transformer.make_column_selector object at 0x7f2e6ce199d0>)])),\n",
              "                ('xgbclassifier', XGBClassifier())])"
            ]
          },
          "metadata": {},
          "execution_count": 81
        }
      ]
    },
    {
      "cell_type": "code",
      "source": [
        "y_pred_xgb_test = pipe_xgb.predict(X_test)\n",
        "y_pred_xgb_train = pipe_xgb.predict(X_train)"
      ],
      "metadata": {
        "id": "j9W9wHb9RjSr"
      },
      "execution_count": null,
      "outputs": []
    },
    {
      "cell_type": "code",
      "source": [
        "xgb_train_accuracy = accuracy_score(y_train, y_pred_xgb_train)\n",
        "print(f'Extreme Gradient Boosting Train Accuracy: {xgb_train_accuracy}')"
      ],
      "metadata": {
        "colab": {
          "base_uri": "https://localhost:8080/"
        },
        "id": "0LzomQiaRuZ4",
        "outputId": "87462e53-30bd-4f5d-9677-9bb76018eac2"
      },
      "execution_count": null,
      "outputs": [
        {
          "output_type": "stream",
          "name": "stdout",
          "text": [
            "Extreme Gradient Boosting Train Accuracy: 1.0\n"
          ]
        }
      ]
    },
    {
      "cell_type": "code",
      "source": [
        "xgb_test_accuracy = accuracy_score(y_test, y_pred_xgb_test)\n",
        "print(f'Extreme Gradient Boosting Test Accuracy: {xgb_test_accuracy}')"
      ],
      "metadata": {
        "colab": {
          "base_uri": "https://localhost:8080/"
        },
        "id": "gAJINq4YSgcY",
        "outputId": "327e3a28-2fd7-4cee-930f-1ff0c1bd6a7f"
      },
      "execution_count": null,
      "outputs": [
        {
          "output_type": "stream",
          "name": "stdout",
          "text": [
            "Extreme Gradient Boosting Test Accuracy: 0.8958333333333334\n"
          ]
        }
      ]
    },
    {
      "cell_type": "code",
      "source": [
        "class_report_xgb = classification_report(y_pred_xgb_test, y_test)\n",
        "print(class_report_xgb)"
      ],
      "metadata": {
        "colab": {
          "base_uri": "https://localhost:8080/"
        },
        "id": "1_4HYfY4S4mc",
        "outputId": "fc4cf3fe-6741-4cba-c0c6-9057a77e7d49"
      },
      "execution_count": null,
      "outputs": [
        {
          "output_type": "stream",
          "name": "stdout",
          "text": [
            "              precision    recall  f1-score   support\n",
            "\n",
            "           0       0.83      0.77      0.80        13\n",
            "           1       0.92      0.94      0.93        35\n",
            "\n",
            "    accuracy                           0.90        48\n",
            "   macro avg       0.88      0.86      0.86        48\n",
            "weighted avg       0.89      0.90      0.89        48\n",
            "\n"
          ]
        }
      ]
    },
    {
      "cell_type": "code",
      "source": [
        "plot_confusion_matrix(pipe_xgb, X_test, y_test, cmap = 'Blues');"
      ],
      "metadata": {
        "colab": {
          "base_uri": "https://localhost:8080/",
          "height": 333
        },
        "id": "qusM4rWpcRpv",
        "outputId": "b65eb8fc-dde8-4104-afac-38b1344dd1f5"
      },
      "execution_count": null,
      "outputs": [
        {
          "output_type": "stream",
          "name": "stderr",
          "text": [
            "/usr/local/lib/python3.7/dist-packages/sklearn/utils/deprecation.py:87: FutureWarning: Function plot_confusion_matrix is deprecated; Function `plot_confusion_matrix` is deprecated in 1.0 and will be removed in 1.2. Use one of the class methods: ConfusionMatrixDisplay.from_predictions or ConfusionMatrixDisplay.from_estimator.\n",
            "  warnings.warn(msg, category=FutureWarning)\n"
          ]
        },
        {
          "output_type": "display_data",
          "data": {
            "image/png": "[encoded data removed]",
            "text/plain": [
              "<Figure size 432x288 with 2 Axes>"
            ]
          },
          "metadata": {
            "needs_background": "light"
          }
        }
      ]
    },
    {
      "cell_type": "code",
      "source": [
        "params = {\n",
        "    'xgbclassifier__n_estimators': [50, 100, 150, 200],\n",
        "    'xgbclassifier__learning_rate': [0.05, 0.1, 0.3, 0.5, 0.7],\n",
        "    'xgbclassifier__max_depth': [2, 3, 5, 10, 15]}"
      ],
      "metadata": {
        "id": "0AObclSRSpbi"
      },
      "execution_count": null,
      "outputs": []
    },
    {
      "cell_type": "code",
      "source": [
        "xgb_gridsearch = GridSearchCV(pipe_xgb, params, cv = 3, refit = True)"
      ],
      "metadata": {
        "id": "am39ulp0SwrH"
      },
      "execution_count": null,
      "outputs": []
    },
    {
      "cell_type": "code",
      "source": [
        "xgb_gridsearch.fit(X_train, y_train)"
      ],
      "metadata": {
        "colab": {
          "base_uri": "https://localhost:8080/"
        },
        "id": "TYcz4PjXS3Fe",
        "outputId": "1c0829d3-5b8f-4979-bbdf-e4ec5adfccc0"
      },
      "execution_count": null,
      "outputs": [
        {
          "output_type": "execute_result",
          "data": {
            "text/plain": [
              "GridSearchCV(cv=3,\n",
              "             estimator=Pipeline(steps=[('columntransformer',\n",
              "                                        ColumnTransformer(remainder='passthrough',\n",
              "                                                          transformers=[('standardscaler',\n",
              "                                                                         StandardScaler(),\n",
              "                                                                         <sklearn.compose._column_transformer.make_column_selector object at 0x7f2e6ce199d0>)])),\n",
              "                                       ('xgbclassifier', XGBClassifier())]),\n",
              "             param_grid={'xgbclassifier__learning_rate': [0.05, 0.1, 0.3, 0.5,\n",
              "                                                          0.7],\n",
              "                         'xgbclassifier__max_depth': [2, 3, 5, 10, 15],\n",
              "                         'xgbclassifier__n_estimators': [50, 100, 150, 200]})"
            ]
          },
          "metadata": {},
          "execution_count": 88
        }
      ]
    },
    {
      "cell_type": "code",
      "source": [
        "print(xgb_gridsearch.best_params_)"
      ],
      "metadata": {
        "colab": {
          "base_uri": "https://localhost:8080/"
        },
        "id": "Pr8YRY3iS6u-",
        "outputId": "940730dc-c766-44f2-b8c7-f8e3d2257809"
      },
      "execution_count": null,
      "outputs": [
        {
          "output_type": "stream",
          "name": "stdout",
          "text": [
            "{'xgbclassifier__learning_rate': 0.3, 'xgbclassifier__max_depth': 2, 'xgbclassifier__n_estimators': 150}\n"
          ]
        }
      ]
    },
    {
      "cell_type": "code",
      "source": [
        "xgb_opt_model = xgb_gridsearch.best_estimator_"
      ],
      "metadata": {
        "id": "gHm24aOmS6lo"
      },
      "execution_count": null,
      "outputs": []
    },
    {
      "cell_type": "code",
      "source": [
        "y_pred_xgb_opt_test = xgb_opt_model.predict(X_test)\n",
        "y_pred_xgb_opt_train = xgb_opt_model.predict(X_train)"
      ],
      "metadata": {
        "id": "Pzo3-jM7S6YI"
      },
      "execution_count": null,
      "outputs": []
    },
    {
      "cell_type": "code",
      "source": [
        "xgb_opt_train_accuracy = accuracy_score(y_train, y_pred_xgb_opt_train)\n",
        "print(f'Extreme Gradient Boosting Optimized Train Accuracy: {xgb_opt_train_accuracy}')"
      ],
      "metadata": {
        "colab": {
          "base_uri": "https://localhost:8080/"
        },
        "id": "dSHdc0UMTCah",
        "outputId": "f562867c-868a-47be-e0f2-70d0adb00456"
      },
      "execution_count": null,
      "outputs": [
        {
          "output_type": "stream",
          "name": "stdout",
          "text": [
            "Extreme Gradient Boosting Optimized Train Accuracy: 1.0\n"
          ]
        }
      ]
    },
    {
      "cell_type": "code",
      "source": [
        "xgb_opt_test_accuracy = accuracy_score(y_test, y_pred_xgb_opt_test)\n",
        "print(f'Extreme Gradient Boosting Optimized Test Accuracy: {xgb_opt_test_accuracy}')"
      ],
      "metadata": {
        "colab": {
          "base_uri": "https://localhost:8080/"
        },
        "id": "QWyjprTXTHe6",
        "outputId": "2e9738a7-21a1-4c1a-91ca-efc1df1b3886"
      },
      "execution_count": null,
      "outputs": [
        {
          "output_type": "stream",
          "name": "stdout",
          "text": [
            "Extreme Gradient Boosting Optimized Test Accuracy: 0.875\n"
          ]
        }
      ]
    },
    {
      "cell_type": "code",
      "source": [
        "class_report_xgb_opt = classification_report(y_pred_xgb_opt_test, y_test)\n",
        "print(class_report_xgb_opt)"
      ],
      "metadata": {
        "colab": {
          "base_uri": "https://localhost:8080/"
        },
        "id": "bmYeqHEASqc1",
        "outputId": "f9baf795-5b9a-4c76-ac52-f30130f11f4a"
      },
      "execution_count": null,
      "outputs": [
        {
          "output_type": "stream",
          "name": "stdout",
          "text": [
            "              precision    recall  f1-score   support\n",
            "\n",
            "           0       0.75      0.75      0.75        12\n",
            "           1       0.92      0.92      0.92        36\n",
            "\n",
            "    accuracy                           0.88        48\n",
            "   macro avg       0.83      0.83      0.83        48\n",
            "weighted avg       0.88      0.88      0.88        48\n",
            "\n"
          ]
        }
      ]
    },
    {
      "cell_type": "code",
      "source": [
        "plot_confusion_matrix(xgb_opt_model, X_test, y_test, cmap = 'Blues');"
      ],
      "metadata": {
        "colab": {
          "base_uri": "https://localhost:8080/",
          "height": 333
        },
        "id": "_EeDRXQQbl4m",
        "outputId": "55f7825c-dffb-438c-ecd8-6b2382420fc5"
      },
      "execution_count": null,
      "outputs": [
        {
          "output_type": "stream",
          "name": "stderr",
          "text": [
            "/usr/local/lib/python3.7/dist-packages/sklearn/utils/deprecation.py:87: FutureWarning: Function plot_confusion_matrix is deprecated; Function `plot_confusion_matrix` is deprecated in 1.0 and will be removed in 1.2. Use one of the class methods: ConfusionMatrixDisplay.from_predictions or ConfusionMatrixDisplay.from_estimator.\n",
            "  warnings.warn(msg, category=FutureWarning)\n"
          ]
        },
        {
          "output_type": "display_data",
          "data": {
            "image/png": "[encoded data removed]",
            "text/plain": [
              "<Figure size 432x288 with 2 Axes>"
            ]
          },
          "metadata": {
            "needs_background": "light"
          }
        }
      ]
    },
    {
      "cell_type": "markdown",
      "source": [
        "# Import Additional MDVP Data on Parkinsons Disease"
      ],
      "metadata": {
        "id": "XHlkm95AOJo9"
      }
    },
    {
      "cell_type": "code",
      "source": [
        "df_ParkData = pd.read_csv('https://raw.githubusercontent.com/pqrst/ParkinsonsDiseaseDataAnalysis/master/parkinsons_updrs.csv')"
      ],
      "metadata": {
        "id": "kW1D49uN6s98"
      },
      "execution_count": null,
      "outputs": []
    },
    {
      "cell_type": "code",
      "source": [
        "df_ParkData.head()"
      ],
      "metadata": {
        "colab": {
          "base_uri": "https://localhost:8080/",
          "height": 268
        },
        "id": "OA4iFquV69-M",
        "outputId": "b76bfda5-030e-4ac1-d5c2-e659a626c3ae"
      },
      "execution_count": null,
      "outputs": [
        {
          "output_type": "execute_result",
          "data": {
            "text/html": [
              "\n",
              "  <div id=\"df-6f36c44b-ebaa-4256-a905-8e4258c1ecbd\">\n",
              "    <div class=\"colab-df-container\">\n",
              "      <div>\n",
              "<style scoped>\n",
              "    .dataframe tbody tr th:only-of-type {\n",
              "        vertical-align: middle;\n",
              "    }\n",
              "\n",
              "    .dataframe tbody tr th {\n",
              "        vertical-align: top;\n",
              "    }\n",
              "\n",
              "    .dataframe thead th {\n",
              "        text-align: right;\n",
              "    }\n",
              "</style>\n",
              "<table border=\"1\" class=\"dataframe\">\n",
              "  <thead>\n",
              "    <tr style=\"text-align: right;\">\n",
              "      <th></th>\n",
              "      <th>subject#</th>\n",
              "      <th>age</th>\n",
              "      <th>sex</th>\n",
              "      <th>test_time</th>\n",
              "      <th>motor_UPDRS</th>\n",
              "      <th>total_UPDRS</th>\n",
              "      <th>Jitter(%)</th>\n",
              "      <th>Jitter(Abs)</th>\n",
              "      <th>Jitter:RAP</th>\n",
              "      <th>Jitter:PPQ5</th>\n",
              "      <th>Jitter:DDP</th>\n",
              "      <th>Shimmer</th>\n",
              "      <th>Shimmer(dB)</th>\n",
              "      <th>Shimmer:APQ3</th>\n",
              "      <th>Shimmer:APQ5</th>\n",
              "      <th>Shimmer:APQ11</th>\n",
              "      <th>Shimmer:DDA</th>\n",
              "      <th>NHR</th>\n",
              "      <th>HNR</th>\n",
              "      <th>RPDE</th>\n",
              "      <th>DFA</th>\n",
              "      <th>PPE</th>\n",
              "    </tr>\n",
              "  </thead>\n",
              "  <tbody>\n",
              "    <tr>\n",
              "      <th>0</th>\n",
              "      <td>1</td>\n",
              "      <td>72</td>\n",
              "      <td>0</td>\n",
              "      <td>5.6431</td>\n",
              "      <td>28.199</td>\n",
              "      <td>34.398</td>\n",
              "      <td>0.00662</td>\n",
              "      <td>0.000034</td>\n",
              "      <td>0.00401</td>\n",
              "      <td>0.00317</td>\n",
              "      <td>0.01204</td>\n",
              "      <td>0.02565</td>\n",
              "      <td>0.230</td>\n",
              "      <td>0.01438</td>\n",
              "      <td>0.01309</td>\n",
              "      <td>0.01662</td>\n",
              "      <td>0.04314</td>\n",
              "      <td>0.014290</td>\n",
              "      <td>21.640</td>\n",
              "      <td>0.41888</td>\n",
              "      <td>0.54842</td>\n",
              "      <td>0.16006</td>\n",
              "    </tr>\n",
              "    <tr>\n",
              "      <th>1</th>\n",
              "      <td>1</td>\n",
              "      <td>72</td>\n",
              "      <td>0</td>\n",
              "      <td>12.6660</td>\n",
              "      <td>28.447</td>\n",
              "      <td>34.894</td>\n",
              "      <td>0.00300</td>\n",
              "      <td>0.000017</td>\n",
              "      <td>0.00132</td>\n",
              "      <td>0.00150</td>\n",
              "      <td>0.00395</td>\n",
              "      <td>0.02024</td>\n",
              "      <td>0.179</td>\n",
              "      <td>0.00994</td>\n",
              "      <td>0.01072</td>\n",
              "      <td>0.01689</td>\n",
              "      <td>0.02982</td>\n",
              "      <td>0.011112</td>\n",
              "      <td>27.183</td>\n",
              "      <td>0.43493</td>\n",
              "      <td>0.56477</td>\n",
              "      <td>0.10810</td>\n",
              "    </tr>\n",
              "    <tr>\n",
              "      <th>2</th>\n",
              "      <td>1</td>\n",
              "      <td>72</td>\n",
              "      <td>0</td>\n",
              "      <td>19.6810</td>\n",
              "      <td>28.695</td>\n",
              "      <td>35.389</td>\n",
              "      <td>0.00481</td>\n",
              "      <td>0.000025</td>\n",
              "      <td>0.00205</td>\n",
              "      <td>0.00208</td>\n",
              "      <td>0.00616</td>\n",
              "      <td>0.01675</td>\n",
              "      <td>0.181</td>\n",
              "      <td>0.00734</td>\n",
              "      <td>0.00844</td>\n",
              "      <td>0.01458</td>\n",
              "      <td>0.02202</td>\n",
              "      <td>0.020220</td>\n",
              "      <td>23.047</td>\n",
              "      <td>0.46222</td>\n",
              "      <td>0.54405</td>\n",
              "      <td>0.21014</td>\n",
              "    </tr>\n",
              "    <tr>\n",
              "      <th>3</th>\n",
              "      <td>1</td>\n",
              "      <td>72</td>\n",
              "      <td>0</td>\n",
              "      <td>25.6470</td>\n",
              "      <td>28.905</td>\n",
              "      <td>35.810</td>\n",
              "      <td>0.00528</td>\n",
              "      <td>0.000027</td>\n",
              "      <td>0.00191</td>\n",
              "      <td>0.00264</td>\n",
              "      <td>0.00573</td>\n",
              "      <td>0.02309</td>\n",
              "      <td>0.327</td>\n",
              "      <td>0.01106</td>\n",
              "      <td>0.01265</td>\n",
              "      <td>0.01963</td>\n",
              "      <td>0.03317</td>\n",
              "      <td>0.027837</td>\n",
              "      <td>24.445</td>\n",
              "      <td>0.48730</td>\n",
              "      <td>0.57794</td>\n",
              "      <td>0.33277</td>\n",
              "    </tr>\n",
              "    <tr>\n",
              "      <th>4</th>\n",
              "      <td>1</td>\n",
              "      <td>72</td>\n",
              "      <td>0</td>\n",
              "      <td>33.6420</td>\n",
              "      <td>29.187</td>\n",
              "      <td>36.375</td>\n",
              "      <td>0.00335</td>\n",
              "      <td>0.000020</td>\n",
              "      <td>0.00093</td>\n",
              "      <td>0.00130</td>\n",
              "      <td>0.00278</td>\n",
              "      <td>0.01703</td>\n",
              "      <td>0.176</td>\n",
              "      <td>0.00679</td>\n",
              "      <td>0.00929</td>\n",
              "      <td>0.01819</td>\n",
              "      <td>0.02036</td>\n",
              "      <td>0.011625</td>\n",
              "      <td>26.126</td>\n",
              "      <td>0.47188</td>\n",
              "      <td>0.56122</td>\n",
              "      <td>0.19361</td>\n",
              "    </tr>\n",
              "  </tbody>\n",
              "</table>\n",
              "</div>\n",
              "      <button class=\"colab-df-convert\" onclick=\"convertToInteractive('df-6f36c44b-ebaa-4256-a905-8e4258c1ecbd')\"\n",
              "              title=\"Convert this dataframe to an interactive table.\"\n",
              "              style=\"display:none;\">\n",
              "        \n",
              "  <svg xmlns=\"http://www.w3.org/2000/svg\" height=\"24px\"viewBox=\"0 0 24 24\"\n",
              "       width=\"24px\">\n",
              "    <path d=\"M0 0h24v24H0V0z\" fill=\"none\"/>\n",
              "    <path d=\"M18.56 5.44l.94 2.06.94-2.06 2.06-.94-2.06-.94-.94-2.06-.94 2.06-2.06.94zm-11 1L8.5 8.5l.94-2.06 2.06-.94-2.06-.94L8.5 2.5l-.94 2.06-2.06.94zm10 10l.94 2.06.94-2.06 2.06-.94-2.06-.94-.94-2.06-.94 2.06-2.06.94z\"/><path d=\"M17.41 7.96l-1.37-1.37c-.4-.4-.92-.59-1.43-.59-.52 0-1.04.2-1.43.59L10.3 9.45l-7.72 7.72c-.78.78-.78 2.05 0 2.83L4 21.41c.39.39.9.59 1.41.59.51 0 1.02-.2 1.41-.59l7.78-7.78 2.81-2.81c.8-.78.8-2.07 0-2.86zM5.41 20L4 18.59l7.72-7.72 1.47 1.35L5.41 20z\"/>\n",
              "  </svg>\n",
              "      </button>\n",
              "      \n",
              "  <style>\n",
              "    .colab-df-container {\n",
              "      display:flex;\n",
              "      flex-wrap:wrap;\n",
              "      gap: 12px;\n",
              "    }\n",
              "\n",
              "    .colab-df-convert {\n",
              "      background-color: #E8F0FE;\n",
              "      border: none;\n",
              "      border-radius: 50%;\n",
              "      cursor: pointer;\n",
              "      display: none;\n",
              "      fill: #1967D2;\n",
              "      height: 32px;\n",
              "      padding: 0 0 0 0;\n",
              "      width: 32px;\n",
              "    }\n",
              "\n",
              "    .colab-df-convert:hover {\n",
              "      background-color: #E2EBFA;\n",
              "      box-shadow: 0px 1px 2px rgba(60, 64, 67, 0.3), 0px 1px 3px 1px rgba(60, 64, 67, 0.15);\n",
              "      fill: #174EA6;\n",
              "    }\n",
              "\n",
              "    [theme=dark] .colab-df-convert {\n",
              "      background-color: #3B4455;\n",
              "      fill: #D2E3FC;\n",
              "    }\n",
              "\n",
              "    [theme=dark] .colab-df-convert:hover {\n",
              "      background-color: #434B5C;\n",
              "      box-shadow: 0px 1px 3px 1px rgba(0, 0, 0, 0.15);\n",
              "      filter: drop-shadow(0px 1px 2px rgba(0, 0, 0, 0.3));\n",
              "      fill: #FFFFFF;\n",
              "    }\n",
              "  </style>\n",
              "\n",
              "      <script>\n",
              "        const buttonEl =\n",
              "          document.querySelector('#df-6f36c44b-ebaa-4256-a905-8e4258c1ecbd button.colab-df-convert');\n",
              "        buttonEl.style.display =\n",
              "          google.colab.kernel.accessAllowed ? 'block' : 'none';\n",
              "\n",
              "        async function convertToInteractive(key) {\n",
              "          const element = document.querySelector('#df-6f36c44b-ebaa-4256-a905-8e4258c1ecbd');\n",
              "          const dataTable =\n",
              "            await google.colab.kernel.invokeFunction('convertToInteractive',\n",
              "                                                     [key], {});\n",
              "          if (!dataTable) return;\n",
              "\n",
              "          const docLinkHtml = 'Like what you see? Visit the ' +\n",
              "            '<a target=\"_blank\" href=https://colab.research.google.com/notebooks/data_table.ipynb>data table notebook</a>'\n",
              "            + ' to learn more about interactive tables.';\n",
              "          element.innerHTML = '';\n",
              "          dataTable['output_type'] = 'display_data';\n",
              "          await google.colab.output.renderOutput(dataTable, element);\n",
              "          const docLink = document.createElement('div');\n",
              "          docLink.innerHTML = docLinkHtml;\n",
              "          element.appendChild(docLink);\n",
              "        }\n",
              "      </script>\n",
              "    </div>\n",
              "  </div>\n",
              "  "
            ],
            "text/plain": [
              "   subject#  age  sex  test_time  ...     HNR     RPDE      DFA      PPE\n",
              "0         1   72    0     5.6431  ...  21.640  0.41888  0.54842  0.16006\n",
              "1         1   72    0    12.6660  ...  27.183  0.43493  0.56477  0.10810\n",
              "2         1   72    0    19.6810  ...  23.047  0.46222  0.54405  0.21014\n",
              "3         1   72    0    25.6470  ...  24.445  0.48730  0.57794  0.33277\n",
              "4         1   72    0    33.6420  ...  26.126  0.47188  0.56122  0.19361\n",
              "\n",
              "[5 rows x 22 columns]"
            ]
          },
          "metadata": {},
          "execution_count": 96
        }
      ]
    },
    {
      "cell_type": "code",
      "source": [
        "df_ParkData = df_ParkData.drop(columns = ['subject#', 'age', 'sex', 'test_time', 'motor_UPDRS', 'total_UPDRS', 'Shimmer:APQ11'])"
      ],
      "metadata": {
        "id": "KpblJfZo7HFA"
      },
      "execution_count": null,
      "outputs": []
    },
    {
      "cell_type": "code",
      "source": [
        "df_ParkData.head()"
      ],
      "metadata": {
        "colab": {
          "base_uri": "https://localhost:8080/",
          "height": 268
        },
        "id": "-70hZCLhAjpQ",
        "outputId": "89fdcc31-7866-477e-ad5c-210755ccbfdc"
      },
      "execution_count": null,
      "outputs": [
        {
          "output_type": "execute_result",
          "data": {
            "text/html": [
              "\n",
              "  <div id=\"df-ae9765bf-a4f2-47dc-9396-9c66c328aa93\">\n",
              "    <div class=\"colab-df-container\">\n",
              "      <div>\n",
              "<style scoped>\n",
              "    .dataframe tbody tr th:only-of-type {\n",
              "        vertical-align: middle;\n",
              "    }\n",
              "\n",
              "    .dataframe tbody tr th {\n",
              "        vertical-align: top;\n",
              "    }\n",
              "\n",
              "    .dataframe thead th {\n",
              "        text-align: right;\n",
              "    }\n",
              "</style>\n",
              "<table border=\"1\" class=\"dataframe\">\n",
              "  <thead>\n",
              "    <tr style=\"text-align: right;\">\n",
              "      <th></th>\n",
              "      <th>Jitter(%)</th>\n",
              "      <th>Jitter(Abs)</th>\n",
              "      <th>Jitter:RAP</th>\n",
              "      <th>Jitter:PPQ5</th>\n",
              "      <th>Jitter:DDP</th>\n",
              "      <th>Shimmer</th>\n",
              "      <th>Shimmer(dB)</th>\n",
              "      <th>Shimmer:APQ3</th>\n",
              "      <th>Shimmer:APQ5</th>\n",
              "      <th>Shimmer:DDA</th>\n",
              "      <th>NHR</th>\n",
              "      <th>HNR</th>\n",
              "      <th>RPDE</th>\n",
              "      <th>DFA</th>\n",
              "      <th>PPE</th>\n",
              "    </tr>\n",
              "  </thead>\n",
              "  <tbody>\n",
              "    <tr>\n",
              "      <th>0</th>\n",
              "      <td>0.00662</td>\n",
              "      <td>0.000034</td>\n",
              "      <td>0.00401</td>\n",
              "      <td>0.00317</td>\n",
              "      <td>0.01204</td>\n",
              "      <td>0.02565</td>\n",
              "      <td>0.230</td>\n",
              "      <td>0.01438</td>\n",
              "      <td>0.01309</td>\n",
              "      <td>0.04314</td>\n",
              "      <td>0.014290</td>\n",
              "      <td>21.640</td>\n",
              "      <td>0.41888</td>\n",
              "      <td>0.54842</td>\n",
              "      <td>0.16006</td>\n",
              "    </tr>\n",
              "    <tr>\n",
              "      <th>1</th>\n",
              "      <td>0.00300</td>\n",
              "      <td>0.000017</td>\n",
              "      <td>0.00132</td>\n",
              "      <td>0.00150</td>\n",
              "      <td>0.00395</td>\n",
              "      <td>0.02024</td>\n",
              "      <td>0.179</td>\n",
              "      <td>0.00994</td>\n",
              "      <td>0.01072</td>\n",
              "      <td>0.02982</td>\n",
              "      <td>0.011112</td>\n",
              "      <td>27.183</td>\n",
              "      <td>0.43493</td>\n",
              "      <td>0.56477</td>\n",
              "      <td>0.10810</td>\n",
              "    </tr>\n",
              "    <tr>\n",
              "      <th>2</th>\n",
              "      <td>0.00481</td>\n",
              "      <td>0.000025</td>\n",
              "      <td>0.00205</td>\n",
              "      <td>0.00208</td>\n",
              "      <td>0.00616</td>\n",
              "      <td>0.01675</td>\n",
              "      <td>0.181</td>\n",
              "      <td>0.00734</td>\n",
              "      <td>0.00844</td>\n",
              "      <td>0.02202</td>\n",
              "      <td>0.020220</td>\n",
              "      <td>23.047</td>\n",
              "      <td>0.46222</td>\n",
              "      <td>0.54405</td>\n",
              "      <td>0.21014</td>\n",
              "    </tr>\n",
              "    <tr>\n",
              "      <th>3</th>\n",
              "      <td>0.00528</td>\n",
              "      <td>0.000027</td>\n",
              "      <td>0.00191</td>\n",
              "      <td>0.00264</td>\n",
              "      <td>0.00573</td>\n",
              "      <td>0.02309</td>\n",
              "      <td>0.327</td>\n",
              "      <td>0.01106</td>\n",
              "      <td>0.01265</td>\n",
              "      <td>0.03317</td>\n",
              "      <td>0.027837</td>\n",
              "      <td>24.445</td>\n",
              "      <td>0.48730</td>\n",
              "      <td>0.57794</td>\n",
              "      <td>0.33277</td>\n",
              "    </tr>\n",
              "    <tr>\n",
              "      <th>4</th>\n",
              "      <td>0.00335</td>\n",
              "      <td>0.000020</td>\n",
              "      <td>0.00093</td>\n",
              "      <td>0.00130</td>\n",
              "      <td>0.00278</td>\n",
              "      <td>0.01703</td>\n",
              "      <td>0.176</td>\n",
              "      <td>0.00679</td>\n",
              "      <td>0.00929</td>\n",
              "      <td>0.02036</td>\n",
              "      <td>0.011625</td>\n",
              "      <td>26.126</td>\n",
              "      <td>0.47188</td>\n",
              "      <td>0.56122</td>\n",
              "      <td>0.19361</td>\n",
              "    </tr>\n",
              "  </tbody>\n",
              "</table>\n",
              "</div>\n",
              "      <button class=\"colab-df-convert\" onclick=\"convertToInteractive('df-ae9765bf-a4f2-47dc-9396-9c66c328aa93')\"\n",
              "              title=\"Convert this dataframe to an interactive table.\"\n",
              "              style=\"display:none;\">\n",
              "        \n",
              "  <svg xmlns=\"http://www.w3.org/2000/svg\" height=\"24px\"viewBox=\"0 0 24 24\"\n",
              "       width=\"24px\">\n",
              "    <path d=\"M0 0h24v24H0V0z\" fill=\"none\"/>\n",
              "    <path d=\"M18.56 5.44l.94 2.06.94-2.06 2.06-.94-2.06-.94-.94-2.06-.94 2.06-2.06.94zm-11 1L8.5 8.5l.94-2.06 2.06-.94-2.06-.94L8.5 2.5l-.94 2.06-2.06.94zm10 10l.94 2.06.94-2.06 2.06-.94-2.06-.94-.94-2.06-.94 2.06-2.06.94z\"/><path d=\"M17.41 7.96l-1.37-1.37c-.4-.4-.92-.59-1.43-.59-.52 0-1.04.2-1.43.59L10.3 9.45l-7.72 7.72c-.78.78-.78 2.05 0 2.83L4 21.41c.39.39.9.59 1.41.59.51 0 1.02-.2 1.41-.59l7.78-7.78 2.81-2.81c.8-.78.8-2.07 0-2.86zM5.41 20L4 18.59l7.72-7.72 1.47 1.35L5.41 20z\"/>\n",
              "  </svg>\n",
              "      </button>\n",
              "      \n",
              "  <style>\n",
              "    .colab-df-container {\n",
              "      display:flex;\n",
              "      flex-wrap:wrap;\n",
              "      gap: 12px;\n",
              "    }\n",
              "\n",
              "    .colab-df-convert {\n",
              "      background-color: #E8F0FE;\n",
              "      border: none;\n",
              "      border-radius: 50%;\n",
              "      cursor: pointer;\n",
              "      display: none;\n",
              "      fill: #1967D2;\n",
              "      height: 32px;\n",
              "      padding: 0 0 0 0;\n",
              "      width: 32px;\n",
              "    }\n",
              "\n",
              "    .colab-df-convert:hover {\n",
              "      background-color: #E2EBFA;\n",
              "      box-shadow: 0px 1px 2px rgba(60, 64, 67, 0.3), 0px 1px 3px 1px rgba(60, 64, 67, 0.15);\n",
              "      fill: #174EA6;\n",
              "    }\n",
              "\n",
              "    [theme=dark] .colab-df-convert {\n",
              "      background-color: #3B4455;\n",
              "      fill: #D2E3FC;\n",
              "    }\n",
              "\n",
              "    [theme=dark] .colab-df-convert:hover {\n",
              "      background-color: #434B5C;\n",
              "      box-shadow: 0px 1px 3px 1px rgba(0, 0, 0, 0.15);\n",
              "      filter: drop-shadow(0px 1px 2px rgba(0, 0, 0, 0.3));\n",
              "      fill: #FFFFFF;\n",
              "    }\n",
              "  </style>\n",
              "\n",
              "      <script>\n",
              "        const buttonEl =\n",
              "          document.querySelector('#df-ae9765bf-a4f2-47dc-9396-9c66c328aa93 button.colab-df-convert');\n",
              "        buttonEl.style.display =\n",
              "          google.colab.kernel.accessAllowed ? 'block' : 'none';\n",
              "\n",
              "        async function convertToInteractive(key) {\n",
              "          const element = document.querySelector('#df-ae9765bf-a4f2-47dc-9396-9c66c328aa93');\n",
              "          const dataTable =\n",
              "            await google.colab.kernel.invokeFunction('convertToInteractive',\n",
              "                                                     [key], {});\n",
              "          if (!dataTable) return;\n",
              "\n",
              "          const docLinkHtml = 'Like what you see? Visit the ' +\n",
              "            '<a target=\"_blank\" href=https://colab.research.google.com/notebooks/data_table.ipynb>data table notebook</a>'\n",
              "            + ' to learn more about interactive tables.';\n",
              "          element.innerHTML = '';\n",
              "          dataTable['output_type'] = 'display_data';\n",
              "          await google.colab.output.renderOutput(dataTable, element);\n",
              "          const docLink = document.createElement('div');\n",
              "          docLink.innerHTML = docLinkHtml;\n",
              "          element.appendChild(docLink);\n",
              "        }\n",
              "      </script>\n",
              "    </div>\n",
              "  </div>\n",
              "  "
            ],
            "text/plain": [
              "   Jitter(%)  Jitter(Abs)  Jitter:RAP  ...     RPDE      DFA      PPE\n",
              "0    0.00662     0.000034     0.00401  ...  0.41888  0.54842  0.16006\n",
              "1    0.00300     0.000017     0.00132  ...  0.43493  0.56477  0.10810\n",
              "2    0.00481     0.000025     0.00205  ...  0.46222  0.54405  0.21014\n",
              "3    0.00528     0.000027     0.00191  ...  0.48730  0.57794  0.33277\n",
              "4    0.00335     0.000020     0.00093  ...  0.47188  0.56122  0.19361\n",
              "\n",
              "[5 rows x 15 columns]"
            ]
          },
          "metadata": {},
          "execution_count": 98
        }
      ]
    },
    {
      "cell_type": "code",
      "source": [
        "df_ParkData.shape"
      ],
      "metadata": {
        "id": "bzaEn67LooAV",
        "outputId": "10725760-8288-4fa7-d5d3-2393255d2d4b",
        "colab": {
          "base_uri": "https://localhost:8080/"
        }
      },
      "execution_count": null,
      "outputs": [
        {
          "output_type": "execute_result",
          "data": {
            "text/plain": [
              "(5875, 15)"
            ]
          },
          "metadata": {},
          "execution_count": 119
        }
      ]
    },
    {
      "cell_type": "markdown",
      "source": [
        "Create an array of positive diagnoses of Parkinsons that is the length of the data set since all data is from those with Parkinsons Disease"
      ],
      "metadata": {
        "id": "Gj4wS-7uOQ-8"
      }
    },
    {
      "cell_type": "code",
      "source": [
        "Positive_Parks = np.ones(len(df_ParkData['NHR']))"
      ],
      "metadata": {
        "id": "HgA3dH1-95L6"
      },
      "execution_count": null,
      "outputs": []
    },
    {
      "cell_type": "markdown",
      "source": [
        "Rename columns to match those in original data set used to create model"
      ],
      "metadata": {
        "id": "MKMBB3OTOmfC"
      }
    },
    {
      "cell_type": "code",
      "source": [
        "df_ParkData = df_ParkData.rename(columns={'Jitter(%)': 'MDVP:Jitter(%)', 'Jitter(Abs)': 'MDVP:Jitter(Abs)', 'Jitter:RAP': 'MDVP:RAP', 'Jitter:PPQ5': 'MDVP:PPQ', 'Shimmer': 'MDVP:Shimmer', 'Shimmer(dB)': 'MDVP:Shimmer(dB)'})\n"
      ],
      "metadata": {
        "id": "Pjzp7qxRDwyo"
      },
      "execution_count": null,
      "outputs": []
    },
    {
      "cell_type": "code",
      "source": [
        "y_pred_pipe_knn = pipe.predict(df_ParkData)"
      ],
      "metadata": {
        "id": "m6mKmNfiWgGk"
      },
      "execution_count": null,
      "outputs": []
    },
    {
      "cell_type": "code",
      "source": [
        "accuracy_pipe_ParkData = accuracy_score(Positive_Parks, y_pred_pipe_knn)\n",
        "print(accuracy_pipe_ParkData)"
      ],
      "metadata": {
        "colab": {
          "base_uri": "https://localhost:8080/"
        },
        "id": "qdivsue8Wfos",
        "outputId": "4098bc7c-2fb2-499c-d004-539fe0be00e5"
      },
      "execution_count": null,
      "outputs": [
        {
          "output_type": "stream",
          "name": "stdout",
          "text": [
            "0.7496170212765958\n"
          ]
        }
      ]
    },
    {
      "cell_type": "code",
      "source": [
        "y_pred_pipe1_knn = pipe1.predict(df_ParkData)"
      ],
      "metadata": {
        "id": "1BKgMUhY_lN9"
      },
      "execution_count": null,
      "outputs": []
    },
    {
      "cell_type": "code",
      "source": [
        "accuracy_pipe1_ParkData = accuracy_score(Positive_Parks, y_pred_pipe1_knn)\n",
        "print(accuracy_pipe1_ParkData)"
      ],
      "metadata": {
        "colab": {
          "base_uri": "https://localhost:8080/"
        },
        "id": "9UyVqbUGFIH1",
        "outputId": "5494d975-29fd-4ec3-e356-c765f389328e"
      },
      "execution_count": null,
      "outputs": [
        {
          "output_type": "stream",
          "name": "stdout",
          "text": [
            "0.7339574468085106\n"
          ]
        }
      ]
    },
    {
      "cell_type": "code",
      "source": [
        "y_pred_pipe_lgb = pipe_lgb.predict(df_ParkData)"
      ],
      "metadata": {
        "id": "1EWEepOSVAgR"
      },
      "execution_count": null,
      "outputs": []
    },
    {
      "cell_type": "code",
      "source": [
        "accuracy_pipe_lgb_ParkData = accuracy_score(Positive_Parks, y_pred_pipe_lgb)\n",
        "print(accuracy_pipe_lgb_ParkData)"
      ],
      "metadata": {
        "colab": {
          "base_uri": "https://localhost:8080/"
        },
        "id": "YNMvNwQsVCHi",
        "outputId": "6417d247-f5c6-4e75-e5d2-27bf8d887701"
      },
      "execution_count": null,
      "outputs": [
        {
          "output_type": "stream",
          "name": "stdout",
          "text": [
            "0.788936170212766\n"
          ]
        }
      ]
    },
    {
      "cell_type": "code",
      "source": [
        "y_pred_lgb_best = lgb_best.predict(df_ParkData)"
      ],
      "metadata": {
        "id": "0El9g9uQGM7s"
      },
      "execution_count": null,
      "outputs": []
    },
    {
      "cell_type": "code",
      "source": [
        "accuracy_lgb_best_ParkData = accuracy_score(Positive_Parks, y_pred_lgb_best)\n",
        "print(accuracy_lgb_best_ParkData)"
      ],
      "metadata": {
        "colab": {
          "base_uri": "https://localhost:8080/"
        },
        "id": "oRU0IXVDUC5a",
        "outputId": "b98bc989-59be-42f1-9c75-5b3800205bb4"
      },
      "execution_count": null,
      "outputs": [
        {
          "output_type": "stream",
          "name": "stdout",
          "text": [
            "0.8357446808510638\n"
          ]
        }
      ]
    },
    {
      "cell_type": "code",
      "source": [
        "y_pred_xgb = pipe_xgb.predict(df_ParkData)"
      ],
      "metadata": {
        "id": "v0mAvNUGUH5W"
      },
      "execution_count": null,
      "outputs": []
    },
    {
      "cell_type": "code",
      "source": [
        "accuracy_xgb = accuracy_score(Positive_Parks, y_pred_xgb)\n",
        "print(accuracy_xgb)"
      ],
      "metadata": {
        "colab": {
          "base_uri": "https://localhost:8080/"
        },
        "id": "G_7lFKnHUS4j",
        "outputId": "3d15414e-7c23-4178-d833-b6deb663273a"
      },
      "execution_count": null,
      "outputs": [
        {
          "output_type": "stream",
          "name": "stdout",
          "text": [
            "0.8493617021276596\n"
          ]
        }
      ]
    },
    {
      "cell_type": "code",
      "source": [
        "y_pred_xgb_opt = xgb_opt_model.predict(df_ParkData)"
      ],
      "metadata": {
        "id": "F0FTUtRiWue1"
      },
      "execution_count": null,
      "outputs": []
    },
    {
      "cell_type": "code",
      "source": [
        "accuracy_xgb_opt = accuracy_score(Positive_Parks, y_pred_xgb_opt)\n",
        "print(accuracy_xgb_opt)"
      ],
      "metadata": {
        "colab": {
          "base_uri": "https://localhost:8080/"
        },
        "id": "cTv2xtX3TZ6Y",
        "outputId": "1f2f86db-b2d3-48ea-8e01-f331ce4101ba"
      },
      "execution_count": null,
      "outputs": [
        {
          "output_type": "stream",
          "name": "stdout",
          "text": [
            "0.8549787234042553\n"
          ]
        }
      ]
    }
  ]
}